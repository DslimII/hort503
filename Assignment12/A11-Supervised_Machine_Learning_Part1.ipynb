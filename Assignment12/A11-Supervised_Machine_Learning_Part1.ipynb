{
 "cells": [
  {
   "cell_type": "markdown",
   "metadata": {},
   "source": [
    "# Assignment 12: Supervised Machine Learning\n",
    "*Use a set of training data to make predictions about new data.*"
   ]
  },
  {
   "cell_type": "markdown",
   "metadata": {},
   "source": [
    "## Instructions\n",
    "This tutorial provides step-by-step training divided into numbered sections. The sections often contain embeded exectable code for demonstration.  This tutorial is accompanied by a practice notebook with the exact same name but with a `-Practice` suffix.  Throughout this tutorial sections labeled \"Practice Task\" are interspersed and indicated with the icon: ![Task](http://icons.iconarchive.com/icons/sbstnblnd/plateau/16/Apps-gnome-info-icon.png).\n",
    "\n",
    "You should follow the instructions provided in these sections by performing them in the practice notebook.  When the tutorial is completed you can turn in the final practice notebook. "
   ]
  },
  {
   "cell_type": "markdown",
   "metadata": {},
   "source": [
    "## Introduction\n",
    "\n",
    "For this notebook we will learn about supervised machine learning using the **scikit-learn** (**sklearn**) package. skLearn is a Python library that provides machine clearning capabilities.  It is built on Numpy, SciPy and matplotlib.\n",
    "\n",
    "For machine learning there are three primary purposes:\n",
    "- Classification: to predict the outcome \"class\" to which a sample belongs.\n",
    "- Regression: predicting an outcome value on a continuous scale.\n",
    "- Clustering: automatic grouping of similar objects into outcome classes when those classes are unknown.\n",
    "\n",
    "You can read more at these links:\n",
    "\n",
    "- Classification: https://en.wikipedia.org/wiki/Statistical_classification\n",
    "- Prediction: https://en.wikipedia.org/wiki/Predictive_analytics\n",
    "- Clustering: https://en.wikipedia.org/wiki/Cluster_analysis\n",
    "\n",
    "For supervised machine learning, a training set of data is provided to a set of appropriate algorithms (i.e. for classification, regression or clustering). The training data set typically consists of a subset of all available data that includes both independent and dependent variables (i.e. **outcome**) measured across a variety of samples. This training data is provided to one or more algorithms which determine a **model** that can be used to classify or predict outcomes.  Tyipcally, a set of data is set aside to test, or validate, the accuracy of the model.  \n",
    "\n",
    "For this notebook we will once again use the Iris dataset and we will use supervised machine learning to create a model for predicting species. Therefore, the outcome variable is `species` and all others (`sepal_width`, `sepal_length`, `petal_width`, `petal_length`) are the independent variables.  Therefore, this notebook will demonstrate a \"Classification\" example."
   ]
  },
  {
   "cell_type": "markdown",
   "metadata": {},
   "source": [
    "---\n",
    "## 1. Getting Started\n",
    "As before, we import any needed packages at the top of our notebook. Let's import Numpy, Pandas, Seaborn, matplotlib and the sklearn machine learning libraries."
   ]
  },
  {
   "cell_type": "code",
   "execution_count": 1,
   "metadata": {},
   "outputs": [],
   "source": [
    "%matplotlib inline\n",
    "\n",
    "# Data Management\n",
    "import numpy as np\n",
    "import pandas as pd\n",
    "\n",
    "# Visualization\n",
    "import seaborn as sns\n",
    "import matplotlib.pyplot as plt\n",
    "\n",
    "# Machine learning\n",
    "from sklearn import model_selection\n",
    "from sklearn import preprocessing\n",
    "from sklearn.metrics import accuracy_score\n",
    "from sklearn.metrics import confusion_matrix\n",
    "from sklearn.metrics import classification_report\n",
    "from sklearn.linear_model import LogisticRegression\n",
    "from sklearn.svm import SVC, LinearSVC\n",
    "from sklearn.ensemble import RandomForestClassifier\n",
    "from sklearn.neighbors import KNeighborsClassifier\n",
    "from sklearn.naive_bayes import GaussianNB\n",
    "from sklearn.linear_model import Perceptron\n",
    "from sklearn.linear_model import SGDClassifier\n",
    "from sklearn.tree import DecisionTreeClassifier\n",
    "from sklearn.discriminant_analysis import LinearDiscriminantAnalysis"
   ]
  },
  {
   "cell_type": "markdown",
   "metadata": {},
   "source": [
    "#### Task 1a: Setup\n",
    "\n",
    "<span style=\"float:right; margin-left:10px; clear:both;\">![Task](http://icons.iconarchive.com/icons/sbstnblnd/plateau/96/Apps-gnome-info-icon.png)\n",
    "</span>\n",
    "\n",
    "Import the following package sets:\n",
    "+ packages for data management\n",
    "+ pacakges for visualization\n",
    "+ packages for machine learning\n",
    "\n",
    "Remember to activate the `%matplotlib inline` magic."
   ]
  },
  {
   "cell_type": "markdown",
   "metadata": {},
   "source": [
    "---\n",
    "## 2. Data Exploration  "
   ]
  },
  {
   "cell_type": "markdown",
   "metadata": {},
   "source": [
    "Import the iris dataset"
   ]
  },
  {
   "cell_type": "code",
   "execution_count": 2,
   "metadata": {},
   "outputs": [],
   "source": [
    "iris = sns.load_dataset('iris')"
   ]
  },
  {
   "cell_type": "markdown",
   "metadata": {},
   "source": [
    "### 2.1 Summarize the dataset\n",
    "Just as we learned in the Data Wrangling notebook, we should always summarize the data. Execute the following commands to explore this data."
   ]
  },
  {
   "cell_type": "code",
   "execution_count": 3,
   "metadata": {},
   "outputs": [
    {
     "data": {
      "text/plain": [
       "(150, 5)"
      ]
     },
     "execution_count": 3,
     "metadata": {},
     "output_type": "execute_result"
    }
   ],
   "source": [
    "iris.shape"
   ]
  },
  {
   "cell_type": "code",
   "execution_count": 4,
   "metadata": {},
   "outputs": [
    {
     "data": {
      "text/html": [
       "<div>\n",
       "<style scoped>\n",
       "    .dataframe tbody tr th:only-of-type {\n",
       "        vertical-align: middle;\n",
       "    }\n",
       "\n",
       "    .dataframe tbody tr th {\n",
       "        vertical-align: top;\n",
       "    }\n",
       "\n",
       "    .dataframe thead th {\n",
       "        text-align: right;\n",
       "    }\n",
       "</style>\n",
       "<table border=\"1\" class=\"dataframe\">\n",
       "  <thead>\n",
       "    <tr style=\"text-align: right;\">\n",
       "      <th></th>\n",
       "      <th>sepal_length</th>\n",
       "      <th>sepal_width</th>\n",
       "      <th>petal_length</th>\n",
       "      <th>petal_width</th>\n",
       "      <th>species</th>\n",
       "    </tr>\n",
       "  </thead>\n",
       "  <tbody>\n",
       "    <tr>\n",
       "      <th>0</th>\n",
       "      <td>5.1</td>\n",
       "      <td>3.5</td>\n",
       "      <td>1.4</td>\n",
       "      <td>0.2</td>\n",
       "      <td>setosa</td>\n",
       "    </tr>\n",
       "    <tr>\n",
       "      <th>1</th>\n",
       "      <td>4.9</td>\n",
       "      <td>3.0</td>\n",
       "      <td>1.4</td>\n",
       "      <td>0.2</td>\n",
       "      <td>setosa</td>\n",
       "    </tr>\n",
       "    <tr>\n",
       "      <th>2</th>\n",
       "      <td>4.7</td>\n",
       "      <td>3.2</td>\n",
       "      <td>1.3</td>\n",
       "      <td>0.2</td>\n",
       "      <td>setosa</td>\n",
       "    </tr>\n",
       "    <tr>\n",
       "      <th>3</th>\n",
       "      <td>4.6</td>\n",
       "      <td>3.1</td>\n",
       "      <td>1.5</td>\n",
       "      <td>0.2</td>\n",
       "      <td>setosa</td>\n",
       "    </tr>\n",
       "    <tr>\n",
       "      <th>4</th>\n",
       "      <td>5.0</td>\n",
       "      <td>3.6</td>\n",
       "      <td>1.4</td>\n",
       "      <td>0.2</td>\n",
       "      <td>setosa</td>\n",
       "    </tr>\n",
       "    <tr>\n",
       "      <th>5</th>\n",
       "      <td>5.4</td>\n",
       "      <td>3.9</td>\n",
       "      <td>1.7</td>\n",
       "      <td>0.4</td>\n",
       "      <td>setosa</td>\n",
       "    </tr>\n",
       "    <tr>\n",
       "      <th>6</th>\n",
       "      <td>4.6</td>\n",
       "      <td>3.4</td>\n",
       "      <td>1.4</td>\n",
       "      <td>0.3</td>\n",
       "      <td>setosa</td>\n",
       "    </tr>\n",
       "    <tr>\n",
       "      <th>7</th>\n",
       "      <td>5.0</td>\n",
       "      <td>3.4</td>\n",
       "      <td>1.5</td>\n",
       "      <td>0.2</td>\n",
       "      <td>setosa</td>\n",
       "    </tr>\n",
       "    <tr>\n",
       "      <th>8</th>\n",
       "      <td>4.4</td>\n",
       "      <td>2.9</td>\n",
       "      <td>1.4</td>\n",
       "      <td>0.2</td>\n",
       "      <td>setosa</td>\n",
       "    </tr>\n",
       "    <tr>\n",
       "      <th>9</th>\n",
       "      <td>4.9</td>\n",
       "      <td>3.1</td>\n",
       "      <td>1.5</td>\n",
       "      <td>0.1</td>\n",
       "      <td>setosa</td>\n",
       "    </tr>\n",
       "  </tbody>\n",
       "</table>\n",
       "</div>"
      ],
      "text/plain": [
       "   sepal_length  sepal_width  petal_length  petal_width species\n",
       "0           5.1          3.5           1.4          0.2  setosa\n",
       "1           4.9          3.0           1.4          0.2  setosa\n",
       "2           4.7          3.2           1.3          0.2  setosa\n",
       "3           4.6          3.1           1.5          0.2  setosa\n",
       "4           5.0          3.6           1.4          0.2  setosa\n",
       "5           5.4          3.9           1.7          0.4  setosa\n",
       "6           4.6          3.4           1.4          0.3  setosa\n",
       "7           5.0          3.4           1.5          0.2  setosa\n",
       "8           4.4          2.9           1.4          0.2  setosa\n",
       "9           4.9          3.1           1.5          0.1  setosa"
      ]
     },
     "execution_count": 4,
     "metadata": {},
     "output_type": "execute_result"
    }
   ],
   "source": [
    "#First 10 lines\n",
    "iris.head(10)"
   ]
  },
  {
   "cell_type": "code",
   "execution_count": 5,
   "metadata": {},
   "outputs": [
    {
     "data": {
      "text/plain": [
       "sepal_length    float64\n",
       "sepal_width     float64\n",
       "petal_length    float64\n",
       "petal_width     float64\n",
       "species          object\n",
       "dtype: object"
      ]
     },
     "execution_count": 5,
     "metadata": {},
     "output_type": "execute_result"
    }
   ],
   "source": [
    "iris.dtypes"
   ]
  },
  {
   "cell_type": "code",
   "execution_count": 6,
   "metadata": {},
   "outputs": [
    {
     "data": {
      "text/html": [
       "<div>\n",
       "<style scoped>\n",
       "    .dataframe tbody tr th:only-of-type {\n",
       "        vertical-align: middle;\n",
       "    }\n",
       "\n",
       "    .dataframe tbody tr th {\n",
       "        vertical-align: top;\n",
       "    }\n",
       "\n",
       "    .dataframe thead th {\n",
       "        text-align: right;\n",
       "    }\n",
       "</style>\n",
       "<table border=\"1\" class=\"dataframe\">\n",
       "  <thead>\n",
       "    <tr style=\"text-align: right;\">\n",
       "      <th></th>\n",
       "      <th>sepal_length</th>\n",
       "      <th>sepal_width</th>\n",
       "      <th>petal_length</th>\n",
       "      <th>petal_width</th>\n",
       "    </tr>\n",
       "  </thead>\n",
       "  <tbody>\n",
       "    <tr>\n",
       "      <th>count</th>\n",
       "      <td>150.000000</td>\n",
       "      <td>150.000000</td>\n",
       "      <td>150.000000</td>\n",
       "      <td>150.000000</td>\n",
       "    </tr>\n",
       "    <tr>\n",
       "      <th>mean</th>\n",
       "      <td>5.843333</td>\n",
       "      <td>3.057333</td>\n",
       "      <td>3.758000</td>\n",
       "      <td>1.199333</td>\n",
       "    </tr>\n",
       "    <tr>\n",
       "      <th>std</th>\n",
       "      <td>0.828066</td>\n",
       "      <td>0.435866</td>\n",
       "      <td>1.765298</td>\n",
       "      <td>0.762238</td>\n",
       "    </tr>\n",
       "    <tr>\n",
       "      <th>min</th>\n",
       "      <td>4.300000</td>\n",
       "      <td>2.000000</td>\n",
       "      <td>1.000000</td>\n",
       "      <td>0.100000</td>\n",
       "    </tr>\n",
       "    <tr>\n",
       "      <th>25%</th>\n",
       "      <td>5.100000</td>\n",
       "      <td>2.800000</td>\n",
       "      <td>1.600000</td>\n",
       "      <td>0.300000</td>\n",
       "    </tr>\n",
       "    <tr>\n",
       "      <th>50%</th>\n",
       "      <td>5.800000</td>\n",
       "      <td>3.000000</td>\n",
       "      <td>4.350000</td>\n",
       "      <td>1.300000</td>\n",
       "    </tr>\n",
       "    <tr>\n",
       "      <th>75%</th>\n",
       "      <td>6.400000</td>\n",
       "      <td>3.300000</td>\n",
       "      <td>5.100000</td>\n",
       "      <td>1.800000</td>\n",
       "    </tr>\n",
       "    <tr>\n",
       "      <th>max</th>\n",
       "      <td>7.900000</td>\n",
       "      <td>4.400000</td>\n",
       "      <td>6.900000</td>\n",
       "      <td>2.500000</td>\n",
       "    </tr>\n",
       "  </tbody>\n",
       "</table>\n",
       "</div>"
      ],
      "text/plain": [
       "       sepal_length  sepal_width  petal_length  petal_width\n",
       "count    150.000000   150.000000    150.000000   150.000000\n",
       "mean       5.843333     3.057333      3.758000     1.199333\n",
       "std        0.828066     0.435866      1.765298     0.762238\n",
       "min        4.300000     2.000000      1.000000     0.100000\n",
       "25%        5.100000     2.800000      1.600000     0.300000\n",
       "50%        5.800000     3.000000      4.350000     1.300000\n",
       "75%        6.400000     3.300000      5.100000     1.800000\n",
       "max        7.900000     4.400000      6.900000     2.500000"
      ]
     },
     "execution_count": 6,
     "metadata": {},
     "output_type": "execute_result"
    }
   ],
   "source": [
    "iris.describe()\n",
    "#Make sure data is tidy"
   ]
  },
  {
   "cell_type": "markdown",
   "metadata": {},
   "source": [
    "How many samples do we have for our outcome variable?"
   ]
  },
  {
   "cell_type": "code",
   "execution_count": 7,
   "metadata": {},
   "outputs": [
    {
     "data": {
      "text/plain": [
       "species\n",
       "setosa        50\n",
       "versicolor    50\n",
       "virginica     50\n",
       "dtype: int64"
      ]
     },
     "execution_count": 7,
     "metadata": {},
     "output_type": "execute_result"
    }
   ],
   "source": [
    "iris.groupby('species').size()"
   ]
  },
  {
   "cell_type": "markdown",
   "metadata": {},
   "source": [
    "### 2.2 Check for missing or duplicated data\n",
    "Just like we did in the Data Wrangling notebook, we want to check for missing values and duplication"
   ]
  },
  {
   "cell_type": "code",
   "execution_count": 8,
   "metadata": {},
   "outputs": [
    {
     "data": {
      "text/plain": [
       "sepal_length    0\n",
       "sepal_width     0\n",
       "petal_length    0\n",
       "petal_width     0\n",
       "species         0\n",
       "dtype: int64"
      ]
     },
     "execution_count": 8,
     "metadata": {},
     "output_type": "execute_result"
    }
   ],
   "source": [
    "iris.isna().sum()\n",
    "#Returns an array of true or false for missing"
   ]
  },
  {
   "cell_type": "code",
   "execution_count": 9,
   "metadata": {},
   "outputs": [
    {
     "data": {
      "text/plain": [
       "1"
      ]
     },
     "execution_count": 9,
     "metadata": {},
     "output_type": "execute_result"
    }
   ],
   "source": [
    "iris.duplicated().sum()\n",
    "#Checks for duplicates"
   ]
  },
  {
   "cell_type": "code",
   "execution_count": 10,
   "metadata": {},
   "outputs": [
    {
     "data": {
      "text/html": [
       "<div>\n",
       "<style scoped>\n",
       "    .dataframe tbody tr th:only-of-type {\n",
       "        vertical-align: middle;\n",
       "    }\n",
       "\n",
       "    .dataframe tbody tr th {\n",
       "        vertical-align: top;\n",
       "    }\n",
       "\n",
       "    .dataframe thead th {\n",
       "        text-align: right;\n",
       "    }\n",
       "</style>\n",
       "<table border=\"1\" class=\"dataframe\">\n",
       "  <thead>\n",
       "    <tr style=\"text-align: right;\">\n",
       "      <th></th>\n",
       "      <th>sepal_length</th>\n",
       "      <th>sepal_width</th>\n",
       "      <th>petal_length</th>\n",
       "      <th>petal_width</th>\n",
       "      <th>species</th>\n",
       "    </tr>\n",
       "  </thead>\n",
       "  <tbody>\n",
       "    <tr>\n",
       "      <th>101</th>\n",
       "      <td>5.8</td>\n",
       "      <td>2.7</td>\n",
       "      <td>5.1</td>\n",
       "      <td>1.9</td>\n",
       "      <td>virginica</td>\n",
       "    </tr>\n",
       "    <tr>\n",
       "      <th>142</th>\n",
       "      <td>5.8</td>\n",
       "      <td>2.7</td>\n",
       "      <td>5.1</td>\n",
       "      <td>1.9</td>\n",
       "      <td>virginica</td>\n",
       "    </tr>\n",
       "  </tbody>\n",
       "</table>\n",
       "</div>"
      ],
      "text/plain": [
       "     sepal_length  sepal_width  petal_length  petal_width    species\n",
       "101           5.8          2.7           5.1          1.9  virginica\n",
       "142           5.8          2.7           5.1          1.9  virginica"
      ]
     },
     "execution_count": 10,
     "metadata": {},
     "output_type": "execute_result"
    }
   ],
   "source": [
    "iris[iris.duplicated(keep= False)]\n",
    "#Returns duplicated sample"
   ]
  },
  {
   "cell_type": "code",
   "execution_count": 11,
   "metadata": {},
   "outputs": [
    {
     "data": {
      "text/plain": [
       "sepal_length    35\n",
       "sepal_width     23\n",
       "petal_length    43\n",
       "petal_width     22\n",
       "species          3\n",
       "dtype: int64"
      ]
     },
     "execution_count": 11,
     "metadata": {},
     "output_type": "execute_result"
    }
   ],
   "source": [
    "iris.nunique()"
   ]
  },
  {
   "cell_type": "markdown",
   "metadata": {},
   "source": [
    "### 2.3 Examine data distributions and check for outliers\n",
    "Some statistical methods make assumptions about the distribution of samples for each variable and the presence of outliers, so, we need to be aware of how our data appears and any potential outliers"
   ]
  },
  {
   "cell_type": "code",
   "execution_count": 12,
   "metadata": {},
   "outputs": [
    {
     "data": {
      "image/png": "[encoded data removed]",
      "text/plain": [
       "<Figure size 432x288 with 4 Axes>"
      ]
     },
     "metadata": {
      "needs_background": "light"
     },
     "output_type": "display_data"
    }
   ],
   "source": [
    "iris.hist()\n",
    "plt.show()\n",
    "#Checking for outliers"
   ]
  },
  {
   "cell_type": "code",
   "execution_count": 13,
   "metadata": {},
   "outputs": [
    {
     "data": {
      "image/png": "[encoded data removed]",
      "text/plain": [
       "<Figure size 432x288 with 4 Axes>"
      ]
     },
     "metadata": {
      "needs_background": "light"
     },
     "output_type": "display_data"
    }
   ],
   "source": [
    "iris.plot(kind='box', subplots=True, layout=(2,2), sharex=False, sharey=False)\n",
    "plt.show()\n",
    "#We could use fancy filter in panda to remove outliers on the treament type"
   ]
  },
  {
   "cell_type": "markdown",
   "metadata": {},
   "source": [
    "Let's see if there are outliers without our outcome groups:"
   ]
  },
  {
   "cell_type": "code",
   "execution_count": 14,
   "metadata": {},
   "outputs": [
    {
     "data": {
      "image/png": "[encoded data removed]",
      "text/plain": [
       "<Figure size 432x288 with 4 Axes>"
      ]
     },
     "metadata": {
      "needs_background": "light"
     },
     "output_type": "display_data"
    }
   ],
   "source": [
    "iris.groupby(by='species').boxplot(rot=90);"
   ]
  },
  {
   "cell_type": "markdown",
   "metadata": {},
   "source": [
    "### 2.4 Search for Collinearity\n",
    "It is important to identify collinearity prior to creating any machine learning model.  There are two types of collinearity:\n",
    "- Structurual: this occurs when we create new columns in our data that are derived from other columns. For example, a log transformation of one column.\n",
    "- Multicollinearity:  this can be natural in our data and occurs when one variable can be used to linearly predict another.  \n",
    "\n",
    "Why can collinearity be bad?  For regression models, collinearity can weaken the p-values because it makes the estimated co-efficients too sensitive to changes in the model.  For an example of the affect the collinarity can have with a regression model sse the [JMP Multicollinearity](https://www.jmp.com/en_us/statistics-knowledge-portal/what-is-multiple-regression/multicollinearity.html) page.\n",
    "\n",
    "We can empirically check for collinarity using a simple pairwise scatterplot."
   ]
  },
  {
   "cell_type": "code",
   "execution_count": 15,
   "metadata": {},
   "outputs": [
    {
     "name": "stderr",
     "output_type": "stream",
     "text": [
      "C:\\Users\\dslim\\Anaconda3\\lib\\site-packages\\scipy\\stats\\stats.py:1713: FutureWarning: Using a non-tuple sequence for multidimensional indexing is deprecated; use `arr[tuple(seq)]` instead of `arr[seq]`. In the future this will be interpreted as an array index, `arr[np.array(seq)]`, which will result either in an error or a different result.\n",
      "  return np.add.reduce(sorted[indexer] * weights, axis=axis) / sumval\n"
     ]
    },
    {
     "data": {
      "image/png": "[encoded data removed]",
      "text/plain": [
       "<Figure size 804.75x720 with 20 Axes>"
      ]
     },
     "metadata": {
      "needs_background": "light"
     },
     "output_type": "display_data"
    }
   ],
   "source": [
    "sns.pairplot(iris, hue=\"species\");\n",
    "#made decistion to remove co-liniar colomns \n",
    "#Remove petal width or lenght"
   ]
  },
  {
   "cell_type": "markdown",
   "metadata": {},
   "source": [
    "You should consider removing columns that are severly collinear. The more collinear, the more significant the impact on the model. "
   ]
  },
  {
   "cell_type": "markdown",
   "metadata": {},
   "source": [
    "#### Task 2a: Data Exploration\n",
    "\n",
    "<span style=\"float:right; margin-left:10px; clear:both;\">![Task](http://icons.iconarchive.com/icons/sbstnblnd/plateau/96/Apps-gnome-info-icon.png)\n",
    "</span>\n",
    "\n",
    "After reviewing the data in sections 2.1, 2.2, 2.3 and 2.4 do you see any problems with this iris dataset? If so, please describe them in the practice notebook.  If not, simply indicate that there are no issues."
   ]
  },
  {
   "cell_type": "markdown",
   "metadata": {},
   "source": [
    "#### Task 2b:  Make Assumptions\n",
    "<span style=\"float:right; margin-left:10px; clear:both;\">![Task](http://icons.iconarchive.com/icons/sbstnblnd/plateau/96/Apps-gnome-info-icon.png)\n",
    "</span>\n",
    "\n",
    "After reviewing the data in sections 2.1, 2.2, 2.3 and 2.4 are there any columns that would make poor predictors of species? \n",
    "\n",
    "**Hint**: columns that are poor predictors are those with too many missing values, those with no difference in variation when grouped by the outcome class, variables with high levels of collinearity."
   ]
  },
  {
   "cell_type": "markdown",
   "metadata": {},
   "source": [
    "## 3. Prepare the Data"
   ]
  },
  {
   "cell_type": "markdown",
   "metadata": {},
   "source": [
    "### 3.1 Prepare the Data\n",
    "The sklearn package expects that all indpendent variables are numerical and that independent and dependent variables are separated into different data objects. It also expects that data is in Numpy arrays (not Pandas data frames). First, let's separate the variables. First, let's create a 2D Numpy array, named `X`, containing the indpendent variables."
   ]
  },
  {
   "cell_type": "code",
   "execution_count": 16,
   "metadata": {},
   "outputs": [],
   "source": [
    "X = iris.loc[:,'sepal_length':'petal_width'].values"
   ]
  },
  {
   "cell_type": "markdown",
   "metadata": {},
   "source": [
    "Next we will create a new Numpy 1D array named `Y` that will house the dependent variable."
   ]
  },
  {
   "cell_type": "code",
   "execution_count": 17,
   "metadata": {},
   "outputs": [],
   "source": [
    "Y = iris['species'].values\n",
    "#Use Pivot?"
   ]
  },
  {
   "cell_type": "markdown",
   "metadata": {},
   "source": [
    "Observe that we have no independent variables that are categorical. All are numeric. If we did have categorical data we must convert those to numeric values. sklearn requires that all data in `X` be numeric.  We have several options as defined in the [Preprocessing data](https://scikit-learn.org/stable/modules/preprocessing.html#encoding-categorical-features)  section of sklearn:\n",
    "1. Use the sklearn `processing.OrdinalEncoder` function \n",
    "   - It converts categorical data to ordered numbers. \n",
    "   - Use this only if the classes are also ordinal.\n",
    "2. Use the `processing.OneHotEncoder` function. \n",
    "   - It converts all but one class for a single variable to 0 and leaves one category of interest as 1.  \n",
    "   - Use this only if you are predicting only a single class of outcome.  \n",
    "3. Pivot the categorical column into multiple new binary columns. \n",
    "   - The values in the columns are 0 and 1 and indicate if the category applies to the sample row.  \n",
    "   - Use this if there are multiple classes for a single variable and they are not ordinal.  Unfortunately, this is **not** tidy. But it is required to handle multiple classes.\n",
    "\n",
    "As the iris data is all numeric we have no need for any of these options."
   ]
  },
  {
   "cell_type": "markdown",
   "metadata": {},
   "source": [
    "### 3.2 Normalize the data\n",
    "Many machine learning algorithms expect that the quantitative columns are centered at 0 and scalled to unit variance.  See the [preprocessing documentation](https://scikit-learn.org/stable/modules/preprocessing.html#preprocessing-scaler) for sklearn.\n",
    "\n",
    "According to the sklearn documentation:\n",
    "\n",
    "> In practice we often ignore the shape of the distribution and just transform the data to center it by removing the mean value of each feature, then scale it by dividing non-constant features by their standard deviation... The function `scale` provides a quick and easy way to perform this operation on a single array-like dataset.\n",
    "\n",
    "> If your data contains many outliers, scaling using the mean and variance of the data is likely to not work very well. In these cases, you can use `robust_scale`... [it uses] more robust estimates for the center and range of your data.\n",
    "\n",
    "\n",
    "We can, therefore, normalize the `X` Numpy array using the [preprocessing.scale](https://scikit-learn.org/stable/modules/generated/sklearn.preprocessing.scale.html#sklearn.preprocessing.scale) or [preprocessing.robust_scale](https://scikit-learn.org/stable/modules/generated/sklearn.preprocessing.robust_scale.html#sklearn.preprocessing.robust_scale) function of Sklearn. Choose the method most appropriate given the state of outliers in the data. As it is clear we have outliers in some of the columns of the iris data we should use the`robust_scale` method."
   ]
  },
  {
   "cell_type": "code",
   "execution_count": 20,
   "metadata": {},
   "outputs": [
    {
     "data": {
      "text/plain": [
       "array([[-0.53846154,  1.        , -0.84285714, -0.73333333],\n",
       "       [-0.69230769,  0.        , -0.84285714, -0.73333333],\n",
       "       [-0.84615385,  0.4       , -0.87142857, -0.73333333],\n",
       "       [-0.92307692,  0.2       , -0.81428571, -0.73333333],\n",
       "       [-0.61538462,  1.2       , -0.84285714, -0.73333333],\n",
       "       [-0.30769231,  1.8       , -0.75714286, -0.6       ],\n",
       "       [-0.92307692,  0.8       , -0.84285714, -0.66666667],\n",
       "       [-0.61538462,  0.8       , -0.81428571, -0.73333333],\n",
       "       [-1.07692308, -0.2       , -0.84285714, -0.73333333],\n",
       "       [-0.69230769,  0.2       , -0.81428571, -0.8       ],\n",
       "       [-0.30769231,  1.4       , -0.81428571, -0.73333333],\n",
       "       [-0.76923077,  0.8       , -0.78571429, -0.73333333],\n",
       "       [-0.76923077,  0.        , -0.84285714, -0.8       ],\n",
       "       [-1.15384615,  0.        , -0.92857143, -0.8       ],\n",
       "       [ 0.        ,  2.        , -0.9       , -0.73333333],\n",
       "       [-0.07692308,  2.8       , -0.81428571, -0.6       ],\n",
       "       [-0.30769231,  1.8       , -0.87142857, -0.6       ],\n",
       "       [-0.53846154,  1.        , -0.84285714, -0.66666667],\n",
       "       [-0.07692308,  1.6       , -0.75714286, -0.66666667],\n",
       "       [-0.53846154,  1.6       , -0.81428571, -0.66666667],\n",
       "       [-0.30769231,  0.8       , -0.75714286, -0.73333333],\n",
       "       [-0.53846154,  1.4       , -0.81428571, -0.6       ],\n",
       "       [-0.92307692,  1.2       , -0.95714286, -0.73333333],\n",
       "       [-0.53846154,  0.6       , -0.75714286, -0.53333333],\n",
       "       [-0.76923077,  0.8       , -0.7       , -0.73333333],\n",
       "       [-0.61538462,  0.        , -0.78571429, -0.73333333],\n",
       "       [-0.61538462,  0.8       , -0.78571429, -0.6       ],\n",
       "       [-0.46153846,  1.        , -0.81428571, -0.73333333],\n",
       "       [-0.46153846,  0.8       , -0.84285714, -0.73333333],\n",
       "       [-0.84615385,  0.4       , -0.78571429, -0.73333333],\n",
       "       [-0.76923077,  0.2       , -0.78571429, -0.73333333],\n",
       "       [-0.30769231,  0.8       , -0.81428571, -0.6       ],\n",
       "       [-0.46153846,  2.2       , -0.81428571, -0.8       ],\n",
       "       [-0.23076923,  2.4       , -0.84285714, -0.73333333],\n",
       "       [-0.69230769,  0.2       , -0.81428571, -0.73333333],\n",
       "       [-0.61538462,  0.4       , -0.9       , -0.73333333],\n",
       "       [-0.23076923,  1.        , -0.87142857, -0.73333333],\n",
       "       [-0.69230769,  1.2       , -0.84285714, -0.8       ],\n",
       "       [-1.07692308,  0.        , -0.87142857, -0.73333333],\n",
       "       [-0.53846154,  0.8       , -0.81428571, -0.73333333],\n",
       "       [-0.61538462,  1.        , -0.87142857, -0.66666667],\n",
       "       [-1.        , -1.4       , -0.87142857, -0.66666667],\n",
       "       [-1.07692308,  0.4       , -0.87142857, -0.73333333],\n",
       "       [-0.61538462,  1.        , -0.78571429, -0.46666667],\n",
       "       [-0.53846154,  1.6       , -0.7       , -0.6       ],\n",
       "       [-0.76923077,  0.        , -0.84285714, -0.66666667],\n",
       "       [-0.53846154,  1.6       , -0.78571429, -0.73333333],\n",
       "       [-0.92307692,  0.4       , -0.84285714, -0.73333333],\n",
       "       [-0.38461538,  1.4       , -0.81428571, -0.73333333],\n",
       "       [-0.61538462,  0.6       , -0.84285714, -0.73333333],\n",
       "       [ 0.92307692,  0.4       ,  0.1       ,  0.06666667],\n",
       "       [ 0.46153846,  0.4       ,  0.04285714,  0.13333333],\n",
       "       [ 0.84615385,  0.2       ,  0.15714286,  0.13333333],\n",
       "       [-0.23076923, -1.4       , -0.1       ,  0.        ],\n",
       "       [ 0.53846154, -0.4       ,  0.07142857,  0.13333333],\n",
       "       [-0.07692308, -0.4       ,  0.04285714,  0.        ],\n",
       "       [ 0.38461538,  0.6       ,  0.1       ,  0.2       ],\n",
       "       [-0.69230769, -1.2       , -0.3       , -0.2       ],\n",
       "       [ 0.61538462, -0.2       ,  0.07142857,  0.        ],\n",
       "       [-0.46153846, -0.6       , -0.12857143,  0.06666667],\n",
       "       [-0.61538462, -2.        , -0.24285714, -0.2       ],\n",
       "       [ 0.07692308,  0.        , -0.04285714,  0.13333333],\n",
       "       [ 0.15384615, -1.6       , -0.1       , -0.2       ],\n",
       "       [ 0.23076923, -0.2       ,  0.1       ,  0.06666667],\n",
       "       [-0.15384615, -0.2       , -0.21428571,  0.        ],\n",
       "       [ 0.69230769,  0.2       ,  0.01428571,  0.06666667],\n",
       "       [-0.15384615,  0.        ,  0.04285714,  0.13333333],\n",
       "       [ 0.        , -0.6       , -0.07142857, -0.2       ],\n",
       "       [ 0.30769231, -1.6       ,  0.04285714,  0.13333333],\n",
       "       [-0.15384615, -1.        , -0.12857143, -0.13333333],\n",
       "       [ 0.07692308,  0.4       ,  0.12857143,  0.33333333],\n",
       "       [ 0.23076923, -0.4       , -0.1       ,  0.        ],\n",
       "       [ 0.38461538, -1.        ,  0.15714286,  0.13333333],\n",
       "       [ 0.23076923, -0.4       ,  0.1       , -0.06666667],\n",
       "       [ 0.46153846, -0.2       , -0.01428571,  0.        ],\n",
       "       [ 0.61538462,  0.        ,  0.01428571,  0.06666667],\n",
       "       [ 0.76923077, -0.4       ,  0.12857143,  0.06666667],\n",
       "       [ 0.69230769,  0.        ,  0.18571429,  0.26666667],\n",
       "       [ 0.15384615, -0.2       ,  0.04285714,  0.13333333],\n",
       "       [-0.07692308, -0.8       , -0.24285714, -0.2       ],\n",
       "       [-0.23076923, -1.2       , -0.15714286, -0.13333333],\n",
       "       [-0.23076923, -1.2       , -0.18571429, -0.2       ],\n",
       "       [ 0.        , -0.6       , -0.12857143, -0.06666667],\n",
       "       [ 0.15384615, -0.6       ,  0.21428571,  0.2       ],\n",
       "       [-0.30769231,  0.        ,  0.04285714,  0.13333333],\n",
       "       [ 0.15384615,  0.8       ,  0.04285714,  0.2       ],\n",
       "       [ 0.69230769,  0.2       ,  0.1       ,  0.13333333],\n",
       "       [ 0.38461538, -1.4       ,  0.01428571,  0.        ],\n",
       "       [-0.15384615,  0.        , -0.07142857,  0.        ],\n",
       "       [-0.23076923, -1.        , -0.1       ,  0.        ],\n",
       "       [-0.23076923, -0.8       ,  0.01428571, -0.06666667],\n",
       "       [ 0.23076923,  0.        ,  0.07142857,  0.06666667],\n",
       "       [ 0.        , -0.8       , -0.1       , -0.06666667],\n",
       "       [-0.61538462, -1.4       , -0.3       , -0.2       ],\n",
       "       [-0.15384615, -0.6       , -0.04285714,  0.        ],\n",
       "       [-0.07692308,  0.        , -0.04285714, -0.06666667],\n",
       "       [-0.07692308, -0.2       , -0.04285714,  0.        ],\n",
       "       [ 0.30769231, -0.2       , -0.01428571,  0.        ],\n",
       "       [-0.53846154, -1.        , -0.38571429, -0.13333333],\n",
       "       [-0.07692308, -0.4       , -0.07142857,  0.        ],\n",
       "       [ 0.38461538,  0.6       ,  0.47142857,  0.8       ],\n",
       "       [ 0.        , -0.6       ,  0.21428571,  0.4       ],\n",
       "       [ 1.        ,  0.        ,  0.44285714,  0.53333333],\n",
       "       [ 0.38461538, -0.2       ,  0.35714286,  0.33333333],\n",
       "       [ 0.53846154,  0.        ,  0.41428571,  0.6       ],\n",
       "       [ 1.38461538,  0.        ,  0.64285714,  0.53333333],\n",
       "       [-0.69230769, -1.        ,  0.04285714,  0.26666667],\n",
       "       [ 1.15384615, -0.2       ,  0.55714286,  0.33333333],\n",
       "       [ 0.69230769, -1.        ,  0.41428571,  0.33333333],\n",
       "       [ 1.07692308,  1.2       ,  0.5       ,  0.8       ],\n",
       "       [ 0.53846154,  0.4       ,  0.21428571,  0.46666667],\n",
       "       [ 0.46153846, -0.6       ,  0.27142857,  0.4       ],\n",
       "       [ 0.76923077,  0.        ,  0.32857143,  0.53333333],\n",
       "       [-0.07692308, -1.        ,  0.18571429,  0.46666667],\n",
       "       [ 0.        , -0.4       ,  0.21428571,  0.73333333],\n",
       "       [ 0.46153846,  0.4       ,  0.27142857,  0.66666667],\n",
       "       [ 0.53846154,  0.        ,  0.32857143,  0.33333333],\n",
       "       [ 1.46153846,  1.6       ,  0.67142857,  0.6       ],\n",
       "       [ 1.46153846, -0.8       ,  0.72857143,  0.66666667],\n",
       "       [ 0.15384615, -1.6       ,  0.18571429,  0.13333333],\n",
       "       [ 0.84615385,  0.4       ,  0.38571429,  0.66666667],\n",
       "       [-0.15384615, -0.4       ,  0.15714286,  0.46666667],\n",
       "       [ 1.46153846, -0.4       ,  0.67142857,  0.46666667],\n",
       "       [ 0.38461538, -0.6       ,  0.15714286,  0.33333333],\n",
       "       [ 0.69230769,  0.6       ,  0.38571429,  0.53333333],\n",
       "       [ 1.07692308,  0.4       ,  0.47142857,  0.33333333],\n",
       "       [ 0.30769231, -0.4       ,  0.12857143,  0.33333333],\n",
       "       [ 0.23076923,  0.        ,  0.15714286,  0.33333333],\n",
       "       [ 0.46153846, -0.4       ,  0.35714286,  0.53333333],\n",
       "       [ 1.07692308,  0.        ,  0.41428571,  0.2       ],\n",
       "       [ 1.23076923, -0.4       ,  0.5       ,  0.4       ],\n",
       "       [ 1.61538462,  1.6       ,  0.58571429,  0.46666667],\n",
       "       [ 0.46153846, -0.4       ,  0.35714286,  0.6       ],\n",
       "       [ 0.38461538, -0.4       ,  0.21428571,  0.13333333],\n",
       "       [ 0.23076923, -0.8       ,  0.35714286,  0.06666667],\n",
       "       [ 1.46153846,  0.        ,  0.5       ,  0.66666667],\n",
       "       [ 0.38461538,  0.8       ,  0.35714286,  0.73333333],\n",
       "       [ 0.46153846,  0.2       ,  0.32857143,  0.33333333],\n",
       "       [ 0.15384615,  0.        ,  0.12857143,  0.33333333],\n",
       "       [ 0.84615385,  0.2       ,  0.3       ,  0.53333333],\n",
       "       [ 0.69230769,  0.2       ,  0.35714286,  0.73333333],\n",
       "       [ 0.84615385,  0.2       ,  0.21428571,  0.66666667],\n",
       "       [ 0.        , -0.6       ,  0.21428571,  0.4       ],\n",
       "       [ 0.76923077,  0.4       ,  0.44285714,  0.66666667],\n",
       "       [ 0.69230769,  0.6       ,  0.38571429,  0.8       ],\n",
       "       [ 0.69230769,  0.        ,  0.24285714,  0.66666667],\n",
       "       [ 0.38461538, -1.        ,  0.18571429,  0.4       ],\n",
       "       [ 0.53846154,  0.        ,  0.24285714,  0.46666667],\n",
       "       [ 0.30769231,  0.8       ,  0.3       ,  0.66666667],\n",
       "       [ 0.07692308,  0.        ,  0.21428571,  0.33333333]])"
      ]
     },
     "execution_count": 20,
     "metadata": {},
     "output_type": "execute_result"
    }
   ],
   "source": [
    "X = preprocessing.robust_scale(X)\n",
    "X"
   ]
  },
  {
   "cell_type": "markdown",
   "metadata": {},
   "source": [
    "### 3.3  Split the data for testing and validation\n",
    "For supervised machine learning, you must provide a testing dataset to create a model.  The model is then used on another dataset to validate its accuracy.  If the dataset is large enough we can do this by splitting the original dataset into a test and a validation set.  We can do this using the sklearn `model_selection.train_test_split` function.  The function takes as input the 2D Numpy array of independent variables and the 1D Numpy array with the oucome variable.  It also takes the following arguments:\n",
    "\n",
    "- `test_size`: \"should be between 0.0 and 1.0 and represent the proportion of the dataset to include in the test split.\" For example, to use 80% of the data for model construction and 20% for testing (i.e. validation) this argument should be set to 0.2.  The default is 0.25.\n",
    "- `random_state`: rows are randomly selected to include in the split. You can ensure the same random order by providing a seed.  This allows for reproducibility.\n",
    "\n",
    "Lets split the data with 20% used for testing and a random seed of 10:"
   ]
  },
  {
   "cell_type": "code",
   "execution_count": 21,
   "metadata": {},
   "outputs": [],
   "source": [
    "# Split-out validation dataset\n",
    "Xt, Xv, Yt, Yv = model_selection.train_test_split(X, Y, test_size=0.2, random_state=10)"
   ]
  },
  {
   "cell_type": "markdown",
   "metadata": {},
   "source": [
    "Using the code above `Xt` and `Yt` become the \"training\" data.  and `Xv` and `Yv` become the \"testing\" data used for validation."
   ]
  },
  {
   "cell_type": "markdown",
   "metadata": {},
   "source": [
    "## 3. Perform Supervised Machine Learning\n"
   ]
  },
  {
   "cell_type": "markdown",
   "metadata": {},
   "source": [
    "### 3.1 K-Fold Strategy"
   ]
  },
  {
   "cell_type": "markdown",
   "metadata": {},
   "source": [
    "Now that we have our data separated into training and validation sets, we should establish a training strategy.  To avoid overfitting a model to the data, we should perform a K-fold cross-validation strategy.  This type of strategy will further divide our training data into <i>k</i> subsets. The model will be trained <i>k</i> times using <i>k</i>-1 subsets the remaining subset will be used for validation. Each subset will have its turn for validation.  An accuracy score is provided for each attempt.  You can evaulate the performance of a machine learning algorithm by exploring the distribution (mean and variance) of the <i>k</i> attempts (we will try this later in the notebook).\n",
    "\n",
    "![KFCV](https://cdn-images-1.medium.com/max/1080/1*qPMFLEbvc8QQf38Cf77wQg.png)\n",
    "\n",
    "<sup>Image from [TowardsDataScience.com Cross Validation](https://towardsdatascience.com/cross-validation-explained-evaluating-estimator-performance-e51e5430ff85) page.\n",
    "\n",
    "To establish a K-fold cross-validation strategy we use the `model_selection.KFold` function of sklearn.  It takes two important arguments:\n",
    "\n",
    "- `n_splits`: the number of subsets to split the data.\n",
    "- `random_state`: you can ensure the same random order in the subsets by providing a seed.  This allows for reproducibility.\n",
    "\n",
    "Lets create a K-fold strategy that splits the iris data into 10 subsets and a random seed of 10."
   ]
  },
  {
   "cell_type": "code",
   "execution_count": 22,
   "metadata": {},
   "outputs": [],
   "source": [
    "kfold = model_selection.KFold(n_splits=10, random_state=10)"
   ]
  },
  {
   "cell_type": "markdown",
   "metadata": {},
   "source": [
    "### 3.2. Evaulate ML Algorithms"
   ]
  },
  {
   "cell_type": "markdown",
   "metadata": {},
   "source": [
    "sklearn provides a variety of supervised machine learning aglorithms. Here, we will evaluate six of them:\n",
    "\n",
    "1. Logistic Regression (LR)\n",
    "2. Linear Discriminant Analysis (LDA)\n",
    "3. K-Nearest Neighbors (KNN).\n",
    "4. Classification and Regression Trees (CART).\n",
    "5. Gaussian Naive Bayes (NB).\n",
    "6. Support Vector Machines (SVM).\n",
    "\n",
    "Each of these algorithms is provided by sklearn by an object for each one respectively which were imported in Section 1 above: \n",
    "\n",
    "```python\n",
    "from sklearn.linear_model import LogisticRegression\n",
    "from sklearn.discriminant_analysis import LinearDiscriminantAnalysis\n",
    "from sklearn.neighbors import KNeighborsClassifier\n",
    "from sklearn.tree import DecisionTreeClassifier\n",
    "from sklearn.naive_bayes import GaussianNB\n",
    "from sklearn.svm import SVC, LinearSVC\n",
    "```\n",
    "\n",
    "To build a model, we must first create an object for the algorithm.  For example, to create an object for Logistic Regression we could use the following code:\n",
    "```python\n",
    "alg = LogisticRegression(solver='lbfgs', multi_class=\"auto\")\n",
    "```\n",
    "\n",
    "\n",
    "In the following sections, we will construct an object for each algorithm and use it to create a predictive model, but first, we need a way to store the results of all ML algorithms that we'll be using. To make this easy, we will store results from each method in a dictionary. The following code prepares a dictionary containing, as keys, the names of the 6 methods we will explore.  The value is an array of 10 zeros.  This is because we will be performing a 10-fold cross-validation and we replace the zeros with results of each of the 10 attempts per method. "
   ]
  },
  {
   "cell_type": "code",
   "execution_count": 23,
   "metadata": {},
   "outputs": [
    {
     "data": {
      "text/plain": [
       "{'LogisticRegression': array([0., 0., 0., 0., 0., 0., 0., 0., 0., 0.]),\n",
       " 'LinearDiscriminantAnalysis': array([0., 0., 0., 0., 0., 0., 0., 0., 0., 0.]),\n",
       " 'KNeighborsClassifier': array([0., 0., 0., 0., 0., 0., 0., 0., 0., 0.]),\n",
       " 'DecisionTreeClassifier': array([0., 0., 0., 0., 0., 0., 0., 0., 0., 0.]),\n",
       " 'GaussianNB': array([0., 0., 0., 0., 0., 0., 0., 0., 0., 0.]),\n",
       " 'SVC': array([0., 0., 0., 0., 0., 0., 0., 0., 0., 0.])}"
      ]
     },
     "execution_count": 23,
     "metadata": {},
     "output_type": "execute_result"
    }
   ],
   "source": [
    "results = {\n",
    "    'LogisticRegression' : np.zeros(10),\n",
    "    'LinearDiscriminantAnalysis' : np.zeros(10),\n",
    "    'KNeighborsClassifier' : np.zeros(10),\n",
    "    'DecisionTreeClassifier' : np.zeros(10),\n",
    "    'GaussianNB' : np.zeros(10),\n",
    "    'SVC' : np.zeros(10)\n",
    "}\n",
    "results"
   ]
  },
  {
   "cell_type": "markdown",
   "metadata": {},
   "source": [
    "After creatin the algorithm object (in this example a LogisiticRegression object) we perform the model building and cross-validation in one step using the `model_selection.cross_val_score` funtion:\n",
    "\n",
    "```python\n",
    "model_selection.cross_val_score(alg, Xt, Yt, cv=kfold, scoring=\"accuracy\", error_score=np.nan)\n",
    "```\n",
    "Here we provide the algorithm object, the training data, validation data, k-fold object, the `scoring` accuracy parameter and an `error_score`.  See the [online documentation](https://scikit-learn.org/stable/modules/generated/sklearn.model_selection.cross_val_score.html) for details about other arguments.  We can use the same `cross_val_score` function for any of the 6 methods we will explore.\n",
    "\n",
    "In the following sections, six supervised machine learning methods will be briefly introduced.  For brevity we will not explore these approaches too deeply. A brief summary is provided followded by links for additional details."
   ]
  },
  {
   "cell_type": "markdown",
   "metadata": {},
   "source": [
    "#### 3.2.1 Logistic Regression\n",
    "\n",
    "**Brief Summary** \n",
    "\n",
    "In statistics, the logistic model (or logit model) uses a logistic function to model a binary outcome (i.e. values of 0 and 1) and a set of one or more independent variables: [X<sub>1</sub>, X<sub>2</sub>, X<sub>3</sub>, ... X<sub>n</sub>]:\n",
    "\n",
    "\\begin{equation*}\n",
    "logit(p) = b_0 + b_1X_1 + b_2X_2 + b_2X_2 ... b_nX_n\n",
    "\\end{equation*}\n",
    "\n",
    "Its goal is to determine the set of coefficients, [b<sub>1</sub>, b<sub>2</sub>, b<sub>3</sub>, ... b<sub>n</sub>], that best fit the relationship between the dependent and independent variables.   Alternatively, it is the natural log of the odds ratio:\n",
    "\n",
    "\\begin{equation*}\n",
    "odds\\ ratio = \\frac{p}{1-p} = \\frac{probability\\ of\\ presence}{probability\\ of\\ absense}\n",
    "\\end{equation*}\n",
    "\n",
    "\\begin{equation*}\n",
    "logit(p) = ln(\\frac{p}{1-p})\n",
    "\\end{equation*}\n",
    "\n",
    "\n",
    "The following image from Wikipedia shows an example where the dependent variable of *\"passing an exam\"* with a single independent variable of *\"hours studied\"*. \n",
    "\n",
    "<img src=\"https://upload.wikimedia.org/wikipedia/commons/6/6d/Exam_pass_logistic_curve.jpeg\" style=\"height:300px\">\n",
    "\n",
    "Samples can be classified as predicting a passing score or a non-passing score by where they fall (above or below) on the line.  As a machine learning approach, we can provide a set of training data to create the model, then use future data to predict an outcome.\n",
    "\n",
    "**When to use:**\n",
    "+ Input data is quantitative.\n",
    "+ No colliniearity.\n",
    "+ No outliers.\n",
    "+ Relationship is expected to be linear\n",
    "\n",
    "**Additional Resources**\n",
    "+ [skLearn Logisitic Regression Function](https://scikit-learn.org/stable/modules/generated/sklearn.linear_model.LogisticRegression.html)\n",
    "+ [Wikipedia LR](https://en.wikipedia.org/wiki/Logistic_regression)\n",
    "+ [TowardsDataScience.com LR](https://towardsdatascience.com/building-a-logistic-regression-in-python-step-by-step-becd4d56c9c8)\n",
    "\n",
    "**Practice**\n",
    "\n",
    "To perform Logisitc Regression with sklearn, we must first create a LogisiticRegression object. There are two important arguments to provide:\n",
    "\n",
    "- `solver`: There are several different solvers: ‘newton-cg’, ‘lbfgs’, ‘liblinear’, ‘sag’, ‘saga’.  These are meant for different types of data:\n",
    "   + For small datasets, ‘liblinear’ is a good choice, whereas ‘sag’ and ‘saga’ are faster for large ones.\n",
    "   + For multiclass problems, only ‘newton-cg’, ‘sag’, ‘saga’ and ‘lbfgs’ handle multinomial loss; ‘liblinear’ is limited to one-versus-rest schemes.\n",
    "   + ‘newton-cg’, ‘lbfgs’ and ‘sag’ only handle L2 penalty, whereas ‘liblinear’ and ‘saga’ handle L1 penalty.\n",
    "- `multi_class`: set this argument when there are more than two classes in the outcome variable. Setting it to `auto` allows the algorithm to select the best approach for working with the data.  \n",
    "\n",
    "Because the iris species is multinomical, we will set the `multi_class` argument to `auto` and the `solver` to `libfgs`"
   ]
  },
  {
   "cell_type": "code",
   "execution_count": null,
   "metadata": {},
   "outputs": [],
   "source": [
    "# Create the LogisticRegression object prepared for a multinomial outcome validation set.\n",
    "alg = LogisticRegression(solver='lbfgs', multi_class=\"auto\")\n",
    "\n",
    "# Execute the cross-validation strategy\n",
    "results['LogisticRegression'] = model_selection.cross_val_score(alg, Xt, Yt, cv=kfold, \n",
    "                                                                scoring=\"accuracy\", error_score=np.nan)\n",
    "\n",
    "# Take a look at the scores for each of the 10-fold runs.\n",
    "results['LogisticRegression']"
   ]
  },
  {
   "cell_type": "markdown",
   "metadata": {},
   "source": [
    "#### 3.2.2 Linear Discriminant Analysis (LDA)\n",
    "\n",
    "**Brief Summary** \n",
    "\n",
    "Linear Discriminant Analysis (LDA) is a classification method that employs a dimensionality reduction technique.  \n",
    "\n",
    "From the [Wikipedia LDA](https://en.wikipedia.org/wiki/Linear_discriminant_analysis) page:\n",
    "\n",
    "> Linear discriminant analysis (LDA),... [is] a method used in statistics, pattern recognition and machine learning to find a linear combination of features that characterizes or separates two or more classes of objects or events... LDA is closely related to analysis of variance (ANOVA) and regression analysis, which also attempt to express one dependent variable as a linear combination of other features or measurements. However, ANOVA uses categorical independent variables and a continuous dependent variable, whereas discriminant analysis has continuous independent variables and a categorical dependent variable (i.e. the class label)\n",
    "\n",
    "Assumptions:\n",
    "+ Outcome classes are normally distributed.\n",
    "+ Variance between outcome classes is equal.\n",
    "\n",
    "LDA is similar to Principal Component Analysis (PCA), but….\n",
    "+ PCA is unsupervised, LDA is supervised\n",
    "+ PCA tries to maximize the variance.\n",
    "+ LDA tries to maximize the separation between data classes.\n",
    "\n",
    "<img src=\"http://sebastianraschka.com/images/blog/2014/linear-discriminant-analysis/lda_1.png\" style=\"height:250px\">\n",
    "<sup><i>Image from <a href=\"http://sebastianraschka.com/Articles/2014_python_lda.html\">SebastianRaschka Liniear Discriminant Analysis</a> page</i></sup>\n",
    "\n",
    "**When to use:**\n",
    "+ The dependent variable is categorical (qualitative) with \"classes\" or categories as outcomes \n",
    "+ The independnet variables are quantitative.\n",
    "\n",
    "**Additional Resources**\n",
    "+ [skLearn LDA](https://scikit-learn.org/stable/modules/generated/sklearn.discriminant_analysis.LinearDiscriminantAnalysis.html)\n",
    "+ [Wikipedia LDA](https://en.wikipedia.org/wiki/Linear_discriminant_analysis)\n",
    "+ [TowardsDataSciecne LDA](https://towardsdatascience.com/classification-part-2-linear-discriminant-analysis-ea60c45b9ee5)\n",
    "\n",
    "**Practice**\n",
    "\n",
    "Similar to Logistic Regression, we must first create a LinearDiscriminantAnalysis object, then call `cross_val_score`.  Here we'll just use the default settings.  See the [online documentation](https://scikit-learn.org/stable/modules/generated/sklearn.discriminant_analysis.LinearDiscriminantAnalysis.html) for a more thorough description of arguments and flexibility of the algorithm."
   ]
  },
  {
   "cell_type": "code",
   "execution_count": null,
   "metadata": {},
   "outputs": [],
   "source": [
    "# Create the LinearDiscriminantAnalysis object with defaults.\n",
    "alg = LinearDiscriminantAnalysis()\n",
    "\n",
    "# Execute the cross-validation strategy\n",
    "results['LinearDiscriminantAnalysis'] = model_selection.cross_val_score(alg, Xt, Yt, cv=kfold, \n",
    "                                                                        scoring=\"accuracy\", error_score=np.nan)\n",
    "\n",
    "# Take a look at the scores for each of the 10-fold runs.\n",
    "results['LinearDiscriminantAnalysis']"
   ]
  },
  {
   "cell_type": "markdown",
   "metadata": {},
   "source": [
    "#### 3.2.3 K-Nearest Neighbors (KNN)\n",
    "\n",
    "**Brief Summary**\n",
    "\n",
    "From the [Wikipedia KNN](https://en.wikipedia.org/wiki/K-nearest_neighbors_algorithm) page:\n",
    "\n",
    "> In pattern recognition, the k-nearest neighbors algorithm (k-NN) is a non-parametric method used for classification and regression... \n",
    ">\n",
    "> <img src=\"https://upload.wikimedia.org/wikipedia/commons/e/e7/KnnClassification.svg\" style=\"height: 200px\">\n",
    ">\n",
    "> [Above is an] example of k-NN classification. The test sample (green circle) should be classified either to the first class of blue squares or to the second class of red triangles. If k = 3 (solid line circle) it is assigned to the second class because there are 2 triangles and only 1 square inside the inner circle. If k = 5 (dashed line circle) it is assigned to the first class (3 squares vs. 2 triangles inside the outer circle).\n",
    "\n",
    "For the KNN approach to be useful, the outcome classes must be distinguishable. As an exapmle of distinguishable classes, consider the Iris dataset petal width vs petal length:"
   ]
  },
  {
   "cell_type": "code",
   "execution_count": null,
   "metadata": {},
   "outputs": [],
   "source": [
    "sns.relplot(x=\"petal_width\", y=\"petal_length\", hue=\"species\", data=iris);"
   ]
  },
  {
   "cell_type": "markdown",
   "metadata": {},
   "source": [
    "**When to Use**\n",
    "+ Multiple outcomes (not just binary)\n",
    "+ There are no assumptions for the outcome distribution\n",
    "+ The outcomes classes are already distinguishable in the problem space.\n",
    "\n",
    "**Additional Resources**\n",
    "+ [skLearn KNN](https://scikit-learn.org/stable/modules/generated/sklearn.neighbors.KNeighborsClassifier.html)\n",
    "+ [Wikipedia KNN](https://en.wikipedia.org/wiki/K-nearest_neighbors_algorithm)\n",
    "+ [TowardsDataScience.com KNN](https://towardsdatascience.com/knn-k-nearest-neighbors-1-a4707b24bd1d)\n",
    "\n",
    "**Practice**\n",
    "\n",
    "Similar to other algorithms, we must first create a KNeighborsClassifier object, then call `cross_val_score`.  Here we'll just use the default settings.  See the [online documentation](https://scikit-learn.org/stable/modules/generated/sklearn.neighbors.KNeighborsClassifier.html) for a more thorough description of arguments and flexibility of the algorithm."
   ]
  },
  {
   "cell_type": "code",
   "execution_count": null,
   "metadata": {},
   "outputs": [],
   "source": [
    "# Create the KNeighborsClassifier object with defaults.\n",
    "alg = KNeighborsClassifier()\n",
    "\n",
    "# Execute the cross-validation strategy\n",
    "results['KNeighborsClassifier'] = model_selection.cross_val_score(alg, Xt, Yt, cv=kfold, \n",
    "                                                                  scoring=\"accuracy\", error_score=np.nan)\n",
    "# Take a look at the scores for each of the 10-fold runs.\n",
    "results['KNeighborsClassifier']"
   ]
  },
  {
   "cell_type": "markdown",
   "metadata": {},
   "source": [
    "#### 3.2.4  Classification and Regression Trees (Decision Trees)\n",
    "\n",
    "**Brief Summary** \n",
    "\n",
    "From the [Wikipedia Decision Tree Learning](https://en.wikipedia.org/wiki/Decision_tree_learning) page:\n",
    "\n",
    "> In computer science, Decision tree learning uses a decision tree (as a predictive model) to go from observations about an item (represented in the branches) to conclusions about the item's target value (represented in the leaves). It is one of the predictive modeling approaches used in statistics, data mining and machine learning. Tree models where the target variable can take a discrete set of values are called classification trees; in these tree structures, leaves represent class labels and branches represent conjunctions of features that lead to those class labels. Decision trees where the target variable can take continuous values (typically real numbers) are called regression trees.\n",
    ">\n",
    ">![Decsion Trees](https://upload.wikimedia.org/wikipedia/commons/f/f3/CART_tree_titanic_survivors.png)\n",
    ">\n",
    "> [The above] tree [shows] survival of passengers on the Titanic. The figures under the leaves show the probability of survival and the percentage of observations in the leaf.\n",
    "\n",
    "In short, trees are learned by splitting the source data based on an attribute value and two types of trees are possible basedon the outcome data:\n",
    "\n",
    "Classification Trees\n",
    "- When outcome is categorical\n",
    "\n",
    "Regression Trees\n",
    "- When outcome is continuous\n",
    "\n",
    "**When to Use**\n",
    "- For both numerical and categorical outcome data\n",
    "- Distribution of outcome is unknown or doesn’t meet other model assumptions.\n",
    "- Multiple outcomes.\n",
    "\n",
    "**Additional Resources**\n",
    "- [sklearn Decision Trees](https://scikit-learn.org/stable/modules/tree.html)\n",
    "- [sklearn CART](https://scikit-learn.org/stable/modules/generated/sklearn.tree.DecisionTreeClassifier.html)\n",
    "- [Wikipediea Decision Trees](https://en.wikipedia.org/wiki/Decision_tree)\n",
    "- [TowardsDataScience.com CART](https://towardsdatascience.com/decision-trees-d07e0f420175)\n",
    "\n",
    "\n",
    "**Practice**\n",
    "\n",
    "Similar to other algorithms, we must first create a DecisionTreeClassifier object, then call `cross_val_score`.  Here we'll just use the default settings.  See the [online documentation](https://scikit-learn.org/stable/modules/generated/sklearn.tree.DecisionTreeClassifier.html) for a more thorough description of arguments and flexibility of the algorithm."
   ]
  },
  {
   "cell_type": "code",
   "execution_count": null,
   "metadata": {},
   "outputs": [],
   "source": [
    "# Create the DecisionTreeClassifier object with defaults.\n",
    "alg = DecisionTreeClassifier()\n",
    "\n",
    "# Execute the cross-validation strategy\n",
    "results['DecisionTreeClassifier'] = model_selection.cross_val_score(alg, Xt, Yt, cv=kfold, \n",
    "                                                                  scoring=\"accuracy\", error_score=np.nan)\n",
    "# Take a look at the scores for each of the 10-fold runs.\n",
    "results['DecisionTreeClassifier']"
   ]
  },
  {
   "cell_type": "markdown",
   "metadata": {},
   "source": [
    "#### 3.2.5 Gaussian Naive Bayes (NB)\n",
    "\n",
    "**Brief Summary**\n",
    "\n",
    "From the [Wikipedia Naive Bayes classifier](https://en.wikipedia.org/wiki/Naive_Bayes_classifier) page:\n",
    "\n",
    "> In machine learning, naive Bayes classifiers are a family of simple \"probabilistic classifiers\" based on applying Bayes' theorem with strong (naive) independence assumptions between the features.\n",
    "\n",
    "Naive Bayes methods rely on Bayes theorem, and follows axioms of the conditional probability:\n",
    "\n",
    "\\begin{equation*}\n",
    "P(A | B) = \\frac{P(B|A)P(A)}{P(B)}\n",
    "\\end{equation*}\n",
    "\n",
    ".\n",
    "Where:\n",
    " - A = outcome class\n",
    " - B = input data vector for a sample.\n",
    " \n",
    "There are many NB algorithms and they differ in assumptions about the distribution of P(A|B). For the Guassian approach the distributions are expected to be Guassian and the input data is quantitative.\n",
    "\n",
    "**When to Use**\n",
    "\n",
    "- High independence between input data (no multicollinearity)\n",
    "- Multiple outcome classes.\n",
    "- Independent variables are quantitative.\n",
    "\n",
    "**Additional Resources**\n",
    "- [skLearn Guassian NB](https://scikit-learn.org/stable/modules/generated/sklearn.naive_bayes.GaussianNB.html)\n",
    "- [Wikipedia NB](https://en.wikipedia.org/wiki/Naive_Bayes_classifier)\n",
    "- [TowardsDataScience NB](https://towardsdatascience.com/all-about-naive-bayes-8e13cef044cf)\n",
    "\n",
    "**Practice**\n",
    "\n",
    "Similar to other algorithms, we must first create a GaussianNB object, then call `cross_val_score`.  Here we'll just use the default settings.  See the [online documentation](https://scikit-learn.org/stable/modules/generated/sklearn.naive_bayes.GaussianNB.html) for a more thorough description of arguments and flexibility of the algorithm."
   ]
  },
  {
   "cell_type": "code",
   "execution_count": null,
   "metadata": {},
   "outputs": [],
   "source": [
    "# Create the GaussianNB object with defaults.\n",
    "alg = GaussianNB()\n",
    "\n",
    "# Execute the cross-validation strategy\n",
    "results['GaussianNB'] = model_selection.cross_val_score(alg, Xt, Yt, cv=kfold, \n",
    "                                                                  scoring=\"accuracy\", error_score=np.nan)\n",
    "# Take a look at the scores for each of the 10-fold runs.\n",
    "results['GaussianNB']"
   ]
  },
  {
   "cell_type": "markdown",
   "metadata": {},
   "source": [
    "#### 3.2.6 Support Vector Machines (SVM)\n",
    "**Brief Summary**\n",
    "\n",
    "A support vector machine attempts to find an optimal separation between outcomes by separating them in multi-dimensional space (&reals;<sup>n</sup>). Consider the following figure:\n",
    "\n",
    "<img src=\"https://cdn-images-1.medium.com/max/1000/1*ZpkLQf2FNfzfH4HXeMw4MQ.png\" style=\"height:250px\">\n",
    "<sup><i>Image from <a href=\"https://towardsdatascience.com/support-vector-machine-introduction-to-machine-learning-algorithms-934a444fca47\">TowardsDataScience.com SVM</a> page</i></sup>\n",
    "\n",
    "Here the line in the first 2-dimensional plot separates the two classes and in the 3-dimensional plot, the plane separates them.  For larger dimensions, SVMs find the optimal **hyperplane**.  The optimal \"hyperplane\" (line or plane) is selected as the one which maximizes the **margin** between the outcome classes.  Consier the following figure:\n",
    "\n",
    "<img src=\"https://upload.wikimedia.org/wikipedia/commons/b/b5/Svm_separating_hyperplanes_%28SVG%29.svg\" style=\"height:250px\">\n",
    "<sup><i>Image from <a href=\"https://en.wikipedia.org/wiki/Support-vector_machine\">Wikipedia SVM</a> page</i></sup>\n",
    "\n",
    "In the example figure above:\n",
    "- The H1 line does not separate the classes. \n",
    "- The H2 line does, but only with a small margin (distance between samples in the classes) \n",
    "- The H3 line separates them with the maximal margin.\n",
    "\n",
    "There are multiple types of SVMs.  The SVM that performs classification is known as a Support Vector Classification (SVC) algorithm.\n",
    "\n",
    "**When to use**\n",
    "- Multiple outcome classes.\n",
    "- Distribution of outcome is unknown or doesn’t meet other model assumptions.\n",
    "- High dimensional data\n",
    "- There are more samples than features (otherwise overfitting may occur)\n",
    "\n",
    "**Additional Resources**\n",
    "- [skLearn SVM](https://scikit-learn.org/stable/modules/svm.html)\n",
    "- [skLearn SVC](https://scikit-learn.org/stable/modules/generated/sklearn.svm.SVC.html#sklearn.svm.SVC)\n",
    "- [Wikipedia SVM](https://en.wikipedia.org/wiki/Support-vector_machine)\n",
    "- [TowardsDataScience.com SVM](https://towardsdatascience.com/support-vector-machines-a-brief-overview-37e018ae310f)\n",
    "\n",
    "\n",
    "**Practice**\n",
    "\n",
    "Similar to other algorithms, we must first create a SVC object, then call `cross_val_score`.  Here we'll just use the default settings.  See the [online documentation](https://scikit-learn.org/stable/modules/generated/sklearn.svm.SVC.html#sklearn.svm.SVC) for a more thorough description of arguments and flexibility of the algorithm."
   ]
  },
  {
   "cell_type": "code",
   "execution_count": null,
   "metadata": {},
   "outputs": [],
   "source": [
    "# Create the SVC object with defaults.\n",
    "alg = SVC(gamma='auto')\n",
    "\n",
    "# Execute the cross-validation strategy\n",
    "results['SVC'] = model_selection.cross_val_score(alg, Xt, Yt, cv=kfold, \n",
    "                                                                  scoring=\"accuracy\", error_score=np.nan)\n",
    "# Take a look at the scores for each of the 10-fold runs.\n",
    "results['SVC']"
   ]
  },
  {
   "cell_type": "markdown",
   "metadata": {},
   "source": [
    "### 3.3 Compare Scores\n",
    "Now that we have performed training and validation of six different methods we can compare the results to see which performed best.  We can do so by converting the results dictionary into a dataframe and using the `plot` function that comes with Panda's data frames to create a box plot of each test."
   ]
  },
  {
   "cell_type": "code",
   "execution_count": null,
   "metadata": {},
   "outputs": [],
   "source": [
    "pd.DataFrame(results).plot(kind=\"box\", rot=90);"
   ]
  },
  {
   "cell_type": "markdown",
   "metadata": {},
   "source": [
    "### 3.4 Test the model (make predictions)"
   ]
  },
  {
   "cell_type": "markdown",
   "metadata": {},
   "source": [
    "From the boxplot in the previous section, it seems as if Linear Discriminant Analysis performed best!  We will use this algorithm and the trained model to compare predictions made from the 20% of data we set aside for testing match the actual outcomes.  To do this we will use two new functions that are members of any of the algorithm objects:\n",
    "\n",
    "- `fit`: This function employs the algorithm to create the final predictive model. All the training data is provided to this function. \n",
    "- `predict`:  This function uses the trained model to make predictions using the testing data."
   ]
  },
  {
   "cell_type": "code",
   "execution_count": null,
   "metadata": {},
   "outputs": [],
   "source": [
    "# Create the LinearDiscriminantAnalysis object with defaults.\n",
    "alg = LinearDiscriminantAnalysis()\n",
    "\n",
    "# Create a new model using all of the training data.\n",
    "alg.fit(Xt, Yt)\n",
    "\n",
    "# Using the testing data, predict the iris species.\n",
    "predictions = alg.predict(Xv)\n",
    "\n",
    "# Let's see the predictions\n",
    "predictions"
   ]
  },
  {
   "cell_type": "markdown",
   "metadata": {},
   "source": [
    "Finally, we can evaulate how accurate the model has been by comparing the predictions with the actual species for the test data.  The `accuracy_score` function provides this:"
   ]
  },
  {
   "cell_type": "code",
   "execution_count": null,
   "metadata": {},
   "outputs": [],
   "source": [
    "accuracy_score(Yv, predictions)"
   ]
  },
  {
   "cell_type": "markdown",
   "metadata": {},
   "source": [
    "One way to explore the performance of the algorithm is by way of a **Confusion Matrix** or error matrix.  A confusion matrix is an <i>n</i> x <i>n</i> matrix where n is the number of outcome classes. In the case of the Iris data, <i>i</i> = 3.  To view the confusion matrix use the sklearn `confusion_matrix` function.  We pass in the testing outcome set, the predictions and the order that we want the classes to appear (using the `labels` argument):"
   ]
  },
  {
   "cell_type": "code",
   "execution_count": null,
   "metadata": {},
   "outputs": [],
   "source": [
    "labels = ['versicolor', 'virginica', 'setosa']\n",
    "cm = confusion_matrix(Yv, predictions, labels=labels)\n",
    "print(cm)"
   ]
  },
  {
   "cell_type": "markdown",
   "metadata": {},
   "source": [
    "The elements of the confusion matrix have the following meaning:\n",
    "- rows of the confusion matrix represent the predicted classes \n",
    "- columns represent the actual classes.  \n",
    "- elements on the diagnoal of the matrix represent the true positives\n",
    "- errors are present when counts above zero are outside of the diagnoal.\n",
    "\n",
    "***Note***: Because the result is a Numpy array, there are no row and column labels. However, because we provided the `labels` argument we know the order of the classes in the matrix.\n",
    "\n",
    "We can use the Seaborn `heatmap` to visualize the matrix:"
   ]
  },
  {
   "cell_type": "code",
   "execution_count": null,
   "metadata": {},
   "outputs": [],
   "source": [
    "sns.heatmap(cm, annot=True, xticklabels=labels, yticklabels=labels);"
   ]
  },
  {
   "cell_type": "markdown",
   "metadata": {},
   "source": [
    "Finally, the `classification_report` function indicates how well the model was at predicting each class."
   ]
  },
  {
   "cell_type": "code",
   "execution_count": null,
   "metadata": {},
   "outputs": [],
   "source": [
    "cr = classification_report(Yv, predictions)\n",
    "print(cr)"
   ]
  },
  {
   "cell_type": "markdown",
   "metadata": {},
   "source": [
    "Where:\n",
    "- `precision`: The precision is the ratio `tp / (tp + fp)` where `tp` is the number of true positives and `fp` the number of false positives. The precision is intuitively the ability of the classifier not to label as positive a sample that is negative.\n",
    "- `recall`: The recall is the ratio `tp / (tp + fn)` where `tp` is the number of true positives and `fn` the number of false negatives. The recall is intuitively the ability of the classifier to find all the positive samples.\n",
    "- `f1-score`: The F-beta score can be interpreted as a weighted harmonic mean of the precision and recall, where an F-beta score reaches its best value at 1 and worst score at 0.\n",
    "- `support`: the number of actual samples with the given outcome."
   ]
  },
  {
   "cell_type": "markdown",
   "metadata": {},
   "source": [
    "For comparison, let's examine a less performant model to see how the confusion matrix and reports indicate error.  Let's use the K-neighbors classifier"
   ]
  },
  {
   "cell_type": "code",
   "execution_count": null,
   "metadata": {},
   "outputs": [],
   "source": [
    "# Create the LinearDiscriminantAnalysis object with defaults.\n",
    "alg = KNeighborsClassifier()\n",
    "\n",
    "# Create a new model using all of the training data.\n",
    "alg.fit(Xt, Yt)\n",
    "\n",
    "# Using the testing data, predict the iris species.\n",
    "predictions = alg.predict(Xv)\n",
    "\n",
    "# Let's see the predictions\n",
    "predictions"
   ]
  },
  {
   "cell_type": "code",
   "execution_count": null,
   "metadata": {},
   "outputs": [],
   "source": [
    "accuracy_score(Yv, predictions)"
   ]
  },
  {
   "cell_type": "code",
   "execution_count": null,
   "metadata": {},
   "outputs": [],
   "source": [
    "labels = ['versicolor', 'virginica', 'setosa']\n",
    "cm = confusion_matrix(Yv, predictions, labels=labels)\n",
    "sns.heatmap(cm, annot=True, xticklabels=labels, yticklabels=labels);"
   ]
  },
  {
   "cell_type": "code",
   "execution_count": null,
   "metadata": {},
   "outputs": [],
   "source": [
    "cr = classification_report(Yv, predictions)\n",
    "print(cr)"
   ]
  },
  {
   "cell_type": "markdown",
   "metadata": {},
   "source": [
    "Here we have one prediction that is false where `virginica` was predicted to be `versicolor`"
   ]
  },
  {
   "cell_type": "markdown",
   "metadata": {},
   "source": [
    "#### Task 3a: Practice with the random forest classifier\n",
    "\n",
    "<span style=\"float:right; margin-left:10px; clear:both;\">![Task](http://icons.iconarchive.com/icons/sbstnblnd/plateau/96/Apps-gnome-info-icon.png)\n",
    "</span>\n",
    "\n",
    "Now that you have learned how to perform supervised machine learning using a variety of algorithms, lets practice using a new algorithm we haven't looked at yet: the Random Forest Classifier.  The random forest classifier builds multiple decision trees and merges them together.  Review the sklearn [online documentation for the RandomForestClassifier](https://scikit-learn.org/stable/modules/generated/sklearn.ensemble.RandomForestClassifier.html).  For this task:\n",
    "\n",
    "1. Perform a 10-fold cross-validation strategy to see how well the random forest classifier performs with the iris data\n",
    "2. Use a boxplot to show the distribution of accuracy\n",
    "3. Use the `fit` and `predict` functions to see how well it performs with the testing data.\n",
    "4. Plot the confusion matrix\n",
    "5. Print the classification report.\n"
   ]
  }
 ],
 "metadata": {
  "kernelspec": {
   "display_name": "Python 3",
   "language": "python",
   "name": "python3"
  },
  "language_info": {
   "codemirror_mode": {
    "name": "ipython",
    "version": 3
   },
   "file_extension": ".py",
   "mimetype": "text/x-python",
   "name": "python",
   "nbconvert_exporter": "python",
   "pygments_lexer": "ipython3",
   "version": "3.7.1"
  }
 },
 "nbformat": 4,
 "nbformat_minor": 2
}
