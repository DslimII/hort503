{
 "cells": [
  {
   "cell_type": "markdown",
   "metadata": {},
   "source": [
    "# Module Project: Data Analysis Using Python\n",
    "\n",
    "## Background\n",
    "\n",
    "This project will cover all aspects of the Python for the Data Analytics module.  To complete the project, follow the instructions at each step in the notebook and add Python code or written explanations as instructed.   Some tasks below will require you to answer with a written response rather than writing code.  Those tasks begin with the words \"Explain\" or \"Write\".\n",
    "\n",
    "## Grading\n",
    "The grade for this project sums to 200 points.  The amount that each section contributes is indicated on each of the tasks.\n",
    "\n",
    "## How to turn in \n",
    "***DO NOT*** sumbit this poject to your GitHub repository.  Instead you will need to submit your completed Jupyter notebook directly to Dr. Ficklin via Slack. The notebook should be saved, fully populated with results and images.\n",
    "\n",
    "\n",
    "## Due Date\n",
    "April 19th no later than Midnight\n",
    "\n",
    "## Data Introducution\n",
    "\n",
    "To complete this project you will need to retrieve the \"Cover Type Dataset\" available at the UC Irvine Machine Learning Repository. You can find information about the dataset as well as the data [here](https://archive.ics.uci.edu/ml/datasets/Covertype).  To download the data, click the link at the top that reads **Data Folder**.  On the resulting page you will find three files for download.  Please download the file named `covtype.data.gz`, and use your preferred decompression utility to uncompress the file.  \n",
    "\n",
    "Before you can begin with this project, you must familarize yourself with the data.  Please read the `convtype.info` file that is also available for download.  You can either download the file and open with your favorite text editor or [view it in the web browser](https://archive.ics.uci.edu/ml/machine-learning-databases/covtype/covtype.info).\n",
    "\n",
    "In Summary:\n",
    "\n",
    "> Natural resource managers responsible for developing ecosystem management strategies require basic descriptive information including inventory data for forested lands to support their decision-making processes.  However, managers generally do not have this type of data for inholdings or neighboring lands that are outside their immediate jurisdiction.  **One method of obtaining this information is through the use of predictive models.**  \n",
    "\n",
    "> [The purpose of this dataset is for] predicting forest cover type from cartographic variables... The actual forest cover type for a given observation (30 x 30 meter cell) was determined from US Forest Service (USFS) Region 2 Resource Information System (RIS) data... Data is in raw form (not scaled) and contains binary (0 or 1) columns of data for qualitative independent variables (wilderness areas and soil types). \n",
    "\n",
    "\n",
    "\n",
    "Here are some hints to help explain some of the data columns:\n",
    "\n",
    "- Slope:  The angle in degrees of the slope on which the forest cover is growing.  \n",
    "- Aspect:  The direction the slope is facing in degrees azimuth:  North = 0, East = 90, South = 180, West = 270.\n",
    "- The columns representing shade contain values from 0 to 255 with 0 meaning no sun and 255 meaning full sun.\n",
    "- There are 40 columns representing differnet soil types.  See the `convtype.info` file for a listing of these types.  The observations in these 40 columns indicate if cover was: absent = 0, present = 1\n",
    "- There are 4 columns representing 4 different wilderness areas. The observations in these 4 columns indicate if cover was:  absent = 0, present = 1\n",
    "\n",
    "## Objective\n",
    "For this project you will utilize Numpy, Pandas, Matplotlib, Seaborn and Sklearn to create a Supervised Machine learning model that can assist natural resouce managers predict tree cover in neighboring lands.\n",
    "\n",
    "## Tips\n",
    "1. If you feel that your solution in a cell is too complicated, it probably is.  Check the online documentation and expect there may be shortcuts to do what you want.\n",
    "2. If you encounter Memory Error or the notebook seems to not execute, you may need to restart the Kernel and re-run the cells.\n",
    "3. Please contact the instructor if you have questions about this project.  You may ask any question you want!\n",
    "4. Before turning in your notebook carefully re-read each step to ensure you've followed it correctly.\n",
    "\n",
    "## Academic Honesty\n",
    "You must work on your own to complete this project.  You should not work on this project together with other students. If you have questions please ask the instructurs or post them to the Slack channel where every student can see your question and benefit from any answers. You may consult the notebooks provided to you for the class or the online documentation for any of the tools (e.g. Numpy, Pandas, Seaborn, or Sklearn), but do not use online tutorials, or question/answer forums for solutions.  "
   ]
  },
  {
   "cell_type": "markdown",
   "metadata": {},
   "source": [
    "---\n",
    "## 1. Setup the Notebook\n",
    "**1a.** Load all the necessary packages and libraries required for the entire notebook using the following (5 pts)."
   ]
  },
  {
   "cell_type": "code",
   "execution_count": 45,
   "metadata": {},
   "outputs": [],
   "source": [
    "# Data Management\n",
    "import numpy as np\n",
    "import pandas as pd\n",
    "\n",
    "# Visualization\n",
    "import seaborn as sns\n",
    "import matplotlib.pyplot as plt\n",
    "\n",
    "# Machine learning\n",
    "from sklearn import model_selection\n",
    "from sklearn import preprocessing\n",
    "from sklearn.metrics import accuracy_score\n",
    "from sklearn.metrics import confusion_matrix\n",
    "from sklearn.metrics import classification_report\n",
    "from sklearn.linear_model import LogisticRegression\n",
    "from sklearn.svm import SVC, LinearSVC\n",
    "from sklearn.ensemble import RandomForestClassifier\n",
    "from sklearn.neighbors import KNeighborsClassifier\n",
    "from sklearn.naive_bayes import GaussianNB\n",
    "from sklearn.linear_model import Perceptron\n",
    "from sklearn.linear_model import SGDClassifier\n",
    "from sklearn.tree import DecisionTreeClassifier\n",
    "from sklearn.discriminant_analysis import LinearDiscriminantAnalysis"
   ]
  },
  {
   "cell_type": "markdown",
   "metadata": {},
   "source": [
    "---\n",
    "## 2. Import the data\n",
    "**2a.** First, import the data. Note, it does not have any headers. This is a large dataset so it may  take a minute to load (3 pts)."
   ]
  },
  {
   "cell_type": "code",
   "execution_count": 46,
   "metadata": {},
   "outputs": [],
   "source": [
    "#Machine Learning to Predict Cover Type.\n",
    "df = pd.read_csv('covtype.data.gz')"
   ]
  },
  {
   "cell_type": "markdown",
   "metadata": {},
   "source": [
    "**2b.** Display the first 10 lines of the data (3 pts)."
   ]
  },
  {
   "cell_type": "code",
   "execution_count": 47,
   "metadata": {},
   "outputs": [
    {
     "data": {
      "text/html": [
       "<div>\n",
       "<style scoped>\n",
       "    .dataframe tbody tr th:only-of-type {\n",
       "        vertical-align: middle;\n",
       "    }\n",
       "\n",
       "    .dataframe tbody tr th {\n",
       "        vertical-align: top;\n",
       "    }\n",
       "\n",
       "    .dataframe thead th {\n",
       "        text-align: right;\n",
       "    }\n",
       "</style>\n",
       "<table border=\"1\" class=\"dataframe\">\n",
       "  <thead>\n",
       "    <tr style=\"text-align: right;\">\n",
       "      <th></th>\n",
       "      <th>2596</th>\n",
       "      <th>51</th>\n",
       "      <th>3</th>\n",
       "      <th>258</th>\n",
       "      <th>0</th>\n",
       "      <th>510</th>\n",
       "      <th>221</th>\n",
       "      <th>232</th>\n",
       "      <th>148</th>\n",
       "      <th>6279</th>\n",
       "      <th>...</th>\n",
       "      <th>0.34</th>\n",
       "      <th>0.35</th>\n",
       "      <th>0.36</th>\n",
       "      <th>0.37</th>\n",
       "      <th>0.38</th>\n",
       "      <th>0.39</th>\n",
       "      <th>0.40</th>\n",
       "      <th>0.41</th>\n",
       "      <th>0.42</th>\n",
       "      <th>5</th>\n",
       "    </tr>\n",
       "  </thead>\n",
       "  <tbody>\n",
       "    <tr>\n",
       "      <th>0</th>\n",
       "      <td>2590</td>\n",
       "      <td>56</td>\n",
       "      <td>2</td>\n",
       "      <td>212</td>\n",
       "      <td>-6</td>\n",
       "      <td>390</td>\n",
       "      <td>220</td>\n",
       "      <td>235</td>\n",
       "      <td>151</td>\n",
       "      <td>6225</td>\n",
       "      <td>...</td>\n",
       "      <td>0</td>\n",
       "      <td>0</td>\n",
       "      <td>0</td>\n",
       "      <td>0</td>\n",
       "      <td>0</td>\n",
       "      <td>0</td>\n",
       "      <td>0</td>\n",
       "      <td>0</td>\n",
       "      <td>0</td>\n",
       "      <td>5</td>\n",
       "    </tr>\n",
       "    <tr>\n",
       "      <th>1</th>\n",
       "      <td>2804</td>\n",
       "      <td>139</td>\n",
       "      <td>9</td>\n",
       "      <td>268</td>\n",
       "      <td>65</td>\n",
       "      <td>3180</td>\n",
       "      <td>234</td>\n",
       "      <td>238</td>\n",
       "      <td>135</td>\n",
       "      <td>6121</td>\n",
       "      <td>...</td>\n",
       "      <td>0</td>\n",
       "      <td>0</td>\n",
       "      <td>0</td>\n",
       "      <td>0</td>\n",
       "      <td>0</td>\n",
       "      <td>0</td>\n",
       "      <td>0</td>\n",
       "      <td>0</td>\n",
       "      <td>0</td>\n",
       "      <td>2</td>\n",
       "    </tr>\n",
       "    <tr>\n",
       "      <th>2</th>\n",
       "      <td>2785</td>\n",
       "      <td>155</td>\n",
       "      <td>18</td>\n",
       "      <td>242</td>\n",
       "      <td>118</td>\n",
       "      <td>3090</td>\n",
       "      <td>238</td>\n",
       "      <td>238</td>\n",
       "      <td>122</td>\n",
       "      <td>6211</td>\n",
       "      <td>...</td>\n",
       "      <td>0</td>\n",
       "      <td>0</td>\n",
       "      <td>0</td>\n",
       "      <td>0</td>\n",
       "      <td>0</td>\n",
       "      <td>0</td>\n",
       "      <td>0</td>\n",
       "      <td>0</td>\n",
       "      <td>0</td>\n",
       "      <td>2</td>\n",
       "    </tr>\n",
       "    <tr>\n",
       "      <th>3</th>\n",
       "      <td>2595</td>\n",
       "      <td>45</td>\n",
       "      <td>2</td>\n",
       "      <td>153</td>\n",
       "      <td>-1</td>\n",
       "      <td>391</td>\n",
       "      <td>220</td>\n",
       "      <td>234</td>\n",
       "      <td>150</td>\n",
       "      <td>6172</td>\n",
       "      <td>...</td>\n",
       "      <td>0</td>\n",
       "      <td>0</td>\n",
       "      <td>0</td>\n",
       "      <td>0</td>\n",
       "      <td>0</td>\n",
       "      <td>0</td>\n",
       "      <td>0</td>\n",
       "      <td>0</td>\n",
       "      <td>0</td>\n",
       "      <td>5</td>\n",
       "    </tr>\n",
       "    <tr>\n",
       "      <th>4</th>\n",
       "      <td>2579</td>\n",
       "      <td>132</td>\n",
       "      <td>6</td>\n",
       "      <td>300</td>\n",
       "      <td>-15</td>\n",
       "      <td>67</td>\n",
       "      <td>230</td>\n",
       "      <td>237</td>\n",
       "      <td>140</td>\n",
       "      <td>6031</td>\n",
       "      <td>...</td>\n",
       "      <td>0</td>\n",
       "      <td>0</td>\n",
       "      <td>0</td>\n",
       "      <td>0</td>\n",
       "      <td>0</td>\n",
       "      <td>0</td>\n",
       "      <td>0</td>\n",
       "      <td>0</td>\n",
       "      <td>0</td>\n",
       "      <td>2</td>\n",
       "    </tr>\n",
       "    <tr>\n",
       "      <th>5</th>\n",
       "      <td>2606</td>\n",
       "      <td>45</td>\n",
       "      <td>7</td>\n",
       "      <td>270</td>\n",
       "      <td>5</td>\n",
       "      <td>633</td>\n",
       "      <td>222</td>\n",
       "      <td>225</td>\n",
       "      <td>138</td>\n",
       "      <td>6256</td>\n",
       "      <td>...</td>\n",
       "      <td>0</td>\n",
       "      <td>0</td>\n",
       "      <td>0</td>\n",
       "      <td>0</td>\n",
       "      <td>0</td>\n",
       "      <td>0</td>\n",
       "      <td>0</td>\n",
       "      <td>0</td>\n",
       "      <td>0</td>\n",
       "      <td>5</td>\n",
       "    </tr>\n",
       "    <tr>\n",
       "      <th>6</th>\n",
       "      <td>2605</td>\n",
       "      <td>49</td>\n",
       "      <td>4</td>\n",
       "      <td>234</td>\n",
       "      <td>7</td>\n",
       "      <td>573</td>\n",
       "      <td>222</td>\n",
       "      <td>230</td>\n",
       "      <td>144</td>\n",
       "      <td>6228</td>\n",
       "      <td>...</td>\n",
       "      <td>0</td>\n",
       "      <td>0</td>\n",
       "      <td>0</td>\n",
       "      <td>0</td>\n",
       "      <td>0</td>\n",
       "      <td>0</td>\n",
       "      <td>0</td>\n",
       "      <td>0</td>\n",
       "      <td>0</td>\n",
       "      <td>5</td>\n",
       "    </tr>\n",
       "    <tr>\n",
       "      <th>7</th>\n",
       "      <td>2617</td>\n",
       "      <td>45</td>\n",
       "      <td>9</td>\n",
       "      <td>240</td>\n",
       "      <td>56</td>\n",
       "      <td>666</td>\n",
       "      <td>223</td>\n",
       "      <td>221</td>\n",
       "      <td>133</td>\n",
       "      <td>6244</td>\n",
       "      <td>...</td>\n",
       "      <td>0</td>\n",
       "      <td>0</td>\n",
       "      <td>0</td>\n",
       "      <td>0</td>\n",
       "      <td>0</td>\n",
       "      <td>0</td>\n",
       "      <td>0</td>\n",
       "      <td>0</td>\n",
       "      <td>0</td>\n",
       "      <td>5</td>\n",
       "    </tr>\n",
       "    <tr>\n",
       "      <th>8</th>\n",
       "      <td>2612</td>\n",
       "      <td>59</td>\n",
       "      <td>10</td>\n",
       "      <td>247</td>\n",
       "      <td>11</td>\n",
       "      <td>636</td>\n",
       "      <td>228</td>\n",
       "      <td>219</td>\n",
       "      <td>124</td>\n",
       "      <td>6230</td>\n",
       "      <td>...</td>\n",
       "      <td>0</td>\n",
       "      <td>0</td>\n",
       "      <td>0</td>\n",
       "      <td>0</td>\n",
       "      <td>0</td>\n",
       "      <td>0</td>\n",
       "      <td>0</td>\n",
       "      <td>0</td>\n",
       "      <td>0</td>\n",
       "      <td>5</td>\n",
       "    </tr>\n",
       "    <tr>\n",
       "      <th>9</th>\n",
       "      <td>2612</td>\n",
       "      <td>201</td>\n",
       "      <td>4</td>\n",
       "      <td>180</td>\n",
       "      <td>51</td>\n",
       "      <td>735</td>\n",
       "      <td>218</td>\n",
       "      <td>243</td>\n",
       "      <td>161</td>\n",
       "      <td>6222</td>\n",
       "      <td>...</td>\n",
       "      <td>0</td>\n",
       "      <td>0</td>\n",
       "      <td>0</td>\n",
       "      <td>0</td>\n",
       "      <td>0</td>\n",
       "      <td>0</td>\n",
       "      <td>0</td>\n",
       "      <td>0</td>\n",
       "      <td>0</td>\n",
       "      <td>5</td>\n",
       "    </tr>\n",
       "  </tbody>\n",
       "</table>\n",
       "<p>10 rows × 55 columns</p>\n",
       "</div>"
      ],
      "text/plain": [
       "   2596   51   3  258    0   510  221  232  148  6279 ...  0.34  0.35  0.36  \\\n",
       "0  2590   56   2  212   -6   390  220  235  151  6225 ...     0     0     0   \n",
       "1  2804  139   9  268   65  3180  234  238  135  6121 ...     0     0     0   \n",
       "2  2785  155  18  242  118  3090  238  238  122  6211 ...     0     0     0   \n",
       "3  2595   45   2  153   -1   391  220  234  150  6172 ...     0     0     0   \n",
       "4  2579  132   6  300  -15    67  230  237  140  6031 ...     0     0     0   \n",
       "5  2606   45   7  270    5   633  222  225  138  6256 ...     0     0     0   \n",
       "6  2605   49   4  234    7   573  222  230  144  6228 ...     0     0     0   \n",
       "7  2617   45   9  240   56   666  223  221  133  6244 ...     0     0     0   \n",
       "8  2612   59  10  247   11   636  228  219  124  6230 ...     0     0     0   \n",
       "9  2612  201   4  180   51   735  218  243  161  6222 ...     0     0     0   \n",
       "\n",
       "   0.37  0.38  0.39  0.40  0.41  0.42  5  \n",
       "0     0     0     0     0     0     0  5  \n",
       "1     0     0     0     0     0     0  2  \n",
       "2     0     0     0     0     0     0  2  \n",
       "3     0     0     0     0     0     0  5  \n",
       "4     0     0     0     0     0     0  2  \n",
       "5     0     0     0     0     0     0  5  \n",
       "6     0     0     0     0     0     0  5  \n",
       "7     0     0     0     0     0     0  5  \n",
       "8     0     0     0     0     0     0  5  \n",
       "9     0     0     0     0     0     0  5  \n",
       "\n",
       "[10 rows x 55 columns]"
      ]
     },
     "execution_count": 47,
     "metadata": {},
     "output_type": "execute_result"
    }
   ],
   "source": [
    "df.head(10)"
   ]
  },
  {
   "cell_type": "markdown",
   "metadata": {},
   "source": [
    "**2c.** Add appropriate headers to the data frame, using the following array:\n",
    "\n",
    "```python\n",
    "headers = ['Elevation', 'Aspect', 'Slope', 'Horizontal_Distance_To_Hydrology', \n",
    "           'Vertical_Distance_To_Hydrology', 'Horizontal_Distance_To_Roadways', \n",
    "           'Hillshade_9am', 'Hillshade_Noon', 'Hillshade_3pm', 'Horizontal_Distance_To_Fire_Points',\n",
    "           'Rawah', 'Neota', 'Comanche_Peak', 'Cache_la_Poudre', \n",
    "           'ST1', 'ST2', 'ST3', 'ST4', 'ST5', 'ST6', 'ST7', 'ST8', 'ST9', 'ST10',\n",
    "           'ST11', 'ST12', 'ST13', 'ST14', 'ST15', 'ST16', 'ST17', 'ST18', 'ST19', 'ST20',\n",
    "           'ST21', 'ST22', 'ST23', 'ST24', 'ST25', 'ST26', 'ST27', 'ST28', 'ST29', 'ST30',\n",
    "           'ST31', 'ST32', 'ST33', 'ST34', 'ST35', 'ST36', 'ST37', 'ST38', 'ST39', 'ST40',\n",
    "           'Cover_Type'\n",
    "           \n",
    "]\n",
    "```\n",
    "(3 pts)"
   ]
  },
  {
   "cell_type": "code",
   "execution_count": 48,
   "metadata": {},
   "outputs": [],
   "source": [
    "headers = ['Elevation', 'Aspect', 'Slope', 'Horizontal_Distance_To_Hydrology', \n",
    "           'Vertical_Distance_To_Hydrology', 'Horizontal_Distance_To_Roadways', \n",
    "           'Hillshade_9am', 'Hillshade_Noon', 'Hillshade_3pm', 'Horizontal_Distance_To_Fire_Points',\n",
    "           'Rawah', 'Neota', 'Comanche_Peak', 'Cache_la_Poudre', \n",
    "           'ST1', 'ST2', 'ST3', 'ST4', 'ST5', 'ST6', 'ST7', 'ST8', 'ST9', 'ST10',\n",
    "           'ST11', 'ST12', 'ST13', 'ST14', 'ST15', 'ST16', 'ST17', 'ST18', 'ST19', 'ST20',\n",
    "           'ST21', 'ST22', 'ST23', 'ST24', 'ST25', 'ST26', 'ST27', 'ST28', 'ST29', 'ST30',\n",
    "           'ST31', 'ST32', 'ST33', 'ST34', 'ST35', 'ST36', 'ST37', 'ST38', 'ST39', 'ST40',\n",
    "           'Cover_Type'\n",
    "\n",
    "]"
   ]
  },
  {
   "cell_type": "markdown",
   "metadata": {},
   "source": [
    "**2d.** Display the first 10 lines of data again to confirm the headers are present (3 pts)."
   ]
  },
  {
   "cell_type": "code",
   "execution_count": 49,
   "metadata": {},
   "outputs": [
    {
     "data": {
      "text/html": [
       "<div>\n",
       "<style scoped>\n",
       "    .dataframe tbody tr th:only-of-type {\n",
       "        vertical-align: middle;\n",
       "    }\n",
       "\n",
       "    .dataframe tbody tr th {\n",
       "        vertical-align: top;\n",
       "    }\n",
       "\n",
       "    .dataframe thead th {\n",
       "        text-align: right;\n",
       "    }\n",
       "</style>\n",
       "<table border=\"1\" class=\"dataframe\">\n",
       "  <thead>\n",
       "    <tr style=\"text-align: right;\">\n",
       "      <th></th>\n",
       "      <th>Elevation</th>\n",
       "      <th>Aspect</th>\n",
       "      <th>Slope</th>\n",
       "      <th>Horizontal_Distance_To_Hydrology</th>\n",
       "      <th>Vertical_Distance_To_Hydrology</th>\n",
       "      <th>Horizontal_Distance_To_Roadways</th>\n",
       "      <th>Hillshade_9am</th>\n",
       "      <th>Hillshade_Noon</th>\n",
       "      <th>Hillshade_3pm</th>\n",
       "      <th>Horizontal_Distance_To_Fire_Points</th>\n",
       "      <th>...</th>\n",
       "      <th>ST32</th>\n",
       "      <th>ST33</th>\n",
       "      <th>ST34</th>\n",
       "      <th>ST35</th>\n",
       "      <th>ST36</th>\n",
       "      <th>ST37</th>\n",
       "      <th>ST38</th>\n",
       "      <th>ST39</th>\n",
       "      <th>ST40</th>\n",
       "      <th>Cover_Type</th>\n",
       "    </tr>\n",
       "  </thead>\n",
       "  <tbody>\n",
       "    <tr>\n",
       "      <th>0</th>\n",
       "      <td>2590</td>\n",
       "      <td>56</td>\n",
       "      <td>2</td>\n",
       "      <td>212</td>\n",
       "      <td>-6</td>\n",
       "      <td>390</td>\n",
       "      <td>220</td>\n",
       "      <td>235</td>\n",
       "      <td>151</td>\n",
       "      <td>6225</td>\n",
       "      <td>...</td>\n",
       "      <td>0</td>\n",
       "      <td>0</td>\n",
       "      <td>0</td>\n",
       "      <td>0</td>\n",
       "      <td>0</td>\n",
       "      <td>0</td>\n",
       "      <td>0</td>\n",
       "      <td>0</td>\n",
       "      <td>0</td>\n",
       "      <td>5</td>\n",
       "    </tr>\n",
       "    <tr>\n",
       "      <th>1</th>\n",
       "      <td>2804</td>\n",
       "      <td>139</td>\n",
       "      <td>9</td>\n",
       "      <td>268</td>\n",
       "      <td>65</td>\n",
       "      <td>3180</td>\n",
       "      <td>234</td>\n",
       "      <td>238</td>\n",
       "      <td>135</td>\n",
       "      <td>6121</td>\n",
       "      <td>...</td>\n",
       "      <td>0</td>\n",
       "      <td>0</td>\n",
       "      <td>0</td>\n",
       "      <td>0</td>\n",
       "      <td>0</td>\n",
       "      <td>0</td>\n",
       "      <td>0</td>\n",
       "      <td>0</td>\n",
       "      <td>0</td>\n",
       "      <td>2</td>\n",
       "    </tr>\n",
       "    <tr>\n",
       "      <th>2</th>\n",
       "      <td>2785</td>\n",
       "      <td>155</td>\n",
       "      <td>18</td>\n",
       "      <td>242</td>\n",
       "      <td>118</td>\n",
       "      <td>3090</td>\n",
       "      <td>238</td>\n",
       "      <td>238</td>\n",
       "      <td>122</td>\n",
       "      <td>6211</td>\n",
       "      <td>...</td>\n",
       "      <td>0</td>\n",
       "      <td>0</td>\n",
       "      <td>0</td>\n",
       "      <td>0</td>\n",
       "      <td>0</td>\n",
       "      <td>0</td>\n",
       "      <td>0</td>\n",
       "      <td>0</td>\n",
       "      <td>0</td>\n",
       "      <td>2</td>\n",
       "    </tr>\n",
       "    <tr>\n",
       "      <th>3</th>\n",
       "      <td>2595</td>\n",
       "      <td>45</td>\n",
       "      <td>2</td>\n",
       "      <td>153</td>\n",
       "      <td>-1</td>\n",
       "      <td>391</td>\n",
       "      <td>220</td>\n",
       "      <td>234</td>\n",
       "      <td>150</td>\n",
       "      <td>6172</td>\n",
       "      <td>...</td>\n",
       "      <td>0</td>\n",
       "      <td>0</td>\n",
       "      <td>0</td>\n",
       "      <td>0</td>\n",
       "      <td>0</td>\n",
       "      <td>0</td>\n",
       "      <td>0</td>\n",
       "      <td>0</td>\n",
       "      <td>0</td>\n",
       "      <td>5</td>\n",
       "    </tr>\n",
       "    <tr>\n",
       "      <th>4</th>\n",
       "      <td>2579</td>\n",
       "      <td>132</td>\n",
       "      <td>6</td>\n",
       "      <td>300</td>\n",
       "      <td>-15</td>\n",
       "      <td>67</td>\n",
       "      <td>230</td>\n",
       "      <td>237</td>\n",
       "      <td>140</td>\n",
       "      <td>6031</td>\n",
       "      <td>...</td>\n",
       "      <td>0</td>\n",
       "      <td>0</td>\n",
       "      <td>0</td>\n",
       "      <td>0</td>\n",
       "      <td>0</td>\n",
       "      <td>0</td>\n",
       "      <td>0</td>\n",
       "      <td>0</td>\n",
       "      <td>0</td>\n",
       "      <td>2</td>\n",
       "    </tr>\n",
       "    <tr>\n",
       "      <th>5</th>\n",
       "      <td>2606</td>\n",
       "      <td>45</td>\n",
       "      <td>7</td>\n",
       "      <td>270</td>\n",
       "      <td>5</td>\n",
       "      <td>633</td>\n",
       "      <td>222</td>\n",
       "      <td>225</td>\n",
       "      <td>138</td>\n",
       "      <td>6256</td>\n",
       "      <td>...</td>\n",
       "      <td>0</td>\n",
       "      <td>0</td>\n",
       "      <td>0</td>\n",
       "      <td>0</td>\n",
       "      <td>0</td>\n",
       "      <td>0</td>\n",
       "      <td>0</td>\n",
       "      <td>0</td>\n",
       "      <td>0</td>\n",
       "      <td>5</td>\n",
       "    </tr>\n",
       "    <tr>\n",
       "      <th>6</th>\n",
       "      <td>2605</td>\n",
       "      <td>49</td>\n",
       "      <td>4</td>\n",
       "      <td>234</td>\n",
       "      <td>7</td>\n",
       "      <td>573</td>\n",
       "      <td>222</td>\n",
       "      <td>230</td>\n",
       "      <td>144</td>\n",
       "      <td>6228</td>\n",
       "      <td>...</td>\n",
       "      <td>0</td>\n",
       "      <td>0</td>\n",
       "      <td>0</td>\n",
       "      <td>0</td>\n",
       "      <td>0</td>\n",
       "      <td>0</td>\n",
       "      <td>0</td>\n",
       "      <td>0</td>\n",
       "      <td>0</td>\n",
       "      <td>5</td>\n",
       "    </tr>\n",
       "    <tr>\n",
       "      <th>7</th>\n",
       "      <td>2617</td>\n",
       "      <td>45</td>\n",
       "      <td>9</td>\n",
       "      <td>240</td>\n",
       "      <td>56</td>\n",
       "      <td>666</td>\n",
       "      <td>223</td>\n",
       "      <td>221</td>\n",
       "      <td>133</td>\n",
       "      <td>6244</td>\n",
       "      <td>...</td>\n",
       "      <td>0</td>\n",
       "      <td>0</td>\n",
       "      <td>0</td>\n",
       "      <td>0</td>\n",
       "      <td>0</td>\n",
       "      <td>0</td>\n",
       "      <td>0</td>\n",
       "      <td>0</td>\n",
       "      <td>0</td>\n",
       "      <td>5</td>\n",
       "    </tr>\n",
       "    <tr>\n",
       "      <th>8</th>\n",
       "      <td>2612</td>\n",
       "      <td>59</td>\n",
       "      <td>10</td>\n",
       "      <td>247</td>\n",
       "      <td>11</td>\n",
       "      <td>636</td>\n",
       "      <td>228</td>\n",
       "      <td>219</td>\n",
       "      <td>124</td>\n",
       "      <td>6230</td>\n",
       "      <td>...</td>\n",
       "      <td>0</td>\n",
       "      <td>0</td>\n",
       "      <td>0</td>\n",
       "      <td>0</td>\n",
       "      <td>0</td>\n",
       "      <td>0</td>\n",
       "      <td>0</td>\n",
       "      <td>0</td>\n",
       "      <td>0</td>\n",
       "      <td>5</td>\n",
       "    </tr>\n",
       "    <tr>\n",
       "      <th>9</th>\n",
       "      <td>2612</td>\n",
       "      <td>201</td>\n",
       "      <td>4</td>\n",
       "      <td>180</td>\n",
       "      <td>51</td>\n",
       "      <td>735</td>\n",
       "      <td>218</td>\n",
       "      <td>243</td>\n",
       "      <td>161</td>\n",
       "      <td>6222</td>\n",
       "      <td>...</td>\n",
       "      <td>0</td>\n",
       "      <td>0</td>\n",
       "      <td>0</td>\n",
       "      <td>0</td>\n",
       "      <td>0</td>\n",
       "      <td>0</td>\n",
       "      <td>0</td>\n",
       "      <td>0</td>\n",
       "      <td>0</td>\n",
       "      <td>5</td>\n",
       "    </tr>\n",
       "  </tbody>\n",
       "</table>\n",
       "<p>10 rows × 55 columns</p>\n",
       "</div>"
      ],
      "text/plain": [
       "   Elevation  Aspect  Slope  Horizontal_Distance_To_Hydrology  \\\n",
       "0       2590      56      2                               212   \n",
       "1       2804     139      9                               268   \n",
       "2       2785     155     18                               242   \n",
       "3       2595      45      2                               153   \n",
       "4       2579     132      6                               300   \n",
       "5       2606      45      7                               270   \n",
       "6       2605      49      4                               234   \n",
       "7       2617      45      9                               240   \n",
       "8       2612      59     10                               247   \n",
       "9       2612     201      4                               180   \n",
       "\n",
       "   Vertical_Distance_To_Hydrology  Horizontal_Distance_To_Roadways  \\\n",
       "0                              -6                              390   \n",
       "1                              65                             3180   \n",
       "2                             118                             3090   \n",
       "3                              -1                              391   \n",
       "4                             -15                               67   \n",
       "5                               5                              633   \n",
       "6                               7                              573   \n",
       "7                              56                              666   \n",
       "8                              11                              636   \n",
       "9                              51                              735   \n",
       "\n",
       "   Hillshade_9am  Hillshade_Noon  Hillshade_3pm  \\\n",
       "0            220             235            151   \n",
       "1            234             238            135   \n",
       "2            238             238            122   \n",
       "3            220             234            150   \n",
       "4            230             237            140   \n",
       "5            222             225            138   \n",
       "6            222             230            144   \n",
       "7            223             221            133   \n",
       "8            228             219            124   \n",
       "9            218             243            161   \n",
       "\n",
       "   Horizontal_Distance_To_Fire_Points     ...      ST32  ST33  ST34  ST35  \\\n",
       "0                                6225     ...         0     0     0     0   \n",
       "1                                6121     ...         0     0     0     0   \n",
       "2                                6211     ...         0     0     0     0   \n",
       "3                                6172     ...         0     0     0     0   \n",
       "4                                6031     ...         0     0     0     0   \n",
       "5                                6256     ...         0     0     0     0   \n",
       "6                                6228     ...         0     0     0     0   \n",
       "7                                6244     ...         0     0     0     0   \n",
       "8                                6230     ...         0     0     0     0   \n",
       "9                                6222     ...         0     0     0     0   \n",
       "\n",
       "   ST36  ST37  ST38  ST39  ST40  Cover_Type  \n",
       "0     0     0     0     0     0           5  \n",
       "1     0     0     0     0     0           2  \n",
       "2     0     0     0     0     0           2  \n",
       "3     0     0     0     0     0           5  \n",
       "4     0     0     0     0     0           2  \n",
       "5     0     0     0     0     0           5  \n",
       "6     0     0     0     0     0           5  \n",
       "7     0     0     0     0     0           5  \n",
       "8     0     0     0     0     0           5  \n",
       "9     0     0     0     0     0           5  \n",
       "\n",
       "[10 rows x 55 columns]"
      ]
     },
     "execution_count": 49,
     "metadata": {},
     "output_type": "execute_result"
    }
   ],
   "source": [
    "df.columns = headers\n",
    "df.head(10)"
   ]
  },
  {
   "cell_type": "markdown",
   "metadata": {},
   "source": [
    "---\n",
    "## 3. Explore the Data\n",
    "**3a.** Show the dimensions of the data (3 pts)."
   ]
  },
  {
   "cell_type": "code",
   "execution_count": 50,
   "metadata": {},
   "outputs": [
    {
     "data": {
      "text/plain": [
       "(581011, 55)"
      ]
     },
     "execution_count": 50,
     "metadata": {},
     "output_type": "execute_result"
    }
   ],
   "source": [
    "df.shape"
   ]
  },
  {
   "cell_type": "markdown",
   "metadata": {},
   "source": [
    "**3b.** Show the datatypes of all of the columns in the data (3 pts)."
   ]
  },
  {
   "cell_type": "code",
   "execution_count": 51,
   "metadata": {},
   "outputs": [
    {
     "data": {
      "text/plain": [
       "Elevation                             int64\n",
       "Aspect                                int64\n",
       "Slope                                 int64\n",
       "Horizontal_Distance_To_Hydrology      int64\n",
       "Vertical_Distance_To_Hydrology        int64\n",
       "Horizontal_Distance_To_Roadways       int64\n",
       "Hillshade_9am                         int64\n",
       "Hillshade_Noon                        int64\n",
       "Hillshade_3pm                         int64\n",
       "Horizontal_Distance_To_Fire_Points    int64\n",
       "Rawah                                 int64\n",
       "Neota                                 int64\n",
       "Comanche_Peak                         int64\n",
       "Cache_la_Poudre                       int64\n",
       "ST1                                   int64\n",
       "ST2                                   int64\n",
       "ST3                                   int64\n",
       "ST4                                   int64\n",
       "ST5                                   int64\n",
       "ST6                                   int64\n",
       "ST7                                   int64\n",
       "ST8                                   int64\n",
       "ST9                                   int64\n",
       "ST10                                  int64\n",
       "ST11                                  int64\n",
       "ST12                                  int64\n",
       "ST13                                  int64\n",
       "ST14                                  int64\n",
       "ST15                                  int64\n",
       "ST16                                  int64\n",
       "ST17                                  int64\n",
       "ST18                                  int64\n",
       "ST19                                  int64\n",
       "ST20                                  int64\n",
       "ST21                                  int64\n",
       "ST22                                  int64\n",
       "ST23                                  int64\n",
       "ST24                                  int64\n",
       "ST25                                  int64\n",
       "ST26                                  int64\n",
       "ST27                                  int64\n",
       "ST28                                  int64\n",
       "ST29                                  int64\n",
       "ST30                                  int64\n",
       "ST31                                  int64\n",
       "ST32                                  int64\n",
       "ST33                                  int64\n",
       "ST34                                  int64\n",
       "ST35                                  int64\n",
       "ST36                                  int64\n",
       "ST37                                  int64\n",
       "ST38                                  int64\n",
       "ST39                                  int64\n",
       "ST40                                  int64\n",
       "Cover_Type                            int64\n",
       "dtype: object"
      ]
     },
     "execution_count": 51,
     "metadata": {},
     "output_type": "execute_result"
    }
   ],
   "source": [
    "df.dtypes"
   ]
  },
  {
   "cell_type": "markdown",
   "metadata": {},
   "source": [
    "**3c.** Show if the dataset has any missing values (3 pts)."
   ]
  },
  {
   "cell_type": "code",
   "execution_count": 52,
   "metadata": {},
   "outputs": [
    {
     "data": {
      "text/html": [
       "<div>\n",
       "<style scoped>\n",
       "    .dataframe tbody tr th:only-of-type {\n",
       "        vertical-align: middle;\n",
       "    }\n",
       "\n",
       "    .dataframe tbody tr th {\n",
       "        vertical-align: top;\n",
       "    }\n",
       "\n",
       "    .dataframe thead th {\n",
       "        text-align: right;\n",
       "    }\n",
       "</style>\n",
       "<table border=\"1\" class=\"dataframe\">\n",
       "  <thead>\n",
       "    <tr style=\"text-align: right;\">\n",
       "      <th></th>\n",
       "      <th>Elevation</th>\n",
       "      <th>Aspect</th>\n",
       "      <th>Slope</th>\n",
       "      <th>Horizontal_Distance_To_Hydrology</th>\n",
       "      <th>Vertical_Distance_To_Hydrology</th>\n",
       "      <th>Horizontal_Distance_To_Roadways</th>\n",
       "      <th>Hillshade_9am</th>\n",
       "      <th>Hillshade_Noon</th>\n",
       "      <th>Hillshade_3pm</th>\n",
       "      <th>Horizontal_Distance_To_Fire_Points</th>\n",
       "      <th>...</th>\n",
       "      <th>ST32</th>\n",
       "      <th>ST33</th>\n",
       "      <th>ST34</th>\n",
       "      <th>ST35</th>\n",
       "      <th>ST36</th>\n",
       "      <th>ST37</th>\n",
       "      <th>ST38</th>\n",
       "      <th>ST39</th>\n",
       "      <th>ST40</th>\n",
       "      <th>Cover_Type</th>\n",
       "    </tr>\n",
       "  </thead>\n",
       "  <tbody>\n",
       "    <tr>\n",
       "      <th>0</th>\n",
       "      <td>False</td>\n",
       "      <td>False</td>\n",
       "      <td>False</td>\n",
       "      <td>False</td>\n",
       "      <td>False</td>\n",
       "      <td>False</td>\n",
       "      <td>False</td>\n",
       "      <td>False</td>\n",
       "      <td>False</td>\n",
       "      <td>False</td>\n",
       "      <td>...</td>\n",
       "      <td>False</td>\n",
       "      <td>False</td>\n",
       "      <td>False</td>\n",
       "      <td>False</td>\n",
       "      <td>False</td>\n",
       "      <td>False</td>\n",
       "      <td>False</td>\n",
       "      <td>False</td>\n",
       "      <td>False</td>\n",
       "      <td>False</td>\n",
       "    </tr>\n",
       "    <tr>\n",
       "      <th>1</th>\n",
       "      <td>False</td>\n",
       "      <td>False</td>\n",
       "      <td>False</td>\n",
       "      <td>False</td>\n",
       "      <td>False</td>\n",
       "      <td>False</td>\n",
       "      <td>False</td>\n",
       "      <td>False</td>\n",
       "      <td>False</td>\n",
       "      <td>False</td>\n",
       "      <td>...</td>\n",
       "      <td>False</td>\n",
       "      <td>False</td>\n",
       "      <td>False</td>\n",
       "      <td>False</td>\n",
       "      <td>False</td>\n",
       "      <td>False</td>\n",
       "      <td>False</td>\n",
       "      <td>False</td>\n",
       "      <td>False</td>\n",
       "      <td>False</td>\n",
       "    </tr>\n",
       "    <tr>\n",
       "      <th>2</th>\n",
       "      <td>False</td>\n",
       "      <td>False</td>\n",
       "      <td>False</td>\n",
       "      <td>False</td>\n",
       "      <td>False</td>\n",
       "      <td>False</td>\n",
       "      <td>False</td>\n",
       "      <td>False</td>\n",
       "      <td>False</td>\n",
       "      <td>False</td>\n",
       "      <td>...</td>\n",
       "      <td>False</td>\n",
       "      <td>False</td>\n",
       "      <td>False</td>\n",
       "      <td>False</td>\n",
       "      <td>False</td>\n",
       "      <td>False</td>\n",
       "      <td>False</td>\n",
       "      <td>False</td>\n",
       "      <td>False</td>\n",
       "      <td>False</td>\n",
       "    </tr>\n",
       "    <tr>\n",
       "      <th>3</th>\n",
       "      <td>False</td>\n",
       "      <td>False</td>\n",
       "      <td>False</td>\n",
       "      <td>False</td>\n",
       "      <td>False</td>\n",
       "      <td>False</td>\n",
       "      <td>False</td>\n",
       "      <td>False</td>\n",
       "      <td>False</td>\n",
       "      <td>False</td>\n",
       "      <td>...</td>\n",
       "      <td>False</td>\n",
       "      <td>False</td>\n",
       "      <td>False</td>\n",
       "      <td>False</td>\n",
       "      <td>False</td>\n",
       "      <td>False</td>\n",
       "      <td>False</td>\n",
       "      <td>False</td>\n",
       "      <td>False</td>\n",
       "      <td>False</td>\n",
       "    </tr>\n",
       "    <tr>\n",
       "      <th>4</th>\n",
       "      <td>False</td>\n",
       "      <td>False</td>\n",
       "      <td>False</td>\n",
       "      <td>False</td>\n",
       "      <td>False</td>\n",
       "      <td>False</td>\n",
       "      <td>False</td>\n",
       "      <td>False</td>\n",
       "      <td>False</td>\n",
       "      <td>False</td>\n",
       "      <td>...</td>\n",
       "      <td>False</td>\n",
       "      <td>False</td>\n",
       "      <td>False</td>\n",
       "      <td>False</td>\n",
       "      <td>False</td>\n",
       "      <td>False</td>\n",
       "      <td>False</td>\n",
       "      <td>False</td>\n",
       "      <td>False</td>\n",
       "      <td>False</td>\n",
       "    </tr>\n",
       "  </tbody>\n",
       "</table>\n",
       "<p>5 rows × 55 columns</p>\n",
       "</div>"
      ],
      "text/plain": [
       "   Elevation  Aspect  Slope  Horizontal_Distance_To_Hydrology  \\\n",
       "0      False   False  False                             False   \n",
       "1      False   False  False                             False   \n",
       "2      False   False  False                             False   \n",
       "3      False   False  False                             False   \n",
       "4      False   False  False                             False   \n",
       "\n",
       "   Vertical_Distance_To_Hydrology  Horizontal_Distance_To_Roadways  \\\n",
       "0                           False                            False   \n",
       "1                           False                            False   \n",
       "2                           False                            False   \n",
       "3                           False                            False   \n",
       "4                           False                            False   \n",
       "\n",
       "   Hillshade_9am  Hillshade_Noon  Hillshade_3pm  \\\n",
       "0          False           False          False   \n",
       "1          False           False          False   \n",
       "2          False           False          False   \n",
       "3          False           False          False   \n",
       "4          False           False          False   \n",
       "\n",
       "   Horizontal_Distance_To_Fire_Points     ...       ST32   ST33   ST34   ST35  \\\n",
       "0                               False     ...      False  False  False  False   \n",
       "1                               False     ...      False  False  False  False   \n",
       "2                               False     ...      False  False  False  False   \n",
       "3                               False     ...      False  False  False  False   \n",
       "4                               False     ...      False  False  False  False   \n",
       "\n",
       "    ST36   ST37   ST38   ST39   ST40  Cover_Type  \n",
       "0  False  False  False  False  False       False  \n",
       "1  False  False  False  False  False       False  \n",
       "2  False  False  False  False  False       False  \n",
       "3  False  False  False  False  False       False  \n",
       "4  False  False  False  False  False       False  \n",
       "\n",
       "[5 rows x 55 columns]"
      ]
     },
     "execution_count": 52,
     "metadata": {},
     "output_type": "execute_result"
    }
   ],
   "source": [
    "df.isna().head()"
   ]
  },
  {
   "cell_type": "markdown",
   "metadata": {},
   "source": [
    "**3d.** Show how many rows of data are duplicated (3 pts)."
   ]
  },
  {
   "cell_type": "code",
   "execution_count": 53,
   "metadata": {},
   "outputs": [
    {
     "data": {
      "text/plain": [
       "0"
      ]
     },
     "execution_count": 53,
     "metadata": {},
     "output_type": "execute_result"
    }
   ],
   "source": [
    "df.duplicated().sum()"
   ]
  },
  {
   "cell_type": "markdown",
   "metadata": {},
   "source": [
    "**3e.** Show how many unique values there are per column (3 pts)."
   ]
  },
  {
   "cell_type": "code",
   "execution_count": 54,
   "metadata": {},
   "outputs": [
    {
     "data": {
      "text/plain": [
       "Elevation                             1978\n",
       "Aspect                                 361\n",
       "Slope                                   67\n",
       "Horizontal_Distance_To_Hydrology       551\n",
       "Vertical_Distance_To_Hydrology         700\n",
       "Horizontal_Distance_To_Roadways       5785\n",
       "Hillshade_9am                          207\n",
       "Hillshade_Noon                         185\n",
       "Hillshade_3pm                          255\n",
       "Horizontal_Distance_To_Fire_Points    5827\n",
       "Rawah                                    2\n",
       "Neota                                    2\n",
       "Comanche_Peak                            2\n",
       "Cache_la_Poudre                          2\n",
       "ST1                                      2\n",
       "ST2                                      2\n",
       "ST3                                      2\n",
       "ST4                                      2\n",
       "ST5                                      2\n",
       "ST6                                      2\n",
       "ST7                                      2\n",
       "ST8                                      2\n",
       "ST9                                      2\n",
       "ST10                                     2\n",
       "ST11                                     2\n",
       "ST12                                     2\n",
       "ST13                                     2\n",
       "ST14                                     2\n",
       "ST15                                     2\n",
       "ST16                                     2\n",
       "ST17                                     2\n",
       "ST18                                     2\n",
       "ST19                                     2\n",
       "ST20                                     2\n",
       "ST21                                     2\n",
       "ST22                                     2\n",
       "ST23                                     2\n",
       "ST24                                     2\n",
       "ST25                                     2\n",
       "ST26                                     2\n",
       "ST27                                     2\n",
       "ST28                                     2\n",
       "ST29                                     2\n",
       "ST30                                     2\n",
       "ST31                                     2\n",
       "ST32                                     2\n",
       "ST33                                     2\n",
       "ST34                                     2\n",
       "ST35                                     2\n",
       "ST36                                     2\n",
       "ST37                                     2\n",
       "ST38                                     2\n",
       "ST39                                     2\n",
       "ST40                                     2\n",
       "Cover_Type                               7\n",
       "dtype: int64"
      ]
     },
     "execution_count": 54,
     "metadata": {},
     "output_type": "execute_result"
    }
   ],
   "source": [
    "df.nunique()"
   ]
  },
  {
   "cell_type": "markdown",
   "metadata": {},
   "source": [
    "---\n",
    "## 4. Clean the Data\n",
    "### 4.1. Missing Values\n",
    "**4a.** If the dataset had missing values, determine if you need to clean the data. If so, show the code below. If you do not perform any cleaning indicate why (change the cell to \"raw\" type to write your explanation)  (3 pts)."
   ]
  },
  {
   "cell_type": "code",
   "execution_count": 55,
   "metadata": {},
   "outputs": [
    {
     "data": {
      "text/plain": [
       "Elevation                             0\n",
       "Aspect                                0\n",
       "Slope                                 0\n",
       "Horizontal_Distance_To_Hydrology      0\n",
       "Vertical_Distance_To_Hydrology        0\n",
       "Horizontal_Distance_To_Roadways       0\n",
       "Hillshade_9am                         0\n",
       "Hillshade_Noon                        0\n",
       "Hillshade_3pm                         0\n",
       "Horizontal_Distance_To_Fire_Points    0\n",
       "Rawah                                 0\n",
       "Neota                                 0\n",
       "Comanche_Peak                         0\n",
       "Cache_la_Poudre                       0\n",
       "ST1                                   0\n",
       "ST2                                   0\n",
       "ST3                                   0\n",
       "ST4                                   0\n",
       "ST5                                   0\n",
       "ST6                                   0\n",
       "ST7                                   0\n",
       "ST8                                   0\n",
       "ST9                                   0\n",
       "ST10                                  0\n",
       "ST11                                  0\n",
       "ST12                                  0\n",
       "ST13                                  0\n",
       "ST14                                  0\n",
       "ST15                                  0\n",
       "ST16                                  0\n",
       "ST17                                  0\n",
       "ST18                                  0\n",
       "ST19                                  0\n",
       "ST20                                  0\n",
       "ST21                                  0\n",
       "ST22                                  0\n",
       "ST23                                  0\n",
       "ST24                                  0\n",
       "ST25                                  0\n",
       "ST26                                  0\n",
       "ST27                                  0\n",
       "ST28                                  0\n",
       "ST29                                  0\n",
       "ST30                                  0\n",
       "ST31                                  0\n",
       "ST32                                  0\n",
       "ST33                                  0\n",
       "ST34                                  0\n",
       "ST35                                  0\n",
       "ST36                                  0\n",
       "ST37                                  0\n",
       "ST38                                  0\n",
       "ST39                                  0\n",
       "ST40                                  0\n",
       "Cover_Type                            0\n",
       "dtype: int64"
      ]
     },
     "execution_count": 55,
     "metadata": {},
     "output_type": "execute_result"
    }
   ],
   "source": [
    "df.isna().sum()"
   ]
  },
  {
   "cell_type": "markdown",
   "metadata": {},
   "source": [
    "### 4.2 Duplicated Data\n",
    "**4b.** If the dataset had duplicated values, determine if you need to clean the data. If so, show the code below. If not, describe the status of duplicated data in this dataset (change the cell to \"raw\" type to write your explanation)  (3 pts)."
   ]
  },
  {
   "cell_type": "code",
   "execution_count": 56,
   "metadata": {},
   "outputs": [
    {
     "data": {
      "text/plain": [
       "Elevation                             1978\n",
       "Aspect                                 361\n",
       "Slope                                   67\n",
       "Horizontal_Distance_To_Hydrology       551\n",
       "Vertical_Distance_To_Hydrology         700\n",
       "Horizontal_Distance_To_Roadways       5785\n",
       "Hillshade_9am                          207\n",
       "Hillshade_Noon                         185\n",
       "Hillshade_3pm                          255\n",
       "Horizontal_Distance_To_Fire_Points    5827\n",
       "Rawah                                    2\n",
       "Neota                                    2\n",
       "Comanche_Peak                            2\n",
       "Cache_la_Poudre                          2\n",
       "ST1                                      2\n",
       "ST2                                      2\n",
       "ST3                                      2\n",
       "ST4                                      2\n",
       "ST5                                      2\n",
       "ST6                                      2\n",
       "ST7                                      2\n",
       "ST8                                      2\n",
       "ST9                                      2\n",
       "ST10                                     2\n",
       "ST11                                     2\n",
       "ST12                                     2\n",
       "ST13                                     2\n",
       "ST14                                     2\n",
       "ST15                                     2\n",
       "ST16                                     2\n",
       "ST17                                     2\n",
       "ST18                                     2\n",
       "ST19                                     2\n",
       "ST20                                     2\n",
       "ST21                                     2\n",
       "ST22                                     2\n",
       "ST23                                     2\n",
       "ST24                                     2\n",
       "ST25                                     2\n",
       "ST26                                     2\n",
       "ST27                                     2\n",
       "ST28                                     2\n",
       "ST29                                     2\n",
       "ST30                                     2\n",
       "ST31                                     2\n",
       "ST32                                     2\n",
       "ST33                                     2\n",
       "ST34                                     2\n",
       "ST35                                     2\n",
       "ST36                                     2\n",
       "ST37                                     2\n",
       "ST38                                     2\n",
       "ST39                                     2\n",
       "ST40                                     2\n",
       "Cover_Type                               7\n",
       "dtype: int64"
      ]
     },
     "execution_count": 56,
     "metadata": {},
     "output_type": "execute_result"
    }
   ],
   "source": [
    "df.nunique()"
   ]
  },
  {
   "cell_type": "markdown",
   "metadata": {},
   "source": [
    "**5b.** Explain if the unique number of values or each of the categorical columns (non numeric and non binary) match what is expected based on the description of the data  (3 pts)."
   ]
  },
  {
   "cell_type": "raw",
   "metadata": {},
   "source": []
  },
  {
   "cell_type": "markdown",
   "metadata": {},
   "source": [
    "### 4.3 Fix Categorical Data\n",
    "Some of the columns are categorical (i.e. qualitative).  Remember, just becauase a column contains numbers does not mean it is quantitative. In the online description of the data, the authors stated that the soil types and wilderness areas are qualitative (categorical). You must decide if this is true given the dataset."
   ]
  },
  {
   "cell_type": "markdown",
   "metadata": {},
   "source": [
    "**4c.** Write the names of the columns that are categorical (3 pts)."
   ]
  },
  {
   "cell_type": "raw",
   "metadata": {},
   "source": [
    "Wilderness_Area, Soil_Type "
   ]
  },
  {
   "cell_type": "markdown",
   "metadata": {},
   "source": [
    "**4e.** Change all categorical columns that were imported as a numeric type to a string type  (3 pts)."
   ]
  },
  {
   "cell_type": "code",
   "execution_count": 57,
   "metadata": {},
   "outputs": [],
   "source": [
    "df['Cache_la_Poudre'] = df['Cache_la_Poudre'].astype(str)\n",
    "df['Rawah'] = df['Rawah'].astype(str)\n",
    "df['Comanche_Peak'] = df['Comanche_Peak'].astype(str)\n",
    "df['Neota'] = df['Neota'].astype(str)"
   ]
  },
  {
   "cell_type": "markdown",
   "metadata": {},
   "source": [
    "**4d.** Confirm that all categorical columns are no longer numeric (3 pts)."
   ]
  },
  {
   "cell_type": "code",
   "execution_count": 58,
   "metadata": {},
   "outputs": [
    {
     "data": {
      "text/plain": [
       "Elevation                              int64\n",
       "Aspect                                 int64\n",
       "Slope                                  int64\n",
       "Horizontal_Distance_To_Hydrology       int64\n",
       "Vertical_Distance_To_Hydrology         int64\n",
       "Horizontal_Distance_To_Roadways        int64\n",
       "Hillshade_9am                          int64\n",
       "Hillshade_Noon                         int64\n",
       "Hillshade_3pm                          int64\n",
       "Horizontal_Distance_To_Fire_Points     int64\n",
       "Rawah                                 object\n",
       "Neota                                 object\n",
       "Comanche_Peak                         object\n",
       "Cache_la_Poudre                       object\n",
       "ST1                                    int64\n",
       "ST2                                    int64\n",
       "ST3                                    int64\n",
       "ST4                                    int64\n",
       "ST5                                    int64\n",
       "ST6                                    int64\n",
       "ST7                                    int64\n",
       "ST8                                    int64\n",
       "ST9                                    int64\n",
       "ST10                                   int64\n",
       "ST11                                   int64\n",
       "ST12                                   int64\n",
       "ST13                                   int64\n",
       "ST14                                   int64\n",
       "ST15                                   int64\n",
       "ST16                                   int64\n",
       "ST17                                   int64\n",
       "ST18                                   int64\n",
       "ST19                                   int64\n",
       "ST20                                   int64\n",
       "ST21                                   int64\n",
       "ST22                                   int64\n",
       "ST23                                   int64\n",
       "ST24                                   int64\n",
       "ST25                                   int64\n",
       "ST26                                   int64\n",
       "ST27                                   int64\n",
       "ST28                                   int64\n",
       "ST29                                   int64\n",
       "ST30                                   int64\n",
       "ST31                                   int64\n",
       "ST32                                   int64\n",
       "ST33                                   int64\n",
       "ST34                                   int64\n",
       "ST35                                   int64\n",
       "ST36                                   int64\n",
       "ST37                                   int64\n",
       "ST38                                   int64\n",
       "ST39                                   int64\n",
       "ST40                                   int64\n",
       "Cover_Type                             int64\n",
       "dtype: object"
      ]
     },
     "execution_count": 58,
     "metadata": {},
     "output_type": "execute_result"
    }
   ],
   "source": [
    "df.dtypes"
   ]
  },
  {
   "cell_type": "markdown",
   "metadata": {},
   "source": [
    "**4e.** The `Cover_Type` column is a string but appears numeric, and each number represents a unique class of trees. Convert the numeric values to their corresponding string representations. Print the top 10 entries to confirm your replacement worked (5 pts)."
   ]
  },
  {
   "cell_type": "code",
   "execution_count": 59,
   "metadata": {},
   "outputs": [
    {
     "data": {
      "text/plain": [
       "0             Aspen\n",
       "1    Lodgepole Pine\n",
       "2    Lodgepole Pine\n",
       "3             Aspen\n",
       "4    Lodgepole Pine\n",
       "5             Aspen\n",
       "6             Aspen\n",
       "7             Aspen\n",
       "8             Aspen\n",
       "9             Aspen\n",
       "Name: Cover_Type, dtype: object"
      ]
     },
     "execution_count": 59,
     "metadata": {},
     "output_type": "execute_result"
    }
   ],
   "source": [
    "Cover_Type = df['Cover_Type'].astype(str)\n",
    "\n",
    "Cover_Type = Cover_Type.replace('1', 'Spruce/Fir')\n",
    "Cover_Type = Cover_Type.replace('2', 'Lodgepole Pine')\n",
    "Cover_Type = Cover_Type.replace('3', 'Ponderosa Pine')\n",
    "Cover_Type = Cover_Type.replace('4', 'Cottonwood/Willow')\n",
    "Cover_Type = Cover_Type.replace('5', 'Aspen')\n",
    "Cover_Type = Cover_Type.replace('6', 'Douglas-fir')\n",
    "Cover_Type = Cover_Type.replace('7', 'Krummholz')\n",
    "\n",
    "df['Cover_Type'] = Cover_Type\n",
    "Cover_Type.head(10)"
   ]
  },
  {
   "cell_type": "markdown",
   "metadata": {},
   "source": [
    "### 4.4 Subset the Data\n",
    "The dataset is a bit large for this notebook. It will consume too much RAM on your computer.  If we were executing this on a computer with more RAM we might just write a Python script to do the work rather than use a Jupyter notebook.  To reduce the dataset we should subset our data to save resources. "
   ]
  },
  {
   "cell_type": "markdown",
   "metadata": {},
   "source": [
    "**4f.** Before we subset the data, let's explore the number of samples per cover type.  For the `Cover_type` column, show the counts of each type of cover, and sort the results from largest to smallest (5 pts)."
   ]
  },
  {
   "cell_type": "code",
   "execution_count": 60,
   "metadata": {},
   "outputs": [
    {
     "data": {
      "text/plain": [
       "Cover_Type\n",
       "Aspen                  9492\n",
       "Cottonwood/Willow      2747\n",
       "Douglas-fir           17367\n",
       "Krummholz             20510\n",
       "Lodgepole Pine       283301\n",
       "Ponderosa Pine        35754\n",
       "Spruce/Fir           211840\n",
       "dtype: int64"
      ]
     },
     "execution_count": 60,
     "metadata": {},
     "output_type": "execute_result"
    }
   ],
   "source": [
    "df.groupby(by=['Cover_Type']).size()"
   ]
  },
  {
   "cell_type": "markdown",
   "metadata": {},
   "source": [
    "**4g.**  The results of the previous cell show that the number of measurements per cover type is imbalanced with the smallest having 2,747 observations and the largest 283,301.  Let's subset the data to only include 2,000 randomly selected samples from each cover type.   We have not covered in class how to do this, so below is a code sample you can use. \n",
    "```python\n",
    "df = df.groupby(by=\"Cover_Type\").apply(lambda x : x.sample(2000)).reset_index(drop=True)\n",
    "```\n",
    "Notice in the line of code above, we first perform a `groupby` operation to organize rows by their cover type. Next, we  call `apply` on each group. With the `apply` function you must provide the name of the function that will be called for each group. In this case, the word `lambda` tells python that we are declaring an \"anonymous\" in-line function (no `def` line) that takes an argument `x`.  As the apply is executed on each group, the variable `x` contains the data for each group, and is actually a Pandas DataFrame. Hence, we can call `sample` to select 2000 random rows.  The `apply` function returns a new DataFrame containing all selected rows from all groups.  On this data frame we call `reset_index` to renumber the index for all of our rows.\n",
    "\n",
    "(3 pts)"
   ]
  },
  {
   "cell_type": "code",
   "execution_count": 61,
   "metadata": {},
   "outputs": [],
   "source": [
    "df = df.groupby(by=\"Cover_Type\").apply(lambda x : x.sample(2000)).reset_index(drop=True)"
   ]
  },
  {
   "cell_type": "markdown",
   "metadata": {},
   "source": [
    "**4h.** Re-run the same command from task 4f. The results should show an even 2,000 samples of each cover type (3 pts)."
   ]
  },
  {
   "cell_type": "code",
   "execution_count": 62,
   "metadata": {},
   "outputs": [
    {
     "data": {
      "text/plain": [
       "Cover_Type\n",
       "Aspen                2000\n",
       "Cottonwood/Willow    2000\n",
       "Douglas-fir          2000\n",
       "Krummholz            2000\n",
       "Lodgepole Pine       2000\n",
       "Ponderosa Pine       2000\n",
       "Spruce/Fir           2000\n",
       "dtype: int64"
      ]
     },
     "execution_count": 62,
     "metadata": {},
     "output_type": "execute_result"
    }
   ],
   "source": [
    "df.groupby(by=['Cover_Type']).size()"
   ]
  },
  {
   "cell_type": "markdown",
   "metadata": {},
   "source": [
    "### 4.4 Tidy or not to Tidy?"
   ]
  },
  {
   "cell_type": "markdown",
   "metadata": {},
   "source": [
    "You'll notice that this dataset is not tidy!  We have a variable in the headers:  the different soil types.  To tidy this data we would normally melt the soil types into a single column, perhaps named `Soil_Type`. We could then remove all rows where the soil type was not present (i.e. has a value of 0) and drop the melted values column with the absent/present binary value.  \n",
    "\n",
    "However, as we've learned in class, the Sklearn package which we will use for machine learning cannot handle strings for categorical data.  It wants categorical data reset as numeric values: one for each category. But this only works for ordinal data.  Our soil type data is not ordinal.  If we melted our dataframe, then for machine learning we would need to perform [\"One Hot Encoding\"](https://scikit-learn.org/stable/modules/preprocessing.html#encoding-categorical-features) to put the `Soil_Type` column dataframe into a format that Sklearn approves of. The end result is a pivot of the dataframe back to what it currently is!  So, even though we should Tidy this dataset, let's leave it as is for Sklearn."
   ]
  },
  {
   "cell_type": "markdown",
   "metadata": {},
   "source": [
    "---\n",
    "## 5. Understand the data\n",
    "### 5.1  Review Categorical Data"
   ]
  },
  {
   "cell_type": "markdown",
   "metadata": {},
   "source": [
    "**5a.** Generate a dataframe that contains the number of times we see a soil type present for each cover type.  Show the top 10 rows of the dataframe.\n",
    "\n",
    "Hint:\n",
    "- Start with a reduced dataframe that only contains the 40 soil types + `Cover_Type`\n",
    "- Melt the data.\n",
    "- Exclude soil types that are absent.\n",
    "- Use a `groupby`.\n",
    "\n",
    "(5 pts)"
   ]
  },
  {
   "cell_type": "code",
   "execution_count": 71,
   "metadata": {},
   "outputs": [
    {
     "data": {
      "text/html": [
       "<div>\n",
       "<style scoped>\n",
       "    .dataframe tbody tr th:only-of-type {\n",
       "        vertical-align: middle;\n",
       "    }\n",
       "\n",
       "    .dataframe tbody tr th {\n",
       "        vertical-align: top;\n",
       "    }\n",
       "\n",
       "    .dataframe thead th {\n",
       "        text-align: right;\n",
       "    }\n",
       "</style>\n",
       "<table border=\"1\" class=\"dataframe\">\n",
       "  <thead>\n",
       "    <tr style=\"text-align: right;\">\n",
       "      <th></th>\n",
       "      <th>Elevation</th>\n",
       "      <th>Aspect</th>\n",
       "      <th>Slope</th>\n",
       "      <th>Horizontal_Distance_To_Hydrology</th>\n",
       "      <th>Vertical_Distance_To_Hydrology</th>\n",
       "      <th>Horizontal_Distance_To_Roadways</th>\n",
       "      <th>Hillshade_9am</th>\n",
       "      <th>Hillshade_Noon</th>\n",
       "      <th>Hillshade_3pm</th>\n",
       "      <th>Horizontal_Distance_To_Fire_Points</th>\n",
       "      <th>...</th>\n",
       "      <th>ST32</th>\n",
       "      <th>ST33</th>\n",
       "      <th>ST34</th>\n",
       "      <th>ST35</th>\n",
       "      <th>ST36</th>\n",
       "      <th>ST37</th>\n",
       "      <th>ST38</th>\n",
       "      <th>ST39</th>\n",
       "      <th>ST40</th>\n",
       "      <th>Cover_Type</th>\n",
       "    </tr>\n",
       "  </thead>\n",
       "  <tbody>\n",
       "    <tr>\n",
       "      <th>0</th>\n",
       "      <td>2783</td>\n",
       "      <td>243</td>\n",
       "      <td>24</td>\n",
       "      <td>153</td>\n",
       "      <td>56</td>\n",
       "      <td>1578</td>\n",
       "      <td>165</td>\n",
       "      <td>251</td>\n",
       "      <td>217</td>\n",
       "      <td>2342</td>\n",
       "      <td>...</td>\n",
       "      <td>0</td>\n",
       "      <td>0</td>\n",
       "      <td>0</td>\n",
       "      <td>0</td>\n",
       "      <td>0</td>\n",
       "      <td>0</td>\n",
       "      <td>0</td>\n",
       "      <td>0</td>\n",
       "      <td>0</td>\n",
       "      <td>Aspen</td>\n",
       "    </tr>\n",
       "    <tr>\n",
       "      <th>1</th>\n",
       "      <td>2567</td>\n",
       "      <td>340</td>\n",
       "      <td>8</td>\n",
       "      <td>212</td>\n",
       "      <td>22</td>\n",
       "      <td>1387</td>\n",
       "      <td>204</td>\n",
       "      <td>229</td>\n",
       "      <td>164</td>\n",
       "      <td>1465</td>\n",
       "      <td>...</td>\n",
       "      <td>0</td>\n",
       "      <td>0</td>\n",
       "      <td>0</td>\n",
       "      <td>0</td>\n",
       "      <td>0</td>\n",
       "      <td>0</td>\n",
       "      <td>0</td>\n",
       "      <td>0</td>\n",
       "      <td>0</td>\n",
       "      <td>Aspen</td>\n",
       "    </tr>\n",
       "    <tr>\n",
       "      <th>2</th>\n",
       "      <td>2791</td>\n",
       "      <td>72</td>\n",
       "      <td>30</td>\n",
       "      <td>216</td>\n",
       "      <td>142</td>\n",
       "      <td>234</td>\n",
       "      <td>238</td>\n",
       "      <td>167</td>\n",
       "      <td>38</td>\n",
       "      <td>2010</td>\n",
       "      <td>...</td>\n",
       "      <td>0</td>\n",
       "      <td>0</td>\n",
       "      <td>0</td>\n",
       "      <td>0</td>\n",
       "      <td>0</td>\n",
       "      <td>0</td>\n",
       "      <td>0</td>\n",
       "      <td>0</td>\n",
       "      <td>0</td>\n",
       "      <td>Aspen</td>\n",
       "    </tr>\n",
       "    <tr>\n",
       "      <th>3</th>\n",
       "      <td>2850</td>\n",
       "      <td>132</td>\n",
       "      <td>24</td>\n",
       "      <td>228</td>\n",
       "      <td>64</td>\n",
       "      <td>2134</td>\n",
       "      <td>250</td>\n",
       "      <td>219</td>\n",
       "      <td>83</td>\n",
       "      <td>1382</td>\n",
       "      <td>...</td>\n",
       "      <td>0</td>\n",
       "      <td>0</td>\n",
       "      <td>0</td>\n",
       "      <td>0</td>\n",
       "      <td>0</td>\n",
       "      <td>0</td>\n",
       "      <td>0</td>\n",
       "      <td>0</td>\n",
       "      <td>0</td>\n",
       "      <td>Aspen</td>\n",
       "    </tr>\n",
       "    <tr>\n",
       "      <th>4</th>\n",
       "      <td>2933</td>\n",
       "      <td>91</td>\n",
       "      <td>9</td>\n",
       "      <td>30</td>\n",
       "      <td>9</td>\n",
       "      <td>4705</td>\n",
       "      <td>235</td>\n",
       "      <td>226</td>\n",
       "      <td>122</td>\n",
       "      <td>2006</td>\n",
       "      <td>...</td>\n",
       "      <td>0</td>\n",
       "      <td>0</td>\n",
       "      <td>0</td>\n",
       "      <td>0</td>\n",
       "      <td>0</td>\n",
       "      <td>0</td>\n",
       "      <td>0</td>\n",
       "      <td>0</td>\n",
       "      <td>0</td>\n",
       "      <td>Aspen</td>\n",
       "    </tr>\n",
       "  </tbody>\n",
       "</table>\n",
       "<p>5 rows × 55 columns</p>\n",
       "</div>"
      ],
      "text/plain": [
       "   Elevation  Aspect  Slope  Horizontal_Distance_To_Hydrology  \\\n",
       "0       2783     243     24                               153   \n",
       "1       2567     340      8                               212   \n",
       "2       2791      72     30                               216   \n",
       "3       2850     132     24                               228   \n",
       "4       2933      91      9                                30   \n",
       "\n",
       "   Vertical_Distance_To_Hydrology  Horizontal_Distance_To_Roadways  \\\n",
       "0                              56                             1578   \n",
       "1                              22                             1387   \n",
       "2                             142                              234   \n",
       "3                              64                             2134   \n",
       "4                               9                             4705   \n",
       "\n",
       "   Hillshade_9am  Hillshade_Noon  Hillshade_3pm  \\\n",
       "0            165             251            217   \n",
       "1            204             229            164   \n",
       "2            238             167             38   \n",
       "3            250             219             83   \n",
       "4            235             226            122   \n",
       "\n",
       "   Horizontal_Distance_To_Fire_Points     ...     ST32 ST33 ST34 ST35  ST36  \\\n",
       "0                                2342     ...        0    0    0    0     0   \n",
       "1                                1465     ...        0    0    0    0     0   \n",
       "2                                2010     ...        0    0    0    0     0   \n",
       "3                                1382     ...        0    0    0    0     0   \n",
       "4                                2006     ...        0    0    0    0     0   \n",
       "\n",
       "   ST37  ST38  ST39  ST40  Cover_Type  \n",
       "0     0     0     0     0       Aspen  \n",
       "1     0     0     0     0       Aspen  \n",
       "2     0     0     0     0       Aspen  \n",
       "3     0     0     0     0       Aspen  \n",
       "4     0     0     0     0       Aspen  \n",
       "\n",
       "[5 rows x 55 columns]"
      ]
     },
     "execution_count": 71,
     "metadata": {},
     "output_type": "execute_result"
    }
   ],
   "source": [
    "subset = df.loc[:,['Soil_Type', 'Cover_Type']]\n",
    "df.head()"
   ]
  },
  {
   "cell_type": "code",
   "execution_count": 72,
   "metadata": {},
   "outputs": [
    {
     "data": {
      "text/plain": [
       "(14000, 55)"
      ]
     },
     "execution_count": 72,
     "metadata": {},
     "output_type": "execute_result"
    }
   ],
   "source": [
    "df = df.dropna(axis=0)\n",
    "df.shape"
   ]
  },
  {
   "cell_type": "code",
   "execution_count": 73,
   "metadata": {},
   "outputs": [
    {
     "ename": "KeyError",
     "evalue": "'Soil_Type'",
     "output_type": "error",
     "traceback": [
      "\u001b[1;31m---------------------------------------------------------------------------\u001b[0m",
      "\u001b[1;31mKeyError\u001b[0m                                  Traceback (most recent call last)",
      "\u001b[1;32m<ipython-input-73-0857c3806847>\u001b[0m in \u001b[0;36m<module>\u001b[1;34m\u001b[0m\n\u001b[1;32m----> 1\u001b[1;33m \u001b[0mdf\u001b[0m\u001b[1;33m.\u001b[0m\u001b[0mgroupby\u001b[0m\u001b[1;33m(\u001b[0m\u001b[0mby\u001b[0m\u001b[1;33m=\u001b[0m\u001b[1;33m[\u001b[0m\u001b[1;34m'Cover_Type'\u001b[0m\u001b[1;33m,\u001b[0m\u001b[1;34m'Soil_Type'\u001b[0m\u001b[1;33m]\u001b[0m\u001b[1;33m)\u001b[0m\u001b[1;33m.\u001b[0m\u001b[0msize\u001b[0m\u001b[1;33m(\u001b[0m\u001b[1;33m)\u001b[0m\u001b[1;33m\u001b[0m\u001b[1;33m\u001b[0m\u001b[0m\n\u001b[0m",
      "\u001b[1;32m~\\Anaconda3\\lib\\site-packages\\pandas\\core\\generic.py\u001b[0m in \u001b[0;36mgroupby\u001b[1;34m(self, by, axis, level, as_index, sort, group_keys, squeeze, observed, **kwargs)\u001b[0m\n\u001b[0;32m   6663\u001b[0m         return groupby(self, by=by, axis=axis, level=level, as_index=as_index,\n\u001b[0;32m   6664\u001b[0m                        \u001b[0msort\u001b[0m\u001b[1;33m=\u001b[0m\u001b[0msort\u001b[0m\u001b[1;33m,\u001b[0m \u001b[0mgroup_keys\u001b[0m\u001b[1;33m=\u001b[0m\u001b[0mgroup_keys\u001b[0m\u001b[1;33m,\u001b[0m \u001b[0msqueeze\u001b[0m\u001b[1;33m=\u001b[0m\u001b[0msqueeze\u001b[0m\u001b[1;33m,\u001b[0m\u001b[1;33m\u001b[0m\u001b[1;33m\u001b[0m\u001b[0m\n\u001b[1;32m-> 6665\u001b[1;33m                        observed=observed, **kwargs)\n\u001b[0m\u001b[0;32m   6666\u001b[0m \u001b[1;33m\u001b[0m\u001b[0m\n\u001b[0;32m   6667\u001b[0m     def asfreq(self, freq, method=None, how=None, normalize=False,\n",
      "\u001b[1;32m~\\Anaconda3\\lib\\site-packages\\pandas\\core\\groupby\\groupby.py\u001b[0m in \u001b[0;36mgroupby\u001b[1;34m(obj, by, **kwds)\u001b[0m\n\u001b[0;32m   2150\u001b[0m         \u001b[1;32mraise\u001b[0m \u001b[0mTypeError\u001b[0m\u001b[1;33m(\u001b[0m\u001b[1;34m'invalid type: %s'\u001b[0m \u001b[1;33m%\u001b[0m \u001b[0mtype\u001b[0m\u001b[1;33m(\u001b[0m\u001b[0mobj\u001b[0m\u001b[1;33m)\u001b[0m\u001b[1;33m)\u001b[0m\u001b[1;33m\u001b[0m\u001b[1;33m\u001b[0m\u001b[0m\n\u001b[0;32m   2151\u001b[0m \u001b[1;33m\u001b[0m\u001b[0m\n\u001b[1;32m-> 2152\u001b[1;33m     \u001b[1;32mreturn\u001b[0m \u001b[0mklass\u001b[0m\u001b[1;33m(\u001b[0m\u001b[0mobj\u001b[0m\u001b[1;33m,\u001b[0m \u001b[0mby\u001b[0m\u001b[1;33m,\u001b[0m \u001b[1;33m**\u001b[0m\u001b[0mkwds\u001b[0m\u001b[1;33m)\u001b[0m\u001b[1;33m\u001b[0m\u001b[1;33m\u001b[0m\u001b[0m\n\u001b[0m\u001b[0;32m   2153\u001b[0m \u001b[1;33m\u001b[0m\u001b[0m\n\u001b[0;32m   2154\u001b[0m \u001b[1;33m\u001b[0m\u001b[0m\n",
      "\u001b[1;32m~\\Anaconda3\\lib\\site-packages\\pandas\\core\\groupby\\groupby.py\u001b[0m in \u001b[0;36m__init__\u001b[1;34m(self, obj, keys, axis, level, grouper, exclusions, selection, as_index, sort, group_keys, squeeze, observed, **kwargs)\u001b[0m\n\u001b[0;32m    597\u001b[0m                                                     \u001b[0msort\u001b[0m\u001b[1;33m=\u001b[0m\u001b[0msort\u001b[0m\u001b[1;33m,\u001b[0m\u001b[1;33m\u001b[0m\u001b[1;33m\u001b[0m\u001b[0m\n\u001b[0;32m    598\u001b[0m                                                     \u001b[0mobserved\u001b[0m\u001b[1;33m=\u001b[0m\u001b[0mobserved\u001b[0m\u001b[1;33m,\u001b[0m\u001b[1;33m\u001b[0m\u001b[1;33m\u001b[0m\u001b[0m\n\u001b[1;32m--> 599\u001b[1;33m                                                     mutated=self.mutated)\n\u001b[0m\u001b[0;32m    600\u001b[0m \u001b[1;33m\u001b[0m\u001b[0m\n\u001b[0;32m    601\u001b[0m         \u001b[0mself\u001b[0m\u001b[1;33m.\u001b[0m\u001b[0mobj\u001b[0m \u001b[1;33m=\u001b[0m \u001b[0mobj\u001b[0m\u001b[1;33m\u001b[0m\u001b[1;33m\u001b[0m\u001b[0m\n",
      "\u001b[1;32m~\\Anaconda3\\lib\\site-packages\\pandas\\core\\groupby\\groupby.py\u001b[0m in \u001b[0;36m_get_grouper\u001b[1;34m(obj, key, axis, level, sort, observed, mutated, validate)\u001b[0m\n\u001b[0;32m   3289\u001b[0m                 \u001b[0min_axis\u001b[0m\u001b[1;33m,\u001b[0m \u001b[0mname\u001b[0m\u001b[1;33m,\u001b[0m \u001b[0mlevel\u001b[0m\u001b[1;33m,\u001b[0m \u001b[0mgpr\u001b[0m \u001b[1;33m=\u001b[0m \u001b[1;32mFalse\u001b[0m\u001b[1;33m,\u001b[0m \u001b[1;32mNone\u001b[0m\u001b[1;33m,\u001b[0m \u001b[0mgpr\u001b[0m\u001b[1;33m,\u001b[0m \u001b[1;32mNone\u001b[0m\u001b[1;33m\u001b[0m\u001b[1;33m\u001b[0m\u001b[0m\n\u001b[0;32m   3290\u001b[0m             \u001b[1;32melse\u001b[0m\u001b[1;33m:\u001b[0m\u001b[1;33m\u001b[0m\u001b[1;33m\u001b[0m\u001b[0m\n\u001b[1;32m-> 3291\u001b[1;33m                 \u001b[1;32mraise\u001b[0m \u001b[0mKeyError\u001b[0m\u001b[1;33m(\u001b[0m\u001b[0mgpr\u001b[0m\u001b[1;33m)\u001b[0m\u001b[1;33m\u001b[0m\u001b[1;33m\u001b[0m\u001b[0m\n\u001b[0m\u001b[0;32m   3292\u001b[0m         \u001b[1;32melif\u001b[0m \u001b[0misinstance\u001b[0m\u001b[1;33m(\u001b[0m\u001b[0mgpr\u001b[0m\u001b[1;33m,\u001b[0m \u001b[0mGrouper\u001b[0m\u001b[1;33m)\u001b[0m \u001b[1;32mand\u001b[0m \u001b[0mgpr\u001b[0m\u001b[1;33m.\u001b[0m\u001b[0mkey\u001b[0m \u001b[1;32mis\u001b[0m \u001b[1;32mnot\u001b[0m \u001b[1;32mNone\u001b[0m\u001b[1;33m:\u001b[0m\u001b[1;33m\u001b[0m\u001b[1;33m\u001b[0m\u001b[0m\n\u001b[0;32m   3293\u001b[0m             \u001b[1;31m# Add key to exclusions\u001b[0m\u001b[1;33m\u001b[0m\u001b[1;33m\u001b[0m\u001b[1;33m\u001b[0m\u001b[0m\n",
      "\u001b[1;31mKeyError\u001b[0m: 'Soil_Type'"
     ]
    }
   ],
   "source": [
    "df.groupby(by=['Cover_Type','Soil_Type']).size()"
   ]
  },
  {
   "cell_type": "code",
   "execution_count": null,
   "metadata": {},
   "outputs": [],
   "source": []
  },
  {
   "cell_type": "markdown",
   "metadata": {},
   "source": [
    "**5b.** Using the dataframe just created, draw a plot showing the relationship between the cover type and the soil type. Size the points in the plot by the counts. Ensure that the axis ticks and legend are legible. Save the figure to a file named `covtype-soil_type.scatter.png` for viewing (5 pts). "
   ]
  },
  {
   "cell_type": "code",
   "execution_count": null,
   "metadata": {},
   "outputs": [],
   "source": []
  },
  {
   "cell_type": "markdown",
   "metadata": {},
   "source": [
    "**5c.** Explain why it is important to review the scatterplot of \"Cover_Type\" vs. all the soil types (3 pts)."
   ]
  },
  {
   "cell_type": "code",
   "execution_count": null,
   "metadata": {},
   "outputs": [],
   "source": []
  },
  {
   "cell_type": "markdown",
   "metadata": {},
   "source": [
    "### 5.2 Review the quantitative data\n",
    "**5d.** Show the basic summary statistics for the quantitiatve data, excluding the 40 binary soil type columns (3 pts)."
   ]
  },
  {
   "cell_type": "code",
   "execution_count": 74,
   "metadata": {},
   "outputs": [
    {
     "data": {
      "text/html": [
       "<div>\n",
       "<style scoped>\n",
       "    .dataframe tbody tr th:only-of-type {\n",
       "        vertical-align: middle;\n",
       "    }\n",
       "\n",
       "    .dataframe tbody tr th {\n",
       "        vertical-align: top;\n",
       "    }\n",
       "\n",
       "    .dataframe thead th {\n",
       "        text-align: right;\n",
       "    }\n",
       "</style>\n",
       "<table border=\"1\" class=\"dataframe\">\n",
       "  <thead>\n",
       "    <tr style=\"text-align: right;\">\n",
       "      <th></th>\n",
       "      <th>Elevation</th>\n",
       "      <th>Aspect</th>\n",
       "      <th>Slope</th>\n",
       "      <th>Horizontal_Distance_To_Hydrology</th>\n",
       "      <th>Vertical_Distance_To_Hydrology</th>\n",
       "      <th>Horizontal_Distance_To_Roadways</th>\n",
       "      <th>Hillshade_9am</th>\n",
       "      <th>Hillshade_Noon</th>\n",
       "      <th>Hillshade_3pm</th>\n",
       "      <th>Horizontal_Distance_To_Fire_Points</th>\n",
       "      <th>...</th>\n",
       "      <th>ST31</th>\n",
       "      <th>ST32</th>\n",
       "      <th>ST33</th>\n",
       "      <th>ST34</th>\n",
       "      <th>ST35</th>\n",
       "      <th>ST36</th>\n",
       "      <th>ST37</th>\n",
       "      <th>ST38</th>\n",
       "      <th>ST39</th>\n",
       "      <th>ST40</th>\n",
       "    </tr>\n",
       "  </thead>\n",
       "  <tbody>\n",
       "    <tr>\n",
       "      <th>count</th>\n",
       "      <td>14000.000000</td>\n",
       "      <td>14000.000000</td>\n",
       "      <td>14000.000000</td>\n",
       "      <td>14000.000000</td>\n",
       "      <td>14000.000000</td>\n",
       "      <td>14000.000000</td>\n",
       "      <td>14000.000000</td>\n",
       "      <td>14000.000000</td>\n",
       "      <td>14000.000000</td>\n",
       "      <td>14000.000000</td>\n",
       "      <td>...</td>\n",
       "      <td>14000.000000</td>\n",
       "      <td>14000.000000</td>\n",
       "      <td>14000.000000</td>\n",
       "      <td>14000.000000</td>\n",
       "      <td>14000.000000</td>\n",
       "      <td>14000.000000</td>\n",
       "      <td>14000.000000</td>\n",
       "      <td>14000.000000</td>\n",
       "      <td>14000.000000</td>\n",
       "      <td>14000.000000</td>\n",
       "    </tr>\n",
       "    <tr>\n",
       "      <th>mean</th>\n",
       "      <td>2748.993571</td>\n",
       "      <td>154.419000</td>\n",
       "      <td>16.546500</td>\n",
       "      <td>229.259071</td>\n",
       "      <td>50.464714</td>\n",
       "      <td>1725.334357</td>\n",
       "      <td>213.457571</td>\n",
       "      <td>218.893357</td>\n",
       "      <td>133.965500</td>\n",
       "      <td>1514.278857</td>\n",
       "      <td>...</td>\n",
       "      <td>0.021071</td>\n",
       "      <td>0.043929</td>\n",
       "      <td>0.039643</td>\n",
       "      <td>0.001857</td>\n",
       "      <td>0.006571</td>\n",
       "      <td>0.000429</td>\n",
       "      <td>0.001857</td>\n",
       "      <td>0.051357</td>\n",
       "      <td>0.044429</td>\n",
       "      <td>0.027286</td>\n",
       "    </tr>\n",
       "    <tr>\n",
       "      <th>std</th>\n",
       "      <td>416.081002</td>\n",
       "      <td>108.808482</td>\n",
       "      <td>8.481558</td>\n",
       "      <td>209.215284</td>\n",
       "      <td>60.076700</td>\n",
       "      <td>1334.873787</td>\n",
       "      <td>30.430773</td>\n",
       "      <td>22.774049</td>\n",
       "      <td>46.033076</td>\n",
       "      <td>1099.358427</td>\n",
       "      <td>...</td>\n",
       "      <td>0.143628</td>\n",
       "      <td>0.204944</td>\n",
       "      <td>0.195126</td>\n",
       "      <td>0.043056</td>\n",
       "      <td>0.080800</td>\n",
       "      <td>0.020698</td>\n",
       "      <td>0.043056</td>\n",
       "      <td>0.220733</td>\n",
       "      <td>0.206053</td>\n",
       "      <td>0.162921</td>\n",
       "    </tr>\n",
       "    <tr>\n",
       "      <th>min</th>\n",
       "      <td>1860.000000</td>\n",
       "      <td>0.000000</td>\n",
       "      <td>0.000000</td>\n",
       "      <td>0.000000</td>\n",
       "      <td>-137.000000</td>\n",
       "      <td>0.000000</td>\n",
       "      <td>0.000000</td>\n",
       "      <td>97.000000</td>\n",
       "      <td>0.000000</td>\n",
       "      <td>0.000000</td>\n",
       "      <td>...</td>\n",
       "      <td>0.000000</td>\n",
       "      <td>0.000000</td>\n",
       "      <td>0.000000</td>\n",
       "      <td>0.000000</td>\n",
       "      <td>0.000000</td>\n",
       "      <td>0.000000</td>\n",
       "      <td>0.000000</td>\n",
       "      <td>0.000000</td>\n",
       "      <td>0.000000</td>\n",
       "      <td>0.000000</td>\n",
       "    </tr>\n",
       "    <tr>\n",
       "      <th>25%</th>\n",
       "      <td>2377.000000</td>\n",
       "      <td>65.000000</td>\n",
       "      <td>10.000000</td>\n",
       "      <td>67.000000</td>\n",
       "      <td>5.000000</td>\n",
       "      <td>757.000000</td>\n",
       "      <td>197.000000</td>\n",
       "      <td>207.000000</td>\n",
       "      <td>106.000000</td>\n",
       "      <td>741.000000</td>\n",
       "      <td>...</td>\n",
       "      <td>0.000000</td>\n",
       "      <td>0.000000</td>\n",
       "      <td>0.000000</td>\n",
       "      <td>0.000000</td>\n",
       "      <td>0.000000</td>\n",
       "      <td>0.000000</td>\n",
       "      <td>0.000000</td>\n",
       "      <td>0.000000</td>\n",
       "      <td>0.000000</td>\n",
       "      <td>0.000000</td>\n",
       "    </tr>\n",
       "    <tr>\n",
       "      <th>50%</th>\n",
       "      <td>2756.000000</td>\n",
       "      <td>124.000000</td>\n",
       "      <td>15.000000</td>\n",
       "      <td>180.000000</td>\n",
       "      <td>33.000000</td>\n",
       "      <td>1321.000000</td>\n",
       "      <td>220.000000</td>\n",
       "      <td>222.000000</td>\n",
       "      <td>137.000000</td>\n",
       "      <td>1273.000000</td>\n",
       "      <td>...</td>\n",
       "      <td>0.000000</td>\n",
       "      <td>0.000000</td>\n",
       "      <td>0.000000</td>\n",
       "      <td>0.000000</td>\n",
       "      <td>0.000000</td>\n",
       "      <td>0.000000</td>\n",
       "      <td>0.000000</td>\n",
       "      <td>0.000000</td>\n",
       "      <td>0.000000</td>\n",
       "      <td>0.000000</td>\n",
       "    </tr>\n",
       "    <tr>\n",
       "      <th>75%</th>\n",
       "      <td>3108.000000</td>\n",
       "      <td>251.000000</td>\n",
       "      <td>22.000000</td>\n",
       "      <td>335.000000</td>\n",
       "      <td>80.000000</td>\n",
       "      <td>2295.000000</td>\n",
       "      <td>236.000000</td>\n",
       "      <td>235.000000</td>\n",
       "      <td>166.000000</td>\n",
       "      <td>1989.000000</td>\n",
       "      <td>...</td>\n",
       "      <td>0.000000</td>\n",
       "      <td>0.000000</td>\n",
       "      <td>0.000000</td>\n",
       "      <td>0.000000</td>\n",
       "      <td>0.000000</td>\n",
       "      <td>0.000000</td>\n",
       "      <td>0.000000</td>\n",
       "      <td>0.000000</td>\n",
       "      <td>0.000000</td>\n",
       "      <td>0.000000</td>\n",
       "    </tr>\n",
       "    <tr>\n",
       "      <th>max</th>\n",
       "      <td>3853.000000</td>\n",
       "      <td>360.000000</td>\n",
       "      <td>51.000000</td>\n",
       "      <td>1369.000000</td>\n",
       "      <td>570.000000</td>\n",
       "      <td>6890.000000</td>\n",
       "      <td>254.000000</td>\n",
       "      <td>254.000000</td>\n",
       "      <td>250.000000</td>\n",
       "      <td>6852.000000</td>\n",
       "      <td>...</td>\n",
       "      <td>1.000000</td>\n",
       "      <td>1.000000</td>\n",
       "      <td>1.000000</td>\n",
       "      <td>1.000000</td>\n",
       "      <td>1.000000</td>\n",
       "      <td>1.000000</td>\n",
       "      <td>1.000000</td>\n",
       "      <td>1.000000</td>\n",
       "      <td>1.000000</td>\n",
       "      <td>1.000000</td>\n",
       "    </tr>\n",
       "  </tbody>\n",
       "</table>\n",
       "<p>8 rows × 50 columns</p>\n",
       "</div>"
      ],
      "text/plain": [
       "          Elevation        Aspect         Slope  \\\n",
       "count  14000.000000  14000.000000  14000.000000   \n",
       "mean    2748.993571    154.419000     16.546500   \n",
       "std      416.081002    108.808482      8.481558   \n",
       "min     1860.000000      0.000000      0.000000   \n",
       "25%     2377.000000     65.000000     10.000000   \n",
       "50%     2756.000000    124.000000     15.000000   \n",
       "75%     3108.000000    251.000000     22.000000   \n",
       "max     3853.000000    360.000000     51.000000   \n",
       "\n",
       "       Horizontal_Distance_To_Hydrology  Vertical_Distance_To_Hydrology  \\\n",
       "count                      14000.000000                    14000.000000   \n",
       "mean                         229.259071                       50.464714   \n",
       "std                          209.215284                       60.076700   \n",
       "min                            0.000000                     -137.000000   \n",
       "25%                           67.000000                        5.000000   \n",
       "50%                          180.000000                       33.000000   \n",
       "75%                          335.000000                       80.000000   \n",
       "max                         1369.000000                      570.000000   \n",
       "\n",
       "       Horizontal_Distance_To_Roadways  Hillshade_9am  Hillshade_Noon  \\\n",
       "count                     14000.000000   14000.000000    14000.000000   \n",
       "mean                       1725.334357     213.457571      218.893357   \n",
       "std                        1334.873787      30.430773       22.774049   \n",
       "min                           0.000000       0.000000       97.000000   \n",
       "25%                         757.000000     197.000000      207.000000   \n",
       "50%                        1321.000000     220.000000      222.000000   \n",
       "75%                        2295.000000     236.000000      235.000000   \n",
       "max                        6890.000000     254.000000      254.000000   \n",
       "\n",
       "       Hillshade_3pm  Horizontal_Distance_To_Fire_Points      ...       \\\n",
       "count   14000.000000                        14000.000000      ...        \n",
       "mean      133.965500                         1514.278857      ...        \n",
       "std        46.033076                         1099.358427      ...        \n",
       "min         0.000000                            0.000000      ...        \n",
       "25%       106.000000                          741.000000      ...        \n",
       "50%       137.000000                         1273.000000      ...        \n",
       "75%       166.000000                         1989.000000      ...        \n",
       "max       250.000000                         6852.000000      ...        \n",
       "\n",
       "               ST31          ST32          ST33          ST34          ST35  \\\n",
       "count  14000.000000  14000.000000  14000.000000  14000.000000  14000.000000   \n",
       "mean       0.021071      0.043929      0.039643      0.001857      0.006571   \n",
       "std        0.143628      0.204944      0.195126      0.043056      0.080800   \n",
       "min        0.000000      0.000000      0.000000      0.000000      0.000000   \n",
       "25%        0.000000      0.000000      0.000000      0.000000      0.000000   \n",
       "50%        0.000000      0.000000      0.000000      0.000000      0.000000   \n",
       "75%        0.000000      0.000000      0.000000      0.000000      0.000000   \n",
       "max        1.000000      1.000000      1.000000      1.000000      1.000000   \n",
       "\n",
       "               ST36          ST37          ST38          ST39          ST40  \n",
       "count  14000.000000  14000.000000  14000.000000  14000.000000  14000.000000  \n",
       "mean       0.000429      0.001857      0.051357      0.044429      0.027286  \n",
       "std        0.020698      0.043056      0.220733      0.206053      0.162921  \n",
       "min        0.000000      0.000000      0.000000      0.000000      0.000000  \n",
       "25%        0.000000      0.000000      0.000000      0.000000      0.000000  \n",
       "50%        0.000000      0.000000      0.000000      0.000000      0.000000  \n",
       "75%        0.000000      0.000000      0.000000      0.000000      0.000000  \n",
       "max        1.000000      1.000000      1.000000      1.000000      1.000000  \n",
       "\n",
       "[8 rows x 50 columns]"
      ]
     },
     "execution_count": 74,
     "metadata": {},
     "output_type": "execute_result"
    }
   ],
   "source": [
    "df.describe()"
   ]
  },
  {
   "cell_type": "markdown",
   "metadata": {},
   "source": [
    "**5e.** Use the [hist](https://pandas.pydata.org/pandas-docs/stable/reference/api/pandas.DataFrame.hist.html) function of Pandas Dataframes to create a single figure showing the histograms of every quantitative data column excluding the 40 binary soil type columns.  Size the figure to ensure all text is legible. Save the figure to a file named `covtype.histograms.png` for viewing. \n",
    "\n",
    "Hint:\n",
    "- Because you will use the `DataFrame.hist` function you aren't calling matplotlib or Seaborn functions directly.  Therefore, use the `plt.savefig` function. Remember, the `plt` object always maintains the current figure, so you can use it to call the `savefig` function.\n",
    "\n",
    "(5 pts)"
   ]
  },
  {
   "cell_type": "code",
   "execution_count": 86,
   "metadata": {},
   "outputs": [
    {
     "name": "stderr",
     "output_type": "stream",
     "text": [
      "C:\\Users\\dslim\\Anaconda3\\lib\\site-packages\\IPython\\core\\interactiveshell.py:3267: UserWarning: To output multiple subplots, the figure containing the passed axes is being cleared\n",
      "  exec(code_obj, self.user_global_ns, self.user_ns)\n"
     ]
    },
    {
     "data": {
      "text/plain": [
       "<Figure size 432x288 with 0 Axes>"
      ]
     },
     "metadata": {},
     "output_type": "display_data"
    },
    {
     "data": {
      "image/png": "[encoded data removed]",
      "text/plain": [
       "<Figure size 1080x1440 with 56 Axes>"
      ]
     },
     "metadata": {
      "needs_background": "light"
     },
     "output_type": "display_data"
    }
   ],
   "source": [
    "plt.savefig('covtype.histograms.png')\n",
    "fig = plt.figure(figsize = (15,20))\n",
    "ax = fig.gca()\n",
    "df.hist(ax = ax)\n",
    "plt.show()"
   ]
  },
  {
   "cell_type": "markdown",
   "metadata": {},
   "source": [
    "**5f.** Explain why it is important to examine the histogram of each quantitative column (3 pts)."
   ]
  },
  {
   "cell_type": "raw",
   "metadata": {},
   "source": [
    "To see if any of the data is not producing a good bell curve"
   ]
  },
  {
   "cell_type": "markdown",
   "metadata": {},
   "source": [
    "**5g.** Use the Seaborn [sns.pairplot](https://seaborn.pydata.org/generated/seaborn.pairplot.html) function to gererate a scatterplot of every quantitative column (excluding the 40 binary soil type columns) with every other quantitative column.  Use `Cover_Type` as the `hue` argument, use `\"kde\"` as the `diag_kind` argument, and use `5` as the `height` argument.  Because each scatterplot will be small we need to limit the size and number of points. Otherwise, the points overlap which and will hide the color of those behind.  Include only 1000 randomly selected rows from the dataset.  To further improve the plot we can set the size of the point size using the `plot_kws` argument.  Set it using the dictionary: `{\"s\": 15}`.\n",
    "\n",
    "Hint: \n",
    "- Use the `qual_cols` argument to only include the list of columns you want to plot.\n",
    "- Use the `sample` function to limit the number of points.\n",
    "\n",
    "The plot will be huge! You can view it in the notebook but it will be difficult to read the labels. Therefore, save the figure to a file named `covtype.pairplot.png` for viewing. It will take a few minutes to display the plot.\n",
    "\n",
    "(5 pts)"
   ]
  },
  {
   "cell_type": "code",
   "execution_count": null,
   "metadata": {},
   "outputs": [],
   "source": [
    "sns.pairplot(df, hue='Cover_Type');"
   ]
  },
  {
   "cell_type": "code",
   "execution_count": null,
   "metadata": {},
   "outputs": [],
   "source": [
    "sns.pairplot(df, hue='Cover_Type');"
   ]
  },
  {
   "cell_type": "markdown",
   "metadata": {},
   "source": [
    "**5h.** Explain why it is important to examine the pairwise scatterplots of all quantitative columns  (3 pts)."
   ]
  },
  {
   "cell_type": "raw",
   "metadata": {},
   "source": []
  },
  {
   "cell_type": "markdown",
   "metadata": {},
   "source": [
    "**5i.** Create 10 figures such that each figure corresponds to a single quantitative column in the data.  Each figure should contain 7 boxplots, one for each cover type, and should have a title indicating the quantitative column it describes. Save each figure using the naming scheme: `covtype-{column_name}.boxplot.png`. Replace the tag `{column_name}` with the name of the column represented by the figure.  Exclude outliers from the plots.\n",
    "\n",
    "Hints: \n",
    "1. First, group the dataframe by `Cover_type`\n",
    "2. Second, loop over all the names of quantitative columns.\n",
    "3. Third, you can create a boxplot using the dataframe summary statistics:\n",
    "   ```python\n",
    "   # Create a boxplot using the descriptive summary of the data and the built-in plot function\n",
    "   # of dataframes.\n",
    "   df.describe().transpose().plot(kind=\"box\", title=\"my plot\", showfliers=False, rot=90);\n",
    "   ```\n",
    "4. Because you will use the `DataFrame.plot` function you aren't calling matplotlib or Seaborn functions directly.  Therefore, use the `plt.savefig` function to save each plot. Remember, the `plt` object always maintains the current figure, so you can use it to call the `savefig` function.\n",
    "5. Do not limit the numer of rows as in the pairplot.\n",
    "\n",
    "(8 pts)"
   ]
  },
  {
   "cell_type": "code",
   "execution_count": null,
   "metadata": {},
   "outputs": [],
   "source": []
  },
  {
   "cell_type": "markdown",
   "metadata": {},
   "source": [
    "**5j.** Explain why it is important to review the distribution of the \"Cover_Type\" column with every other quantitative data column (3 pts)."
   ]
  },
  {
   "cell_type": "raw",
   "metadata": {},
   "source": []
  },
  {
   "cell_type": "markdown",
   "metadata": {},
   "source": [
    "### 5.3 Check for outliers"
   ]
  },
  {
   "cell_type": "markdown",
   "metadata": {},
   "source": [
    "**5k.** Identify if any quantitative columns have outliers. Do this by generating a **single** figure containing one boxplot for each quantitative column (excluding the 40 binary soil type columns). Save the figure as `covtype-outlier_check.png`. Unlike the previous 10 figures you do not need to create separate boxplots by cover type (5 pts)."
   ]
  },
  {
   "cell_type": "code",
   "execution_count": null,
   "metadata": {},
   "outputs": [],
   "source": []
  },
  {
   "cell_type": "markdown",
   "metadata": {},
   "source": [
    "**5l.** Explain why it is important to look for outliers prior to using machine learning techniques (3 pts)."
   ]
  },
  {
   "cell_type": "code",
   "execution_count": null,
   "metadata": {},
   "outputs": [],
   "source": []
  },
  {
   "cell_type": "markdown",
   "metadata": {},
   "source": [
    "---\n",
    "## 6. Make assumptions"
   ]
  },
  {
   "cell_type": "markdown",
   "metadata": {},
   "source": [
    "**6a.** Explain which columns of data would be poor predictors of cover type. Justify your answer by referring to the plots from Section 5 (3 pts)."
   ]
  },
  {
   "cell_type": "raw",
   "metadata": {},
   "source": []
  },
  {
   "cell_type": "markdown",
   "metadata": {},
   "source": [
    "**6b.** Write which columns you expect can contribute to prediction of cover type? (3 pts)."
   ]
  },
  {
   "cell_type": "raw",
   "metadata": {},
   "source": []
  },
  {
   "cell_type": "markdown",
   "metadata": {},
   "source": [
    "---\n",
    "## 7. Perform Supervised Machine Learning\n",
    "### 7.1 Prepare the Data"
   ]
  },
  {
   "cell_type": "markdown",
   "metadata": {},
   "source": [
    "**7a.** Create a subset of the original data that contains only the columns you indicated in task 6b and the `Cover_Type` column.  Print the list of remaining columns to verify the dataframe has the columns you want to keep:\n",
    "\n",
    "Hint:\n",
    "- Drop all column from the dataset not deemed predictive.\n",
    "\n",
    "(3 pts)"
   ]
  },
  {
   "cell_type": "code",
   "execution_count": null,
   "metadata": {},
   "outputs": [],
   "source": []
  },
  {
   "cell_type": "markdown",
   "metadata": {},
   "source": [
    "**7b.** For machine learning we need to separate the column containing our dependent variable `Cover_Type` from the independent variables.  Create a Numpy array containing the dependent variable `Cover_Type`. Name it `Y` (3 pts)."
   ]
  },
  {
   "cell_type": "code",
   "execution_count": null,
   "metadata": {},
   "outputs": [],
   "source": []
  },
  {
   "cell_type": "markdown",
   "metadata": {},
   "source": [
    "**7c.** Create a 2D numpy array containing only the independent variables (i.e. all of the predictive columns). Name it `X` (3 pts)."
   ]
  },
  {
   "cell_type": "code",
   "execution_count": null,
   "metadata": {},
   "outputs": [],
   "source": []
  },
  {
   "cell_type": "markdown",
   "metadata": {},
   "source": [
    "### 7.2 Normalize the data\n",
    "Many machine learning algorithms expect that the quantitative columns have a mean centered at 0 with data points scaled to unit variance.  See the [preprocessing documentation](https://scikit-learn.org/stable/modules/preprocessing.html#preprocessing-scaler) for Sklearn."
   ]
  },
  {
   "cell_type": "markdown",
   "metadata": {},
   "source": [
    "**7d**.  Normalize the `X` dataframe using the [preprocessing.scale](https://scikit-learn.org/stable/modules/generated/sklearn.preprocessing.scale.html#sklearn.preprocessing.scale) or [preprocessing.robust_scale](https://scikit-learn.org/stable/modules/generated/sklearn.preprocessing.robust_scale.html#sklearn.preprocessing.robust_scale) function of Sklearn. Choose the method most appropriate given the state of outliers in the data. (5 pts)."
   ]
  },
  {
   "cell_type": "code",
   "execution_count": null,
   "metadata": {},
   "outputs": [],
   "source": []
  },
  {
   "cell_type": "markdown",
   "metadata": {},
   "source": [
    "### 7.3 Split the data for testing and validation"
   ]
  },
  {
   "cell_type": "markdown",
   "metadata": {},
   "source": [
    "**7e.** Use Sklearn to create a testing model by dividing the two numpy arrays into two groups, one with 80%, which will be used for training the models, and one with 20%, which will be used for validating the models.  A random seed is required. Use a seed  of `7`.  Name your trainig sets `Xt` and `Yt` and the validation sets `Xv` and `Yv` respectively (3 pts)."
   ]
  },
  {
   "cell_type": "code",
   "execution_count": null,
   "metadata": {},
   "outputs": [],
   "source": []
  },
  {
   "cell_type": "markdown",
   "metadata": {},
   "source": [
    "**7f.** We want to perform a 10-fold cross-validation scheme to estimate accuracy.  This will split our training dataset into 10 pieces, train on 9, test on 1 and repeat for all combinations.  Create a KFold model object for use later when running the machine learning alogrithms. Use a random state seed of `7`.  Name the KFold object `kfold` (3 pts)."
   ]
  },
  {
   "cell_type": "code",
   "execution_count": null,
   "metadata": {},
   "outputs": [],
   "source": []
  },
  {
   "cell_type": "markdown",
   "metadata": {},
   "source": [
    "### 7.3 Evaulate ML approaches\n",
    "Using the training data created in task 7e and the KFold model created in task 7f, we will now execute a variety of ML algorithms."
   ]
  },
  {
   "cell_type": "markdown",
   "metadata": {},
   "source": [
    "**7g**. First, we want to store the results of all ML algorithms that we'll be using. Remember we'll be performing  a 10-fold cross-validation scheme so this will yield 10 results for each algorithm.   You will store the results of each ML algorithm into its approriate element of the dictionary.  Execute the following code to initialize a python dictionary where results will be stored.\n",
    "\n",
    "```python\n",
    "results = {\n",
    "    'LogisticRegression' : np.zeros(10),\n",
    "    'LinearDiscriminantAnalysis' : np.zeros(10),\n",
    "    'KNeighborsClassifier' : np.zeros(10),\n",
    "    'DecisionTreeClassifier' : np.zeros(10),\n",
    "    'GaussianNB' : np.zeros(10),\n",
    "    'SVC' : np.zeros(10)\n",
    "}\n",
    "```\n",
    "(3 pts)"
   ]
  },
  {
   "cell_type": "code",
   "execution_count": null,
   "metadata": {},
   "outputs": [],
   "source": []
  },
  {
   "cell_type": "markdown",
   "metadata": {},
   "source": [
    "**7h.** Create two variables. One named `scoring` and the other `error_score`.  Set the value of `scoring` to `\"accuracy\"` and the `error_score` to `np.nan`. You will use these two variables for model section of every ML method below (3 pts)."
   ]
  },
  {
   "cell_type": "code",
   "execution_count": null,
   "metadata": {},
   "outputs": [],
   "source": []
  },
  {
   "cell_type": "markdown",
   "metadata": {},
   "source": [
    "**7i.** Execute the `LogisticRegression` algorithm and save the results in the `results` dictionary.  Use the following arguments:  `solver` as `\"lbfgs\"` and  `multi_class` as `\"auto\"` (3 pts)."
   ]
  },
  {
   "cell_type": "code",
   "execution_count": null,
   "metadata": {},
   "outputs": [],
   "source": []
  },
  {
   "cell_type": "markdown",
   "metadata": {},
   "source": [
    "**7j.** Execute the `KNeighborsClassifier` algorithm and save the results in the `results` dictionary (3 pts)."
   ]
  },
  {
   "cell_type": "code",
   "execution_count": null,
   "metadata": {},
   "outputs": [],
   "source": []
  },
  {
   "cell_type": "markdown",
   "metadata": {},
   "source": [
    "**7k.** Execute the `LinearDiscriminantAnalysis` algorithm and save the results in the `results` dictionary (3 pts)."
   ]
  },
  {
   "cell_type": "code",
   "execution_count": null,
   "metadata": {},
   "outputs": [],
   "source": []
  },
  {
   "cell_type": "markdown",
   "metadata": {},
   "source": [
    "**7l.** Execute the `DecisionTreeClassifier` algorithm and save the results in the `results` dictionary (3 pts)."
   ]
  },
  {
   "cell_type": "code",
   "execution_count": null,
   "metadata": {},
   "outputs": [],
   "source": []
  },
  {
   "cell_type": "markdown",
   "metadata": {},
   "source": [
    "**7m.** Execute the `GaussianNB` algorithm and save the results in the `results` dictionary (3 pts)."
   ]
  },
  {
   "cell_type": "code",
   "execution_count": null,
   "metadata": {},
   "outputs": [],
   "source": []
  },
  {
   "cell_type": "markdown",
   "metadata": {},
   "source": [
    "**7n.** Execute the `SVC` algorithm and save the results in the `results` dictionary. Use `auto` as the the `gamma` arument (3 pts)."
   ]
  },
  {
   "cell_type": "code",
   "execution_count": null,
   "metadata": {},
   "outputs": [],
   "source": []
  },
  {
   "cell_type": "markdown",
   "metadata": {},
   "source": [
    "**7o.** Create a figure of boxplots that shows the distribution of results from each method. Save the figure using the name `covtype.ML_results.png` (5 pts)."
   ]
  },
  {
   "cell_type": "code",
   "execution_count": null,
   "metadata": {},
   "outputs": [],
   "source": []
  },
  {
   "cell_type": "markdown",
   "metadata": {},
   "source": [
    "**7p.** Write which algorithm you feel performed the best and explain (3 pts)."
   ]
  },
  {
   "cell_type": "raw",
   "metadata": {},
   "source": []
  },
  {
   "cell_type": "markdown",
   "metadata": {},
   "source": [
    "### 7.4 Make Predictions!"
   ]
  },
  {
   "cell_type": "markdown",
   "metadata": {},
   "source": [
    "**7q.** Using the algorithm that performs the best, use it to make a prediction using the `Xv` validation we set aside earlier (4 pts)."
   ]
  },
  {
   "cell_type": "code",
   "execution_count": null,
   "metadata": {},
   "outputs": [],
   "source": []
  },
  {
   "cell_type": "markdown",
   "metadata": {},
   "source": [
    "**7r**.  Show the accuracy score of the prediction (4 pts)."
   ]
  },
  {
   "cell_type": "code",
   "execution_count": null,
   "metadata": {},
   "outputs": [],
   "source": []
  },
  {
   "cell_type": "markdown",
   "metadata": {},
   "source": [
    "**7s** Show the confusion matrix.  Be sure to use the `print` function to ensure printing in the notebook looks good (4 pts)."
   ]
  },
  {
   "cell_type": "code",
   "execution_count": null,
   "metadata": {},
   "outputs": [],
   "source": []
  },
  {
   "cell_type": "markdown",
   "metadata": {},
   "source": [
    "**7t.** Print the classifcation report. Be sure to use the `print` function to ensure printing in the notebook looks good (4 pts)."
   ]
  },
  {
   "cell_type": "code",
   "execution_count": null,
   "metadata": {},
   "outputs": [],
   "source": []
  },
  {
   "cell_type": "markdown",
   "metadata": {},
   "source": [
    "## 8. Summarize"
   ]
  },
  {
   "cell_type": "markdown",
   "metadata": {},
   "source": [
    "**8a**.  Explain in your own words the meaning of the results in last three cells of Section 7. How well did the algorithm perform? (3 pts)."
   ]
  },
  {
   "cell_type": "raw",
   "metadata": {},
   "source": []
  },
  {
   "cell_type": "markdown",
   "metadata": {},
   "source": [
    "**8b.** Write if there anything you would do differently to try to improve the quality of the prediction (3 pts)."
   ]
  },
  {
   "cell_type": "raw",
   "metadata": {},
   "source": []
  }
 ],
 "metadata": {
  "kernelspec": {
   "display_name": "Python 3",
   "language": "python",
   "name": "python3"
  },
  "language_info": {
   "codemirror_mode": {
    "name": "ipython",
    "version": 3
   },
   "file_extension": ".py",
   "mimetype": "text/x-python",
   "name": "python",
   "nbconvert_exporter": "python",
   "pygments_lexer": "ipython3",
   "version": "3.7.1"
  }
 },
 "nbformat": 4,
 "nbformat_minor": 2
}
