{
 "cells": [
  {
   "cell_type": "markdown",
   "metadata": {},
   "source": [
    "# Practice Notebook"
   ]
  },
  {
   "cell_type": "markdown",
   "metadata": {},
   "source": [
    "### Setup\n",
    "\n",
    "Import any packages you need in the following cell."
   ]
  },
  {
   "cell_type": "code",
   "execution_count": 1,
   "metadata": {},
   "outputs": [],
   "source": [
    "# Task -- Import required packages."
   ]
  },
  {
   "cell_type": "markdown",
   "metadata": {},
   "source": [
    "### TASK 1\n",
    "Re-create the numpy arrays above by entering the lines of code above into the code cell below:"
   ]
  },
  {
   "cell_type": "code",
   "execution_count": 2,
   "metadata": {},
   "outputs": [],
   "source": [
    "# Task 1."
   ]
  },
  {
   "cell_type": "markdown",
   "metadata": {},
   "source": [
    "## Accessing Array Attributes\n",
    "For this section we retrieving information about the arrays. Once an array is created you can access information about the array such as the number of dimensions, its shape, its size, the data type that it stores, the number of bytes it is consuming. There are a variety of attributes you can use such as:\n",
    "+ `ndim`\n",
    "+ `shape`\n",
    "+ `size`\n",
    "+ `dtype`\n",
    "+ `itemsize`\n",
    "+ `data`\n",
    "+ `nbytes`\n",
    "\n",
    "For example, to get the number of dimensions for an array:\n",
    "```Python\n",
    "# Print the number of dimensions for the array:\n",
    "print(my_3d_array.ndim)\n",
    "```\n",
    "\n",
    "### Task 2\n",
    "\n",
    "In the code cell below, practice using each of the attributes above. Add a comment line, as shown in the preceeding code to describe what each attribute is for. Use the [NumPy ndarray reference page](https://docs.scipy.org/doc/numpy/reference/generated/numpy.ndarray.html) if you need help understanding the attributes.\n",
    "\n",
    "_Note: Notice that we use dot notation to access these attributes, yet we do not provide the parenthesis `()` like we would for a function call.  This is because we are accessing attributes (i.e. member variables) of the numpy object, we are not calling a function_"
   ]
  },
  {
   "cell_type": "code",
   "execution_count": 3,
   "metadata": {},
   "outputs": [],
   "source": [
    "# Task 2."
   ]
  },
  {
   "cell_type": "markdown",
   "metadata": {},
   "source": [
    "## Creating Initialized Arrays\n",
    "\n",
    "Here we will learn to create initialized arrays. Some refer to these as \"empty\" arrays, but in reality, the arrays are not empty. Rather they are pre-initalized with default values.  NumPy provides a variety of functions for creating and intializing an array in easy-to-use functions. These include: \n",
    "\n",
    "+ `np.ones()`\n",
    "+ `np.zeroes()`\n",
    "+ `np.random.random()`\n",
    "+ `np.empty()`\n",
    "+ `np.full()`\n",
    "+ `np.arange()`\n",
    "+ `np.linspace()`\n",
    "\n",
    "For example, to create an 2-dimesional _3 x 4_ array intialized with all zeros:\n",
    "```Python\n",
    "  # Create an array 3x4 array initialized with zeros\n",
    "  zeros = np.ones((3,4))\n",
    "```\n",
    "\n",
    "### TASK 3\n",
    "\n",
    "Practice creating initialized arrays by using each of the functions above in the code cell below. Just as in the preceeding code example, add a comment above each function call describing what is being done.  Use the [Numpy Function Reference](https://docs.scipy.org/doc/numpy/reference/routines.html) to learn more about each function. Be sure to follow each array creation with a call to `print()` to display your newly created arrays. "
   ]
  },
  {
   "cell_type": "code",
   "execution_count": 4,
   "metadata": {},
   "outputs": [],
   "source": [
    "# Task 3."
   ]
  },
  {
   "cell_type": "markdown",
   "metadata": {},
   "source": [
    "### Task 4\n",
    "Try practicing math operations by creating your own arrays of differeing sizes.  In the cell below experiment adding, multiplying or dividing two arrays of different (but compatible) sizes. Do this with two different sets of arrays."
   ]
  },
  {
   "cell_type": "code",
   "execution_count": 5,
   "metadata": {},
   "outputs": [],
   "source": [
    "# Task 4."
   ]
  },
  {
   "cell_type": "markdown",
   "metadata": {},
   "source": [
    "### Task 5\n",
    "Find an example of non-compatible array shapes for an operation, and explain why it fails. You can demonstrate using code or written text. If you use written text, be sure to switch the cell below to use Markdown."
   ]
  },
  {
   "cell_type": "code",
   "execution_count": 6,
   "metadata": {},
   "outputs": [],
   "source": [
    "# Task 5."
   ]
  },
  {
   "cell_type": "markdown",
   "metadata": {},
   "source": [
    "## NumPy Aggregate Functions\n",
    "NumPy also provides a variety of functions that \"aggregate\" data. \n",
    "Examples of aggreagation of data include calculating the sum of every element in the array, calculating the mean, standard deviation, etc.  Below are a few examples of aggregation functions provided by numpy:\n",
    "\n",
    "+ `np.sum()`\n",
    "+ `np.min()`\n",
    "+ `np.max()`\n",
    "+ `np.cumsum()`\n",
    "+ `np.mean()`\n",
    "+ `np.median()`\n",
    "+ `np.corrcoef()`\n",
    "+ `np.std()`\n",
    "\n",
    "For example:\n",
    "```Python\n",
    "# Calculate the sum of our demo data from above\n",
    "np.sum(demo_e)\n",
    "```\n"
   ]
  },
  {
   "cell_type": "markdown",
   "metadata": {},
   "source": [
    "### Task 6\n",
    "Create three to five arrays (or more as needed) and experiment with each of the aggregation functions above. For each function, add a comment line above it that describes what it does.  Use the [Numpy Function Reference](https://docs.scipy.org/doc/numpy/reference/routines.html) to learn more about each function."
   ]
  },
  {
   "cell_type": "code",
   "execution_count": 9,
   "metadata": {},
   "outputs": [],
   "source": [
    "# Task 6"
   ]
  },
  {
   "cell_type": "markdown",
   "metadata": {},
   "source": [
    "### Logical Aggregate Functions\n",
    "When arrays contain boolean values there are additional logical aggregation functions you can use: \n",
    "\n",
    " + `logical_and()`\n",
    " + `logical_or()`    \n",
    " + `logical_not()`    \n",
    " \n",
    "For example:\n",
    "```Python\n",
    "# Two lists of boolean values\n",
    "a = [True, True, False, False]\n",
    "b = [False, False, True, True]\n",
    "# Perform a logical \"or\":\n",
    "np.logical_or(a, b)\n",
    "```"
   ]
  },
  {
   "cell_type": "markdown",
   "metadata": {},
   "source": [
    "### Task 7\n",
    "\n",
    "Using the code cell below, practice using each of the three logical aggregate functions listed above."
   ]
  },
  {
   "cell_type": "code",
   "execution_count": 10,
   "metadata": {},
   "outputs": [],
   "source": [
    "# Task 7"
   ]
  },
  {
   "cell_type": "markdown",
   "metadata": {},
   "source": [
    "### TASK 8\n",
    "Perform the following in the code cell below:\n",
    "\n",
    "1. Create (or re-use) 3 arrays, each containing three dimensions.\n",
    "2. Slice each of these arrays so that:\n",
    "    + One element / number is returned.\n",
    "    + One dimension is returned.\n",
    "    + A subset of a dimension is returned.\n",
    "3. What is the difference between `[x:]` and `[x, ...]`? (hint, try on high-dimension arrays).\n",
    "    \n",
    "*Exactly what you choose to return is not imporant at this point, the goal of this task is to train you so that if you are given an n-dimension numpy array, you will be able to write an index or slice that returns a subset of desired positions.*"
   ]
  },
  {
   "cell_type": "code",
   "execution_count": 11,
   "metadata": {},
   "outputs": [],
   "source": [
    "# Task 8"
   ]
  },
  {
   "cell_type": "markdown",
   "metadata": {},
   "source": [
    "### TASK 9\n",
    "In the code cell below, experiment with the following boolean conditionals to generate boolean arrays for indexing:\n",
    "  + Greater than\n",
    "  + Less than\n",
    "  + Equals\n",
    "  + Combine two or more of the above with:\n",
    "      + or `|`\n",
    "      + and `&`\n",
    "\n",
    "You can create arrays or use existing ones:"
   ]
  },
  {
   "cell_type": "code",
   "execution_count": 12,
   "metadata": {},
   "outputs": [],
   "source": [
    "# Task 9"
   ]
  },
  {
   "cell_type": "markdown",
   "metadata": {},
   "source": [
    "### TASK 10\n",
    "\n",
    "In the code cell below, call `help()` on one of the following functions:\n",
    " + `np.transpose()`\n",
    " + `np.reshape()`\n",
    " + `np.resize()`\n",
    " + `np.ravel()`\n",
    " + `np.append()`\n",
    " + `np.delete()`\n",
    " + `np.concatenate()`\n",
    " + `np.vstack()`\n",
    " + `np.hstack()`\n",
    " + `np.column_stack()`\n",
    " + `np.vsplit()`\n",
    " + `np.hsplit()` "
   ]
  },
  {
   "cell_type": "code",
   "execution_count": 13,
   "metadata": {},
   "outputs": [],
   "source": [
    "# Task 10"
   ]
  },
  {
   "cell_type": "markdown",
   "metadata": {},
   "source": [
    "### Task 11\n",
    "Practice appending matricies to one another. In the code cell below perform the following:\n",
    " + Create a three dimensional array\n",
    " + append another row to the array\n",
    " + append another colum to the array\n",
    " + print the final results"
   ]
  },
  {
   "cell_type": "code",
   "execution_count": 8,
   "metadata": {},
   "outputs": [],
   "source": [
    "# Task 11"
   ]
  },
  {
   "cell_type": "code",
   "execution_count": null,
   "metadata": {},
   "outputs": [],
   "source": [
    "# Concatentate `my_array` and `x`: similar to np.append()\n",
    "my_array = np.array([1,2,3,4])\n",
    "x = np.array([1,1,1,1])\n",
    "print(\"concatenate:\")\n",
    "print(np.concatenate((my_array, x)))\n",
    "\n",
    "# Stack arrays row-wise\n",
    "my_2d_array = np.array([[1,2,3,4], [5,6,7,8]])\n",
    "print(\"\\nvstack:\")\n",
    "print(np.vstack((my_array, my_2d_array)))\n",
    "\n",
    "# Stack arrays horizontally\n",
    "print(\"\\nhstack:\")\n",
    "print(np.hstack((my_2d_array, my_2d_array)))\n",
    "\n",
    "# Stack arrays column-wise\n",
    "print(\"\\ncolumn_stack:\")\n",
    "print(np.column_stack((my_2d_array, my_2d_array)))\n"
   ]
  },
  {
   "cell_type": "markdown",
   "metadata": {},
   "source": [
    "### Task 12\n",
    "Examine the output from each of the function calls in the cell above. Also, review the help pages for each tool either using the `help()` command or the [Numpy Function Reference](https://docs.scipy.org/doc/numpy/reference/routines.html). Can you identify what is happening with each of them?"
   ]
  },
  {
   "cell_type": "code",
   "execution_count": 7,
   "metadata": {},
   "outputs": [],
   "source": [
    "# Task 12."
   ]
  },
  {
   "cell_type": "code",
   "execution_count": null,
   "metadata": {},
   "outputs": [],
   "source": [
    "# Create a 2D array.\n",
    "my_2d_array = np.array([[1,2,3,4], [5,6,7,8]])\n",
    "print(\"original:\")\n",
    "print(my_2d_array)\n",
    "\n",
    "# Split `my_stacked_array` horizontally at the 2nd index\n",
    "print(\"\\nhsplit:\")\n",
    "print(np.hsplit(my_2d_array, 2))\n",
    "\n",
    "# Split `my_stacked_array` vertically at the 2nd index\n",
    "print(\"\\nvsplit:\")\n",
    "print(np.vsplit(my_2d_array, 2))"
   ]
  },
  {
   "cell_type": "markdown",
   "metadata": {},
   "source": [
    "### Task 13\n",
    "Examine the output from each of the functions used in the cell above. Review the help pages for each tool either using the `help()` command or the [Numpy Function Reference](https://docs.scipy.org/doc/numpy/reference/routines.html). Can you identify what is happening with each of them?"
   ]
  },
  {
   "cell_type": "code",
   "execution_count": null,
   "metadata": {},
   "outputs": [],
   "source": [
    "# Task 13"
   ]
  }
 ],
 "metadata": {
  "kernelspec": {
   "display_name": "Python 3",
   "language": "python",
   "name": "python3"
  },
  "language_info": {
   "codemirror_mode": {
    "name": "ipython",
    "version": 3
   },
   "file_extension": ".py",
   "mimetype": "text/x-python",
   "name": "python",
   "nbconvert_exporter": "python",
   "pygments_lexer": "ipython3",
   "version": "3.7.1"
  }
 },
 "nbformat": 4,
 "nbformat_minor": 2
}
