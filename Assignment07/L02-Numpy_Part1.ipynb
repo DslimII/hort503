{
 "cells": [
  {
   "cell_type": "markdown",
   "metadata": {},
   "source": [
    "# Practice Exercises\n",
    "\n",
    "*Appying `numpy` to Conway's Game of Life.*\n",
    "\n",
    "We first introduced a model of the Game of Life as a way to introduce classes (objects). In this notebook we will instead use `numpy` to model the grid where our 'cells' live. Since it turns out that these cells do not require any more information that alive (1), or dead (0)."
   ]
  },
  {
   "cell_type": "markdown",
   "metadata": {},
   "source": [
    "## *Task -- Setup*\n",
    "\n",
    "**Import `numpy` as `np`.**"
   ]
  },
  {
   "cell_type": "code",
   "execution_count": 80,
   "metadata": {},
   "outputs": [],
   "source": [
    "# Setup imports.\n",
    "import numpy as np"
   ]
  },
  {
   "cell_type": "markdown",
   "metadata": {},
   "source": [
    "# Questions\n",
    "\n",
    "\n"
   ]
  },
  {
   "cell_type": "markdown",
   "metadata": {},
   "source": [
    "```python\n",
    "who_array = np.array([[[2,3,4,5], [1,2,3,4]], [[5,6,7,8], [1,2,3,4]]])\n",
    "\n",
    "print(who_array)\n",
    "\n",
    "you_array = np.append(who_array, [[[7], [8]], [[9], [1]]], axis=2)\n",
    "\n",
    "print(\"\\n\")\n",
    "\n",
    "print(you_array)\n",
    "\n",
    "me_array = np.append(you_array, [[[7], [4], [5], [4]]], axis=1)\n",
    "\n",
    "print(\"\\n\")\n",
    "\n",
    "print(me_array)\n",
    "```"
   ]
  },
  {
   "cell_type": "code",
   "execution_count": 81,
   "metadata": {},
   "outputs": [
    {
     "data": {
      "text/plain": [
       "array([[[2, 3, 4, 5],\n",
       "        [1, 2, 3, 4]],\n",
       "\n",
       "       [[5, 6, 7, 8],\n",
       "        [1, 2, 3, 4]]])"
      ]
     },
     "execution_count": 81,
     "metadata": {},
     "output_type": "execute_result"
    }
   ],
   "source": [
    "who_array = np.array([[[2,3,4,5], [1,2,3,4]], [[5,6,7,8], [1,2,3,4]]])\n",
    "who_array"
   ]
  },
  {
   "cell_type": "code",
   "execution_count": 82,
   "metadata": {},
   "outputs": [
    {
     "data": {
      "text/plain": [
       "(2, 2, 4)"
      ]
     },
     "execution_count": 82,
     "metadata": {},
     "output_type": "execute_result"
    }
   ],
   "source": [
    "who_array.shape  # Dimsions 2, 0, 1"
   ]
  },
  {
   "cell_type": "code",
   "execution_count": 83,
   "metadata": {},
   "outputs": [
    {
     "data": {
      "text/plain": [
       "array([[[2, 3, 4, 5, 7],\n",
       "        [1, 2, 3, 4, 8]],\n",
       "\n",
       "       [[5, 6, 7, 8, 9],\n",
       "        [1, 2, 3, 4, 1]]])"
      ]
     },
     "execution_count": 83,
     "metadata": {},
     "output_type": "execute_result"
    }
   ],
   "source": [
    "np.append(who_array, [[[7], [8]], [[9], [1]]], axis=2)"
   ]
  },
  {
   "cell_type": "code",
   "execution_count": 84,
   "metadata": {},
   "outputs": [
    {
     "data": {
      "text/plain": [
       "array([2, 3, 4, 5, 1, 2, 3, 4, 5, 6, 7, 8, 1, 2, 3, 4, 7, 8, 9, 1])"
      ]
     },
     "execution_count": 84,
     "metadata": {},
     "output_type": "execute_result"
    }
   ],
   "source": [
    "np.append(who_array, np.array([7, 8, 9, 1]))"
   ]
  },
  {
   "cell_type": "markdown",
   "metadata": {},
   "source": [
    "*Dimension Detail*"
   ]
  },
  {
   "cell_type": "code",
   "execution_count": 85,
   "metadata": {},
   "outputs": [
    {
     "data": {
      "text/plain": [
       "array([7, 8, 9, 1])"
      ]
     },
     "execution_count": 85,
     "metadata": {},
     "output_type": "execute_result"
    }
   ],
   "source": [
    "new_array = np.array([7, 8, 9, 1])\n",
    "new_array"
   ]
  },
  {
   "cell_type": "code",
   "execution_count": 86,
   "metadata": {},
   "outputs": [
    {
     "data": {
      "text/plain": [
       "(4,)"
      ]
     },
     "execution_count": 86,
     "metadata": {},
     "output_type": "execute_result"
    }
   ],
   "source": [
    "new_array.shape"
   ]
  },
  {
   "cell_type": "markdown",
   "metadata": {},
   "source": [
    "We are trying to add to what dimension?"
   ]
  },
  {
   "cell_type": "code",
   "execution_count": 87,
   "metadata": {},
   "outputs": [
    {
     "data": {
      "text/plain": [
       "array([[[2, 3, 4, 5],\n",
       "        [1, 2, 3, 4]],\n",
       "\n",
       "       [[5, 6, 7, 8],\n",
       "        [1, 2, 3, 4]]])"
      ]
     },
     "execution_count": 87,
     "metadata": {},
     "output_type": "execute_result"
    }
   ],
   "source": [
    "who_array[:, :, :]  # Get an entire copy, one slice per dimension."
   ]
  },
  {
   "cell_type": "code",
   "execution_count": 88,
   "metadata": {},
   "outputs": [
    {
     "data": {
      "text/plain": [
       "array([[[2, 3, 4, 5],\n",
       "        [1, 2, 3, 4]],\n",
       "\n",
       "       [[5, 6, 7, 8],\n",
       "        [1, 2, 3, 4]]])"
      ]
     },
     "execution_count": 88,
     "metadata": {},
     "output_type": "execute_result"
    }
   ],
   "source": [
    "who_array[...]  # Another way."
   ]
  },
  {
   "cell_type": "code",
   "execution_count": 89,
   "metadata": {},
   "outputs": [
    {
     "data": {
      "text/plain": [
       "array([[5, 4],\n",
       "       [8, 4]])"
      ]
     },
     "execution_count": 89,
     "metadata": {},
     "output_type": "execute_result"
    }
   ],
   "source": [
    "who_array[:, :, -1]  # Slice the last element from each dimension."
   ]
  },
  {
   "cell_type": "code",
   "execution_count": 90,
   "metadata": {},
   "outputs": [
    {
     "data": {
      "text/plain": [
       "array([[1, 2, 3, 4],\n",
       "       [1, 2, 3, 4]])"
      ]
     },
     "execution_count": 90,
     "metadata": {},
     "output_type": "execute_result"
    }
   ],
   "source": [
    "who_array[:, -1, :]"
   ]
  },
  {
   "cell_type": "code",
   "execution_count": 91,
   "metadata": {},
   "outputs": [
    {
     "data": {
      "text/plain": [
       "array([[5, 6, 7, 8],\n",
       "       [1, 2, 3, 4]])"
      ]
     },
     "execution_count": 91,
     "metadata": {},
     "output_type": "execute_result"
    }
   ],
   "source": [
    "who_array[-1, :, :]"
   ]
  },
  {
   "cell_type": "markdown",
   "metadata": {},
   "source": [
    "We want to add on to dimension `1`. What is the dimension of the slice we retrived?"
   ]
  },
  {
   "cell_type": "code",
   "execution_count": 92,
   "metadata": {},
   "outputs": [
    {
     "data": {
      "text/plain": [
       "(2, 2)"
      ]
     },
     "execution_count": 92,
     "metadata": {},
     "output_type": "execute_result"
    }
   ],
   "source": [
    "who_array[:, :, -1].shape"
   ]
  },
  {
   "cell_type": "code",
   "execution_count": 93,
   "metadata": {},
   "outputs": [
    {
     "data": {
      "text/plain": [
       "array([[[7],\n",
       "        [8]],\n",
       "\n",
       "       [[9],\n",
       "        [1]]])"
      ]
     },
     "execution_count": 93,
     "metadata": {},
     "output_type": "execute_result"
    }
   ],
   "source": [
    "new_array.reshape(2, 2, 1)"
   ]
  },
  {
   "cell_type": "code",
   "execution_count": 94,
   "metadata": {},
   "outputs": [
    {
     "data": {
      "text/plain": [
       "array([[[2, 3, 4, 5, 7],\n",
       "        [1, 2, 3, 4, 8]],\n",
       "\n",
       "       [[5, 6, 7, 8, 9],\n",
       "        [1, 2, 3, 4, 1]]])"
      ]
     },
     "execution_count": 94,
     "metadata": {},
     "output_type": "execute_result"
    }
   ],
   "source": [
    "np.append(who_array, new_array.reshape(2, 2, 1), axis=2)"
   ]
  },
  {
   "cell_type": "markdown",
   "metadata": {},
   "source": [
    "Or, in the documentation, under **Array manipulation routines**:\n",
    "\n",
    ">...  \n",
    "`dstack(tup)` \tStack arrays in sequence depth wise (along third axis).  \n",
    "`hstack(tup)`\tStack arrays in sequence horizontally (column wise).  \n",
    "`vstack(tup)` \tStack arrays in sequence vertically (row wise).  \n",
    "..."
   ]
  },
  {
   "cell_type": "code",
   "execution_count": 95,
   "metadata": {},
   "outputs": [
    {
     "data": {
      "text/plain": [
       "array([[[2, 3, 4, 5, 7],\n",
       "        [1, 2, 3, 4, 8]],\n",
       "\n",
       "       [[5, 6, 7, 8, 9],\n",
       "        [1, 2, 3, 4, 1]]])"
      ]
     },
     "execution_count": 95,
     "metadata": {},
     "output_type": "execute_result"
    }
   ],
   "source": [
    "np.dstack([who_array, new_array.reshape(2,2)])"
   ]
  },
  {
   "cell_type": "markdown",
   "metadata": {},
   "source": [
    "## Game of Life Overview\n",
    "\n",
    "\n",
    "The rules, as summarized by [Wolfram Alpha](http://mathworld.wolfram.com/GameofLife.html).\n",
    "\n",
    "> All eight of the cells surrounding the current one are checked to see if they are on or not. Any cells that are on are counted, and this count is then used to determine what will happen to the current cell.\n",
    "1. **Death**: if the count is less than 2 or greater than 3, the current cell is switched off.\n",
    "2. **Survival**: if (a) the count is exactly 2, or (b) the count is exactly 3 and the current cell is on, the current cell is left unchanged.\n",
    "3. **Birth**: if the current cell is off and the count is exactly 3, the current cell is switched on. \n",
    "\n",
    "It turns out that some people are *really* into this game. There are a large number of solutions available online, we will look at a few, and consider our own.\n",
    "\n",
    "\n",
    "#### Solutions Examined\n",
    "\n",
    "+ [Peter Norvig](https://nbviewer.jupyter.org/url/norvig.com/ipython/Life.ipynb) -- *Does not model a grid, instead keeps track of a set of cells (as coordinate tuples), then draws a grid. Entire thing runs in a jupyter notebook. Writes great (and fast) code, but has a tendancy to rename (alias) builtins.*\n",
    "+ [Holoviews Solution](http://holoviews.org/gallery/apps/bokeh/game_of_life.html#bokeh-gallery-game-of-life) -- *This implementation is exceptionally brief, as it is able to use some features from the `Holoviews` package, for drawing and 'ticking' the world.*\n",
    "\n",
    "\n",
    "*General Information:*  \n",
    "+ [See How seriously people are in to this.](http://www.conwaylife.com/)\n",
    "+ [Wikipidia Ariticle](https://en.wikipedia.org/wiki/Conway%27s_Game_of_Life)"
   ]
  },
  {
   "cell_type": "markdown",
   "metadata": {},
   "source": [
    "![Breader pattern](https://upload.wikimedia.org/wikipedia/commons/e/e6/Conways_game_of_life_breeder_animation.gif)"
   ]
  },
  {
   "cell_type": "markdown",
   "metadata": {},
   "source": [
    "---\n",
    "\n",
    "## Keep it Simple\n",
    "\n",
    "*Walk through of a simple solution.*\n",
    "\n",
    "Get it working first. Then try to make it better.\n",
    "\n",
    "### Building a Grid\n",
    "\n",
    "Recall that there are 'array constructor' functions in numpy that are nice for building up arrays."
   ]
  },
  {
   "cell_type": "code",
   "execution_count": 96,
   "metadata": {},
   "outputs": [
    {
     "data": {
      "text/plain": [
       "array([[0., 0., 0., 0., 0., 0., 0., 0., 0., 0.],\n",
       "       [0., 0., 0., 0., 0., 0., 0., 0., 0., 0.],\n",
       "       [0., 0., 0., 0., 0., 0., 0., 0., 0., 0.],\n",
       "       [0., 0., 0., 0., 0., 0., 0., 0., 0., 0.],\n",
       "       [0., 0., 0., 0., 0., 0., 0., 0., 0., 0.],\n",
       "       [0., 0., 0., 0., 0., 0., 0., 0., 0., 0.],\n",
       "       [0., 0., 0., 0., 0., 0., 0., 0., 0., 0.],\n",
       "       [0., 0., 0., 0., 0., 0., 0., 0., 0., 0.],\n",
       "       [0., 0., 0., 0., 0., 0., 0., 0., 0., 0.],\n",
       "       [0., 0., 0., 0., 0., 0., 0., 0., 0., 0.]])"
      ]
     },
     "execution_count": 96,
     "metadata": {},
     "output_type": "execute_result"
    }
   ],
   "source": [
    "# A 10 by 10 grid of dead cells.\n",
    "np.zeros((10, 10))"
   ]
  },
  {
   "cell_type": "markdown",
   "metadata": {},
   "source": [
    "*Perhaps we want a randomly populated grid.*\n",
    "\n",
    "```python\n",
    "np.randint(low[, high, size, dtype])\n",
    "```"
   ]
  },
  {
   "cell_type": "code",
   "execution_count": 97,
   "metadata": {},
   "outputs": [
    {
     "data": {
      "text/plain": [
       "array([[0, 1, 0, 0, 0, 1, 0, 0, 0, 1],\n",
       "       [0, 1, 1, 0, 1, 1, 0, 0, 1, 0],\n",
       "       [0, 0, 1, 0, 1, 1, 0, 0, 0, 1],\n",
       "       [1, 0, 0, 1, 0, 1, 0, 1, 1, 0],\n",
       "       [1, 1, 1, 0, 0, 0, 0, 0, 1, 1],\n",
       "       [0, 0, 1, 0, 0, 1, 0, 1, 0, 0],\n",
       "       [0, 0, 1, 0, 1, 1, 1, 1, 1, 1],\n",
       "       [0, 1, 1, 1, 1, 1, 0, 0, 0, 0],\n",
       "       [0, 1, 1, 0, 0, 1, 1, 1, 1, 1],\n",
       "       [1, 0, 1, 0, 1, 1, 0, 0, 0, 1]])"
      ]
     },
     "execution_count": 97,
     "metadata": {},
     "output_type": "execute_result"
    }
   ],
   "source": [
    "np.random.randint(0, 2, (10, 10), np.int)"
   ]
  },
  {
   "cell_type": "markdown",
   "metadata": {},
   "source": [
    "*These are all well and good, but if you want unique numbers to help wrap your head around indexing...*"
   ]
  },
  {
   "cell_type": "code",
   "execution_count": 98,
   "metadata": {},
   "outputs": [
    {
     "data": {
      "text/plain": [
       "array([[ 0,  1,  2,  3,  4,  5,  6,  7,  8,  9],\n",
       "       [10, 11, 12, 13, 14, 15, 16, 17, 18, 19],\n",
       "       [20, 21, 22, 23, 24, 25, 26, 27, 28, 29],\n",
       "       [30, 31, 32, 33, 34, 35, 36, 37, 38, 39],\n",
       "       [40, 41, 42, 43, 44, 45, 46, 47, 48, 49],\n",
       "       [50, 51, 52, 53, 54, 55, 56, 57, 58, 59],\n",
       "       [60, 61, 62, 63, 64, 65, 66, 67, 68, 69],\n",
       "       [70, 71, 72, 73, 74, 75, 76, 77, 78, 79],\n",
       "       [80, 81, 82, 83, 84, 85, 86, 87, 88, 89],\n",
       "       [90, 91, 92, 93, 94, 95, 96, 97, 98, 99]])"
      ]
     },
     "execution_count": 98,
     "metadata": {},
     "output_type": "execute_result"
    }
   ],
   "source": [
    "unique_grid = np.arange(0, 100).reshape((10, 10))\n",
    "unique_grid"
   ]
  },
  {
   "cell_type": "markdown",
   "metadata": {},
   "source": [
    "### Determining Fates\n",
    "\n",
    "*We will now impose time and our cruel will upon these innocent worlds.*\n",
    "\n",
    "How can we calculate if a cell should live or die?"
   ]
  },
  {
   "cell_type": "code",
   "execution_count": 99,
   "metadata": {},
   "outputs": [],
   "source": [
    "# Recall some indexing, start with getting just one cell.\n",
    "grid = np.random.randint(0, 2, (10, 10), np.int)"
   ]
  },
  {
   "cell_type": "code",
   "execution_count": 100,
   "metadata": {},
   "outputs": [
    {
     "data": {
      "text/plain": [
       "array([0, 1, 2, 3, 4, 5, 6, 7, 8, 9])"
      ]
     },
     "execution_count": 100,
     "metadata": {},
     "output_type": "execute_result"
    }
   ],
   "source": [
    "# These two calls are equivalent.\n",
    "assert all(unique_grid[0] == unique_grid[0, :])\n",
    "\n",
    "# Choose to be explicit when learning.\n",
    "unique_grid[0, :]  # A horizontal slize."
   ]
  },
  {
   "cell_type": "code",
   "execution_count": 101,
   "metadata": {},
   "outputs": [
    {
     "data": {
      "text/plain": [
       "array([ 0, 10, 20, 30, 40, 50, 60, 70, 80, 90])"
      ]
     },
     "execution_count": 101,
     "metadata": {},
     "output_type": "execute_result"
    }
   ],
   "source": [
    "unique_grid[:, 0]  # A vertical slice."
   ]
  },
  {
   "cell_type": "markdown",
   "metadata": {},
   "source": [
    "Slices can be passed too."
   ]
  },
  {
   "cell_type": "code",
   "execution_count": 102,
   "metadata": {},
   "outputs": [
    {
     "data": {
      "text/plain": [
       "array([[ 0,  1,  2],\n",
       "       [10, 11, 12],\n",
       "       [20, 21, 22]])"
      ]
     },
     "execution_count": 102,
     "metadata": {},
     "output_type": "execute_result"
    }
   ],
   "source": [
    "unique_grid[0:3, 0:3]"
   ]
  },
  {
   "cell_type": "code",
   "execution_count": 103,
   "metadata": {},
   "outputs": [
    {
     "data": {
      "text/plain": [
       "array([[55, 56, 57],\n",
       "       [65, 66, 67],\n",
       "       [75, 76, 77]])"
      ]
     },
     "execution_count": 103,
     "metadata": {},
     "output_type": "execute_result"
    }
   ],
   "source": [
    "unique_grid[5:8, 5:8]"
   ]
  },
  {
   "cell_type": "markdown",
   "metadata": {},
   "source": [
    "### Looping of the Array\n",
    "\n",
    "If you want to loop over something in Python, don't bother with indexes unless you have a specific order you need to go through. Simply call the object in a loop.\n",
    "\n",
    "*This usually access the __iter__() function of a given object.*"
   ]
  },
  {
   "cell_type": "code",
   "execution_count": 104,
   "metadata": {},
   "outputs": [
    {
     "name": "stdout",
     "output_type": "stream",
     "text": [
      "[0 1 2 3 4 5 6 7 8 9]\n",
      "0\n",
      "1\n",
      "2\n",
      "3\n",
      "4\n",
      "5\n",
      "6\n",
      "7\n",
      "8\n",
      "9\n"
     ]
    }
   ],
   "source": [
    "for row in unique_grid:\n",
    "    print(row)\n",
    "    for item in row:\n",
    "        print(item)\n",
    "    break  # Stop this loop."
   ]
  },
  {
   "cell_type": "markdown",
   "metadata": {},
   "source": [
    "**I want my loop and I want my numbers together or I am taking my ball and going home.**"
   ]
  },
  {
   "cell_type": "code",
   "execution_count": 105,
   "metadata": {},
   "outputs": [
    {
     "name": "stdout",
     "output_type": "stream",
     "text": [
      "0 0\n",
      "0 1\n",
      "0 2\n",
      "0 3\n",
      "0 4\n",
      "0 5\n",
      "0 6\n",
      "0 7\n",
      "0 8\n",
      "0 9\n"
     ]
    }
   ],
   "source": [
    "for row_index, row in enumerate(unique_grid):\n",
    "    for col_index, cell in enumerate(row):\n",
    "        print(row_index, col_index)\n",
    "    break"
   ]
  },
  {
   "cell_type": "markdown",
   "metadata": {},
   "source": [
    "### Getting the Neighbors\n",
    "\n",
    "*And your little dog, too.*\n",
    "\n",
    "With the grid, indexing and looping in their first forms, we are ready to start composing functions. Let's write a function that loops over a given grid, and prints the coordinates of its 8 neighbors.\n",
    "\n",
    "*We can make an easy start by using some code from above:*"
   ]
  },
  {
   "cell_type": "code",
   "execution_count": 106,
   "metadata": {},
   "outputs": [],
   "source": [
    "def display_neighbor_coords(input_grid):\n",
    "    print(\"Showing current loop position...\")\n",
    "    for row_index, row in enumerate(input_grid):\n",
    "        for col_index, cell in enumerate(row):\n",
    "            print(row_index, col_index)"
   ]
  },
  {
   "cell_type": "markdown",
   "metadata": {},
   "source": [
    "Test it with a smaller grid to avoid printing 100+ lines."
   ]
  },
  {
   "cell_type": "code",
   "execution_count": 107,
   "metadata": {},
   "outputs": [
    {
     "data": {
      "text/plain": [
       "array([[0, 1, 0],\n",
       "       [1, 1, 0],\n",
       "       [1, 1, 0]])"
      ]
     },
     "execution_count": 107,
     "metadata": {},
     "output_type": "execute_result"
    }
   ],
   "source": [
    "test_grid = np.random.randint(0, 2, (3, 3), np.int)\n",
    "test_grid"
   ]
  },
  {
   "cell_type": "code",
   "execution_count": 108,
   "metadata": {},
   "outputs": [
    {
     "name": "stdout",
     "output_type": "stream",
     "text": [
      "Showing current loop position...\n",
      "0 0\n",
      "0 1\n",
      "0 2\n",
      "1 0\n",
      "1 1\n",
      "1 2\n",
      "2 0\n",
      "2 1\n",
      "2 2\n"
     ]
    }
   ],
   "source": [
    "display_neighbor_coords(test_grid)"
   ]
  },
  {
   "cell_type": "markdown",
   "metadata": {},
   "source": [
    "Actually getting the neighbors is separate from the loop. Come to think of it... If we want to know the coordinates of anyones neighbors, we need only know their coordinates."
   ]
  },
  {
   "cell_type": "code",
   "execution_count": 109,
   "metadata": {},
   "outputs": [],
   "source": [
    "def get_neighbor_indexes(x, y):\n",
    "    \"\"\"Return a set of indexes of the 8 neighbors to x, y.\"\"\"\n",
    "    return  [(x - 1, y + 1), (x, y + 1), (x + 1, y + 1),\n",
    "             (x - 1, y    ),             (x + 1, y    ),  # My actual 'center' (x, y) is in the hole here.\n",
    "             (x - 1, y - 1), (x, y - 1), (x + 1, y - 1)]"
   ]
  },
  {
   "cell_type": "markdown",
   "metadata": {},
   "source": [
    "Why tuples?"
   ]
  },
  {
   "cell_type": "code",
   "execution_count": 110,
   "metadata": {},
   "outputs": [
    {
     "data": {
      "text/plain": [
       "[(-1, 1), (0, 1), (1, 1), (-1, 0), (1, 0), (-1, -1), (0, -1), (1, -1)]"
      ]
     },
     "execution_count": 110,
     "metadata": {},
     "output_type": "execute_result"
    }
   ],
   "source": [
    "get_neighbor_indexes(0, 0)"
   ]
  },
  {
   "cell_type": "code",
   "execution_count": 111,
   "metadata": {},
   "outputs": [
    {
     "data": {
      "text/plain": [
       "[(4, 6), (5, 6), (6, 6), (4, 5), (6, 5), (4, 4), (5, 4), (6, 4)]"
      ]
     },
     "execution_count": 111,
     "metadata": {},
     "output_type": "execute_result"
    }
   ],
   "source": [
    "get_neighbor_indexes(5, 5)"
   ]
  },
  {
   "cell_type": "markdown",
   "metadata": {},
   "source": [
    "Another approach would be to slice around the x, y location."
   ]
  },
  {
   "cell_type": "code",
   "execution_count": 2,
   "metadata": {},
   "outputs": [],
   "source": [
    "def get_neighbor_coors(grid, x, y):\n",
    "    return grid[x - 1 : x + 2, \n",
    "                y - 1 : y + 2]"
   ]
  },
  {
   "cell_type": "code",
   "execution_count": 113,
   "metadata": {},
   "outputs": [
    {
     "data": {
      "text/plain": [
       "array([[11, 12, 13],\n",
       "       [21, 22, 23],\n",
       "       [31, 32, 33]])"
      ]
     },
     "execution_count": 113,
     "metadata": {},
     "output_type": "execute_result"
    }
   ],
   "source": [
    "get_neighbor_coors(unique_grid, 2, 2)"
   ]
  },
  {
   "cell_type": "code",
   "execution_count": 114,
   "metadata": {},
   "outputs": [
    {
     "data": {
      "text/plain": [
       "array([[46, 47, 48],\n",
       "       [56, 57, 58],\n",
       "       [66, 67, 68]])"
      ]
     },
     "execution_count": 114,
     "metadata": {},
     "output_type": "execute_result"
    }
   ],
   "source": [
    "get_neighbor_coors(unique_grid, 5,7)  # Let's not concern ourselves with edge cases for now."
   ]
  },
  {
   "cell_type": "markdown",
   "metadata": {},
   "source": [
    "In this case we could apply another 'mask' of booleans to remove thie center point."
   ]
  },
  {
   "cell_type": "code",
   "execution_count": 164,
   "metadata": {},
   "outputs": [
    {
     "data": {
      "text/plain": [
       "array([[ True,  True,  True],\n",
       "       [ True, False,  True],\n",
       "       [ True,  True,  True]])"
      ]
     },
     "execution_count": 164,
     "metadata": {},
     "output_type": "execute_result"
    }
   ],
   "source": [
    "bool_idx = np.array([[True, True, True], [True, False, True], [True, True, True]])\n",
    "bool_idx"
   ]
  },
  {
   "cell_type": "code",
   "execution_count": 165,
   "metadata": {},
   "outputs": [
    {
     "data": {
      "text/plain": [
       "array([11, 12, 13, 21, 23, 31, 32, 33])"
      ]
     },
     "execution_count": 165,
     "metadata": {},
     "output_type": "execute_result"
    }
   ],
   "source": [
    "get_neighbor_coors(unique_grid, 2, 2)[bool_idx]"
   ]
  },
  {
   "cell_type": "markdown",
   "metadata": {},
   "source": [
    "## Consider the Life and Death Conditions\n",
    "\n",
    "First lets finalize an application of our neighbor fetching to a grid of 0 and 1."
   ]
  },
  {
   "cell_type": "code",
   "execution_count": 117,
   "metadata": {},
   "outputs": [
    {
     "data": {
      "text/plain": [
       "array([[0, 1, 0, 1, 1, 0, 1, 1, 0, 0],\n",
       "       [1, 1, 1, 0, 1, 1, 1, 0, 0, 0],\n",
       "       [1, 0, 0, 1, 0, 0, 0, 0, 1, 0],\n",
       "       [0, 1, 1, 1, 1, 0, 0, 0, 1, 0],\n",
       "       [0, 0, 1, 1, 1, 0, 0, 0, 1, 0],\n",
       "       [1, 1, 0, 1, 0, 0, 1, 0, 0, 0],\n",
       "       [0, 1, 0, 0, 1, 0, 0, 1, 0, 0],\n",
       "       [1, 1, 1, 1, 0, 1, 0, 1, 0, 0],\n",
       "       [1, 1, 0, 1, 0, 0, 1, 0, 1, 0],\n",
       "       [1, 1, 1, 0, 1, 1, 1, 1, 1, 1]])"
      ]
     },
     "execution_count": 117,
     "metadata": {},
     "output_type": "execute_result"
    }
   ],
   "source": [
    "grid = np.random.randint(0, 2, (10, 10), np.int)\n",
    "grid"
   ]
  },
  {
   "cell_type": "code",
   "execution_count": 118,
   "metadata": {},
   "outputs": [],
   "source": [
    "def neighbors_1(grid, x, y):\n",
    "    return [grid[coords] for coords in get_neighbor_indexes(x, y)]"
   ]
  },
  {
   "cell_type": "code",
   "execution_count": 119,
   "metadata": {},
   "outputs": [
    {
     "data": {
      "text/plain": [
       "[13, 23, 33, 12, 32, 11, 21, 31]"
      ]
     },
     "execution_count": 119,
     "metadata": {},
     "output_type": "execute_result"
    }
   ],
   "source": [
    "neighbors_1(unique_grid, 2, 2)"
   ]
  },
  {
   "cell_type": "code",
   "execution_count": 120,
   "metadata": {},
   "outputs": [
    {
     "data": {
      "text/plain": [
       "[0, 1, 1, 1, 1, 1, 0, 1]"
      ]
     },
     "execution_count": 120,
     "metadata": {},
     "output_type": "execute_result"
    }
   ],
   "source": [
    "neighbors_1(grid, 2, 2)"
   ]
  },
  {
   "cell_type": "code",
   "execution_count": 121,
   "metadata": {},
   "outputs": [],
   "source": [
    "def neighbors_2(grid, x, y):\n",
    "    bool_idx = np.array([[True, True, True], [True, False, True], [True, True, True]])\n",
    "    return get_neighbor_coors(grid, x, y)[bool_idx]"
   ]
  },
  {
   "cell_type": "code",
   "execution_count": 122,
   "metadata": {},
   "outputs": [
    {
     "data": {
      "text/plain": [
       "array([11, 12, 13, 21, 23, 31, 32, 33])"
      ]
     },
     "execution_count": 122,
     "metadata": {},
     "output_type": "execute_result"
    }
   ],
   "source": [
    "neighbors_2(unique_grid, 2, 2)"
   ]
  },
  {
   "cell_type": "code",
   "execution_count": 123,
   "metadata": {},
   "outputs": [
    {
     "data": {
      "text/plain": [
       "array([1, 1, 0, 0, 1, 1, 1, 1])"
      ]
     },
     "execution_count": 123,
     "metadata": {},
     "output_type": "execute_result"
    }
   ],
   "source": [
    "neighbors_2(grid, 2, 2)"
   ]
  },
  {
   "cell_type": "markdown",
   "metadata": {},
   "source": [
    "## Calculating Life and Death\n",
    "\n",
    "> All eight of the cells surrounding the current one are checked to see if they are on or not. Any cells that are on are counted, and this count is then used to determine what will happen to the current cell.\n",
    "1. **Death**: if the count is less than 2 or greater than 3, the current cell is switched off.\n",
    "2. **Survival**: if (a) the count is exactly 2, or (b) the count is exactly 3 and the current cell is on, the current cell is left unchanged.\n",
    "3. **Birth**: if the current cell is off and the count is exactly 3, the current cell is switched on. "
   ]
  },
  {
   "cell_type": "code",
   "execution_count": 1,
   "metadata": {},
   "outputs": [],
   "source": [
    "def determine_fate(grid, x, y):\n",
    "    \n",
    "    neighbors = neighbors_2(grid, x, y)\n",
    "    \n",
    "    xy_state = grid[(x, y)]\n",
    "\n",
    "    print(f\"Center cell state: {xy_state}\")\n",
    "    \n",
    "    alive_neighbors = np.sum(neighbors)\n",
    "    print(f\"Alive neighbors: {alive_neighbors}\")\n",
    "    \n",
    "    if xy_state == 0 and alive_neighbors == 3:\n",
    "        print('Birth!')\n",
    "        return 1\n",
    "    \n",
    "    if xy_state == 1 and (alive_neighbors == 2 or alive_neighbors == 3):\n",
    "        print('Staying alive.')\n",
    "        return 1\n",
    "    \n",
    "    if xy_state == 1 and (alive_neighbors < 2 or alive_neighbors > 3):\n",
    "        print('Another one bites the dust.')\n",
    "        return 0\n",
    "\n",
    "    return None  # This is not needed, it is implicit."
   ]
  },
  {
   "cell_type": "code",
   "execution_count": 125,
   "metadata": {},
   "outputs": [
    {
     "name": "stdout",
     "output_type": "stream",
     "text": [
      "Center cell state: 1\n",
      "Alive neighbors: 6\n",
      "Another one bites the dust.\n"
     ]
    },
    {
     "data": {
      "text/plain": [
       "0"
      ]
     },
     "execution_count": 125,
     "metadata": {},
     "output_type": "execute_result"
    }
   ],
   "source": [
    "determine_fate(grid, 3, 3)"
   ]
  },
  {
   "cell_type": "markdown",
   "metadata": {},
   "source": [
    "If only we could test it..."
   ]
  },
  {
   "cell_type": "code",
   "execution_count": 126,
   "metadata": {},
   "outputs": [],
   "source": [
    "# Nothing should happen here.\n",
    "test_1 = np.array([\n",
    "    [0, 0, 0],\n",
    "    [0, 0, 0],\n",
    "    [0, 0, 0]\n",
    "])\n",
    "\n",
    "# This cell should perish.\n",
    "test_2 = np.array([\n",
    "    [0, 0, 0],\n",
    "    [0, 1, 0],\n",
    "    [0, 0, 0]\n",
    "])\n",
    "\n",
    "# This cell should be born.\n",
    "test_3 = np.array([\n",
    "    [0, 1, 0],\n",
    "    [0, 0, 1],\n",
    "    [0, 1, 0]\n",
    "])\n",
    "\n",
    "\n",
    "# This cell should live.\n",
    "test_4 = np.array([\n",
    "    [0, 0, 0],\n",
    "    [0, 1, 0],\n",
    "    [0, 1, 1]\n",
    "])"
   ]
  },
  {
   "cell_type": "markdown",
   "metadata": {},
   "source": [
    "`(1, 1)` should be the center, and the desired 'test cell'."
   ]
  },
  {
   "cell_type": "code",
   "execution_count": 127,
   "metadata": {},
   "outputs": [
    {
     "name": "stdout",
     "output_type": "stream",
     "text": [
      "Center cell state: 0\n",
      "Alive neighbors: 0\n"
     ]
    }
   ],
   "source": [
    "determine_fate(test_1, 1, 1)"
   ]
  },
  {
   "cell_type": "code",
   "execution_count": 128,
   "metadata": {},
   "outputs": [
    {
     "name": "stdout",
     "output_type": "stream",
     "text": [
      "Center cell state: 1\n",
      "Alive neighbors: 0\n",
      "Another one bites the dust.\n"
     ]
    },
    {
     "data": {
      "text/plain": [
       "0"
      ]
     },
     "execution_count": 128,
     "metadata": {},
     "output_type": "execute_result"
    }
   ],
   "source": [
    "determine_fate(test_2, 1, 1)"
   ]
  },
  {
   "cell_type": "code",
   "execution_count": 129,
   "metadata": {},
   "outputs": [
    {
     "name": "stdout",
     "output_type": "stream",
     "text": [
      "Center cell state: 0\n",
      "Alive neighbors: 3\n",
      "Birth!\n"
     ]
    },
    {
     "data": {
      "text/plain": [
       "1"
      ]
     },
     "execution_count": 129,
     "metadata": {},
     "output_type": "execute_result"
    }
   ],
   "source": [
    "determine_fate(test_3, 1, 1)"
   ]
  },
  {
   "cell_type": "code",
   "execution_count": 130,
   "metadata": {},
   "outputs": [
    {
     "name": "stdout",
     "output_type": "stream",
     "text": [
      "Center cell state: 1\n",
      "Alive neighbors: 2\n",
      "Staying alive.\n"
     ]
    },
    {
     "data": {
      "text/plain": [
       "1"
      ]
     },
     "execution_count": 130,
     "metadata": {},
     "output_type": "execute_result"
    }
   ],
   "source": [
    "determine_fate(test_4, 1, 1)"
   ]
  },
  {
   "cell_type": "markdown",
   "metadata": {},
   "source": [
    "# Time"
   ]
  },
  {
   "cell_type": "code",
   "execution_count": 131,
   "metadata": {},
   "outputs": [],
   "source": [
    "import time"
   ]
  },
  {
   "cell_type": "code",
   "execution_count": 143,
   "metadata": {},
   "outputs": [],
   "source": [
    "def run_world(grid, ticks=1000):\n",
    "    \n",
    "    for t in np.arange(ticks):\n",
    "        \n",
    "        # Calculate the fate of the cells.\n",
    "        \n",
    "        # Update (or replace) the grid.\n",
    "        \n",
    "        # Display the new grid.\n",
    "        \n",
    "        # Wait for the humans to grow complacent.\n",
    "        time.sleep(0.05)  # 1/20 seconds."
   ]
  },
  {
   "cell_type": "markdown",
   "metadata": {},
   "source": [
    "Plan your functions!"
   ]
  },
  {
   "cell_type": "markdown",
   "metadata": {},
   "source": [
    "---\n",
    "\n",
    "# Holoviews Solution\n",
    "\n",
    "Examine what is happening here.\n",
    "\n",
    "```python\n",
    "def step(X):\n",
    "    nbrs_count = convolve2d(X, np.ones((3, 3)), mode='same', boundary='wrap') - X\n",
    "    return (nbrs_count == 3) | (X & (nbrs_count == 2))\n",
    "```\n",
    "\n",
    "The `convolve2d()` function is from the `scipy.signal` package. While we wont cover this function (or most of `scipy` in this class, a quick dive into another package can make a good lesson. See if you can figure out what the function above does with the help of the code below."
   ]
  },
  {
   "cell_type": "code",
   "execution_count": 134,
   "metadata": {},
   "outputs": [],
   "source": [
    "from scipy.signal import convolve2d"
   ]
  },
  {
   "cell_type": "code",
   "execution_count": 135,
   "metadata": {},
   "outputs": [],
   "source": [
    "def test_convolve2d(in1, in2, mode='full', boundary='fill', fillvalue=0):\n",
    "    # The defualt arguments for the function are filled above.\n",
    "    print('Input array:')\n",
    "    print(in1)\n",
    "    out = convolve2d(in1, in2, mode, boundary, fillvalue)\n",
    "    print('Output:')\n",
    "    print(out)"
   ]
  },
  {
   "cell_type": "code",
   "execution_count": 136,
   "metadata": {},
   "outputs": [
    {
     "name": "stdout",
     "output_type": "stream",
     "text": [
      "Input array:\n",
      "[[0 0 0]\n",
      " [0 0 0]\n",
      " [0 0 0]]\n",
      "Output:\n",
      "[[0. 0. 0.]\n",
      " [0. 0. 0.]\n",
      " [0. 0. 0.]]\n"
     ]
    }
   ],
   "source": [
    "test_convolve2d(test_1, np.ones((3, 3)), mode='same')"
   ]
  },
  {
   "cell_type": "code",
   "execution_count": 137,
   "metadata": {},
   "outputs": [
    {
     "name": "stdout",
     "output_type": "stream",
     "text": [
      "Input array:\n",
      "[[0 0 0]\n",
      " [0 1 0]\n",
      " [0 0 0]]\n",
      "Output:\n",
      "[[1. 1. 1.]\n",
      " [1. 1. 1.]\n",
      " [1. 1. 1.]]\n"
     ]
    }
   ],
   "source": [
    "test_convolve2d(test_2, np.ones((3, 3)), mode='same')"
   ]
  },
  {
   "cell_type": "code",
   "execution_count": 138,
   "metadata": {},
   "outputs": [
    {
     "name": "stdout",
     "output_type": "stream",
     "text": [
      "Input array:\n",
      "[[0 1 0]\n",
      " [0 0 1]\n",
      " [0 1 0]]\n",
      "Output:\n",
      "[[1. 2. 2.]\n",
      " [2. 3. 3.]\n",
      " [1. 2. 2.]]\n"
     ]
    }
   ],
   "source": [
    "test_convolve2d(test_3, np.ones((3, 3)), mode='same')"
   ]
  },
  {
   "cell_type": "code",
   "execution_count": 139,
   "metadata": {},
   "outputs": [
    {
     "name": "stdout",
     "output_type": "stream",
     "text": [
      "Input array:\n",
      "[[0 0 0]\n",
      " [0 1 0]\n",
      " [0 1 1]]\n",
      "Output:\n",
      "[[1. 1. 1.]\n",
      " [2. 3. 3.]\n",
      " [2. 3. 3.]]\n"
     ]
    }
   ],
   "source": [
    "test_convolve2d(test_4, np.ones((3, 3)), mode='same')"
   ]
  },
  {
   "cell_type": "code",
   "execution_count": 140,
   "metadata": {},
   "outputs": [
    {
     "name": "stdout",
     "output_type": "stream",
     "text": [
      "Input array:\n",
      "[[0 1 0 1 1 0 1 1 0 0]\n",
      " [1 1 1 0 1 1 1 0 0 0]\n",
      " [1 0 0 1 0 0 0 0 1 0]\n",
      " [0 1 1 1 1 0 0 0 1 0]\n",
      " [0 0 1 1 1 0 0 0 1 0]\n",
      " [1 1 0 1 0 0 1 0 0 0]\n",
      " [0 1 0 0 1 0 0 1 0 0]\n",
      " [1 1 1 1 0 1 0 1 0 0]\n",
      " [1 1 0 1 0 0 1 0 1 0]\n",
      " [1 1 1 0 1 1 1 1 1 1]]\n",
      "Output:\n",
      "[[3. 4. 4. 4. 4. 5. 4. 3. 1. 0.]\n",
      " [4. 5. 5. 5. 5. 5. 4. 4. 2. 1.]\n",
      " [4. 6. 6. 6. 5. 4. 2. 3. 2. 2.]\n",
      " [2. 4. 6. 7. 5. 2. 0. 3. 3. 3.]\n",
      " [3. 5. 7. 7. 5. 3. 1. 3. 2. 2.]\n",
      " [3. 4. 5. 5. 4. 3. 2. 3. 2. 1.]\n",
      " [5. 6. 6. 4. 4. 3. 4. 3. 2. 0.]\n",
      " [5. 6. 6. 4. 4. 3. 4. 4. 3. 1.]\n",
      " [6. 8. 7. 5. 5. 5. 6. 6. 5. 3.]\n",
      " [4. 5. 4. 3. 3. 4. 4. 5. 4. 3.]]\n"
     ]
    }
   ],
   "source": [
    "test_convolve2d(grid, np.ones((3, 3)), mode='same')"
   ]
  },
  {
   "cell_type": "code",
   "execution_count": 146,
   "metadata": {},
   "outputs": [
    {
     "data": {
      "text/plain": [
       "array([[3., 3., 4., 3., 3., 5., 3., 2., 1., 0.],\n",
       "       [3., 4., 4., 5., 4., 4., 3., 4., 2., 1.],\n",
       "       [3., 6., 6., 5., 5., 4., 2., 3., 1., 2.],\n",
       "       [2., 3., 5., 6., 4., 2., 0., 3., 2., 3.],\n",
       "       [3., 5., 6., 6., 4., 3., 1., 3., 1., 2.],\n",
       "       [2., 3., 5., 4., 4., 3., 1., 3., 2., 1.],\n",
       "       [5., 5., 6., 4., 3., 3., 4., 2., 2., 0.],\n",
       "       [4., 5., 5., 3., 4., 2., 4., 3., 3., 1.],\n",
       "       [5., 7., 7., 4., 5., 5., 5., 6., 4., 3.],\n",
       "       [3., 4., 3., 3., 2., 3., 3., 4., 3., 2.]])"
      ]
     },
     "execution_count": 146,
     "metadata": {},
     "output_type": "execute_result"
    }
   ],
   "source": [
    "nbrs_count = convolve2d(grid, np.ones((3, 3)), mode='same') - grid\n",
    "nbrs_count"
   ]
  },
  {
   "cell_type": "code",
   "execution_count": 172,
   "metadata": {},
   "outputs": [
    {
     "data": {
      "text/plain": [
       "array([[1, 1, 0, 1, 1, 0, 1, 1, 0, 0],\n",
       "       [1, 0, 0, 0, 0, 0, 1, 0, 0, 0],\n",
       "       [1, 0, 0, 0, 0, 0, 0, 1, 0, 0],\n",
       "       [0, 1, 0, 0, 0, 0, 0, 1, 1, 1],\n",
       "       [1, 0, 0, 0, 0, 1, 0, 1, 0, 0],\n",
       "       [1, 1, 0, 0, 0, 1, 0, 1, 0, 0],\n",
       "       [0, 0, 0, 0, 1, 1, 0, 1, 0, 0],\n",
       "       [0, 0, 0, 1, 0, 1, 0, 1, 1, 0],\n",
       "       [0, 0, 0, 0, 0, 0, 0, 0, 0, 1],\n",
       "       [1, 0, 1, 1, 1, 1, 1, 0, 1, 1]], dtype=int32)"
      ]
     },
     "execution_count": 172,
     "metadata": {},
     "output_type": "execute_result"
    }
   ],
   "source": [
    "(nbrs_count == 3) | (grid & (nbrs_count == 2))"
   ]
  },
  {
   "cell_type": "markdown",
   "metadata": {},
   "source": [
    "See `np.bitwise_and` and `np.bitwise_or`.\n"
   ]
  },
  {
   "cell_type": "code",
   "execution_count": null,
   "metadata": {},
   "outputs": [],
   "source": []
  }
 ],
 "metadata": {
  "kernelspec": {
   "display_name": "Python 3",
   "language": "python",
   "name": "python3"
  },
  "language_info": {
   "codemirror_mode": {
    "name": "ipython",
    "version": 3
   },
   "file_extension": ".py",
   "mimetype": "text/x-python",
   "name": "python",
   "nbconvert_exporter": "python",
   "pygments_lexer": "ipython3",
   "version": "3.7.1"
  }
 },
 "nbformat": 4,
 "nbformat_minor": 2
}
