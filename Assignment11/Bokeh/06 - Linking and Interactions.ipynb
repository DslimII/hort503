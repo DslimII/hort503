{
 "cells": [
  {
   "cell_type": "markdown",
   "metadata": {},
   "source": [
    "<table style=\"float:left; border:none\">\n",
    "   <tr style=\"border:none; background-color: #ffffff\">\n",
    "       <td style=\"border:none\">\n",
    "           <a href=\"http://bokeh.pydata.org/\">     \n",
    "           <img \n",
    "               src=\"assets/bokeh-transparent.png\" \n",
    "               style=\"width:50px\"\n",
    "           >\n",
    "           </a>    \n",
    "       </td>\n",
    "       <td style=\"border:none\">\n",
    "           <h1>Bokeh Tutorial</h1>\n",
    "       </td>\n",
    "   </tr>\n",
    "</table>\n",
    "\n",
    "<div style=\"float:right;\"><h2>06. Linking and Interactions</h2></div>"
   ]
  },
  {
   "cell_type": "code",
   "execution_count": 1,
   "metadata": {},
   "outputs": [
    {
     "data": {
      "text/html": [
       "\n",
       "    <div class=\"bk-root\">\n",
       "        <a href=\"https://bokeh.pydata.org\" target=\"_blank\" class=\"bk-logo bk-logo-small bk-logo-notebook\"></a>\n",
       "        <span id=\"1001\">Loading BokehJS ...</span>\n",
       "    </div>"
      ]
     },
     "metadata": {},
     "output_type": "display_data"
    },
    {
     "data": {
      "application/javascript": [
       "\n",
       "(function(root) {\n",
       "  function now() {\n",
       "    return new Date();\n",
       "  }\n",
       "\n",
       "  var force = true;\n",
       "\n",
       "  if (typeof (root._bokeh_onload_callbacks) === \"undefined\" || force === true) {\n",
       "    root._bokeh_onload_callbacks = [];\n",
       "    root._bokeh_is_loading = undefined;\n",
       "  }\n",
       "\n",
       "  var JS_MIME_TYPE = 'application/javascript';\n",
       "  var HTML_MIME_TYPE = 'text/html';\n",
       "  var EXEC_MIME_TYPE = 'application/vnd.bokehjs_exec.v0+json';\n",
       "  var CLASS_NAME = 'output_bokeh rendered_html';\n",
       "\n",
       "  /**\n",
       "   * Render data to the DOM node\n",
       "   */\n",
       "  function render(props, node) {\n",
       "    var script = document.createElement(\"script\");\n",
       "    node.appendChild(script);\n",
       "  }\n",
       "\n",
       "  /**\n",
       "   * Handle when an output is cleared or removed\n",
       "   */\n",
       "  function handleClearOutput(event, handle) {\n",
       "    var cell = handle.cell;\n",
       "\n",
       "    var id = cell.output_area._bokeh_element_id;\n",
       "    var server_id = cell.output_area._bokeh_server_id;\n",
       "    // Clean up Bokeh references\n",
       "    if (id != null && id in Bokeh.index) {\n",
       "      Bokeh.index[id].model.document.clear();\n",
       "      delete Bokeh.index[id];\n",
       "    }\n",
       "\n",
       "    if (server_id !== undefined) {\n",
       "      // Clean up Bokeh references\n",
       "      var cmd = \"from bokeh.io.state import curstate; print(curstate().uuid_to_server['\" + server_id + \"'].get_sessions()[0].document.roots[0]._id)\";\n",
       "      cell.notebook.kernel.execute(cmd, {\n",
       "        iopub: {\n",
       "          output: function(msg) {\n",
       "            var id = msg.content.text.trim();\n",
       "            if (id in Bokeh.index) {\n",
       "              Bokeh.index[id].model.document.clear();\n",
       "              delete Bokeh.index[id];\n",
       "            }\n",
       "          }\n",
       "        }\n",
       "      });\n",
       "      // Destroy server and session\n",
       "      var cmd = \"import bokeh.io.notebook as ion; ion.destroy_server('\" + server_id + \"')\";\n",
       "      cell.notebook.kernel.execute(cmd);\n",
       "    }\n",
       "  }\n",
       "\n",
       "  /**\n",
       "   * Handle when a new output is added\n",
       "   */\n",
       "  function handleAddOutput(event, handle) {\n",
       "    var output_area = handle.output_area;\n",
       "    var output = handle.output;\n",
       "\n",
       "    // limit handleAddOutput to display_data with EXEC_MIME_TYPE content only\n",
       "    if ((output.output_type != \"display_data\") || (!output.data.hasOwnProperty(EXEC_MIME_TYPE))) {\n",
       "      return\n",
       "    }\n",
       "\n",
       "    var toinsert = output_area.element.find(\".\" + CLASS_NAME.split(' ')[0]);\n",
       "\n",
       "    if (output.metadata[EXEC_MIME_TYPE][\"id\"] !== undefined) {\n",
       "      toinsert[toinsert.length - 1].firstChild.textContent = output.data[JS_MIME_TYPE];\n",
       "      // store reference to embed id on output_area\n",
       "      output_area._bokeh_element_id = output.metadata[EXEC_MIME_TYPE][\"id\"];\n",
       "    }\n",
       "    if (output.metadata[EXEC_MIME_TYPE][\"server_id\"] !== undefined) {\n",
       "      var bk_div = document.createElement(\"div\");\n",
       "      bk_div.innerHTML = output.data[HTML_MIME_TYPE];\n",
       "      var script_attrs = bk_div.children[0].attributes;\n",
       "      for (var i = 0; i < script_attrs.length; i++) {\n",
       "        toinsert[toinsert.length - 1].firstChild.setAttribute(script_attrs[i].name, script_attrs[i].value);\n",
       "      }\n",
       "      // store reference to server id on output_area\n",
       "      output_area._bokeh_server_id = output.metadata[EXEC_MIME_TYPE][\"server_id\"];\n",
       "    }\n",
       "  }\n",
       "\n",
       "  function register_renderer(events, OutputArea) {\n",
       "\n",
       "    function append_mime(data, metadata, element) {\n",
       "      // create a DOM node to render to\n",
       "      var toinsert = this.create_output_subarea(\n",
       "        metadata,\n",
       "        CLASS_NAME,\n",
       "        EXEC_MIME_TYPE\n",
       "      );\n",
       "      this.keyboard_manager.register_events(toinsert);\n",
       "      // Render to node\n",
       "      var props = {data: data, metadata: metadata[EXEC_MIME_TYPE]};\n",
       "      render(props, toinsert[toinsert.length - 1]);\n",
       "      element.append(toinsert);\n",
       "      return toinsert\n",
       "    }\n",
       "\n",
       "    /* Handle when an output is cleared or removed */\n",
       "    events.on('clear_output.CodeCell', handleClearOutput);\n",
       "    events.on('delete.Cell', handleClearOutput);\n",
       "\n",
       "    /* Handle when a new output is added */\n",
       "    events.on('output_added.OutputArea', handleAddOutput);\n",
       "\n",
       "    /**\n",
       "     * Register the mime type and append_mime function with output_area\n",
       "     */\n",
       "    OutputArea.prototype.register_mime_type(EXEC_MIME_TYPE, append_mime, {\n",
       "      /* Is output safe? */\n",
       "      safe: true,\n",
       "      /* Index of renderer in `output_area.display_order` */\n",
       "      index: 0\n",
       "    });\n",
       "  }\n",
       "\n",
       "  // register the mime type if in Jupyter Notebook environment and previously unregistered\n",
       "  if (root.Jupyter !== undefined) {\n",
       "    var events = require('base/js/events');\n",
       "    var OutputArea = require('notebook/js/outputarea').OutputArea;\n",
       "\n",
       "    if (OutputArea.prototype.mime_types().indexOf(EXEC_MIME_TYPE) == -1) {\n",
       "      register_renderer(events, OutputArea);\n",
       "    }\n",
       "  }\n",
       "\n",
       "  \n",
       "  if (typeof (root._bokeh_timeout) === \"undefined\" || force === true) {\n",
       "    root._bokeh_timeout = Date.now() + 5000;\n",
       "    root._bokeh_failed_load = false;\n",
       "  }\n",
       "\n",
       "  var NB_LOAD_WARNING = {'data': {'text/html':\n",
       "     \"<div style='background-color: #fdd'>\\n\"+\n",
       "     \"<p>\\n\"+\n",
       "     \"BokehJS does not appear to have successfully loaded. If loading BokehJS from CDN, this \\n\"+\n",
       "     \"may be due to a slow or bad network connection. Possible fixes:\\n\"+\n",
       "     \"</p>\\n\"+\n",
       "     \"<ul>\\n\"+\n",
       "     \"<li>re-rerun `output_notebook()` to attempt to load from CDN again, or</li>\\n\"+\n",
       "     \"<li>use INLINE resources instead, as so:</li>\\n\"+\n",
       "     \"</ul>\\n\"+\n",
       "     \"<code>\\n\"+\n",
       "     \"from bokeh.resources import INLINE\\n\"+\n",
       "     \"output_notebook(resources=INLINE)\\n\"+\n",
       "     \"</code>\\n\"+\n",
       "     \"</div>\"}};\n",
       "\n",
       "  function display_loaded() {\n",
       "    var el = document.getElementById(\"1001\");\n",
       "    if (el != null) {\n",
       "      el.textContent = \"BokehJS is loading...\";\n",
       "    }\n",
       "    if (root.Bokeh !== undefined) {\n",
       "      if (el != null) {\n",
       "        el.textContent = \"BokehJS \" + root.Bokeh.version + \" successfully loaded.\";\n",
       "      }\n",
       "    } else if (Date.now() < root._bokeh_timeout) {\n",
       "      setTimeout(display_loaded, 100)\n",
       "    }\n",
       "  }\n",
       "\n",
       "\n",
       "  function run_callbacks() {\n",
       "    try {\n",
       "      root._bokeh_onload_callbacks.forEach(function(callback) { callback() });\n",
       "    }\n",
       "    finally {\n",
       "      delete root._bokeh_onload_callbacks\n",
       "    }\n",
       "    console.info(\"Bokeh: all callbacks have finished\");\n",
       "  }\n",
       "\n",
       "  function load_libs(js_urls, callback) {\n",
       "    root._bokeh_onload_callbacks.push(callback);\n",
       "    if (root._bokeh_is_loading > 0) {\n",
       "      console.log(\"Bokeh: BokehJS is being loaded, scheduling callback at\", now());\n",
       "      return null;\n",
       "    }\n",
       "    if (js_urls == null || js_urls.length === 0) {\n",
       "      run_callbacks();\n",
       "      return null;\n",
       "    }\n",
       "    console.log(\"Bokeh: BokehJS not loaded, scheduling load and callback at\", now());\n",
       "    root._bokeh_is_loading = js_urls.length;\n",
       "    for (var i = 0; i < js_urls.length; i++) {\n",
       "      var url = js_urls[i];\n",
       "      var s = document.createElement('script');\n",
       "      s.src = url;\n",
       "      s.async = false;\n",
       "      s.onreadystatechange = s.onload = function() {\n",
       "        root._bokeh_is_loading--;\n",
       "        if (root._bokeh_is_loading === 0) {\n",
       "          console.log(\"Bokeh: all BokehJS libraries loaded\");\n",
       "          run_callbacks()\n",
       "        }\n",
       "      };\n",
       "      s.onerror = function() {\n",
       "        console.warn(\"failed to load library \" + url);\n",
       "      };\n",
       "      console.log(\"Bokeh: injecting script tag for BokehJS library: \", url);\n",
       "      document.getElementsByTagName(\"head\")[0].appendChild(s);\n",
       "    }\n",
       "  };var element = document.getElementById(\"1001\");\n",
       "  if (element == null) {\n",
       "    console.log(\"Bokeh: ERROR: autoload.js configured with elementid '1001' but no matching script tag was found. \")\n",
       "    return false;\n",
       "  }\n",
       "\n",
       "  var js_urls = [\"https://cdn.pydata.org/bokeh/release/bokeh-1.0.2.min.js\", \"https://cdn.pydata.org/bokeh/release/bokeh-widgets-1.0.2.min.js\", \"https://cdn.pydata.org/bokeh/release/bokeh-tables-1.0.2.min.js\", \"https://cdn.pydata.org/bokeh/release/bokeh-gl-1.0.2.min.js\"];\n",
       "\n",
       "  var inline_js = [\n",
       "    function(Bokeh) {\n",
       "      Bokeh.set_log_level(\"info\");\n",
       "    },\n",
       "    \n",
       "    function(Bokeh) {\n",
       "      \n",
       "    },\n",
       "    function(Bokeh) {\n",
       "      console.log(\"Bokeh: injecting CSS: https://cdn.pydata.org/bokeh/release/bokeh-1.0.2.min.css\");\n",
       "      Bokeh.embed.inject_css(\"https://cdn.pydata.org/bokeh/release/bokeh-1.0.2.min.css\");\n",
       "      console.log(\"Bokeh: injecting CSS: https://cdn.pydata.org/bokeh/release/bokeh-widgets-1.0.2.min.css\");\n",
       "      Bokeh.embed.inject_css(\"https://cdn.pydata.org/bokeh/release/bokeh-widgets-1.0.2.min.css\");\n",
       "      console.log(\"Bokeh: injecting CSS: https://cdn.pydata.org/bokeh/release/bokeh-tables-1.0.2.min.css\");\n",
       "      Bokeh.embed.inject_css(\"https://cdn.pydata.org/bokeh/release/bokeh-tables-1.0.2.min.css\");\n",
       "    }\n",
       "  ];\n",
       "\n",
       "  function run_inline_js() {\n",
       "    \n",
       "    if ((root.Bokeh !== undefined) || (force === true)) {\n",
       "      for (var i = 0; i < inline_js.length; i++) {\n",
       "        inline_js[i].call(root, root.Bokeh);\n",
       "      }if (force === true) {\n",
       "        display_loaded();\n",
       "      }} else if (Date.now() < root._bokeh_timeout) {\n",
       "      setTimeout(run_inline_js, 100);\n",
       "    } else if (!root._bokeh_failed_load) {\n",
       "      console.log(\"Bokeh: BokehJS failed to load within specified timeout.\");\n",
       "      root._bokeh_failed_load = true;\n",
       "    } else if (force !== true) {\n",
       "      var cell = $(document.getElementById(\"1001\")).parents('.cell').data().cell;\n",
       "      cell.output_area.append_execute_result(NB_LOAD_WARNING)\n",
       "    }\n",
       "\n",
       "  }\n",
       "\n",
       "  if (root._bokeh_is_loading === 0) {\n",
       "    console.log(\"Bokeh: BokehJS loaded, going straight to plotting\");\n",
       "    run_inline_js();\n",
       "  } else {\n",
       "    load_libs(js_urls, function() {\n",
       "      console.log(\"Bokeh: BokehJS plotting callback run at\", now());\n",
       "      run_inline_js();\n",
       "    });\n",
       "  }\n",
       "}(window));"
      ],
      "application/vnd.bokehjs_load.v0+json": "\n(function(root) {\n  function now() {\n    return new Date();\n  }\n\n  var force = true;\n\n  if (typeof (root._bokeh_onload_callbacks) === \"undefined\" || force === true) {\n    root._bokeh_onload_callbacks = [];\n    root._bokeh_is_loading = undefined;\n  }\n\n  \n\n  \n  if (typeof (root._bokeh_timeout) === \"undefined\" || force === true) {\n    root._bokeh_timeout = Date.now() + 5000;\n    root._bokeh_failed_load = false;\n  }\n\n  var NB_LOAD_WARNING = {'data': {'text/html':\n     \"<div style='background-color: #fdd'>\\n\"+\n     \"<p>\\n\"+\n     \"BokehJS does not appear to have successfully loaded. If loading BokehJS from CDN, this \\n\"+\n     \"may be due to a slow or bad network connection. Possible fixes:\\n\"+\n     \"</p>\\n\"+\n     \"<ul>\\n\"+\n     \"<li>re-rerun `output_notebook()` to attempt to load from CDN again, or</li>\\n\"+\n     \"<li>use INLINE resources instead, as so:</li>\\n\"+\n     \"</ul>\\n\"+\n     \"<code>\\n\"+\n     \"from bokeh.resources import INLINE\\n\"+\n     \"output_notebook(resources=INLINE)\\n\"+\n     \"</code>\\n\"+\n     \"</div>\"}};\n\n  function display_loaded() {\n    var el = document.getElementById(\"1001\");\n    if (el != null) {\n      el.textContent = \"BokehJS is loading...\";\n    }\n    if (root.Bokeh !== undefined) {\n      if (el != null) {\n        el.textContent = \"BokehJS \" + root.Bokeh.version + \" successfully loaded.\";\n      }\n    } else if (Date.now() < root._bokeh_timeout) {\n      setTimeout(display_loaded, 100)\n    }\n  }\n\n\n  function run_callbacks() {\n    try {\n      root._bokeh_onload_callbacks.forEach(function(callback) { callback() });\n    }\n    finally {\n      delete root._bokeh_onload_callbacks\n    }\n    console.info(\"Bokeh: all callbacks have finished\");\n  }\n\n  function load_libs(js_urls, callback) {\n    root._bokeh_onload_callbacks.push(callback);\n    if (root._bokeh_is_loading > 0) {\n      console.log(\"Bokeh: BokehJS is being loaded, scheduling callback at\", now());\n      return null;\n    }\n    if (js_urls == null || js_urls.length === 0) {\n      run_callbacks();\n      return null;\n    }\n    console.log(\"Bokeh: BokehJS not loaded, scheduling load and callback at\", now());\n    root._bokeh_is_loading = js_urls.length;\n    for (var i = 0; i < js_urls.length; i++) {\n      var url = js_urls[i];\n      var s = document.createElement('script');\n      s.src = url;\n      s.async = false;\n      s.onreadystatechange = s.onload = function() {\n        root._bokeh_is_loading--;\n        if (root._bokeh_is_loading === 0) {\n          console.log(\"Bokeh: all BokehJS libraries loaded\");\n          run_callbacks()\n        }\n      };\n      s.onerror = function() {\n        console.warn(\"failed to load library \" + url);\n      };\n      console.log(\"Bokeh: injecting script tag for BokehJS library: \", url);\n      document.getElementsByTagName(\"head\")[0].appendChild(s);\n    }\n  };var element = document.getElementById(\"1001\");\n  if (element == null) {\n    console.log(\"Bokeh: ERROR: autoload.js configured with elementid '1001' but no matching script tag was found. \")\n    return false;\n  }\n\n  var js_urls = [\"https://cdn.pydata.org/bokeh/release/bokeh-1.0.2.min.js\", \"https://cdn.pydata.org/bokeh/release/bokeh-widgets-1.0.2.min.js\", \"https://cdn.pydata.org/bokeh/release/bokeh-tables-1.0.2.min.js\", \"https://cdn.pydata.org/bokeh/release/bokeh-gl-1.0.2.min.js\"];\n\n  var inline_js = [\n    function(Bokeh) {\n      Bokeh.set_log_level(\"info\");\n    },\n    \n    function(Bokeh) {\n      \n    },\n    function(Bokeh) {\n      console.log(\"Bokeh: injecting CSS: https://cdn.pydata.org/bokeh/release/bokeh-1.0.2.min.css\");\n      Bokeh.embed.inject_css(\"https://cdn.pydata.org/bokeh/release/bokeh-1.0.2.min.css\");\n      console.log(\"Bokeh: injecting CSS: https://cdn.pydata.org/bokeh/release/bokeh-widgets-1.0.2.min.css\");\n      Bokeh.embed.inject_css(\"https://cdn.pydata.org/bokeh/release/bokeh-widgets-1.0.2.min.css\");\n      console.log(\"Bokeh: injecting CSS: https://cdn.pydata.org/bokeh/release/bokeh-tables-1.0.2.min.css\");\n      Bokeh.embed.inject_css(\"https://cdn.pydata.org/bokeh/release/bokeh-tables-1.0.2.min.css\");\n    }\n  ];\n\n  function run_inline_js() {\n    \n    if ((root.Bokeh !== undefined) || (force === true)) {\n      for (var i = 0; i < inline_js.length; i++) {\n        inline_js[i].call(root, root.Bokeh);\n      }if (force === true) {\n        display_loaded();\n      }} else if (Date.now() < root._bokeh_timeout) {\n      setTimeout(run_inline_js, 100);\n    } else if (!root._bokeh_failed_load) {\n      console.log(\"Bokeh: BokehJS failed to load within specified timeout.\");\n      root._bokeh_failed_load = true;\n    } else if (force !== true) {\n      var cell = $(document.getElementById(\"1001\")).parents('.cell').data().cell;\n      cell.output_area.append_execute_result(NB_LOAD_WARNING)\n    }\n\n  }\n\n  if (root._bokeh_is_loading === 0) {\n    console.log(\"Bokeh: BokehJS loaded, going straight to plotting\");\n    run_inline_js();\n  } else {\n    load_libs(js_urls, function() {\n      console.log(\"Bokeh: BokehJS plotting callback run at\", now());\n      run_inline_js();\n    });\n  }\n}(window));"
     },
     "metadata": {},
     "output_type": "display_data"
    }
   ],
   "source": [
    "from bokeh.io import output_notebook, show\n",
    "from bokeh.plotting import figure\n",
    "output_notebook()"
   ]
  },
  {
   "cell_type": "markdown",
   "metadata": {},
   "source": [
    "Now that we know from the previous chapter how multiple plots can be placed together in a layout, we can start to look at how different plots can be linked togeher, or how plots can be linked to widgets. "
   ]
  },
  {
   "cell_type": "markdown",
   "metadata": {},
   "source": [
    "# Linked Interactions\n",
    "\n",
    "It is possible to link various interactions between different Bokeh plots. For instance, the ranges of two (or more) plots can be linked, so that when one of the plots is panned (or zoomed, or otherwise has its range changed) the other plots will update in unison. It is also possible to link selections between two plots, so that when items are selected on one plot, the corresponding items on the second plot also become selected. "
   ]
  },
  {
   "cell_type": "markdown",
   "metadata": {},
   "source": [
    "## Linked panning\n",
    "\n",
    "Linked panning (when multiple plots have ranges that stay in sync) is simple to spell with Bokeh. You simply share the appropriate range objects between two (or more) plots. The example below shows how to accomplish this by linking the ranges of three plots in various ways:"
   ]
  },
  {
   "cell_type": "code",
   "execution_count": 2,
   "metadata": {},
   "outputs": [
    {
     "data": {
      "text/html": [
       "\n",
       "\n",
       "\n",
       "\n",
       "\n",
       "\n",
       "  <div class=\"bk-root\" id=\"544884ea-4f0b-4ad3-840f-1b5f8b274318\"></div>\n"
      ]
     },
     "metadata": {},
     "output_type": "display_data"
    },
    {
     "data": {
      "application/javascript": [
       "(function(root) {\n",
       "  function embed_document(root) {\n",
       "    \n",
       "  var docs_json = {\"490e8a06-2ed3-4779-aff6-4815dc0444ed\":{\"roots\":{\"references\":[{\"attributes\":{\"children\":[{\"id\":\"1116\",\"type\":\"ToolbarBox\"},{\"id\":\"1114\",\"type\":\"Column\"}]},\"id\":\"1117\",\"type\":\"Column\"},{\"attributes\":{\"data_source\":{\"id\":\"1081\",\"type\":\"ColumnDataSource\"},\"glyph\":{\"id\":\"1082\",\"type\":\"Square\"},\"hover_glyph\":null,\"muted_glyph\":null,\"nonselection_glyph\":{\"id\":\"1083\",\"type\":\"Square\"},\"selection_glyph\":null,\"view\":{\"id\":\"1085\",\"type\":\"CDSView\"}},\"id\":\"1084\",\"type\":\"GlyphRenderer\"},{\"attributes\":{\"fill_alpha\":{\"value\":0.1},\"fill_color\":{\"value\":\"#1f77b4\"},\"line_alpha\":{\"value\":0.1},\"line_color\":{\"value\":\"#1f77b4\"},\"size\":{\"units\":\"screen\",\"value\":10},\"x\":{\"field\":\"x\"},\"y\":{\"field\":\"y\"}},\"id\":\"1028\",\"type\":\"Circle\"},{\"attributes\":{\"callback\":null},\"id\":\"1003\",\"type\":\"DataRange1d\"},{\"attributes\":{\"data_source\":{\"id\":\"1053\",\"type\":\"ColumnDataSource\"},\"glyph\":{\"id\":\"1054\",\"type\":\"Triangle\"},\"hover_glyph\":null,\"muted_glyph\":null,\"nonselection_glyph\":{\"id\":\"1055\",\"type\":\"Triangle\"},\"selection_glyph\":null,\"view\":{\"id\":\"1057\",\"type\":\"CDSView\"}},\"id\":\"1056\",\"type\":\"GlyphRenderer\"},{\"attributes\":{\"fill_alpha\":{\"value\":0.1},\"fill_color\":{\"value\":\"#1f77b4\"},\"line_alpha\":{\"value\":0.1},\"line_color\":{\"value\":\"#1f77b4\"},\"size\":{\"units\":\"screen\",\"value\":10},\"x\":{\"field\":\"x\"},\"y\":{\"field\":\"y\"}},\"id\":\"1083\",\"type\":\"Square\"},{\"attributes\":{\"tools\":[{\"id\":\"1021\",\"type\":\"PanTool\"},{\"id\":\"1022\",\"type\":\"WheelZoomTool\"},{\"id\":\"1048\",\"type\":\"PanTool\"},{\"id\":\"1049\",\"type\":\"WheelZoomTool\"},{\"id\":\"1076\",\"type\":\"PanTool\"},{\"id\":\"1077\",\"type\":\"WheelZoomTool\"}]},\"id\":\"1115\",\"type\":\"ProxyToolbar\"},{\"attributes\":{\"data_source\":{\"id\":\"1026\",\"type\":\"ColumnDataSource\"},\"glyph\":{\"id\":\"1027\",\"type\":\"Circle\"},\"hover_glyph\":null,\"muted_glyph\":null,\"nonselection_glyph\":{\"id\":\"1028\",\"type\":\"Circle\"},\"selection_glyph\":null,\"view\":{\"id\":\"1030\",\"type\":\"CDSView\"}},\"id\":\"1029\",\"type\":\"GlyphRenderer\"},{\"attributes\":{\"source\":{\"id\":\"1081\",\"type\":\"ColumnDataSource\"}},\"id\":\"1085\",\"type\":\"CDSView\"},{\"attributes\":{\"callback\":null},\"id\":\"1005\",\"type\":\"DataRange1d\"},{\"attributes\":{\"source\":{\"id\":\"1053\",\"type\":\"ColumnDataSource\"}},\"id\":\"1057\",\"type\":\"CDSView\"},{\"attributes\":{\"toolbar\":{\"id\":\"1115\",\"type\":\"ProxyToolbar\"},\"toolbar_location\":\"above\"},\"id\":\"1116\",\"type\":\"ToolbarBox\"},{\"attributes\":{\"source\":{\"id\":\"1026\",\"type\":\"ColumnDataSource\"}},\"id\":\"1030\",\"type\":\"CDSView\"},{\"attributes\":{},\"id\":\"1007\",\"type\":\"LinearScale\"},{\"attributes\":{\"fill_alpha\":{\"value\":0.1},\"fill_color\":{\"value\":\"#1f77b4\"},\"line_alpha\":{\"value\":0.1},\"line_color\":{\"value\":\"#1f77b4\"},\"size\":{\"units\":\"screen\",\"value\":10},\"x\":{\"field\":\"x\"},\"y\":{\"field\":\"y\"}},\"id\":\"1055\",\"type\":\"Triangle\"},{\"attributes\":{\"plot\":null,\"text\":\"\"},\"id\":\"1087\",\"type\":\"Title\"},{\"attributes\":{\"callback\":null,\"data\":{\"x\":[0,1,2,3,4,5,6,7,8,9,10],\"y\":[5,4,3,2,1,0,1,2,3,4,5]},\"selected\":{\"id\":\"1111\",\"type\":\"Selection\"},\"selection_policy\":{\"id\":\"1110\",\"type\":\"UnionRenderers\"}},\"id\":\"1081\",\"type\":\"ColumnDataSource\"},{\"attributes\":{},\"id\":\"1009\",\"type\":\"LinearScale\"},{\"attributes\":{\"callback\":null},\"id\":\"1060\",\"type\":\"DataRange1d\"},{\"attributes\":{\"callback\":null,\"data\":{\"x\":[0,1,2,3,4,5,6,7,8,9,10],\"y\":[10,9,8,7,6,5,4,3,2,1,0]},\"selected\":{\"id\":\"1102\",\"type\":\"Selection\"},\"selection_policy\":{\"id\":\"1101\",\"type\":\"UnionRenderers\"}},\"id\":\"1053\",\"type\":\"ColumnDataSource\"},{\"attributes\":{},\"id\":\"1111\",\"type\":\"Selection\"},{\"attributes\":{},\"id\":\"1034\",\"type\":\"LinearScale\"},{\"attributes\":{},\"id\":\"1089\",\"type\":\"BasicTickFormatter\"},{\"attributes\":{\"formatter\":{\"id\":\"1091\",\"type\":\"BasicTickFormatter\"},\"plot\":{\"id\":\"1002\",\"subtype\":\"Figure\",\"type\":\"Plot\"},\"ticker\":{\"id\":\"1012\",\"type\":\"BasicTicker\"}},\"id\":\"1011\",\"type\":\"LinearAxis\"},{\"attributes\":{},\"id\":\"1062\",\"type\":\"LinearScale\"},{\"attributes\":{},\"id\":\"1036\",\"type\":\"LinearScale\"},{\"attributes\":{},\"id\":\"1091\",\"type\":\"BasicTickFormatter\"},{\"attributes\":{},\"id\":\"1064\",\"type\":\"LinearScale\"},{\"attributes\":{},\"id\":\"1012\",\"type\":\"BasicTicker\"},{\"attributes\":{\"formatter\":{\"id\":\"1100\",\"type\":\"BasicTickFormatter\"},\"plot\":{\"id\":\"1031\",\"subtype\":\"Figure\",\"type\":\"Plot\"},\"ticker\":{\"id\":\"1039\",\"type\":\"BasicTicker\"}},\"id\":\"1038\",\"type\":\"LinearAxis\"},{\"attributes\":{},\"id\":\"1092\",\"type\":\"UnionRenderers\"},{\"attributes\":{\"formatter\":{\"id\":\"1109\",\"type\":\"BasicTickFormatter\"},\"plot\":{\"id\":\"1058\",\"subtype\":\"Figure\",\"type\":\"Plot\"},\"ticker\":{\"id\":\"1067\",\"type\":\"BasicTicker\"}},\"id\":\"1066\",\"type\":\"LinearAxis\"},{\"attributes\":{\"plot\":{\"id\":\"1002\",\"subtype\":\"Figure\",\"type\":\"Plot\"},\"ticker\":{\"id\":\"1012\",\"type\":\"BasicTicker\"}},\"id\":\"1015\",\"type\":\"Grid\"},{\"attributes\":{},\"id\":\"1039\",\"type\":\"BasicTicker\"},{\"attributes\":{},\"id\":\"1093\",\"type\":\"Selection\"},{\"attributes\":{},\"id\":\"1067\",\"type\":\"BasicTicker\"},{\"attributes\":{\"formatter\":{\"id\":\"1089\",\"type\":\"BasicTickFormatter\"},\"plot\":{\"id\":\"1002\",\"subtype\":\"Figure\",\"type\":\"Plot\"},\"ticker\":{\"id\":\"1017\",\"type\":\"BasicTicker\"}},\"id\":\"1016\",\"type\":\"LinearAxis\"},{\"attributes\":{\"plot\":null,\"text\":\"\"},\"id\":\"1096\",\"type\":\"Title\"},{\"attributes\":{\"plot\":{\"id\":\"1031\",\"subtype\":\"Figure\",\"type\":\"Plot\"},\"ticker\":{\"id\":\"1039\",\"type\":\"BasicTicker\"}},\"id\":\"1042\",\"type\":\"Grid\"},{\"attributes\":{\"plot\":{\"id\":\"1058\",\"subtype\":\"Figure\",\"type\":\"Plot\"},\"ticker\":{\"id\":\"1067\",\"type\":\"BasicTicker\"}},\"id\":\"1070\",\"type\":\"Grid\"},{\"attributes\":{},\"id\":\"1017\",\"type\":\"BasicTicker\"},{\"attributes\":{\"formatter\":{\"id\":\"1098\",\"type\":\"BasicTickFormatter\"},\"plot\":{\"id\":\"1031\",\"subtype\":\"Figure\",\"type\":\"Plot\"},\"ticker\":{\"id\":\"1044\",\"type\":\"BasicTicker\"}},\"id\":\"1043\",\"type\":\"LinearAxis\"},{\"attributes\":{},\"id\":\"1098\",\"type\":\"BasicTickFormatter\"},{\"attributes\":{\"formatter\":{\"id\":\"1107\",\"type\":\"BasicTickFormatter\"},\"plot\":{\"id\":\"1058\",\"subtype\":\"Figure\",\"type\":\"Plot\"},\"ticker\":{\"id\":\"1072\",\"type\":\"BasicTicker\"}},\"id\":\"1071\",\"type\":\"LinearAxis\"},{\"attributes\":{\"dimension\":1,\"plot\":{\"id\":\"1002\",\"subtype\":\"Figure\",\"type\":\"Plot\"},\"ticker\":{\"id\":\"1017\",\"type\":\"BasicTicker\"}},\"id\":\"1020\",\"type\":\"Grid\"},{\"attributes\":{},\"id\":\"1044\",\"type\":\"BasicTicker\"},{\"attributes\":{},\"id\":\"1100\",\"type\":\"BasicTickFormatter\"},{\"attributes\":{},\"id\":\"1072\",\"type\":\"BasicTicker\"},{\"attributes\":{},\"id\":\"1022\",\"type\":\"WheelZoomTool\"},{\"attributes\":{\"dimension\":1,\"plot\":{\"id\":\"1031\",\"subtype\":\"Figure\",\"type\":\"Plot\"},\"ticker\":{\"id\":\"1044\",\"type\":\"BasicTicker\"}},\"id\":\"1047\",\"type\":\"Grid\"},{\"attributes\":{},\"id\":\"1101\",\"type\":\"UnionRenderers\"},{\"attributes\":{\"active_drag\":\"auto\",\"active_inspect\":\"auto\",\"active_multi\":null,\"active_scroll\":\"auto\",\"active_tap\":\"auto\",\"tools\":[{\"id\":\"1021\",\"type\":\"PanTool\"},{\"id\":\"1022\",\"type\":\"WheelZoomTool\"}]},\"id\":\"1023\",\"type\":\"Toolbar\"},{\"attributes\":{\"dimension\":1,\"plot\":{\"id\":\"1058\",\"subtype\":\"Figure\",\"type\":\"Plot\"},\"ticker\":{\"id\":\"1072\",\"type\":\"BasicTicker\"}},\"id\":\"1075\",\"type\":\"Grid\"},{\"attributes\":{},\"id\":\"1021\",\"type\":\"PanTool\"},{\"attributes\":{\"children\":[{\"id\":\"1113\",\"type\":\"Row\"}]},\"id\":\"1114\",\"type\":\"Column\"},{\"attributes\":{},\"id\":\"1102\",\"type\":\"Selection\"},{\"attributes\":{\"active_drag\":\"auto\",\"active_inspect\":\"auto\",\"active_multi\":null,\"active_scroll\":\"auto\",\"active_tap\":\"auto\",\"tools\":[{\"id\":\"1048\",\"type\":\"PanTool\"},{\"id\":\"1049\",\"type\":\"WheelZoomTool\"}]},\"id\":\"1050\",\"type\":\"Toolbar\"},{\"attributes\":{\"active_drag\":\"auto\",\"active_inspect\":\"auto\",\"active_multi\":null,\"active_scroll\":\"auto\",\"active_tap\":\"auto\",\"tools\":[{\"id\":\"1076\",\"type\":\"PanTool\"},{\"id\":\"1077\",\"type\":\"WheelZoomTool\"}]},\"id\":\"1078\",\"type\":\"Toolbar\"},{\"attributes\":{},\"id\":\"1048\",\"type\":\"PanTool\"},{\"attributes\":{\"plot\":null,\"text\":\"\"},\"id\":\"1105\",\"type\":\"Title\"},{\"attributes\":{},\"id\":\"1076\",\"type\":\"PanTool\"},{\"attributes\":{},\"id\":\"1049\",\"type\":\"WheelZoomTool\"},{\"attributes\":{},\"id\":\"1107\",\"type\":\"BasicTickFormatter\"},{\"attributes\":{},\"id\":\"1077\",\"type\":\"WheelZoomTool\"},{\"attributes\":{},\"id\":\"1109\",\"type\":\"BasicTickFormatter\"},{\"attributes\":{\"below\":[{\"id\":\"1066\",\"type\":\"LinearAxis\"}],\"left\":[{\"id\":\"1071\",\"type\":\"LinearAxis\"}],\"plot_height\":250,\"plot_width\":250,\"renderers\":[{\"id\":\"1066\",\"type\":\"LinearAxis\"},{\"id\":\"1070\",\"type\":\"Grid\"},{\"id\":\"1071\",\"type\":\"LinearAxis\"},{\"id\":\"1075\",\"type\":\"Grid\"},{\"id\":\"1084\",\"type\":\"GlyphRenderer\"}],\"title\":{\"id\":\"1105\",\"type\":\"Title\"},\"toolbar\":{\"id\":\"1078\",\"type\":\"Toolbar\"},\"toolbar_location\":null,\"x_range\":{\"id\":\"1003\",\"type\":\"DataRange1d\"},\"x_scale\":{\"id\":\"1062\",\"type\":\"LinearScale\"},\"y_range\":{\"id\":\"1060\",\"type\":\"DataRange1d\"},\"y_scale\":{\"id\":\"1064\",\"type\":\"LinearScale\"}},\"id\":\"1058\",\"subtype\":\"Figure\",\"type\":\"Plot\"},{\"attributes\":{\"children\":[{\"id\":\"1002\",\"subtype\":\"Figure\",\"type\":\"Plot\"},{\"id\":\"1031\",\"subtype\":\"Figure\",\"type\":\"Plot\"},{\"id\":\"1058\",\"subtype\":\"Figure\",\"type\":\"Plot\"}]},\"id\":\"1113\",\"type\":\"Row\"},{\"attributes\":{\"fill_color\":{\"value\":\"firebrick\"},\"line_color\":{\"value\":\"firebrick\"},\"size\":{\"units\":\"screen\",\"value\":10},\"x\":{\"field\":\"x\"},\"y\":{\"field\":\"y\"}},\"id\":\"1054\",\"type\":\"Triangle\"},{\"attributes\":{},\"id\":\"1110\",\"type\":\"UnionRenderers\"},{\"attributes\":{\"fill_color\":{\"value\":\"olive\"},\"line_color\":{\"value\":\"olive\"},\"size\":{\"units\":\"screen\",\"value\":10},\"x\":{\"field\":\"x\"},\"y\":{\"field\":\"y\"}},\"id\":\"1082\",\"type\":\"Square\"},{\"attributes\":{\"below\":[{\"id\":\"1011\",\"type\":\"LinearAxis\"}],\"left\":[{\"id\":\"1016\",\"type\":\"LinearAxis\"}],\"plot_height\":250,\"plot_width\":250,\"renderers\":[{\"id\":\"1011\",\"type\":\"LinearAxis\"},{\"id\":\"1015\",\"type\":\"Grid\"},{\"id\":\"1016\",\"type\":\"LinearAxis\"},{\"id\":\"1020\",\"type\":\"Grid\"},{\"id\":\"1029\",\"type\":\"GlyphRenderer\"}],\"title\":{\"id\":\"1087\",\"type\":\"Title\"},\"toolbar\":{\"id\":\"1023\",\"type\":\"Toolbar\"},\"toolbar_location\":null,\"x_range\":{\"id\":\"1003\",\"type\":\"DataRange1d\"},\"x_scale\":{\"id\":\"1007\",\"type\":\"LinearScale\"},\"y_range\":{\"id\":\"1005\",\"type\":\"DataRange1d\"},\"y_scale\":{\"id\":\"1009\",\"type\":\"LinearScale\"}},\"id\":\"1002\",\"subtype\":\"Figure\",\"type\":\"Plot\"},{\"attributes\":{\"callback\":null,\"data\":{\"x\":[0,1,2,3,4,5,6,7,8,9,10],\"y\":[0,1,2,3,4,5,6,7,8,9,10]},\"selected\":{\"id\":\"1093\",\"type\":\"Selection\"},\"selection_policy\":{\"id\":\"1092\",\"type\":\"UnionRenderers\"}},\"id\":\"1026\",\"type\":\"ColumnDataSource\"},{\"attributes\":{\"fill_color\":{\"value\":\"navy\"},\"line_color\":{\"value\":\"navy\"},\"size\":{\"units\":\"screen\",\"value\":10},\"x\":{\"field\":\"x\"},\"y\":{\"field\":\"y\"}},\"id\":\"1027\",\"type\":\"Circle\"},{\"attributes\":{\"below\":[{\"id\":\"1038\",\"type\":\"LinearAxis\"}],\"left\":[{\"id\":\"1043\",\"type\":\"LinearAxis\"}],\"plot_height\":250,\"plot_width\":250,\"renderers\":[{\"id\":\"1038\",\"type\":\"LinearAxis\"},{\"id\":\"1042\",\"type\":\"Grid\"},{\"id\":\"1043\",\"type\":\"LinearAxis\"},{\"id\":\"1047\",\"type\":\"Grid\"},{\"id\":\"1056\",\"type\":\"GlyphRenderer\"}],\"title\":{\"id\":\"1096\",\"type\":\"Title\"},\"toolbar\":{\"id\":\"1050\",\"type\":\"Toolbar\"},\"toolbar_location\":null,\"x_range\":{\"id\":\"1003\",\"type\":\"DataRange1d\"},\"x_scale\":{\"id\":\"1034\",\"type\":\"LinearScale\"},\"y_range\":{\"id\":\"1005\",\"type\":\"DataRange1d\"},\"y_scale\":{\"id\":\"1036\",\"type\":\"LinearScale\"}},\"id\":\"1031\",\"subtype\":\"Figure\",\"type\":\"Plot\"}],\"root_ids\":[\"1117\"]},\"title\":\"Bokeh Application\",\"version\":\"1.0.2\"}};\n",
       "  var render_items = [{\"docid\":\"490e8a06-2ed3-4779-aff6-4815dc0444ed\",\"roots\":{\"1117\":\"544884ea-4f0b-4ad3-840f-1b5f8b274318\"}}];\n",
       "  root.Bokeh.embed.embed_items_notebook(docs_json, render_items);\n",
       "\n",
       "  }\n",
       "  if (root.Bokeh !== undefined) {\n",
       "    embed_document(root);\n",
       "  } else {\n",
       "    var attempts = 0;\n",
       "    var timer = setInterval(function(root) {\n",
       "      if (root.Bokeh !== undefined) {\n",
       "        embed_document(root);\n",
       "        clearInterval(timer);\n",
       "      }\n",
       "      attempts++;\n",
       "      if (attempts > 100) {\n",
       "        console.log(\"Bokeh: ERROR: Unable to run BokehJS code because BokehJS library is missing\");\n",
       "        clearInterval(timer);\n",
       "      }\n",
       "    }, 10, root)\n",
       "  }\n",
       "})(window);"
      ],
      "application/vnd.bokehjs_exec.v0+json": ""
     },
     "metadata": {
      "application/vnd.bokehjs_exec.v0+json": {
       "id": "1117"
      }
     },
     "output_type": "display_data"
    }
   ],
   "source": [
    "from bokeh.layouts import gridplot\n",
    "\n",
    "x = list(range(11))\n",
    "y0, y1, y2 = x, [10-i for i in x], [abs(i-5) for i in x]\n",
    "\n",
    "plot_options = dict(width=250, plot_height=250, tools='pan,wheel_zoom')\n",
    "\n",
    "# create a new plot\n",
    "s1 = figure(**plot_options)\n",
    "s1.circle(x, y0, size=10, color=\"navy\")\n",
    "\n",
    "# create a new plot and share both ranges\n",
    "s2 = figure(x_range=s1.x_range, y_range=s1.y_range, **plot_options)\n",
    "s2.triangle(x, y1, size=10, color=\"firebrick\")\n",
    "\n",
    "# create a new plot and share only one range\n",
    "s3 = figure(x_range=s1.x_range, **plot_options)\n",
    "s3.square(x, y2, size=10, color=\"olive\")\n",
    "\n",
    "p = gridplot([[s1, s2, s3]])\n",
    "\n",
    "# show the results\n",
    "show(p)"
   ]
  },
  {
   "cell_type": "code",
   "execution_count": 3,
   "metadata": {},
   "outputs": [],
   "source": [
    "# EXERCISE: create two plots in a gridplot, and link their ranges\n"
   ]
  },
  {
   "cell_type": "markdown",
   "metadata": {},
   "source": [
    "## Linked brushing\n",
    "\n",
    "Linking selections is accomplished in a similar way, by sharing data sources between plots. Note that normally with ``bokeh.plotting`` and ``bokeh.charts`` creating a default data source for simple plots is handled automatically. However to share a data source, we must create them by hand and pass them explicitly. This is illustrated in the example below:"
   ]
  },
  {
   "cell_type": "code",
   "execution_count": 3,
   "metadata": {},
   "outputs": [
    {
     "data": {
      "text/html": [
       "\n",
       "\n",
       "\n",
       "\n",
       "\n",
       "\n",
       "  <div class=\"bk-root\" id=\"88e5aed0-86b6-43af-9d86-e9b00470e7c2\"></div>\n"
      ]
     },
     "metadata": {},
     "output_type": "display_data"
    },
    {
     "data": {
      "application/javascript": [
       "(function(root) {\n",
       "  function embed_document(root) {\n",
       "    \n",
       "  var docs_json = {\"e03e0a0d-3ac1-4af3-9030-323eeb3acd1e\":{\"roots\":{\"references\":[{\"attributes\":{\"children\":[{\"id\":\"1382\",\"type\":\"ToolbarBox\"},{\"id\":\"1380\",\"type\":\"Column\"}]},\"id\":\"1383\",\"type\":\"Column\"},{\"attributes\":{\"dimension\":1,\"plot\":{\"id\":\"1287\",\"subtype\":\"Figure\",\"type\":\"Plot\"},\"ticker\":{\"id\":\"1302\",\"type\":\"BasicTicker\"}},\"id\":\"1305\",\"type\":\"Grid\"},{\"attributes\":{\"plot\":{\"id\":\"1322\",\"subtype\":\"Figure\",\"type\":\"Plot\"},\"ticker\":{\"id\":\"1332\",\"type\":\"BasicTicker\"}},\"id\":\"1335\",\"type\":\"Grid\"},{\"attributes\":{\"active_drag\":\"auto\",\"active_inspect\":\"auto\",\"active_multi\":null,\"active_scroll\":\"auto\",\"active_tap\":\"auto\",\"tools\":[{\"id\":\"1306\",\"type\":\"BoxSelectTool\"},{\"id\":\"1307\",\"type\":\"LassoSelectTool\"},{\"id\":\"1308\",\"type\":\"HelpTool\"}]},\"id\":\"1311\",\"type\":\"Toolbar\"},{\"attributes\":{\"formatter\":{\"id\":\"1360\",\"type\":\"BasicTickFormatter\"},\"plot\":{\"id\":\"1287\",\"subtype\":\"Figure\",\"type\":\"Plot\"},\"ticker\":{\"id\":\"1302\",\"type\":\"BasicTicker\"}},\"id\":\"1301\",\"type\":\"LinearAxis\"},{\"attributes\":{},\"id\":\"1360\",\"type\":\"BasicTickFormatter\"},{\"attributes\":{},\"id\":\"1362\",\"type\":\"BasicTickFormatter\"},{\"attributes\":{},\"id\":\"1365\",\"type\":\"UnionRenderers\"},{\"attributes\":{\"data_source\":{\"id\":\"1286\",\"type\":\"ColumnDataSource\"},\"glyph\":{\"id\":\"1318\",\"type\":\"Circle\"},\"hover_glyph\":null,\"muted_glyph\":null,\"nonselection_glyph\":{\"id\":\"1319\",\"type\":\"Circle\"},\"selection_glyph\":null,\"view\":{\"id\":\"1321\",\"type\":\"CDSView\"}},\"id\":\"1320\",\"type\":\"GlyphRenderer\"},{\"attributes\":{\"children\":[{\"id\":\"1287\",\"subtype\":\"Figure\",\"type\":\"Plot\"},{\"id\":\"1322\",\"subtype\":\"Figure\",\"type\":\"Plot\"}]},\"id\":\"1379\",\"type\":\"Row\"},{\"attributes\":{\"fill_alpha\":{\"value\":0.1},\"fill_color\":{\"value\":\"#1f77b4\"},\"line_alpha\":{\"value\":0.1},\"line_color\":{\"value\":\"#1f77b4\"},\"x\":{\"field\":\"x\"},\"y\":{\"field\":\"y0\"}},\"id\":\"1319\",\"type\":\"Circle\"},{\"attributes\":{\"tools\":[{\"id\":\"1306\",\"type\":\"BoxSelectTool\"},{\"id\":\"1307\",\"type\":\"LassoSelectTool\"},{\"id\":\"1308\",\"type\":\"HelpTool\"},{\"id\":\"1341\",\"type\":\"BoxSelectTool\"},{\"id\":\"1342\",\"type\":\"LassoSelectTool\"},{\"id\":\"1343\",\"type\":\"HelpTool\"}]},\"id\":\"1381\",\"type\":\"ProxyToolbar\"},{\"attributes\":{\"callback\":null,\"overlay\":{\"id\":\"1312\",\"type\":\"PolyAnnotation\"}},\"id\":\"1307\",\"type\":\"LassoSelectTool\"},{\"attributes\":{\"active_drag\":\"auto\",\"active_inspect\":\"auto\",\"active_multi\":null,\"active_scroll\":\"auto\",\"active_tap\":\"auto\",\"tools\":[{\"id\":\"1341\",\"type\":\"BoxSelectTool\"},{\"id\":\"1342\",\"type\":\"LassoSelectTool\"},{\"id\":\"1343\",\"type\":\"HelpTool\"}]},\"id\":\"1346\",\"type\":\"Toolbar\"},{\"attributes\":{\"fill_alpha\":{\"value\":0.1},\"fill_color\":{\"value\":\"#1f77b4\"},\"line_alpha\":{\"value\":0.1},\"line_color\":{\"value\":\"#1f77b4\"},\"x\":{\"field\":\"x\"},\"y\":{\"field\":\"y1\"}},\"id\":\"1354\",\"type\":\"Circle\"},{\"attributes\":{\"callback\":null,\"overlay\":{\"id\":\"1309\",\"type\":\"BoxAnnotation\"}},\"id\":\"1306\",\"type\":\"BoxSelectTool\"},{\"attributes\":{\"plot\":null,\"text\":\"\"},\"id\":\"1358\",\"type\":\"Title\"},{\"attributes\":{\"children\":[{\"id\":\"1379\",\"type\":\"Row\"}]},\"id\":\"1380\",\"type\":\"Column\"},{\"attributes\":{\"bottom_units\":\"screen\",\"fill_alpha\":{\"value\":0.5},\"fill_color\":{\"value\":\"lightgrey\"},\"left_units\":\"screen\",\"level\":\"overlay\",\"line_alpha\":{\"value\":1.0},\"line_color\":{\"value\":\"black\"},\"line_dash\":[4,4],\"line_width\":{\"value\":2},\"plot\":null,\"render_mode\":\"css\",\"right_units\":\"screen\",\"top_units\":\"screen\"},\"id\":\"1309\",\"type\":\"BoxAnnotation\"},{\"attributes\":{},\"id\":\"1332\",\"type\":\"BasicTicker\"},{\"attributes\":{\"fill_alpha\":{\"value\":0.5},\"fill_color\":{\"value\":\"lightgrey\"},\"level\":\"overlay\",\"line_alpha\":{\"value\":1.0},\"line_color\":{\"value\":\"black\"},\"line_dash\":[4,4],\"line_width\":{\"value\":2},\"plot\":null,\"xs_units\":\"screen\",\"ys_units\":\"screen\"},\"id\":\"1347\",\"type\":\"PolyAnnotation\"},{\"attributes\":{\"fill_color\":{\"value\":\"#1f77b4\"},\"line_color\":{\"value\":\"#1f77b4\"},\"x\":{\"field\":\"x\"},\"y\":{\"field\":\"y1\"}},\"id\":\"1353\",\"type\":\"Circle\"},{\"attributes\":{},\"id\":\"1329\",\"type\":\"LinearScale\"},{\"attributes\":{\"source\":{\"id\":\"1286\",\"type\":\"ColumnDataSource\"}},\"id\":\"1356\",\"type\":\"CDSView\"},{\"attributes\":{\"below\":[{\"id\":\"1331\",\"type\":\"LinearAxis\"}],\"left\":[{\"id\":\"1336\",\"type\":\"LinearAxis\"}],\"plot_height\":300,\"plot_width\":300,\"renderers\":[{\"id\":\"1331\",\"type\":\"LinearAxis\"},{\"id\":\"1335\",\"type\":\"Grid\"},{\"id\":\"1336\",\"type\":\"LinearAxis\"},{\"id\":\"1340\",\"type\":\"Grid\"},{\"id\":\"1344\",\"type\":\"BoxAnnotation\"},{\"id\":\"1347\",\"type\":\"PolyAnnotation\"},{\"id\":\"1355\",\"type\":\"GlyphRenderer\"}],\"title\":{\"id\":\"1369\",\"type\":\"Title\"},\"toolbar\":{\"id\":\"1346\",\"type\":\"Toolbar\"},\"toolbar_location\":null,\"x_range\":{\"id\":\"1323\",\"type\":\"DataRange1d\"},\"x_scale\":{\"id\":\"1327\",\"type\":\"LinearScale\"},\"y_range\":{\"id\":\"1325\",\"type\":\"DataRange1d\"},\"y_scale\":{\"id\":\"1329\",\"type\":\"LinearScale\"}},\"id\":\"1322\",\"subtype\":\"Figure\",\"type\":\"Plot\"},{\"attributes\":{\"formatter\":{\"id\":\"1362\",\"type\":\"BasicTickFormatter\"},\"plot\":{\"id\":\"1287\",\"subtype\":\"Figure\",\"type\":\"Plot\"},\"ticker\":{\"id\":\"1297\",\"type\":\"BasicTicker\"}},\"id\":\"1296\",\"type\":\"LinearAxis\"},{\"attributes\":{\"callback\":null,\"overlay\":{\"id\":\"1347\",\"type\":\"PolyAnnotation\"}},\"id\":\"1342\",\"type\":\"LassoSelectTool\"},{\"attributes\":{\"data_source\":{\"id\":\"1286\",\"type\":\"ColumnDataSource\"},\"glyph\":{\"id\":\"1353\",\"type\":\"Circle\"},\"hover_glyph\":null,\"muted_glyph\":null,\"nonselection_glyph\":{\"id\":\"1354\",\"type\":\"Circle\"},\"selection_glyph\":null,\"view\":{\"id\":\"1356\",\"type\":\"CDSView\"}},\"id\":\"1355\",\"type\":\"GlyphRenderer\"},{\"attributes\":{},\"id\":\"1308\",\"type\":\"HelpTool\"},{\"attributes\":{\"callback\":null,\"data\":{\"x\":[-20,-19,-18,-17,-16,-15,-14,-13,-12,-11,-10,-9,-8,-7,-6,-5,-4,-3,-2,-1,0,1,2,3,4,5,6,7,8,9,10,11,12,13,14,15,16,17,18,19,20],\"y0\":[20,19,18,17,16,15,14,13,12,11,10,9,8,7,6,5,4,3,2,1,0,1,2,3,4,5,6,7,8,9,10,11,12,13,14,15,16,17,18,19,20],\"y1\":[400,361,324,289,256,225,196,169,144,121,100,81,64,49,36,25,16,9,4,1,0,1,4,9,16,25,36,49,64,81,100,121,144,169,196,225,256,289,324,361,400]},\"selected\":{\"id\":\"1366\",\"type\":\"Selection\"},\"selection_policy\":{\"id\":\"1365\",\"type\":\"UnionRenderers\"}},\"id\":\"1286\",\"type\":\"ColumnDataSource\"},{\"attributes\":{\"fill_alpha\":{\"value\":0.5},\"fill_color\":{\"value\":\"lightgrey\"},\"level\":\"overlay\",\"line_alpha\":{\"value\":1.0},\"line_color\":{\"value\":\"black\"},\"line_dash\":[4,4],\"line_width\":{\"value\":2},\"plot\":null,\"xs_units\":\"screen\",\"ys_units\":\"screen\"},\"id\":\"1312\",\"type\":\"PolyAnnotation\"},{\"attributes\":{},\"id\":\"1337\",\"type\":\"BasicTicker\"},{\"attributes\":{\"plot\":null,\"text\":\"\"},\"id\":\"1369\",\"type\":\"Title\"},{\"attributes\":{\"formatter\":{\"id\":\"1371\",\"type\":\"BasicTickFormatter\"},\"plot\":{\"id\":\"1322\",\"subtype\":\"Figure\",\"type\":\"Plot\"},\"ticker\":{\"id\":\"1337\",\"type\":\"BasicTicker\"}},\"id\":\"1336\",\"type\":\"LinearAxis\"},{\"attributes\":{\"dimension\":1,\"plot\":{\"id\":\"1322\",\"subtype\":\"Figure\",\"type\":\"Plot\"},\"ticker\":{\"id\":\"1337\",\"type\":\"BasicTicker\"}},\"id\":\"1340\",\"type\":\"Grid\"},{\"attributes\":{},\"id\":\"1366\",\"type\":\"Selection\"},{\"attributes\":{\"source\":{\"id\":\"1286\",\"type\":\"ColumnDataSource\"}},\"id\":\"1321\",\"type\":\"CDSView\"},{\"attributes\":{\"fill_color\":{\"value\":\"#1f77b4\"},\"line_color\":{\"value\":\"#1f77b4\"},\"x\":{\"field\":\"x\"},\"y\":{\"field\":\"y0\"}},\"id\":\"1318\",\"type\":\"Circle\"},{\"attributes\":{\"plot\":{\"id\":\"1287\",\"subtype\":\"Figure\",\"type\":\"Plot\"},\"ticker\":{\"id\":\"1297\",\"type\":\"BasicTicker\"}},\"id\":\"1300\",\"type\":\"Grid\"},{\"attributes\":{},\"id\":\"1373\",\"type\":\"BasicTickFormatter\"},{\"attributes\":{},\"id\":\"1294\",\"type\":\"LinearScale\"},{\"attributes\":{\"callback\":null,\"overlay\":{\"id\":\"1344\",\"type\":\"BoxAnnotation\"}},\"id\":\"1341\",\"type\":\"BoxSelectTool\"},{\"attributes\":{},\"id\":\"1371\",\"type\":\"BasicTickFormatter\"},{\"attributes\":{},\"id\":\"1297\",\"type\":\"BasicTicker\"},{\"attributes\":{\"callback\":null},\"id\":\"1290\",\"type\":\"DataRange1d\"},{\"attributes\":{\"formatter\":{\"id\":\"1373\",\"type\":\"BasicTickFormatter\"},\"plot\":{\"id\":\"1322\",\"subtype\":\"Figure\",\"type\":\"Plot\"},\"ticker\":{\"id\":\"1332\",\"type\":\"BasicTicker\"}},\"id\":\"1331\",\"type\":\"LinearAxis\"},{\"attributes\":{},\"id\":\"1292\",\"type\":\"LinearScale\"},{\"attributes\":{\"toolbar\":{\"id\":\"1381\",\"type\":\"ProxyToolbar\"},\"toolbar_location\":\"above\"},\"id\":\"1382\",\"type\":\"ToolbarBox\"},{\"attributes\":{\"callback\":null},\"id\":\"1325\",\"type\":\"DataRange1d\"},{\"attributes\":{},\"id\":\"1327\",\"type\":\"LinearScale\"},{\"attributes\":{},\"id\":\"1302\",\"type\":\"BasicTicker\"},{\"attributes\":{\"callback\":null},\"id\":\"1288\",\"type\":\"DataRange1d\"},{\"attributes\":{\"below\":[{\"id\":\"1296\",\"type\":\"LinearAxis\"}],\"left\":[{\"id\":\"1301\",\"type\":\"LinearAxis\"}],\"plot_height\":300,\"plot_width\":300,\"renderers\":[{\"id\":\"1296\",\"type\":\"LinearAxis\"},{\"id\":\"1300\",\"type\":\"Grid\"},{\"id\":\"1301\",\"type\":\"LinearAxis\"},{\"id\":\"1305\",\"type\":\"Grid\"},{\"id\":\"1309\",\"type\":\"BoxAnnotation\"},{\"id\":\"1312\",\"type\":\"PolyAnnotation\"},{\"id\":\"1320\",\"type\":\"GlyphRenderer\"}],\"title\":{\"id\":\"1358\",\"type\":\"Title\"},\"toolbar\":{\"id\":\"1311\",\"type\":\"Toolbar\"},\"toolbar_location\":null,\"x_range\":{\"id\":\"1288\",\"type\":\"DataRange1d\"},\"x_scale\":{\"id\":\"1292\",\"type\":\"LinearScale\"},\"y_range\":{\"id\":\"1290\",\"type\":\"DataRange1d\"},\"y_scale\":{\"id\":\"1294\",\"type\":\"LinearScale\"}},\"id\":\"1287\",\"subtype\":\"Figure\",\"type\":\"Plot\"},{\"attributes\":{\"bottom_units\":\"screen\",\"fill_alpha\":{\"value\":0.5},\"fill_color\":{\"value\":\"lightgrey\"},\"left_units\":\"screen\",\"level\":\"overlay\",\"line_alpha\":{\"value\":1.0},\"line_color\":{\"value\":\"black\"},\"line_dash\":[4,4],\"line_width\":{\"value\":2},\"plot\":null,\"render_mode\":\"css\",\"right_units\":\"screen\",\"top_units\":\"screen\"},\"id\":\"1344\",\"type\":\"BoxAnnotation\"},{\"attributes\":{\"callback\":null},\"id\":\"1323\",\"type\":\"DataRange1d\"},{\"attributes\":{},\"id\":\"1343\",\"type\":\"HelpTool\"}],\"root_ids\":[\"1383\"]},\"title\":\"Bokeh Application\",\"version\":\"1.0.2\"}};\n",
       "  var render_items = [{\"docid\":\"e03e0a0d-3ac1-4af3-9030-323eeb3acd1e\",\"roots\":{\"1383\":\"88e5aed0-86b6-43af-9d86-e9b00470e7c2\"}}];\n",
       "  root.Bokeh.embed.embed_items_notebook(docs_json, render_items);\n",
       "\n",
       "  }\n",
       "  if (root.Bokeh !== undefined) {\n",
       "    embed_document(root);\n",
       "  } else {\n",
       "    var attempts = 0;\n",
       "    var timer = setInterval(function(root) {\n",
       "      if (root.Bokeh !== undefined) {\n",
       "        embed_document(root);\n",
       "        clearInterval(timer);\n",
       "      }\n",
       "      attempts++;\n",
       "      if (attempts > 100) {\n",
       "        console.log(\"Bokeh: ERROR: Unable to run BokehJS code because BokehJS library is missing\");\n",
       "        clearInterval(timer);\n",
       "      }\n",
       "    }, 10, root)\n",
       "  }\n",
       "})(window);"
      ],
      "application/vnd.bokehjs_exec.v0+json": ""
     },
     "metadata": {
      "application/vnd.bokehjs_exec.v0+json": {
       "id": "1383"
      }
     },
     "output_type": "display_data"
    }
   ],
   "source": [
    "from bokeh.models import ColumnDataSource\n",
    "\n",
    "x = list(range(-20, 21))\n",
    "y0, y1 = [abs(xx) for xx in x], [xx**2 for xx in x]\n",
    "\n",
    "# create a column data source for the plots to share\n",
    "source = ColumnDataSource(data=dict(x=x, y0=y0, y1=y1))\n",
    "\n",
    "TOOLS = \"box_select,lasso_select,help\"\n",
    "\n",
    "# create a new plot and add a renderer\n",
    "left = figure(tools=TOOLS, width=300, height=300)\n",
    "left.circle('x', 'y0', source=source)\n",
    "\n",
    "# create another new plot and add a renderer\n",
    "right = figure(tools=TOOLS, width=300, height=300)\n",
    "right.circle('x', 'y1', source=source)\n",
    "\n",
    "p = gridplot([[left, right]])\n",
    "\n",
    "show(p)"
   ]
  },
  {
   "cell_type": "code",
   "execution_count": 5,
   "metadata": {},
   "outputs": [],
   "source": [
    "# EXERCISE: create two plots in a gridplot, and link their data sources\n",
    "\n"
   ]
  },
  {
   "cell_type": "markdown",
   "metadata": {},
   "source": [
    "# Hover Tools\n",
    "\n",
    "Bokeh has a Hover Tool that allows additional information to be displayed in a popup whenever the user hovers over a specific glyph. Basic hover tool configuration amounts to providing a list of ``(name, format)`` tuples. The full details can be found in the User's Guide [here](http://bokeh.pydata.org/en/latest/docs/user_guide/tools.html#hovertool).\n",
    "\n",
    "The example below shows some basic usage of the Hover tool with a circle glyph, using hover information defined in utils.py:"
   ]
  },
  {
   "cell_type": "code",
   "execution_count": 4,
   "metadata": {},
   "outputs": [
    {
     "data": {
      "text/html": [
       "\n",
       "\n",
       "\n",
       "\n",
       "\n",
       "\n",
       "  <div class=\"bk-root\" id=\"dca20bd5-8d31-48d7-a7da-65862d9ad308\"></div>\n"
      ]
     },
     "metadata": {},
     "output_type": "display_data"
    },
    {
     "data": {
      "application/javascript": [
       "(function(root) {\n",
       "  function embed_document(root) {\n",
       "    \n",
       "  var docs_json = {\"1be9450b-55fe-4dff-8242-672c3daf10f7\":{\"roots\":{\"references\":[{\"attributes\":{\"below\":[{\"id\":\"1549\",\"type\":\"LinearAxis\"}],\"left\":[{\"id\":\"1554\",\"type\":\"LinearAxis\"}],\"plot_height\":300,\"plot_width\":300,\"renderers\":[{\"id\":\"1549\",\"type\":\"LinearAxis\"},{\"id\":\"1553\",\"type\":\"Grid\"},{\"id\":\"1554\",\"type\":\"LinearAxis\"},{\"id\":\"1558\",\"type\":\"Grid\"},{\"id\":\"1564\",\"type\":\"GlyphRenderer\"}],\"title\":{\"id\":\"1538\",\"type\":\"Title\"},\"toolbar\":{\"id\":\"1559\",\"type\":\"Toolbar\"},\"x_range\":{\"id\":\"1541\",\"type\":\"DataRange1d\"},\"x_scale\":{\"id\":\"1545\",\"type\":\"LinearScale\"},\"y_range\":{\"id\":\"1543\",\"type\":\"DataRange1d\"},\"y_scale\":{\"id\":\"1547\",\"type\":\"LinearScale\"}},\"id\":\"1539\",\"subtype\":\"Figure\",\"type\":\"Plot\"},{\"attributes\":{\"formatter\":{\"id\":\"1612\",\"type\":\"BasicTickFormatter\"},\"plot\":{\"id\":\"1539\",\"subtype\":\"Figure\",\"type\":\"Plot\"},\"ticker\":{\"id\":\"1550\",\"type\":\"BasicTicker\"}},\"id\":\"1549\",\"type\":\"LinearAxis\"},{\"attributes\":{},\"id\":\"1612\",\"type\":\"BasicTickFormatter\"},{\"attributes\":{\"source\":{\"id\":\"1536\",\"type\":\"ColumnDataSource\"}},\"id\":\"1565\",\"type\":\"CDSView\"},{\"attributes\":{},\"id\":\"1555\",\"type\":\"BasicTicker\"},{\"attributes\":{},\"id\":\"1610\",\"type\":\"BasicTickFormatter\"},{\"attributes\":{\"callback\":null},\"id\":\"1541\",\"type\":\"DataRange1d\"},{\"attributes\":{\"data_source\":{\"id\":\"1536\",\"type\":\"ColumnDataSource\"},\"glyph\":{\"id\":\"1562\",\"type\":\"Circle\"},\"hover_glyph\":null,\"muted_glyph\":null,\"nonselection_glyph\":{\"id\":\"1563\",\"type\":\"Circle\"},\"selection_glyph\":null,\"view\":{\"id\":\"1565\",\"type\":\"CDSView\"}},\"id\":\"1564\",\"type\":\"GlyphRenderer\"},{\"attributes\":{\"callback\":null,\"data\":{\"desc\":[\"A\",\"b\",\"C\",\"d\",\"E\"],\"x\":[1,2,3,4,5],\"y\":[2,5,8,2,7]},\"selected\":{\"id\":\"1614\",\"type\":\"Selection\"},\"selection_policy\":{\"id\":\"1613\",\"type\":\"UnionRenderers\"}},\"id\":\"1536\",\"type\":\"ColumnDataSource\"},{\"attributes\":{\"callback\":null},\"id\":\"1543\",\"type\":\"DataRange1d\"},{\"attributes\":{},\"id\":\"1614\",\"type\":\"Selection\"},{\"attributes\":{},\"id\":\"1613\",\"type\":\"UnionRenderers\"},{\"attributes\":{\"plot\":null,\"text\":\"Mouse over the dots\"},\"id\":\"1538\",\"type\":\"Title\"},{\"attributes\":{\"callback\":null,\"tooltips\":[[\"index\",\"$index\"],[\"(x,y)\",\"($x, $y)\"],[\"desc\",\"@desc\"]]},\"id\":\"1537\",\"type\":\"HoverTool\"},{\"attributes\":{\"active_drag\":\"auto\",\"active_inspect\":\"auto\",\"active_multi\":null,\"active_scroll\":\"auto\",\"active_tap\":\"auto\",\"tools\":[{\"id\":\"1537\",\"type\":\"HoverTool\"}]},\"id\":\"1559\",\"type\":\"Toolbar\"},{\"attributes\":{\"formatter\":{\"id\":\"1610\",\"type\":\"BasicTickFormatter\"},\"plot\":{\"id\":\"1539\",\"subtype\":\"Figure\",\"type\":\"Plot\"},\"ticker\":{\"id\":\"1555\",\"type\":\"BasicTicker\"}},\"id\":\"1554\",\"type\":\"LinearAxis\"},{\"attributes\":{\"fill_color\":{\"value\":\"#1f77b4\"},\"line_color\":{\"value\":\"#1f77b4\"},\"size\":{\"units\":\"screen\",\"value\":20},\"x\":{\"field\":\"x\"},\"y\":{\"field\":\"y\"}},\"id\":\"1562\",\"type\":\"Circle\"},{\"attributes\":{},\"id\":\"1547\",\"type\":\"LinearScale\"},{\"attributes\":{\"fill_alpha\":{\"value\":0.1},\"fill_color\":{\"value\":\"#1f77b4\"},\"line_alpha\":{\"value\":0.1},\"line_color\":{\"value\":\"#1f77b4\"},\"size\":{\"units\":\"screen\",\"value\":20},\"x\":{\"field\":\"x\"},\"y\":{\"field\":\"y\"}},\"id\":\"1563\",\"type\":\"Circle\"},{\"attributes\":{},\"id\":\"1545\",\"type\":\"LinearScale\"},{\"attributes\":{\"plot\":{\"id\":\"1539\",\"subtype\":\"Figure\",\"type\":\"Plot\"},\"ticker\":{\"id\":\"1550\",\"type\":\"BasicTicker\"}},\"id\":\"1553\",\"type\":\"Grid\"},{\"attributes\":{},\"id\":\"1550\",\"type\":\"BasicTicker\"},{\"attributes\":{\"dimension\":1,\"plot\":{\"id\":\"1539\",\"subtype\":\"Figure\",\"type\":\"Plot\"},\"ticker\":{\"id\":\"1555\",\"type\":\"BasicTicker\"}},\"id\":\"1558\",\"type\":\"Grid\"}],\"root_ids\":[\"1539\"]},\"title\":\"Bokeh Application\",\"version\":\"1.0.2\"}};\n",
       "  var render_items = [{\"docid\":\"1be9450b-55fe-4dff-8242-672c3daf10f7\",\"roots\":{\"1539\":\"dca20bd5-8d31-48d7-a7da-65862d9ad308\"}}];\n",
       "  root.Bokeh.embed.embed_items_notebook(docs_json, render_items);\n",
       "\n",
       "  }\n",
       "  if (root.Bokeh !== undefined) {\n",
       "    embed_document(root);\n",
       "  } else {\n",
       "    var attempts = 0;\n",
       "    var timer = setInterval(function(root) {\n",
       "      if (root.Bokeh !== undefined) {\n",
       "        embed_document(root);\n",
       "        clearInterval(timer);\n",
       "      }\n",
       "      attempts++;\n",
       "      if (attempts > 100) {\n",
       "        console.log(\"Bokeh: ERROR: Unable to run BokehJS code because BokehJS library is missing\");\n",
       "        clearInterval(timer);\n",
       "      }\n",
       "    }, 10, root)\n",
       "  }\n",
       "})(window);"
      ],
      "application/vnd.bokehjs_exec.v0+json": ""
     },
     "metadata": {
      "application/vnd.bokehjs_exec.v0+json": {
       "id": "1539"
      }
     },
     "output_type": "display_data"
    }
   ],
   "source": [
    "from bokeh.models import HoverTool\n",
    "\n",
    "source = ColumnDataSource(\n",
    "        data=dict(\n",
    "            x=[1, 2, 3, 4, 5],\n",
    "            y=[2, 5, 8, 2, 7],\n",
    "            desc=['A', 'b', 'C', 'd', 'E'],\n",
    "        )\n",
    "    )\n",
    "\n",
    "hover = HoverTool(\n",
    "        tooltips=[\n",
    "            (\"index\", \"$index\"),\n",
    "            (\"(x,y)\", \"($x, $y)\"),\n",
    "            (\"desc\", \"@desc\"),\n",
    "        ]\n",
    "    )\n",
    "\n",
    "p = figure(plot_width=300, plot_height=300, tools=[hover], title=\"Mouse over the dots\")\n",
    "\n",
    "p.circle('x', 'y', size=20, source=source)\n",
    "\n",
    "show(p)"
   ]
  },
  {
   "cell_type": "markdown",
   "metadata": {},
   "source": [
    "# Widgets"
   ]
  },
  {
   "cell_type": "markdown",
   "metadata": {},
   "source": [
    "Bokeh supports direct integration with a small basic widget set. Thse can be used in conjunction with a Bokeh Server, or with ``CustomJS`` models to add more interactive capability to your documents. You can see a complete list, with example code in the [Adding Widgets](http://bokeh.pydata.org/en/latest/docs/user_guide/interaction.html#adding-widgets) section of the User's Guide. \n",
    "\n",
    "\n",
    "\n",
    "*NOTE: In this Tutorial chapter, we will focus on using widgets with JavaScript callbacks. The Tutorial chapter on Bokeh server applications covers using Bokeh widgets with real Python callbacks*\n",
    "\n",
    "\n",
    "\n",
    "\n",
    "To use the widgets, include them in a layout like you would a plot object:"
   ]
  },
  {
   "cell_type": "code",
   "execution_count": 5,
   "metadata": {},
   "outputs": [
    {
     "data": {
      "text/html": [
       "\n",
       "\n",
       "\n",
       "\n",
       "\n",
       "\n",
       "  <div class=\"bk-root\" id=\"d065224d-eeff-4f71-947b-d402b0a1663a\"></div>\n"
      ]
     },
     "metadata": {},
     "output_type": "display_data"
    },
    {
     "data": {
      "application/javascript": [
       "(function(root) {\n",
       "  function embed_document(root) {\n",
       "    \n",
       "  var docs_json = {\"8f1d0a79-698b-46d9-aa84-5d1b1e088363\":{\"roots\":{\"references\":[{\"attributes\":{\"children\":[{\"id\":\"1657\",\"type\":\"Slider\"}]},\"id\":\"1658\",\"type\":\"WidgetBox\"},{\"attributes\":{\"callback\":null,\"end\":10,\"start\":0,\"step\":0.1,\"title\":\"foo\",\"value\":1},\"id\":\"1657\",\"type\":\"Slider\"}],\"root_ids\":[\"1658\"]},\"title\":\"Bokeh Application\",\"version\":\"1.0.2\"}};\n",
       "  var render_items = [{\"docid\":\"8f1d0a79-698b-46d9-aa84-5d1b1e088363\",\"roots\":{\"1658\":\"d065224d-eeff-4f71-947b-d402b0a1663a\"}}];\n",
       "  root.Bokeh.embed.embed_items_notebook(docs_json, render_items);\n",
       "\n",
       "  }\n",
       "  if (root.Bokeh !== undefined) {\n",
       "    embed_document(root);\n",
       "  } else {\n",
       "    var attempts = 0;\n",
       "    var timer = setInterval(function(root) {\n",
       "      if (root.Bokeh !== undefined) {\n",
       "        embed_document(root);\n",
       "        clearInterval(timer);\n",
       "      }\n",
       "      attempts++;\n",
       "      if (attempts > 100) {\n",
       "        console.log(\"Bokeh: ERROR: Unable to run BokehJS code because BokehJS library is missing\");\n",
       "        clearInterval(timer);\n",
       "      }\n",
       "    }, 10, root)\n",
       "  }\n",
       "})(window);"
      ],
      "application/vnd.bokehjs_exec.v0+json": ""
     },
     "metadata": {
      "application/vnd.bokehjs_exec.v0+json": {
       "id": "1658"
      }
     },
     "output_type": "display_data"
    }
   ],
   "source": [
    "from bokeh.layouts import widgetbox\n",
    "from bokeh.models.widgets import Slider\n",
    "\n",
    "\n",
    "slider = Slider(start=0, end=10, value=1, step=.1, title=\"foo\")\n",
    "\n",
    "show(widgetbox(slider))"
   ]
  },
  {
   "cell_type": "code",
   "execution_count": 8,
   "metadata": {},
   "outputs": [],
   "source": [
    "# EXERCISE: create and show a Select widget \n"
   ]
  },
  {
   "cell_type": "markdown",
   "metadata": {},
   "source": [
    "# CustomJS Callbacks\n",
    "\n",
    "In order for a widget to be useful, it needs to be able to perform some action. Using the Bokeh server, it is possible to have widgets trigger real Python code. That possibuility will be explored in the Bokeh server chapter of the turorial. Here, we look at how widgets can be configured with `CustomJS` callbacks that execute snippets of JavaScript code. "
   ]
  },
  {
   "cell_type": "code",
   "execution_count": 6,
   "metadata": {},
   "outputs": [
    {
     "data": {
      "text/html": [
       "\n",
       "\n",
       "\n",
       "\n",
       "\n",
       "\n",
       "  <div class=\"bk-root\" id=\"2af46ea4-7511-4ed3-9096-1a2e5d78705a\"></div>\n"
      ]
     },
     "metadata": {},
     "output_type": "display_data"
    },
    {
     "data": {
      "application/javascript": [
       "(function(root) {\n",
       "  function embed_document(root) {\n",
       "    \n",
       "  var docs_json = {\"2bd4e44d-350c-4d7d-a564-6b57da7cd15c\":{\"roots\":{\"references\":[{\"attributes\":{\"below\":[{\"id\":\"1719\",\"type\":\"LinearAxis\"}],\"left\":[{\"id\":\"1724\",\"type\":\"LinearAxis\"}],\"plot_height\":300,\"renderers\":[{\"id\":\"1719\",\"type\":\"LinearAxis\"},{\"id\":\"1723\",\"type\":\"Grid\"},{\"id\":\"1724\",\"type\":\"LinearAxis\"},{\"id\":\"1728\",\"type\":\"Grid\"},{\"id\":\"1734\",\"type\":\"GlyphRenderer\"}],\"title\":{\"id\":\"1786\",\"type\":\"Title\"},\"toolbar\":{\"id\":\"1729\",\"type\":\"Toolbar\"},\"x_range\":{\"id\":\"1711\",\"type\":\"DataRange1d\"},\"x_scale\":{\"id\":\"1715\",\"type\":\"LinearScale\"},\"y_range\":{\"id\":\"1713\",\"type\":\"DataRange1d\"},\"y_scale\":{\"id\":\"1717\",\"type\":\"LinearScale\"}},\"id\":\"1710\",\"subtype\":\"Figure\",\"type\":\"Plot\"},{\"attributes\":{},\"id\":\"1725\",\"type\":\"BasicTicker\"},{\"attributes\":{\"formatter\":{\"id\":\"1788\",\"type\":\"BasicTickFormatter\"},\"plot\":{\"id\":\"1710\",\"subtype\":\"Figure\",\"type\":\"Plot\"},\"ticker\":{\"id\":\"1725\",\"type\":\"BasicTicker\"}},\"id\":\"1724\",\"type\":\"LinearAxis\"},{\"attributes\":{\"plot\":{\"id\":\"1710\",\"subtype\":\"Figure\",\"type\":\"Plot\"},\"ticker\":{\"id\":\"1720\",\"type\":\"BasicTicker\"}},\"id\":\"1723\",\"type\":\"Grid\"},{\"attributes\":{\"data_source\":{\"id\":\"1731\",\"type\":\"ColumnDataSource\"},\"glyph\":{\"id\":\"1732\",\"type\":\"Circle\"},\"hover_glyph\":null,\"muted_glyph\":null,\"nonselection_glyph\":{\"id\":\"1733\",\"type\":\"Circle\"},\"selection_glyph\":null,\"view\":{\"id\":\"1735\",\"type\":\"CDSView\"}},\"id\":\"1734\",\"type\":\"GlyphRenderer\"},{\"attributes\":{},\"id\":\"1720\",\"type\":\"BasicTicker\"},{\"attributes\":{},\"id\":\"1715\",\"type\":\"LinearScale\"},{\"attributes\":{},\"id\":\"1791\",\"type\":\"UnionRenderers\"},{\"attributes\":{\"callback\":null},\"id\":\"1711\",\"type\":\"DataRange1d\"},{\"attributes\":{\"source\":{\"id\":\"1731\",\"type\":\"ColumnDataSource\"}},\"id\":\"1735\",\"type\":\"CDSView\"},{\"attributes\":{\"callback\":{\"id\":\"1708\",\"type\":\"CustomJS\"}},\"id\":\"1709\",\"type\":\"TapTool\"},{\"attributes\":{},\"id\":\"1790\",\"type\":\"BasicTickFormatter\"},{\"attributes\":{},\"id\":\"1788\",\"type\":\"BasicTickFormatter\"},{\"attributes\":{\"callback\":null,\"data\":{\"x\":[1,2,3,4,5],\"y\":[2,5,8,2,7]},\"selected\":{\"id\":\"1792\",\"type\":\"Selection\"},\"selection_policy\":{\"id\":\"1791\",\"type\":\"UnionRenderers\"}},\"id\":\"1731\",\"type\":\"ColumnDataSource\"},{\"attributes\":{\"plot\":null,\"text\":\"\"},\"id\":\"1786\",\"type\":\"Title\"},{\"attributes\":{},\"id\":\"1792\",\"type\":\"Selection\"},{\"attributes\":{\"code\":\"alert('you tapped a circle!')\"},\"id\":\"1708\",\"type\":\"CustomJS\"},{\"attributes\":{\"fill_alpha\":{\"value\":0.1},\"fill_color\":{\"value\":\"#1f77b4\"},\"line_alpha\":{\"value\":0.1},\"line_color\":{\"value\":\"#1f77b4\"},\"size\":{\"units\":\"screen\",\"value\":20},\"x\":{\"field\":\"x\"},\"y\":{\"field\":\"y\"}},\"id\":\"1733\",\"type\":\"Circle\"},{\"attributes\":{\"active_drag\":\"auto\",\"active_inspect\":\"auto\",\"active_multi\":null,\"active_scroll\":\"auto\",\"active_tap\":\"auto\",\"tools\":[{\"id\":\"1709\",\"type\":\"TapTool\"}]},\"id\":\"1729\",\"type\":\"Toolbar\"},{\"attributes\":{\"callback\":null},\"id\":\"1713\",\"type\":\"DataRange1d\"},{\"attributes\":{},\"id\":\"1717\",\"type\":\"LinearScale\"},{\"attributes\":{\"fill_color\":{\"value\":\"#1f77b4\"},\"line_color\":{\"value\":\"#1f77b4\"},\"size\":{\"units\":\"screen\",\"value\":20},\"x\":{\"field\":\"x\"},\"y\":{\"field\":\"y\"}},\"id\":\"1732\",\"type\":\"Circle\"},{\"attributes\":{\"dimension\":1,\"plot\":{\"id\":\"1710\",\"subtype\":\"Figure\",\"type\":\"Plot\"},\"ticker\":{\"id\":\"1725\",\"type\":\"BasicTicker\"}},\"id\":\"1728\",\"type\":\"Grid\"},{\"attributes\":{\"formatter\":{\"id\":\"1790\",\"type\":\"BasicTickFormatter\"},\"plot\":{\"id\":\"1710\",\"subtype\":\"Figure\",\"type\":\"Plot\"},\"ticker\":{\"id\":\"1720\",\"type\":\"BasicTicker\"}},\"id\":\"1719\",\"type\":\"LinearAxis\"}],\"root_ids\":[\"1710\"]},\"title\":\"Bokeh Application\",\"version\":\"1.0.2\"}};\n",
       "  var render_items = [{\"docid\":\"2bd4e44d-350c-4d7d-a564-6b57da7cd15c\",\"roots\":{\"1710\":\"2af46ea4-7511-4ed3-9096-1a2e5d78705a\"}}];\n",
       "  root.Bokeh.embed.embed_items_notebook(docs_json, render_items);\n",
       "\n",
       "  }\n",
       "  if (root.Bokeh !== undefined) {\n",
       "    embed_document(root);\n",
       "  } else {\n",
       "    var attempts = 0;\n",
       "    var timer = setInterval(function(root) {\n",
       "      if (root.Bokeh !== undefined) {\n",
       "        embed_document(root);\n",
       "        clearInterval(timer);\n",
       "      }\n",
       "      attempts++;\n",
       "      if (attempts > 100) {\n",
       "        console.log(\"Bokeh: ERROR: Unable to run BokehJS code because BokehJS library is missing\");\n",
       "        clearInterval(timer);\n",
       "      }\n",
       "    }, 10, root)\n",
       "  }\n",
       "})(window);"
      ],
      "application/vnd.bokehjs_exec.v0+json": ""
     },
     "metadata": {
      "application/vnd.bokehjs_exec.v0+json": {
       "id": "1710"
      }
     },
     "output_type": "display_data"
    }
   ],
   "source": [
    "from bokeh.models import TapTool, CustomJS, ColumnDataSource\n",
    "\n",
    "callback = CustomJS(code=\"alert('you tapped a circle!')\")\n",
    "tap = TapTool(callback=callback)\n",
    "\n",
    "p = figure(plot_width=600, plot_height=300, tools=[tap])\n",
    "\n",
    "p.circle(x=[1, 2, 3, 4, 5], y=[2, 5, 8, 2, 7], size=20)\n",
    "\n",
    "show(p)"
   ]
  },
  {
   "cell_type": "markdown",
   "metadata": {},
   "source": [
    "## CustomJS for Property changes\n",
    "\n",
    "Bokeh objects that have values associated can have small JavaScript actions attached to them using the `js_on_change` method. These actions (also referred to as \"callbacks\") are executed whenever the widget's value is changed. In order to make it easier to refer to specific Bokeh models (e.g., a data source, or a glyhph) from JavaScript, the ``CustomJS`` obejct also accepts a dictionary of \"args\" that map names to Python Bokeh models. The corresponding JavaScript models are made available automaticaly to the ``CustomJS`` code:\n",
    "\n",
    "```python\n",
    "CustomJS(args=dict(source=source, slider=slider), code=\"\"\"\n",
    "    // easily refer to BokehJS source and slider objects in this JS code\n",
    "    var data = source.data;\n",
    "    var f = slider.value;\n",
    "\"\"\")\n",
    "```"
   ]
  },
  {
   "cell_type": "markdown",
   "metadata": {},
   "source": [
    "### Slider widget example\n",
    "\n",
    "The example below shows an action attached to a slider that updates a data source whenever the slider is moved.  "
   ]
  },
  {
   "cell_type": "code",
   "execution_count": 10,
   "metadata": {},
   "outputs": [
    {
     "data": {
      "text/html": [
       "\n",
       "\n",
       "\n",
       "\n",
       "\n",
       "\n",
       "  <div class=\"bk-root\" id=\"97750c44-b71c-4b4e-9be8-a208e146446e\"></div>\n"
      ]
     },
     "metadata": {},
     "output_type": "display_data"
    },
    {
     "data": {
      "application/javascript": [
       "(function(root) {\n",
       "  function embed_document(root) {\n",
       "    \n",
       "  var docs_json = {\"f8fb335f-1fb8-4825-8ee3-83f24ff39a32\":{\"roots\":{\"references\":[{\"attributes\":{\"active_drag\":\"auto\",\"active_inspect\":\"auto\",\"active_multi\":null,\"active_scroll\":\"auto\",\"active_tap\":\"auto\",\"tools\":[{\"id\":\"ad969320-c8c9-42fa-922f-abc2dd7f9e4c\",\"type\":\"PanTool\"},{\"id\":\"e9202566-cede-444f-af91-2a1d8e8138a7\",\"type\":\"WheelZoomTool\"},{\"id\":\"b0b91272-a172-4352-8236-37f616e8e53b\",\"type\":\"BoxZoomTool\"},{\"id\":\"531db9ee-d7fa-4fc5-bc8b-77f76c1de1e8\",\"type\":\"SaveTool\"},{\"id\":\"50c49425-1151-4282-89d4-a1b6ecf6b9f6\",\"type\":\"ResetTool\"},{\"id\":\"9eaf5aec-aed2-4e56-b59d-25db521d8b3c\",\"type\":\"HelpTool\"}]},\"id\":\"b45c2ef7-4ab5-43eb-a310-a5ed7148efea\",\"type\":\"Toolbar\"},{\"attributes\":{\"args\":{\"slider\":{\"id\":\"bfe1c9d3-1ce5-4623-bd71-d416eb5afb98\",\"type\":\"Slider\"},\"source\":{\"id\":\"f0cc9ec8-2fef-407f-b03e-b7d8bfa6d6d7\",\"type\":\"ColumnDataSource\"}},\"code\":\"\\n    var data = source.data;\\n    var f = slider.value;\\n    x = data['x']\\n    y = data['y']\\n    for (i = 0; i < x.length; i++) {\\n        y[i] = Math.pow(x[i], f)\\n    }\\n    \\n    // necessary becasue we mutated source.data in-place\\n    source.change.emit();\\n\"},\"id\":\"a5872d3b-7183-4707-8bcf-7ebcdaa2d262\",\"type\":\"CustomJS\"},{\"attributes\":{\"bottom_units\":\"screen\",\"fill_alpha\":{\"value\":0.5},\"fill_color\":{\"value\":\"lightgrey\"},\"left_units\":\"screen\",\"level\":\"overlay\",\"line_alpha\":{\"value\":1.0},\"line_color\":{\"value\":\"black\"},\"line_dash\":[4,4],\"line_width\":{\"value\":2},\"plot\":null,\"render_mode\":\"css\",\"right_units\":\"screen\",\"top_units\":\"screen\"},\"id\":\"592cd8c9-a93a-4d98-8e7a-a97a791e5043\",\"type\":\"BoxAnnotation\"},{\"attributes\":{},\"id\":\"ad969320-c8c9-42fa-922f-abc2dd7f9e4c\",\"type\":\"PanTool\"},{\"attributes\":{\"children\":[{\"id\":\"ba064c62-aa76-43c9-8149-45b268a35b67\",\"type\":\"WidgetBox\"},{\"id\":\"03fb3aec-6901-4160-95b5-bc9da8c410fc\",\"subtype\":\"Figure\",\"type\":\"Plot\"}]},\"id\":\"23e2328c-3417-4b1e-9a84-b1d35c8349c4\",\"type\":\"Column\"},{\"attributes\":{},\"id\":\"e9202566-cede-444f-af91-2a1d8e8138a7\",\"type\":\"WheelZoomTool\"},{\"attributes\":{\"formatter\":{\"id\":\"e88d971e-9f87-47ed-a805-dcd7e306af2b\",\"type\":\"BasicTickFormatter\"},\"plot\":{\"id\":\"03fb3aec-6901-4160-95b5-bc9da8c410fc\",\"subtype\":\"Figure\",\"type\":\"Plot\"},\"ticker\":{\"id\":\"61b54a82-05cd-495f-81cd-ece44d705099\",\"type\":\"BasicTicker\"}},\"id\":\"fd3d0010-408e-4e34-8c83-6e8afce30b59\",\"type\":\"LinearAxis\"},{\"attributes\":{\"overlay\":{\"id\":\"592cd8c9-a93a-4d98-8e7a-a97a791e5043\",\"type\":\"BoxAnnotation\"}},\"id\":\"b0b91272-a172-4352-8236-37f616e8e53b\",\"type\":\"BoxZoomTool\"},{\"attributes\":{},\"id\":\"531db9ee-d7fa-4fc5-bc8b-77f76c1de1e8\",\"type\":\"SaveTool\"},{\"attributes\":{\"line_alpha\":0.6,\"line_color\":\"#1f77b4\",\"line_width\":3,\"x\":{\"field\":\"x\"},\"y\":{\"field\":\"y\"}},\"id\":\"b38dd1e7-9945-4112-9490-3ed38a685627\",\"type\":\"Line\"},{\"attributes\":{\"data_source\":{\"id\":\"f0cc9ec8-2fef-407f-b03e-b7d8bfa6d6d7\",\"type\":\"ColumnDataSource\"},\"glyph\":{\"id\":\"b38dd1e7-9945-4112-9490-3ed38a685627\",\"type\":\"Line\"},\"hover_glyph\":null,\"muted_glyph\":null,\"nonselection_glyph\":{\"id\":\"e1798f88-eb99-47d8-b20c-7f6462ce09a2\",\"type\":\"Line\"},\"selection_glyph\":null,\"view\":{\"id\":\"790642ca-0dbf-42e3-a108-9c81b4429df8\",\"type\":\"CDSView\"}},\"id\":\"ff96de15-6301-473e-8c0b-3adaa4560660\",\"type\":\"GlyphRenderer\"},{\"attributes\":{},\"id\":\"50c49425-1151-4282-89d4-a1b6ecf6b9f6\",\"type\":\"ResetTool\"},{\"attributes\":{\"formatter\":{\"id\":\"61f268c0-e9b7-4ddb-a234-c12125d99a0e\",\"type\":\"BasicTickFormatter\"},\"plot\":{\"id\":\"03fb3aec-6901-4160-95b5-bc9da8c410fc\",\"subtype\":\"Figure\",\"type\":\"Plot\"},\"ticker\":{\"id\":\"c93677dc-33ec-475a-b83d-caf174a4ce6e\",\"type\":\"BasicTicker\"}},\"id\":\"3051af50-0351-47fc-aa35-479795ee9274\",\"type\":\"LinearAxis\"},{\"attributes\":{},\"id\":\"9eaf5aec-aed2-4e56-b59d-25db521d8b3c\",\"type\":\"HelpTool\"},{\"attributes\":{\"callback\":null},\"id\":\"2a838e86-2061-4369-a983-b3fe822706f0\",\"type\":\"DataRange1d\"},{\"attributes\":{\"children\":[{\"id\":\"bfe1c9d3-1ce5-4623-bd71-d416eb5afb98\",\"type\":\"Slider\"}]},\"id\":\"ba064c62-aa76-43c9-8149-45b268a35b67\",\"type\":\"WidgetBox\"},{\"attributes\":{\"source\":{\"id\":\"f0cc9ec8-2fef-407f-b03e-b7d8bfa6d6d7\",\"type\":\"ColumnDataSource\"}},\"id\":\"790642ca-0dbf-42e3-a108-9c81b4429df8\",\"type\":\"CDSView\"},{\"attributes\":{},\"id\":\"61b54a82-05cd-495f-81cd-ece44d705099\",\"type\":\"BasicTicker\"},{\"attributes\":{},\"id\":\"e88d971e-9f87-47ed-a805-dcd7e306af2b\",\"type\":\"BasicTickFormatter\"},{\"attributes\":{\"callback\":null,\"end\":6,\"js_property_callbacks\":{\"change:value\":[{\"id\":\"a5872d3b-7183-4707-8bcf-7ebcdaa2d262\",\"type\":\"CustomJS\"}]},\"start\":0.1,\"step\":0.1,\"title\":\"power\",\"value\":1},\"id\":\"bfe1c9d3-1ce5-4623-bd71-d416eb5afb98\",\"type\":\"Slider\"},{\"attributes\":{\"plot\":null,\"text\":\"\"},\"id\":\"e4a0d4ad-e2c7-4006-9ed5-a5fbe9fcfe72\",\"type\":\"Title\"},{\"attributes\":{},\"id\":\"61f268c0-e9b7-4ddb-a234-c12125d99a0e\",\"type\":\"BasicTickFormatter\"},{\"attributes\":{},\"id\":\"5310b424-5d85-41e5-be9d-5c720eb8821a\",\"type\":\"UnionRenderers\"},{\"attributes\":{},\"id\":\"c93677dc-33ec-475a-b83d-caf174a4ce6e\",\"type\":\"BasicTicker\"},{\"attributes\":{},\"id\":\"d5507cfc-0560-4c3c-ac6a-6d77afe9ac85\",\"type\":\"Selection\"},{\"attributes\":{\"callback\":null},\"id\":\"bd077bd7-6859-4bb4-ae69-5b66ad523d26\",\"type\":\"DataRange1d\"},{\"attributes\":{},\"id\":\"adeeac67-b59d-4ad8-ae49-454d122d621b\",\"type\":\"LinearScale\"},{\"attributes\":{\"plot\":{\"id\":\"03fb3aec-6901-4160-95b5-bc9da8c410fc\",\"subtype\":\"Figure\",\"type\":\"Plot\"},\"ticker\":{\"id\":\"61b54a82-05cd-495f-81cd-ece44d705099\",\"type\":\"BasicTicker\"}},\"id\":\"8661ee82-afaf-42f6-a53c-44b89c548f30\",\"type\":\"Grid\"},{\"attributes\":{\"dimension\":1,\"plot\":{\"id\":\"03fb3aec-6901-4160-95b5-bc9da8c410fc\",\"subtype\":\"Figure\",\"type\":\"Plot\"},\"ticker\":{\"id\":\"c93677dc-33ec-475a-b83d-caf174a4ce6e\",\"type\":\"BasicTicker\"}},\"id\":\"e0e3b155-1369-4cc2-a9ec-b56cd20fb9dd\",\"type\":\"Grid\"},{\"attributes\":{\"line_alpha\":0.1,\"line_color\":\"#1f77b4\",\"line_width\":3,\"x\":{\"field\":\"x\"},\"y\":{\"field\":\"y\"}},\"id\":\"e1798f88-eb99-47d8-b20c-7f6462ce09a2\",\"type\":\"Line\"},{\"attributes\":{},\"id\":\"eaa08f7a-3287-4504-904a-e2333b988f0d\",\"type\":\"LinearScale\"},{\"attributes\":{\"below\":[{\"id\":\"fd3d0010-408e-4e34-8c83-6e8afce30b59\",\"type\":\"LinearAxis\"}],\"left\":[{\"id\":\"3051af50-0351-47fc-aa35-479795ee9274\",\"type\":\"LinearAxis\"}],\"plot_height\":400,\"plot_width\":400,\"renderers\":[{\"id\":\"fd3d0010-408e-4e34-8c83-6e8afce30b59\",\"type\":\"LinearAxis\"},{\"id\":\"8661ee82-afaf-42f6-a53c-44b89c548f30\",\"type\":\"Grid\"},{\"id\":\"3051af50-0351-47fc-aa35-479795ee9274\",\"type\":\"LinearAxis\"},{\"id\":\"e0e3b155-1369-4cc2-a9ec-b56cd20fb9dd\",\"type\":\"Grid\"},{\"id\":\"592cd8c9-a93a-4d98-8e7a-a97a791e5043\",\"type\":\"BoxAnnotation\"},{\"id\":\"ff96de15-6301-473e-8c0b-3adaa4560660\",\"type\":\"GlyphRenderer\"}],\"title\":{\"id\":\"e4a0d4ad-e2c7-4006-9ed5-a5fbe9fcfe72\",\"type\":\"Title\"},\"toolbar\":{\"id\":\"b45c2ef7-4ab5-43eb-a310-a5ed7148efea\",\"type\":\"Toolbar\"},\"x_range\":{\"id\":\"2a838e86-2061-4369-a983-b3fe822706f0\",\"type\":\"DataRange1d\"},\"x_scale\":{\"id\":\"adeeac67-b59d-4ad8-ae49-454d122d621b\",\"type\":\"LinearScale\"},\"y_range\":{\"id\":\"bd077bd7-6859-4bb4-ae69-5b66ad523d26\",\"type\":\"DataRange1d\"},\"y_scale\":{\"id\":\"eaa08f7a-3287-4504-904a-e2333b988f0d\",\"type\":\"LinearScale\"}},\"id\":\"03fb3aec-6901-4160-95b5-bc9da8c410fc\",\"subtype\":\"Figure\",\"type\":\"Plot\"},{\"attributes\":{\"callback\":null,\"data\":{\"x\":[0.0,0.005,0.01,0.015,0.02,0.025,0.03,0.035,0.04,0.045,0.05,0.055,0.06,0.065,0.07,0.075,0.08,0.085,0.09,0.095,0.1,0.105,0.11,0.115,0.12,0.125,0.13,0.135,0.14,0.145,0.15,0.155,0.16,0.165,0.17,0.17500000000000002,0.18,0.185,0.19,0.195,0.2,0.20500000000000002,0.21,0.215,0.22,0.225,0.23,0.23500000000000001,0.24,0.245,0.25,0.255,0.26,0.265,0.27,0.275,0.28,0.28500000000000003,0.29,0.295,0.3,0.305,0.31,0.315,0.32,0.325,0.33,0.335,0.34,0.34500000000000003,0.35000000000000003,0.355,0.36,0.365,0.37,0.375,0.38,0.385,0.39,0.395,0.4,0.405,0.41000000000000003,0.41500000000000004,0.42,0.425,0.43,0.435,0.44,0.445,0.45,0.455,0.46,0.465,0.47000000000000003,0.47500000000000003,0.48,0.485,0.49,0.495,0.5,0.505,0.51,0.515,0.52,0.525,0.53,0.535,0.54,0.545,0.55,0.555,0.56,0.5650000000000001,0.5700000000000001,0.5750000000000001,0.58,0.585,0.59,0.595,0.6,0.605,0.61,0.615,0.62,0.625,0.63,0.635,0.64,0.645,0.65,0.655,0.66,0.665,0.67,0.675,0.68,0.685,0.6900000000000001,0.6950000000000001,0.7000000000000001,0.705,0.71,0.715,0.72,0.725,0.73,0.735,0.74,0.745,0.75,0.755,0.76,0.765,0.77,0.775,0.78,0.785,0.79,0.795,0.8,0.805,0.81,0.8150000000000001,0.8200000000000001,0.8250000000000001,0.8300000000000001,0.835,0.84,0.845,0.85,0.855,0.86,0.865,0.87,0.875,0.88,0.885,0.89,0.895,0.9,0.905,0.91,0.915,0.92,0.925,0.93,0.935,0.9400000000000001,0.9450000000000001,0.9500000000000001,0.9550000000000001,0.96,0.965,0.97,0.975,0.98,0.985,0.99,0.995,1.0],\"y\":[0.0,0.005,0.01,0.015,0.02,0.025,0.03,0.035,0.04,0.045,0.05,0.055,0.06,0.065,0.07,0.075,0.08,0.085,0.09,0.095,0.1,0.105,0.11,0.115,0.12,0.125,0.13,0.135,0.14,0.145,0.15,0.155,0.16,0.165,0.17,0.17500000000000002,0.18,0.185,0.19,0.195,0.2,0.20500000000000002,0.21,0.215,0.22,0.225,0.23,0.23500000000000001,0.24,0.245,0.25,0.255,0.26,0.265,0.27,0.275,0.28,0.28500000000000003,0.29,0.295,0.3,0.305,0.31,0.315,0.32,0.325,0.33,0.335,0.34,0.34500000000000003,0.35000000000000003,0.355,0.36,0.365,0.37,0.375,0.38,0.385,0.39,0.395,0.4,0.405,0.41000000000000003,0.41500000000000004,0.42,0.425,0.43,0.435,0.44,0.445,0.45,0.455,0.46,0.465,0.47000000000000003,0.47500000000000003,0.48,0.485,0.49,0.495,0.5,0.505,0.51,0.515,0.52,0.525,0.53,0.535,0.54,0.545,0.55,0.555,0.56,0.5650000000000001,0.5700000000000001,0.5750000000000001,0.58,0.585,0.59,0.595,0.6,0.605,0.61,0.615,0.62,0.625,0.63,0.635,0.64,0.645,0.65,0.655,0.66,0.665,0.67,0.675,0.68,0.685,0.6900000000000001,0.6950000000000001,0.7000000000000001,0.705,0.71,0.715,0.72,0.725,0.73,0.735,0.74,0.745,0.75,0.755,0.76,0.765,0.77,0.775,0.78,0.785,0.79,0.795,0.8,0.805,0.81,0.8150000000000001,0.8200000000000001,0.8250000000000001,0.8300000000000001,0.835,0.84,0.845,0.85,0.855,0.86,0.865,0.87,0.875,0.88,0.885,0.89,0.895,0.9,0.905,0.91,0.915,0.92,0.925,0.93,0.935,0.9400000000000001,0.9450000000000001,0.9500000000000001,0.9550000000000001,0.96,0.965,0.97,0.975,0.98,0.985,0.99,0.995,1.0]},\"selected\":{\"id\":\"d5507cfc-0560-4c3c-ac6a-6d77afe9ac85\",\"type\":\"Selection\"},\"selection_policy\":{\"id\":\"5310b424-5d85-41e5-be9d-5c720eb8821a\",\"type\":\"UnionRenderers\"}},\"id\":\"f0cc9ec8-2fef-407f-b03e-b7d8bfa6d6d7\",\"type\":\"ColumnDataSource\"}],\"root_ids\":[\"23e2328c-3417-4b1e-9a84-b1d35c8349c4\"]},\"title\":\"Bokeh Application\",\"version\":\"0.13.0\"}};\n",
       "  var render_items = [{\"docid\":\"f8fb335f-1fb8-4825-8ee3-83f24ff39a32\",\"roots\":{\"23e2328c-3417-4b1e-9a84-b1d35c8349c4\":\"97750c44-b71c-4b4e-9be8-a208e146446e\"}}];\n",
       "  root.Bokeh.embed.embed_items_notebook(docs_json, render_items);\n",
       "\n",
       "  }\n",
       "  if (root.Bokeh !== undefined) {\n",
       "    embed_document(root);\n",
       "  } else {\n",
       "    var attempts = 0;\n",
       "    var timer = setInterval(function(root) {\n",
       "      if (root.Bokeh !== undefined) {\n",
       "        embed_document(root);\n",
       "        clearInterval(timer);\n",
       "      }\n",
       "      attempts++;\n",
       "      if (attempts > 100) {\n",
       "        console.log(\"Bokeh: ERROR: Unable to run BokehJS code because BokehJS library is missing\")\n",
       "        clearInterval(timer);\n",
       "      }\n",
       "    }, 10, root)\n",
       "  }\n",
       "})(window);"
      ],
      "application/vnd.bokehjs_exec.v0+json": ""
     },
     "metadata": {
      "application/vnd.bokehjs_exec.v0+json": {
       "id": "23e2328c-3417-4b1e-9a84-b1d35c8349c4"
      }
     },
     "output_type": "display_data"
    }
   ],
   "source": [
    "from bokeh.layouts import column\n",
    "from bokeh.models import CustomJS, ColumnDataSource, Slider\n",
    "\n",
    "x = [x*0.005 for x in range(0, 201)]\n",
    "\n",
    "source = ColumnDataSource(data=dict(x=x, y=x))\n",
    "\n",
    "plot = figure(plot_width=400, plot_height=400)\n",
    "plot.line('x', 'y', source=source, line_width=3, line_alpha=0.6)\n",
    "\n",
    "slider = Slider(start=0.1, end=6, value=1, step=.1, title=\"power\")\n",
    "\n",
    "update_curve = CustomJS(args=dict(source=source, slider=slider), code=\"\"\"\n",
    "    var data = source.data;\n",
    "    var f = slider.value;\n",
    "    x = data['x']\n",
    "    y = data['y']\n",
    "    for (i = 0; i < x.length; i++) {\n",
    "        y[i] = Math.pow(x[i], f)\n",
    "    }\n",
    "    \n",
    "    // necessary becasue we mutated source.data in-place\n",
    "    source.change.emit();\n",
    "\"\"\")\n",
    "slider.js_on_change('value', update_curve)\n",
    "\n",
    "\n",
    "show(column(slider, plot))"
   ]
  },
  {
   "cell_type": "code",
   "execution_count": 11,
   "metadata": {},
   "outputs": [],
   "source": [
    "# Exercise: Create a plot that updates based on a Select widget\n",
    "\n"
   ]
  },
  {
   "cell_type": "markdown",
   "metadata": {},
   "source": [
    "### Data selection example\n",
    "\n",
    "It's also possible to make JavaScript actions that execute whenever a user selection (e.g., box, point, lasso) changes. This is done by attaching the same kind of CustomJS object to whatever data source the selection is made on.\n",
    "\n",
    "The example below is a bit more sophisticated, and demonstrates updating one glyph's data source in response to another glyph's selection: "
   ]
  },
  {
   "cell_type": "code",
   "execution_count": 12,
   "metadata": {},
   "outputs": [
    {
     "data": {
      "text/html": [
       "\n",
       "\n",
       "\n",
       "\n",
       "\n",
       "\n",
       "  <div class=\"bk-root\" id=\"7b31a79f-1082-4562-bd04-031055de82b6\"></div>\n"
      ]
     },
     "metadata": {},
     "output_type": "display_data"
    },
    {
     "data": {
      "application/javascript": [
       "(function(root) {\n",
       "  function embed_document(root) {\n",
       "    \n",
       "  var docs_json = {\"f6b631c0-985e-4b7e-b68d-a847b1dbc4a4\":{\"roots\":{\"references\":[{\"attributes\":{},\"id\":\"22549edf-02b1-436e-bd23-da783e8e13b2\",\"type\":\"BasicTickFormatter\"},{\"attributes\":{},\"id\":\"300e416e-de35-4a68-bbec-3fee460417d8\",\"type\":\"Selection\"},{\"attributes\":{\"callback\":null,\"data\":{\"xm\":[0,1],\"ym\":[0.5,0.5]},\"selected\":{\"id\":\"300e416e-de35-4a68-bbec-3fee460417d8\",\"type\":\"Selection\"},\"selection_policy\":{\"id\":\"6b33263a-d77f-4c6f-8381-ff8197818352\",\"type\":\"UnionRenderers\"}},\"id\":\"da5b9594-7dc4-441f-8716-f7defb745a5e\",\"type\":\"ColumnDataSource\"},{\"attributes\":{\"callback\":{\"id\":\"202690bd-dfda-41fd-9fa6-448751e74d40\",\"type\":\"CustomJS\"},\"data\":{\"color\":[\"navy\",\"navy\",\"navy\",\"navy\",\"navy\",\"navy\",\"navy\",\"navy\",\"navy\",\"navy\",\"navy\",\"navy\",\"navy\",\"navy\",\"navy\",\"navy\",\"navy\",\"navy\",\"navy\",\"navy\",\"navy\",\"navy\",\"navy\",\"navy\",\"navy\",\"navy\",\"navy\",\"navy\",\"navy\",\"navy\",\"navy\",\"navy\",\"navy\",\"navy\",\"navy\",\"navy\",\"navy\",\"navy\",\"navy\",\"navy\",\"navy\",\"navy\",\"navy\",\"navy\",\"navy\",\"navy\",\"navy\",\"navy\",\"navy\",\"navy\",\"navy\",\"navy\",\"navy\",\"navy\",\"navy\",\"navy\",\"navy\",\"navy\",\"navy\",\"navy\",\"navy\",\"navy\",\"navy\",\"navy\",\"navy\",\"navy\",\"navy\",\"navy\",\"navy\",\"navy\",\"navy\",\"navy\",\"navy\",\"navy\",\"navy\",\"navy\",\"navy\",\"navy\",\"navy\",\"navy\",\"navy\",\"navy\",\"navy\",\"navy\",\"navy\",\"navy\",\"navy\",\"navy\",\"navy\",\"navy\",\"navy\",\"navy\",\"navy\",\"navy\",\"navy\",\"navy\",\"navy\",\"navy\",\"navy\",\"navy\",\"navy\",\"navy\",\"navy\",\"navy\",\"navy\",\"navy\",\"navy\",\"navy\",\"navy\",\"navy\",\"navy\",\"navy\",\"navy\",\"navy\",\"navy\",\"navy\",\"navy\",\"navy\",\"navy\",\"navy\",\"navy\",\"navy\",\"navy\",\"navy\",\"navy\",\"navy\",\"navy\",\"navy\",\"navy\",\"navy\",\"navy\",\"navy\",\"navy\",\"navy\",\"navy\",\"navy\",\"navy\",\"navy\",\"navy\",\"navy\",\"navy\",\"navy\",\"navy\",\"navy\",\"navy\",\"navy\",\"navy\",\"navy\",\"navy\",\"navy\",\"navy\",\"navy\",\"navy\",\"navy\",\"navy\",\"navy\",\"navy\",\"navy\",\"navy\",\"navy\",\"navy\",\"navy\",\"navy\",\"navy\",\"navy\",\"navy\",\"navy\",\"navy\",\"navy\",\"navy\",\"navy\",\"navy\",\"navy\",\"navy\",\"navy\",\"navy\",\"navy\",\"navy\",\"navy\",\"navy\",\"navy\",\"navy\",\"navy\",\"navy\",\"navy\",\"navy\",\"navy\",\"navy\",\"navy\",\"navy\",\"navy\",\"navy\",\"navy\",\"navy\",\"navy\",\"navy\",\"navy\",\"navy\",\"navy\",\"navy\",\"navy\",\"navy\",\"navy\",\"navy\",\"navy\",\"navy\",\"navy\",\"navy\",\"navy\",\"navy\",\"navy\",\"navy\",\"navy\",\"navy\",\"navy\",\"navy\",\"navy\",\"navy\",\"navy\",\"navy\",\"navy\",\"navy\",\"navy\",\"navy\",\"navy\",\"navy\",\"navy\",\"navy\",\"navy\",\"navy\",\"navy\",\"navy\",\"navy\",\"navy\",\"navy\",\"navy\",\"navy\",\"navy\",\"navy\",\"navy\",\"navy\",\"navy\",\"navy\",\"navy\",\"navy\",\"navy\",\"navy\",\"navy\",\"navy\",\"navy\",\"navy\",\"navy\",\"navy\",\"navy\",\"navy\",\"navy\",\"navy\",\"navy\",\"navy\",\"navy\",\"navy\",\"navy\",\"navy\",\"navy\",\"navy\",\"navy\",\"navy\",\"navy\",\"navy\",\"navy\",\"navy\",\"navy\",\"navy\",\"navy\",\"navy\",\"navy\",\"navy\",\"navy\",\"navy\",\"navy\",\"navy\",\"navy\",\"navy\",\"navy\",\"navy\",\"navy\",\"navy\",\"navy\",\"navy\",\"navy\",\"navy\",\"navy\",\"navy\",\"navy\",\"navy\",\"navy\",\"navy\",\"navy\",\"navy\",\"navy\",\"navy\",\"navy\",\"navy\",\"navy\",\"navy\",\"navy\",\"navy\",\"navy\",\"navy\",\"navy\",\"navy\",\"navy\",\"navy\",\"navy\",\"navy\",\"navy\",\"navy\",\"navy\",\"navy\",\"navy\",\"navy\",\"navy\",\"navy\",\"navy\",\"navy\",\"navy\",\"navy\",\"navy\",\"navy\",\"navy\",\"navy\",\"navy\",\"navy\",\"navy\",\"navy\",\"navy\",\"navy\",\"navy\",\"navy\",\"navy\",\"navy\",\"navy\",\"navy\",\"navy\",\"navy\",\"navy\",\"navy\",\"navy\",\"navy\",\"navy\",\"navy\",\"navy\",\"navy\",\"navy\",\"navy\",\"navy\",\"navy\",\"navy\",\"navy\",\"navy\",\"navy\",\"navy\",\"navy\",\"navy\",\"navy\",\"navy\",\"navy\",\"navy\",\"navy\",\"navy\",\"navy\",\"navy\",\"navy\",\"navy\",\"navy\",\"navy\",\"navy\",\"navy\",\"navy\",\"navy\",\"navy\",\"navy\",\"navy\",\"navy\",\"navy\",\"navy\",\"navy\",\"navy\",\"navy\",\"navy\",\"navy\",\"navy\",\"navy\",\"navy\",\"navy\",\"navy\",\"navy\",\"navy\",\"navy\",\"navy\",\"navy\",\"navy\",\"navy\",\"navy\",\"navy\",\"navy\",\"navy\",\"navy\",\"navy\",\"navy\",\"navy\",\"navy\",\"navy\",\"navy\",\"navy\",\"navy\",\"navy\",\"navy\",\"navy\",\"navy\",\"navy\",\"navy\",\"navy\",\"navy\",\"navy\",\"navy\",\"navy\",\"navy\",\"navy\",\"navy\",\"navy\",\"navy\",\"navy\",\"navy\",\"navy\",\"navy\",\"navy\",\"navy\",\"navy\",\"navy\",\"navy\",\"navy\",\"navy\",\"navy\",\"navy\",\"navy\",\"navy\",\"navy\",\"navy\",\"navy\",\"navy\",\"navy\",\"navy\",\"navy\",\"navy\",\"navy\",\"navy\",\"navy\",\"navy\",\"navy\",\"navy\",\"navy\",\"navy\",\"navy\",\"navy\",\"navy\",\"navy\",\"navy\",\"navy\",\"navy\",\"navy\",\"navy\",\"navy\",\"navy\",\"navy\",\"navy\",\"navy\",\"navy\",\"navy\",\"navy\",\"navy\",\"navy\",\"navy\",\"navy\",\"navy\",\"navy\",\"navy\",\"navy\",\"navy\",\"navy\",\"navy\",\"navy\",\"navy\",\"navy\",\"navy\",\"navy\",\"navy\",\"navy\",\"navy\",\"navy\"],\"x\":[0.4537701354505197,0.9406338541659136,0.5539588429914736,0.011682350974960398,0.44524904209943017,0.23493459105454018,0.759366203403964,0.9604006166167538,0.25540030293535776,0.8598926421640447,0.38063765437316033,0.8672135560428714,0.0581566406645323,0.8116396623085426,0.51313533023775,0.15980654620544044,0.9718557226538024,0.14539612871980345,0.5735610938474809,0.25284442194829615,0.11636322484257478,0.5937437155625235,0.9369336594653829,0.07598565625150744,0.45444036612308825,0.5242100377477845,0.5847684843463116,0.49692200765224437,0.7739746672941245,0.9773728593151682,0.7465305263647287,0.09699292371815982,0.8717932534267445,0.7894714908859997,0.9154569663550547,0.8154055922661272,0.1014527940865888,0.6760490325640167,0.6600408722326879,0.5937362468179178,0.6481789251152777,0.2200342262600462,0.5226138044796445,0.9600482068355694,0.15187460974011324,0.2165336389811907,0.024845330587830228,0.7697947481544624,0.9774022310667166,0.645045254023158,0.7085551537653183,0.4121213339999943,0.584846157437731,0.14390988917095493,0.9648723345416718,0.2056681704726534,0.15302948149505669,0.48816179569601326,0.8186711353406307,0.8931647108688232,0.27454118887522416,0.88730735274805,0.8885782009769089,0.2087940185887731,0.35507880587994534,0.4390824894090115,0.09291301866715329,0.01937787690327375,0.03358161083914046,0.1117734496323427,0.3827000487491018,0.5345308367630334,0.6483113038404442,0.4905310369162589,0.5695836608282585,0.27826594072657007,0.20533778563872773,0.1818013607997483,0.4616780985497966,0.20654469644940654,0.4598925290941335,0.009650742805747403,0.06341865740590424,0.044259881996099204,0.05409205662970662,0.6449610015572534,0.4819966524423993,0.42001652457665994,0.2999041425691107,0.5733433872291933,0.4827362367637239,0.8761694361962287,0.19774707409127157,0.33724792738838627,0.2765357543661803,0.5558637480695598,0.09429343186691186,0.1444024227206735,0.954599991907487,0.8488843178763309,0.1879771904548594,0.7196469260830081,0.9441471447211827,0.9189743820208981,0.5183660516802254,0.228596742743006,0.85099089210585,0.1460329284284736,0.5857403791857657,0.32551992092962223,0.1744569540394496,0.15788241202564968,0.4171462963446593,0.6497598498776845,0.8567219544152707,0.5631975043259555,0.24419784357436125,0.47244471340123373,0.5726012521265621,0.4041781807659548,0.6290184963292464,0.8064739381561616,0.2218833519217528,0.08589702679893574,0.03937479939271393,0.6685025967241623,0.46356789650395547,0.23154217802408172,0.4928500756873607,0.43269206573362606,0.9368414375445661,0.04151887322783121,0.8635207782313741,0.03987780680675446,0.045412985812825823,0.45858793088692407,0.23040275553838696,0.8099418630010727,0.49219520899111535,0.2594772808824547,0.5816236082018718,0.3556543255518162,0.035852073600969425,0.5823114320513251,0.3430863461679112,0.047137130748435396,0.9916641077873602,0.6052056668711676,0.8360924201881312,0.3429588492875535,0.41337764846986536,0.14484700551670282,0.8705897998661822,0.13542950574799317,0.19421879638578932,0.2879590650009579,0.5124335099305479,0.7357737726178863,0.8727957551567547,0.1693738432299292,0.5187047470374808,0.2958817092649405,0.18132694128320392,0.9870034697618232,0.9825189668341063,0.9708920852414265,0.20177740200426963,0.9458582955499951,0.9695944581780717,0.05458777959284422,0.4708544636656834,0.28617468692823067,0.48505016890086183,0.4159980639001236,0.1284181816463038,0.3338905618601158,0.30159132340915573,0.5236393079894305,0.21338309079878182,0.1222325215122162,0.3548697055726433,0.8627588321013541,0.7802651388906621,0.4685239747956902,0.9245422623048755,0.4395009200178026,0.08820146452942423,0.3434005861028484,0.14582321818983335,0.14284328786954614,0.18103619564771412,0.16833028428816033,0.8177005162701192,0.37074637798038335,0.8899983189059131,0.37338088849517703,0.4573318859494885,0.5656870589299128,0.5835440838657231,0.3218456012837141,0.9886423302686052,0.08303258496106447,0.2602618855059887,0.7475476290068163,0.07083730275339062,0.6535723596347284,0.9319518569789231,0.11339807388861889,0.8640648684691944,0.6283775961424782,0.04741948496136117,0.8579233764460233,0.3712905914409561,0.5111708153266152,0.6308686566284685,0.33490095301564116,0.7125046845561549,0.198565971626125,0.04895934166599669,0.1907417313846297,0.8445687026246357,0.8469013549253022,0.884346700970815,0.6081709865448324,0.6366955679633793,0.1917320441661,0.5316468918006045,0.49321122853349963,0.8884866277190717,0.3241602666906067,0.00769590419965438,0.46869994828072414,0.6814081822504986,0.9635383477095757,0.8141148775233578,0.23542635635403153,0.5753394395399604,0.7467233325094836,0.6468774663060997,0.24274946568415845,0.5915537646987084,0.7669780323109554,0.7016116486553232,0.25292947670962806,0.5653468468414888,0.6689048705753977,0.6168280615826006,0.7848429491467731,0.03482396523583442,0.4454462594402313,0.384173125835386,0.6480779973249471,0.6834064788046954,0.8113696933111658,0.8703006282553182,0.6618822575091987,0.15171886876639107,0.7157453382706428,0.4114504865375618,0.6235205938169077,0.4362288629312019,0.10773706233427116,0.8529861799345451,0.009087375686599342,0.25926101699814064,0.08133047904856328,0.5610376312937593,0.48409560744167024,0.024324994642673015,0.1363766585298739,0.028983066537858093,0.7368729253355618,0.33212637709909143,0.4815726614425472,0.6154615717443654,0.18699508887757488,0.027573698828159743,0.7753568933684691,0.9377728966204796,0.8180795888143588,0.7363467372012378,0.8909475420952292,0.7095613122143809,0.9868790271968918,0.3216982438502626,0.7132176491204828,0.626334076435776,0.41286323403348557,0.8945807886931219,0.073399100371901,0.5461357766951471,0.38155609920670686,0.9720807501730372,0.5108922933200353,0.7982878418338957,0.34175477885508887,0.9456673729844566,0.7339486080537839,0.6022950304193786,0.27406042077175785,0.024441423011534957,0.1264244045893438,0.5467476684496854,0.35683679413250025,0.6288351738268111,0.9276658175074216,0.5433927761369114,0.3173275820985527,0.6703928794936559,0.7923064637934768,0.1783534878205857,0.7961387138092172,0.9093326330286804,0.2796459116417175,0.12245499173090835,0.6531778322513584,0.952789224557776,0.0052076295675831386,0.3585086665018111,0.22405698750236724,0.4454182864533053,0.11870279029348352,0.6120534024846322,0.003780656800729809,0.6217879940635358,0.7399687002222709,0.6316962305435946,0.26140325261317177,0.16863250781305916,0.11661565397080054,0.3931106134640906,0.8618483711245238,0.2291019673829141,0.07636533569922721,0.23545791739982713,0.3133984122253165,0.09480836459049591,0.6066256142794143,0.329947217383911,0.16732207427096613,0.68725324353237,0.9851393013776106,0.42236428826914363,0.9028732517272602,0.33003274976607055,0.26896325571952695,0.9350796510649252,0.838345112377754,0.2604345091828455,0.7879140820197869,0.277406919885287,0.09782347839991934,0.8408643618369467,0.24075724961388068,0.0722082981389981,0.38229142663697613,0.5985780304973356,0.9478639584626083,0.28502405736134795,0.7563868355891894,0.21228259603052357,0.9629725949009073,0.48623140485441374,0.21597072557170405,0.03244302411188171,0.5517870056943985,0.3030404956383157,0.2360524629469678,0.3645077584069333,0.1578916954418692,0.3686824582448407,0.5515652682584662,0.2622287971919255,0.3239391334752024,0.2027477245877788,0.38795888180606153,0.961024419198912,0.6109660833506498,0.8998744683089233,0.5345589620820866,0.4352840914642422,0.9691792636773505,0.12720685880393923,0.06316765727408702,0.8276909595189293,0.3035973365817741,0.05146130190636844,0.018424825069046857,0.375709964675345,0.9956630922335578,0.21228040783835866,0.8855081486314865,0.8492783724880753,0.04237423151755404,0.3333990044811569,0.025027858594833696,0.5028034245896579,0.23409009301036232,0.8270576646259671,0.8443355829625387,0.08117822466426161,0.2187154070561932,0.45418921708726634,0.9205840074650957,0.8373360663333157,0.26014430813263034,0.33262075247684897,0.5548851038318092,0.5290376365107204,0.2677994784485893,0.5560933531731164,0.8362414338947824,0.4476053228703255,0.6589546603150748,0.3209889514555627,0.9723760805584698,0.8386329329695046,0.08388056680919698,0.4088131103682593,0.6820107051636337,0.027090671245907694,0.05042721947588891,0.6767431273484149,0.2547354637383701,0.5358697162360825,0.9089048698465965,0.20681050760718833,0.02282835737979827,0.9010289006043802,0.10006439052961835,0.06004168473657545,0.6653761062145539,0.34593201508282756,0.6873313788832554,0.30680730667922307,0.35231201988688954,0.025255105755651708,0.6191039040858096,0.16822546259743498,0.024310813957303612,0.030524657756661133,0.8909971579297533,0.4106685627704718,0.08833837169126191,0.3782545459678831,0.29603926638990186,0.031424659889359385,0.7871172897882814,0.9011019359834369,0.5235885976028518,0.7793310710146986,0.35212688274516213,0.17040650566731153,0.3306795127834439,0.17973401894718233,0.2616236608285367,0.39017468653276877,0.8722896244905425,0.7305758526604793,0.7472109931928151,0.8493835327658832,0.888949281161074,0.0735160826007879,0.2128587625843782,0.5055597136392731,0.6538981756455262,0.9591703840359134,0.7132651648461371,0.8681806103826174,0.3193946048171644,0.16043884209050063,0.7476429356707294,0.025985942729155442,0.5248384751792704,0.21661426856327248,0.18085799278666248,0.8961196812309727,0.4322032455625672,0.2598181654235303,0.8408255979573093,0.03707203087800015,0.9023741732855617,0.8421088303952146,0.8543891544527372,0.6814731938798542,0.06878324830880067,0.8822745544863374,0.7826699324316999,0.43018273572681587,0.3228578861367203,0.8502383502004985,0.18146185531364167,0.9449747491187265,0.3815141415587757,0.6807134103069857,0.8295399711043009,0.19656874316889694,0.9589978947918321,0.8332963532449139,0.9933420204282553],\"y\":[0.17917297774153818,0.959530872364279,0.4166662231030389,0.3639262570965983,0.11448165675864808,0.1431626905045783,0.3800739515399921,0.8762388057374902,0.5427060834588316,0.22907372426915107,0.6539464234048377,0.9756469858533854,0.6104762416584282,0.3551429815333944,0.7467375352423005,0.5843645137290979,0.5407791693185938,0.5714852062037198,0.856044291164287,0.43565735161458286,0.8191808237975817,0.026104044530524506,0.35104829211916977,0.17824546476210046,0.1392897760318026,0.38320043733600884,0.8061573848042797,0.7811528384901705,0.10509842400541025,0.493099761064833,0.42272090625279,0.2592888273783879,0.8741877785630469,0.7495995967671407,0.39627316283568914,0.5303822863620049,0.8737385458313989,0.2342706335849699,0.07772577096122057,0.8456916672007235,0.7560872678926631,0.8494395731881538,0.7823021638382596,0.01875093157842367,0.3795006225126988,0.2998702739886011,0.8987650202909627,0.8313900763688019,0.23625336747179637,0.5936640389689244,0.6763885086807647,0.8388179081110971,0.4111382147591701,0.6706617075205803,0.6619907333268203,0.6934206528561631,0.551526545932074,0.33281551077441374,0.04889867915628465,0.2861676175877155,0.6097925674930336,0.8888571964000993,0.7903235325870297,0.4538146876625765,0.02799437945537775,0.8935623027474504,0.23447463375137723,0.6780500775232869,0.15878924791704419,0.12764949400487668,0.018449018995525535,0.38217023403950257,0.7845109189045142,0.6887626908756792,0.28933832596759623,0.47421532069446537,0.4977187612110059,0.6963358114857556,0.5739547445542778,0.8967978508372599,0.4127611185332106,0.7526588660704499,0.8383691566747866,0.8288144923321523,0.6767180285683791,0.38751926823802774,0.8656500614399624,0.12122578517978533,0.294884111482714,0.2264403866365724,0.8182032397035615,0.35456193274151826,0.6437320609499003,0.09431593647066727,0.3150079799435703,0.19119483373254842,0.5644571895286637,0.7731455397766275,0.5315734462618552,0.6363840017467229,0.26474970562933886,0.7198416019497159,0.4765315634751295,0.2818282375860951,0.2019594720714648,0.33851080651442145,0.4889540232565528,0.9237437668361909,0.356974527192218,0.9137676234911437,0.7378915858831672,0.7209941001529188,0.16446170851138808,0.3435597537570467,0.5838051076338289,0.6524160932352263,0.6278775885971971,0.6229314964563439,0.7223915591865705,0.972443668596179,0.26568962740154034,0.8041304020700947,0.29956250613818125,0.6694017309639398,0.5665319398586097,0.8344286547287861,0.19313740188521733,0.9079322910978149,0.972636782208586,0.5141704991319239,0.4970463231306659,0.254766765736797,0.859933539425481,0.7636188488200368,0.3953233036034812,0.6953285311064998,0.8593686303608433,0.24200301507628585,0.9114399817092129,0.16784933399031998,0.4888353667668417,0.4553097422523176,0.16961348210187344,0.9771213036106103,0.2075120092374545,0.13146000255156076,0.7706782692454893,0.8787118203909413,0.40968907604214133,0.6200345712534036,0.09499068934156474,0.8730522695481708,0.7342791272479384,0.9660164084025971,0.5110742887577118,0.6266311463262003,0.9232831379965595,0.3865615555958578,0.439001924664548,0.14138350252577647,0.5818596047281172,0.3714430550021198,0.8232991976306719,0.9944679503104839,0.7233672309709317,0.05650014306895379,0.737262404170463,0.9965797020850007,0.08410186078018467,0.3117419449046832,0.491257696325915,0.9406659256830168,0.9955701641504194,0.48143577246404046,0.4836810253263061,0.4929959371830901,0.43459483496021256,0.16907344920304546,0.7982772909842294,0.38611925673120184,0.0982388906283862,0.40633884555555255,0.5624997665727548,0.0600350348845633,0.9143239268896872,0.45374376118194726,0.028326197662886465,0.6166491337500494,0.8750584078944552,0.6641172887316074,0.35617847828916915,0.9015917779844436,0.5744477518426547,0.9671916006687727,0.021403817177985007,0.606425540343668,0.10955152213293284,0.03161268444991172,0.42237743710948217,0.909251697666966,0.2589735369852937,0.9600566738145142,0.8466150056161988,0.05734808620003162,0.3688331463166017,0.07179485902025062,0.003929518551342603,0.43140784748276373,0.47333307152342785,0.19244945754028142,0.2508175202365177,0.2991257544003214,0.6991234000210141,0.2968235029687758,0.6884111383578733,0.40532307470395834,0.918869895452083,0.5863185263525055,0.013379797884207512,0.46836245276107913,0.11987011393479152,0.6447611660321451,0.2058802359804801,0.23326174995757754,0.16474104407478918,0.09751428187440037,0.32586259419782604,0.9358037545102829,0.06586746920634168,0.17688051267677585,0.05594659232039756,0.229663265939424,0.215572650783883,0.9167200476352579,0.22257522834750054,0.47548235137892503,0.6248597792139496,0.487239177096663,0.20063176848285114,0.3010429636902001,0.16685806399597902,0.7213443351675598,0.9256464722802152,0.05147050198010983,0.5945820402876204,0.14550805191190108,0.17928270899548882,0.10799353039001758,0.33234378950932586,0.6316789508956359,0.5515450781457123,0.3716265578984064,0.7183289839614151,0.17663358264769347,0.6376735558985399,0.015926769914185956,0.019628261827389637,0.9848182227594608,0.19041566821830058,0.14330850872469048,0.9027837003013971,0.014275815358634536,0.34051255066285757,0.6439670053501428,0.32863085181431007,0.09615575658548592,0.7411186911802902,0.10336283963680792,0.5840762103308906,0.125681826757587,0.5268938993796569,0.8456587877345925,0.07994921901542407,0.2788241086272586,0.18009814381046985,0.07336376592188698,0.9610250479832065,0.3748168851548066,0.05186533634284107,0.6735318430594878,0.15779406145201158,0.4483448254017336,0.2321580176062934,0.7158648834479917,0.01007476825576592,0.7779228612086215,0.4649136665304835,0.9074375932530819,0.07270060699222114,0.3521867556478848,0.6148022217522452,0.3870998285568993,0.4793216851398757,0.34330959497309255,0.8355603273211147,0.922829148069214,0.024666679628352894,0.9124785354771057,0.3588913727415778,0.12663773422740865,0.5809372310642429,0.7964473258048697,0.0788848037181008,0.285858938752664,0.18446087741636308,0.3932612325135575,0.48757105707233706,0.9119704571467884,0.936757248127116,0.34369277194440384,0.347016581415023,0.8435221641332031,0.8801240029298415,0.29494994090111415,0.28736544797839947,0.3685715846214004,0.5826807747551697,0.1950457389411584,0.5568671953571933,0.23684717140403566,0.4362367686912162,0.3666743935579828,0.1927831256377156,0.9592533782554914,0.5466866006703377,0.2971215140045931,0.10173248345959529,0.2798063281651223,0.12600384933821407,0.8198017057815555,0.5745580142526785,0.8958929762788181,0.9514330975772272,0.03636829257750418,0.7042594415085158,0.8772237323558248,0.4141136432790159,0.3384850390231252,0.6610566316366342,0.04261052089571549,0.6640317167435903,0.6788482453693089,0.25283058697352045,0.970943356222639,0.07494276474410999,0.8213351482927946,0.12864553178169036,0.5634241832179337,0.23356376017764247,0.49539433448856374,0.18265197062063232,0.48158883211688597,0.3691431453791022,0.7975280361056766,0.38730302507588776,0.45437452907017295,0.6303706916037725,0.2594733671637973,0.1693501327812651,0.8905038498161094,0.7623907598319435,0.7017134424662527,0.43515539748419074,0.8647309793740483,0.008041469038861382,0.43672029641845245,0.5245618879607977,0.8697976586833097,0.35276691928305426,0.26198315386328896,0.09024639865886297,0.10550716852067077,0.27128147083823473,0.8506157607995073,0.5495956749484636,0.8141967978183979,0.622354656140599,0.3266726144644658,0.7363243740258326,0.08088719649429899,0.855008243462015,0.12518437888779588,0.7903094997469153,0.5387906519607637,0.9495070727697625,0.06894938521781857,0.7461502108460372,0.324982415871205,0.0029820704015313115,0.728285949024093,0.34115053623287406,0.2522183411748896,0.7082832016139505,0.27491474987687625,0.6215887276829531,0.5723808555358839,0.27650578667694314,0.6778084615368009,0.49225940847502314,0.14600426279190737,0.2890271851231877,0.0459157922237764,0.5817482431119195,0.992492161942143,0.04674887700509278,0.7518963094554232,0.7967696621379531,0.4646687415356011,0.7377124420919552,0.8014396331197816,0.24534210219920627,0.6588805010029417,0.7861125238693569,0.1003731958267452,0.060072548136158255,0.8377356294817638,0.1817252430362175,0.3972846629605783,0.5250699773369604,0.2738799715238043,0.05309200762296706,0.4170262833665801,0.9532018917393289,0.9520919760644327,0.660376471766697,0.5567608455165157,0.9201509828971585,0.6613335727404469,0.7348973610574054,0.7392026932349464,0.8260036410814822,0.396177536250398,0.7929249193506755,0.4254641458791878,0.2884572761611014,0.7273787938519202,0.9049736296559323,0.5935539876004856,0.5922102162072829,0.38938568065350665,0.5108117772923905,0.7646404918418519,0.9267634302408219,0.34432660024525785,0.13161652690775028,0.20919028117969718,0.43487748931690384,0.1951415465416796,0.792669648113119,0.3524235678524763,0.659037227867454,0.5108931550426699,0.0011796196560905914,0.5295897844930747,0.23962651997456297,0.21301845063528824,0.366439626178797,0.6564795780920901,0.46040886143400683,0.22550255534719454,0.07989797482913985,0.5637065330429503,0.0969210666037974,0.0008668064061697622,0.11092355437015078,0.31041057073303857,0.14495643503830213,0.553590355955721,0.14443976146924697,0.5358071761411327,0.8043128775947473,0.12255248799972829,0.4754248585137393,0.4865641976006019,0.5465986494359542,0.7901876384742972,0.04126118166451809,0.9162904185487587,0.6930537943466587,0.9930292568433918,0.5479457321854626,0.18480259422008016,0.75438486475465,0.5342025605574111,0.2631100485317168,0.7967726078817693,0.05735280828337952,0.6651422175144203,0.4586468668012933,0.4807297404617159,0.07445958873783376,0.8203290377565872,0.880828759718608,0.23427513318241056,0.2825269029543004,0.610134267668304,0.26136480984388133,0.856664356513159,0.979191290769536,0.14671677596322252]},\"selected\":{\"id\":\"5f98bb6f-63a7-4fb7-a91a-1d72d14a00d5\",\"type\":\"Selection\"},\"selection_policy\":{\"id\":\"b5940d52-5908-44f3-83b8-29231ce22df6\",\"type\":\"UnionRenderers\"}},\"id\":\"29ae579c-328f-4bfb-bc53-3edd41f215de\",\"type\":\"ColumnDataSource\"},{\"attributes\":{\"plot\":null,\"text\":\"Select Here\"},\"id\":\"49c76e41-4dfe-478a-aa74-eb2117806810\",\"type\":\"Title\"},{\"attributes\":{},\"id\":\"b5940d52-5908-44f3-83b8-29231ce22df6\",\"type\":\"UnionRenderers\"},{\"attributes\":{\"callback\":null,\"overlay\":{\"id\":\"1fa56c24-7886-46dd-9f7d-a03990ffe940\",\"type\":\"PolyAnnotation\"}},\"id\":\"cd247a91-d724-4d4a-9256-72e68a9eba6d\",\"type\":\"LassoSelectTool\"},{\"attributes\":{\"active_drag\":\"auto\",\"active_inspect\":\"auto\",\"active_multi\":null,\"active_scroll\":\"auto\",\"active_tap\":\"auto\",\"tools\":[{\"id\":\"cd247a91-d724-4d4a-9256-72e68a9eba6d\",\"type\":\"LassoSelectTool\"}]},\"id\":\"522d2bfc-b9ce-4a97-af91-f4db4d4346d2\",\"type\":\"Toolbar\"},{\"attributes\":{},\"id\":\"53ba8ee4-2011-4525-923a-5139fbeb3590\",\"type\":\"BasicTicker\"},{\"attributes\":{\"dimension\":1,\"plot\":{\"id\":\"6a46ef66-d74f-4ecf-ad60-c195d03b9aca\",\"subtype\":\"Figure\",\"type\":\"Plot\"},\"ticker\":{\"id\":\"53ba8ee4-2011-4525-923a-5139fbeb3590\",\"type\":\"BasicTicker\"}},\"id\":\"ba818040-2bbb-4d2d-820f-d396c4829bf0\",\"type\":\"Grid\"},{\"attributes\":{\"callback\":null},\"id\":\"f55bc322-7843-4b47-a6f8-8c0ccb70875e\",\"type\":\"DataRange1d\"},{\"attributes\":{},\"id\":\"a4e86162-7935-4c26-add9-5d175e09ee5d\",\"type\":\"BasicTicker\"},{\"attributes\":{\"formatter\":{\"id\":\"22549edf-02b1-436e-bd23-da783e8e13b2\",\"type\":\"BasicTickFormatter\"},\"plot\":{\"id\":\"6a46ef66-d74f-4ecf-ad60-c195d03b9aca\",\"subtype\":\"Figure\",\"type\":\"Plot\"},\"ticker\":{\"id\":\"53ba8ee4-2011-4525-923a-5139fbeb3590\",\"type\":\"BasicTicker\"}},\"id\":\"5c78ec61-33bb-4732-a9c9-cc8956e8cf60\",\"type\":\"LinearAxis\"},{\"attributes\":{},\"id\":\"2cec073a-41d8-4917-af03-6dda32d67570\",\"type\":\"LinearScale\"},{\"attributes\":{},\"id\":\"346ad07a-f7fe-4940-9249-d1cfbeee4815\",\"type\":\"LinearScale\"},{\"attributes\":{\"plot\":{\"id\":\"6a46ef66-d74f-4ecf-ad60-c195d03b9aca\",\"subtype\":\"Figure\",\"type\":\"Plot\"},\"ticker\":{\"id\":\"a4e86162-7935-4c26-add9-5d175e09ee5d\",\"type\":\"BasicTicker\"}},\"id\":\"0808ed60-f5d5-4e13-bf88-383e25373326\",\"type\":\"Grid\"},{\"attributes\":{\"formatter\":{\"id\":\"cbf828a5-107a-4c66-b373-229ccc0688f8\",\"type\":\"BasicTickFormatter\"},\"plot\":{\"id\":\"6a46ef66-d74f-4ecf-ad60-c195d03b9aca\",\"subtype\":\"Figure\",\"type\":\"Plot\"},\"ticker\":{\"id\":\"a4e86162-7935-4c26-add9-5d175e09ee5d\",\"type\":\"BasicTicker\"}},\"id\":\"5e1ed3c6-6a8c-4af4-a3c4-c55961706c32\",\"type\":\"LinearAxis\"},{\"attributes\":{\"fill_alpha\":{\"value\":0.5},\"fill_color\":{\"value\":\"lightgrey\"},\"level\":\"overlay\",\"line_alpha\":{\"value\":1.0},\"line_color\":{\"value\":\"black\"},\"line_dash\":[4,4],\"line_width\":{\"value\":2},\"plot\":null,\"xs_units\":\"screen\",\"ys_units\":\"screen\"},\"id\":\"1fa56c24-7886-46dd-9f7d-a03990ffe940\",\"type\":\"PolyAnnotation\"},{\"attributes\":{\"data_source\":{\"id\":\"29ae579c-328f-4bfb-bc53-3edd41f215de\",\"type\":\"ColumnDataSource\"},\"glyph\":{\"id\":\"c3957aa0-cfaa-4a3c-ae64-b7f3174089f5\",\"type\":\"Circle\"},\"hover_glyph\":null,\"muted_glyph\":null,\"nonselection_glyph\":{\"id\":\"7217dd64-e217-4421-a99d-83fdbc83526c\",\"type\":\"Circle\"},\"selection_glyph\":{\"id\":\"052ac6b4-bbd7-4681-b2fc-2d9271055477\",\"type\":\"Circle\"},\"view\":{\"id\":\"9b1efa92-354d-4411-9d46-1bb29911f2b2\",\"type\":\"CDSView\"}},\"id\":\"d79cfb87-2c11-4ba7-affe-b780a708e450\",\"type\":\"GlyphRenderer\"},{\"attributes\":{\"fill_alpha\":{\"value\":0.4},\"fill_color\":{\"field\":\"color\"},\"line_alpha\":{\"value\":0.4},\"line_color\":{\"field\":\"color\"},\"size\":{\"units\":\"screen\",\"value\":8},\"x\":{\"field\":\"x\"},\"y\":{\"field\":\"y\"}},\"id\":\"c3957aa0-cfaa-4a3c-ae64-b7f3174089f5\",\"type\":\"Circle\"},{\"attributes\":{\"fill_alpha\":{\"value\":0.4},\"fill_color\":{\"value\":\"firebrick\"},\"line_alpha\":{\"value\":0.4},\"line_color\":{\"value\":\"firebrick\"},\"size\":{\"units\":\"screen\",\"value\":8},\"x\":{\"field\":\"x\"},\"y\":{\"field\":\"y\"}},\"id\":\"052ac6b4-bbd7-4681-b2fc-2d9271055477\",\"type\":\"Circle\"},{\"attributes\":{},\"id\":\"5f98bb6f-63a7-4fb7-a91a-1d72d14a00d5\",\"type\":\"Selection\"},{\"attributes\":{\"fill_alpha\":{\"value\":0.1},\"fill_color\":{\"value\":\"#1f77b4\"},\"line_alpha\":{\"value\":0.1},\"line_color\":{\"value\":\"#1f77b4\"},\"size\":{\"units\":\"screen\",\"value\":8},\"x\":{\"field\":\"x\"},\"y\":{\"field\":\"y\"}},\"id\":\"7217dd64-e217-4421-a99d-83fdbc83526c\",\"type\":\"Circle\"},{\"attributes\":{\"below\":[{\"id\":\"5e1ed3c6-6a8c-4af4-a3c4-c55961706c32\",\"type\":\"LinearAxis\"}],\"left\":[{\"id\":\"5c78ec61-33bb-4732-a9c9-cc8956e8cf60\",\"type\":\"LinearAxis\"}],\"plot_height\":400,\"plot_width\":400,\"renderers\":[{\"id\":\"5e1ed3c6-6a8c-4af4-a3c4-c55961706c32\",\"type\":\"LinearAxis\"},{\"id\":\"0808ed60-f5d5-4e13-bf88-383e25373326\",\"type\":\"Grid\"},{\"id\":\"5c78ec61-33bb-4732-a9c9-cc8956e8cf60\",\"type\":\"LinearAxis\"},{\"id\":\"ba818040-2bbb-4d2d-820f-d396c4829bf0\",\"type\":\"Grid\"},{\"id\":\"1fa56c24-7886-46dd-9f7d-a03990ffe940\",\"type\":\"PolyAnnotation\"},{\"id\":\"d79cfb87-2c11-4ba7-affe-b780a708e450\",\"type\":\"GlyphRenderer\"},{\"id\":\"4f2d3560-5210-4f79-a444-e1667027f2dd\",\"type\":\"GlyphRenderer\"}],\"title\":{\"id\":\"49c76e41-4dfe-478a-aa74-eb2117806810\",\"type\":\"Title\"},\"toolbar\":{\"id\":\"522d2bfc-b9ce-4a97-af91-f4db4d4346d2\",\"type\":\"Toolbar\"},\"x_range\":{\"id\":\"680003ca-9b91-415d-bc5c-6fa4de9441e2\",\"type\":\"DataRange1d\"},\"x_scale\":{\"id\":\"2cec073a-41d8-4917-af03-6dda32d67570\",\"type\":\"LinearScale\"},\"y_range\":{\"id\":\"f55bc322-7843-4b47-a6f8-8c0ccb70875e\",\"type\":\"DataRange1d\"},\"y_scale\":{\"id\":\"346ad07a-f7fe-4940-9249-d1cfbeee4815\",\"type\":\"LinearScale\"}},\"id\":\"6a46ef66-d74f-4ecf-ad60-c195d03b9aca\",\"subtype\":\"Figure\",\"type\":\"Plot\"},{\"attributes\":{\"source\":{\"id\":\"29ae579c-328f-4bfb-bc53-3edd41f215de\",\"type\":\"ColumnDataSource\"}},\"id\":\"9b1efa92-354d-4411-9d46-1bb29911f2b2\",\"type\":\"CDSView\"},{\"attributes\":{},\"id\":\"6b33263a-d77f-4c6f-8381-ff8197818352\",\"type\":\"UnionRenderers\"},{\"attributes\":{\"args\":{\"s1\":{\"id\":\"29ae579c-328f-4bfb-bc53-3edd41f215de\",\"type\":\"ColumnDataSource\"},\"s2\":{\"id\":\"da5b9594-7dc4-441f-8716-f7defb745a5e\",\"type\":\"ColumnDataSource\"}},\"code\":\"\\n    var inds = s1.selected.indices;\\n    if (inds.length == 0)\\n        return;\\n\\n    var ym = 0\\n    for (var i = 0; i < inds.length; i++) {\\n        ym += s1.data.y[inds[i]]\\n    }\\n    \\n    ym /= inds.length\\n    s2.data.ym = [ym, ym]\\n\\n    // necessary becasue we mutated source.data in-place\\n    s2.change.emit();  \\n\"},\"id\":\"202690bd-dfda-41fd-9fa6-448751e74d40\",\"type\":\"CustomJS\"},{\"attributes\":{\"line_alpha\":0.6,\"line_color\":\"orange\",\"line_width\":5,\"x\":{\"field\":\"xm\"},\"y\":{\"field\":\"ym\"}},\"id\":\"c646c68b-f0dd-4c09-9611-4fc282aaeab9\",\"type\":\"Line\"},{\"attributes\":{\"line_alpha\":0.1,\"line_color\":\"#1f77b4\",\"line_width\":5,\"x\":{\"field\":\"xm\"},\"y\":{\"field\":\"ym\"}},\"id\":\"ecf9e63f-93c1-469a-9947-c910bd97d143\",\"type\":\"Line\"},{\"attributes\":{\"data_source\":{\"id\":\"da5b9594-7dc4-441f-8716-f7defb745a5e\",\"type\":\"ColumnDataSource\"},\"glyph\":{\"id\":\"c646c68b-f0dd-4c09-9611-4fc282aaeab9\",\"type\":\"Line\"},\"hover_glyph\":null,\"muted_glyph\":null,\"nonselection_glyph\":{\"id\":\"ecf9e63f-93c1-469a-9947-c910bd97d143\",\"type\":\"Line\"},\"selection_glyph\":null,\"view\":{\"id\":\"6b300650-ccd9-4178-bf24-9494d43f5415\",\"type\":\"CDSView\"}},\"id\":\"4f2d3560-5210-4f79-a444-e1667027f2dd\",\"type\":\"GlyphRenderer\"},{\"attributes\":{\"callback\":null},\"id\":\"680003ca-9b91-415d-bc5c-6fa4de9441e2\",\"type\":\"DataRange1d\"},{\"attributes\":{\"source\":{\"id\":\"da5b9594-7dc4-441f-8716-f7defb745a5e\",\"type\":\"ColumnDataSource\"}},\"id\":\"6b300650-ccd9-4178-bf24-9494d43f5415\",\"type\":\"CDSView\"},{\"attributes\":{},\"id\":\"cbf828a5-107a-4c66-b373-229ccc0688f8\",\"type\":\"BasicTickFormatter\"}],\"root_ids\":[\"6a46ef66-d74f-4ecf-ad60-c195d03b9aca\"]},\"title\":\"Bokeh Application\",\"version\":\"0.13.0\"}};\n",
       "  var render_items = [{\"docid\":\"f6b631c0-985e-4b7e-b68d-a847b1dbc4a4\",\"roots\":{\"6a46ef66-d74f-4ecf-ad60-c195d03b9aca\":\"7b31a79f-1082-4562-bd04-031055de82b6\"}}];\n",
       "  root.Bokeh.embed.embed_items_notebook(docs_json, render_items);\n",
       "\n",
       "  }\n",
       "  if (root.Bokeh !== undefined) {\n",
       "    embed_document(root);\n",
       "  } else {\n",
       "    var attempts = 0;\n",
       "    var timer = setInterval(function(root) {\n",
       "      if (root.Bokeh !== undefined) {\n",
       "        embed_document(root);\n",
       "        clearInterval(timer);\n",
       "      }\n",
       "      attempts++;\n",
       "      if (attempts > 100) {\n",
       "        console.log(\"Bokeh: ERROR: Unable to run BokehJS code because BokehJS library is missing\")\n",
       "        clearInterval(timer);\n",
       "      }\n",
       "    }, 10, root)\n",
       "  }\n",
       "})(window);"
      ],
      "application/vnd.bokehjs_exec.v0+json": ""
     },
     "metadata": {
      "application/vnd.bokehjs_exec.v0+json": {
       "id": "6a46ef66-d74f-4ecf-ad60-c195d03b9aca"
      }
     },
     "output_type": "display_data"
    }
   ],
   "source": [
    "from random import random\n",
    "\n",
    "x = [random() for x in range(500)]\n",
    "y = [random() for y in range(500)]\n",
    "color = [\"navy\"] * len(x)\n",
    "\n",
    "s1 = ColumnDataSource(data=dict(x=x, y=y, color=color))\n",
    "p = figure(plot_width=400, plot_height=400, tools=\"lasso_select\", title=\"Select Here\")\n",
    "p.circle('x', 'y', color='color', size=8, alpha=0.4, source=s1, \n",
    "         selection_color=\"firebrick\", selection_alpha=0.4)\n",
    "\n",
    "s2 = ColumnDataSource(data=dict(xm=[0,1],ym=[0.5, 0.5]))\n",
    "p.line(x='xm', y='ym', color=\"orange\", line_width=5, alpha=0.6, source=s2)\n",
    "\n",
    "s1.callback = CustomJS(args=dict(s1=s1, s2=s2), code=\"\"\"\n",
    "    var inds = s1.selected.indices;\n",
    "    if (inds.length == 0)\n",
    "        return;\n",
    "\n",
    "    var ym = 0\n",
    "    for (var i = 0; i < inds.length; i++) {\n",
    "        ym += s1.data.y[inds[i]]\n",
    "    }\n",
    "    \n",
    "    ym /= inds.length\n",
    "    s2.data.ym = [ym, ym]\n",
    "\n",
    "    // necessary becasue we mutated source.data in-place\n",
    "    s2.change.emit();  \n",
    "\"\"\")\n",
    "\n",
    "show(p)"
   ]
  },
  {
   "cell_type": "code",
   "execution_count": 13,
   "metadata": {},
   "outputs": [],
   "source": [
    "# Exercise: Experiment with selection callbacks\n",
    "\n"
   ]
  },
  {
   "cell_type": "markdown",
   "metadata": {},
   "source": [
    "## CustomJS for UI Events\n",
    "\n",
    "Bokeh also has a general events system\n",
    "\n",
    "All of the available UI events, and their properties, are listed in the Reference Guide section for [bokeh.events](https://bokeh.pydata.org/en/latest/docs/reference/events.html)"
   ]
  },
  {
   "cell_type": "code",
   "execution_count": 14,
   "metadata": {},
   "outputs": [
    {
     "data": {
      "text/html": [
       "\n",
       "\n",
       "\n",
       "\n",
       "\n",
       "\n",
       "  <div class=\"bk-root\" id=\"dccd3590-ed29-4e98-ba7c-9b6e7d4a9e85\"></div>\n"
      ]
     },
     "metadata": {},
     "output_type": "display_data"
    },
    {
     "data": {
      "application/javascript": [
       "(function(root) {\n",
       "  function embed_document(root) {\n",
       "    \n",
       "  var docs_json = {\"3896a8e3-4758-4bc9-80bd-18f0cf9c18d0\":{\"roots\":{\"references\":[{\"attributes\":{\"callback\":null},\"id\":\"6adcb9c1-f7e7-4c67-b3d7-ab6d63aafb26\",\"type\":\"DataRange1d\"},{\"attributes\":{\"data_source\":{\"id\":\"4ac4fe71-777a-4f77-93cb-8e5bf4ca891b\",\"type\":\"ColumnDataSource\"},\"glyph\":{\"id\":\"0f44dad9-5b86-46ab-a7d5-7016705e6e18\",\"type\":\"Circle\"},\"hover_glyph\":null,\"muted_glyph\":null,\"nonselection_glyph\":{\"id\":\"c6e37761-e2f2-43a8-a528-4efa7090f791\",\"type\":\"Circle\"},\"selection_glyph\":null,\"view\":{\"id\":\"0c2529ab-1afb-426f-b007-e3d6ca9e01a7\",\"type\":\"CDSView\"}},\"id\":\"47010d0a-3ebd-4387-8730-6137fc4be696\",\"type\":\"GlyphRenderer\"},{\"attributes\":{\"children\":[{\"id\":\"a463e4f7-165d-4de5-add5-c8bfaa094552\",\"type\":\"Button\"}]},\"id\":\"7af06376-3a43-44be-a472-b4eb63ad1d23\",\"type\":\"WidgetBox\"},{\"attributes\":{\"args\":{\"div\":{\"id\":\"f7a33d0b-a15c-4d8e-8087-ee0dced311c8\",\"type\":\"Div\"}},\"code\":\"\\ndiv.text = \\\"Selection! <p> <p>\\\" + JSON.stringify(cb_obj.geometry, undefined, 2);\\n\"},\"id\":\"aa039e4a-0d6c-4e29-a2c6-d1a1622745b3\",\"type\":\"CustomJS\"},{\"attributes\":{\"below\":[{\"id\":\"1fd9a500-b63e-46b1-80c6-ea07580b0775\",\"type\":\"LinearAxis\"}],\"js_event_callbacks\":{\"selectiongeometry\":[{\"id\":\"aa039e4a-0d6c-4e29-a2c6-d1a1622745b3\",\"type\":\"CustomJS\"}]},\"left\":[{\"id\":\"a7b48700-26f6-4bb2-9806-5d52b8142fb4\",\"type\":\"LinearAxis\"}],\"renderers\":[{\"id\":\"1fd9a500-b63e-46b1-80c6-ea07580b0775\",\"type\":\"LinearAxis\"},{\"id\":\"0a31c7fb-d7de-4bae-91ac-097d12886c7c\",\"type\":\"Grid\"},{\"id\":\"a7b48700-26f6-4bb2-9806-5d52b8142fb4\",\"type\":\"LinearAxis\"},{\"id\":\"9a0cdb6b-0c87-4ec3-ae93-642299cdbfca\",\"type\":\"Grid\"},{\"id\":\"03eca561-ae1f-415c-93f2-241bcb893160\",\"type\":\"BoxAnnotation\"},{\"id\":\"47010d0a-3ebd-4387-8730-6137fc4be696\",\"type\":\"GlyphRenderer\"}],\"title\":{\"id\":\"427d8017-efd4-40f9-a1ab-ee9f80173f56\",\"type\":\"Title\"},\"toolbar\":{\"id\":\"329e95ce-5519-4805-b8ee-0fc96b457497\",\"type\":\"Toolbar\"},\"x_range\":{\"id\":\"2ece0442-d598-47ac-ae3f-5d4b6e1a296a\",\"type\":\"DataRange1d\"},\"x_scale\":{\"id\":\"a4bf6c6b-a75e-4bf3-b130-3d089be44377\",\"type\":\"LinearScale\"},\"y_range\":{\"id\":\"6adcb9c1-f7e7-4c67-b3d7-ab6d63aafb26\",\"type\":\"DataRange1d\"},\"y_scale\":{\"id\":\"96df3131-52bb-4431-8580-b58c586ae8f7\",\"type\":\"LinearScale\"}},\"id\":\"3c0888f9-1fc7-40e7-a128-615c33f671c7\",\"subtype\":\"Figure\",\"type\":\"Plot\"},{\"attributes\":{\"dimension\":1,\"plot\":{\"id\":\"3c0888f9-1fc7-40e7-a128-615c33f671c7\",\"subtype\":\"Figure\",\"type\":\"Plot\"},\"ticker\":{\"id\":\"a8b19008-1cf6-4507-9950-4102fd27b112\",\"type\":\"BasicTicker\"}},\"id\":\"9a0cdb6b-0c87-4ec3-ae93-642299cdbfca\",\"type\":\"Grid\"},{\"attributes\":{\"callback\":null,\"overlay\":{\"id\":\"03eca561-ae1f-415c-93f2-241bcb893160\",\"type\":\"BoxAnnotation\"}},\"id\":\"7beb26c3-3437-4d7b-9b06-d0fb359b3697\",\"type\":\"BoxSelectTool\"},{\"attributes\":{},\"id\":\"96df3131-52bb-4431-8580-b58c586ae8f7\",\"type\":\"LinearScale\"},{\"attributes\":{},\"id\":\"c1496f5b-5035-42b1-b3f5-7b0d2f477395\",\"type\":\"Selection\"},{\"attributes\":{\"children\":[{\"id\":\"3c0888f9-1fc7-40e7-a128-615c33f671c7\",\"subtype\":\"Figure\",\"type\":\"Plot\"},{\"id\":\"bcda7908-743f-428a-9194-220781520841\",\"type\":\"WidgetBox\"}]},\"id\":\"031561d8-93dd-4ec5-9c18-79c80057e0ff\",\"type\":\"Row\"},{\"attributes\":{},\"id\":\"84ab9f09-f2c3-4ded-8c49-3dfc129f83f3\",\"type\":\"BasicTicker\"},{\"attributes\":{\"fill_alpha\":{\"value\":0.6},\"fill_color\":{\"value\":\"#1f77b4\"},\"line_color\":{\"value\":null},\"radius\":{\"units\":\"data\",\"value\":1},\"x\":{\"field\":\"x\"},\"y\":{\"field\":\"y\"}},\"id\":\"0f44dad9-5b86-46ab-a7d5-7016705e6e18\",\"type\":\"Circle\"},{\"attributes\":{\"bottom_units\":\"screen\",\"fill_alpha\":{\"value\":0.5},\"fill_color\":{\"value\":\"lightgrey\"},\"left_units\":\"screen\",\"level\":\"overlay\",\"line_alpha\":{\"value\":1.0},\"line_color\":{\"value\":\"black\"},\"line_dash\":[4,4],\"line_width\":{\"value\":2},\"plot\":null,\"render_mode\":\"css\",\"right_units\":\"screen\",\"top_units\":\"screen\"},\"id\":\"03eca561-ae1f-415c-93f2-241bcb893160\",\"type\":\"BoxAnnotation\"},{\"attributes\":{\"source\":{\"id\":\"4ac4fe71-777a-4f77-93cb-8e5bf4ca891b\",\"type\":\"ColumnDataSource\"}},\"id\":\"0c2529ab-1afb-426f-b007-e3d6ca9e01a7\",\"type\":\"CDSView\"},{\"attributes\":{\"args\":{\"div\":{\"id\":\"f7a33d0b-a15c-4d8e-8087-ee0dced311c8\",\"type\":\"Div\"}},\"code\":\"\\ndiv.text = \\\"Button!\\\";\\n\"},\"id\":\"39976788-2de3-4aae-9ec3-a4edd9843dbf\",\"type\":\"CustomJS\"},{\"attributes\":{\"children\":[{\"id\":\"7af06376-3a43-44be-a472-b4eb63ad1d23\",\"type\":\"WidgetBox\"},{\"id\":\"031561d8-93dd-4ec5-9c18-79c80057e0ff\",\"type\":\"Row\"}]},\"id\":\"89f6ced0-0f7a-4477-8f11-1af3697875ab\",\"type\":\"Column\"},{\"attributes\":{\"fill_alpha\":{\"value\":0.1},\"fill_color\":{\"value\":\"#1f77b4\"},\"line_alpha\":{\"value\":0.1},\"line_color\":{\"value\":\"#1f77b4\"},\"radius\":{\"units\":\"data\",\"value\":1},\"x\":{\"field\":\"x\"},\"y\":{\"field\":\"y\"}},\"id\":\"c6e37761-e2f2-43a8-a528-4efa7090f791\",\"type\":\"Circle\"},{\"attributes\":{\"callback\":null},\"id\":\"2ece0442-d598-47ac-ae3f-5d4b6e1a296a\",\"type\":\"DataRange1d\"},{\"attributes\":{\"formatter\":{\"id\":\"a7dc777a-2768-48e8-94bb-a27fdd82f9aa\",\"type\":\"BasicTickFormatter\"},\"plot\":{\"id\":\"3c0888f9-1fc7-40e7-a128-615c33f671c7\",\"subtype\":\"Figure\",\"type\":\"Plot\"},\"ticker\":{\"id\":\"84ab9f09-f2c3-4ded-8c49-3dfc129f83f3\",\"type\":\"BasicTicker\"}},\"id\":\"1fd9a500-b63e-46b1-80c6-ea07580b0775\",\"type\":\"LinearAxis\"},{\"attributes\":{\"plot\":null,\"text\":\"\"},\"id\":\"427d8017-efd4-40f9-a1ab-ee9f80173f56\",\"type\":\"Title\"},{\"attributes\":{\"callback\":null,\"icon\":null,\"js_event_callbacks\":{\"button_click\":[{\"id\":\"39976788-2de3-4aae-9ec3-a4edd9843dbf\",\"type\":\"CustomJS\"}]}},\"id\":\"a463e4f7-165d-4de5-add5-c8bfaa094552\",\"type\":\"Button\"},{\"attributes\":{\"formatter\":{\"id\":\"1c155789-8a58-43d0-9adb-b596dfa5168d\",\"type\":\"BasicTickFormatter\"},\"plot\":{\"id\":\"3c0888f9-1fc7-40e7-a128-615c33f671c7\",\"subtype\":\"Figure\",\"type\":\"Plot\"},\"ticker\":{\"id\":\"a8b19008-1cf6-4507-9950-4102fd27b112\",\"type\":\"BasicTicker\"}},\"id\":\"a7b48700-26f6-4bb2-9806-5d52b8142fb4\",\"type\":\"LinearAxis\"},{\"attributes\":{\"children\":[{\"id\":\"f7a33d0b-a15c-4d8e-8087-ee0dced311c8\",\"type\":\"Div\"}],\"width\":400},\"id\":\"bcda7908-743f-428a-9194-220781520841\",\"type\":\"WidgetBox\"},{\"attributes\":{\"plot\":{\"id\":\"3c0888f9-1fc7-40e7-a128-615c33f671c7\",\"subtype\":\"Figure\",\"type\":\"Plot\"},\"ticker\":{\"id\":\"84ab9f09-f2c3-4ded-8c49-3dfc129f83f3\",\"type\":\"BasicTicker\"}},\"id\":\"0a31c7fb-d7de-4bae-91ac-097d12886c7c\",\"type\":\"Grid\"},{\"attributes\":{},\"id\":\"1c155789-8a58-43d0-9adb-b596dfa5168d\",\"type\":\"BasicTickFormatter\"},{\"attributes\":{},\"id\":\"a7dc777a-2768-48e8-94bb-a27fdd82f9aa\",\"type\":\"BasicTickFormatter\"},{\"attributes\":{},\"id\":\"10d33071-e139-4d2e-9259-61c91a213144\",\"type\":\"UnionRenderers\"},{\"attributes\":{\"callback\":null,\"data\":{\"x\":{\"__ndarray__\":\"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\",\"dtype\":\"float64\",\"shape\":[2000]},\"y\":{\"__ndarray__\":\"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\",\"dtype\":\"float64\",\"shape\":[2000]}},\"selected\":{\"id\":\"c1496f5b-5035-42b1-b3f5-7b0d2f477395\",\"type\":\"Selection\"},\"selection_policy\":{\"id\":\"10d33071-e139-4d2e-9259-61c91a213144\",\"type\":\"UnionRenderers\"}},\"id\":\"4ac4fe71-777a-4f77-93cb-8e5bf4ca891b\",\"type\":\"ColumnDataSource\"},{\"attributes\":{},\"id\":\"a8b19008-1cf6-4507-9950-4102fd27b112\",\"type\":\"BasicTicker\"},{\"attributes\":{\"width\":400},\"id\":\"f7a33d0b-a15c-4d8e-8087-ee0dced311c8\",\"type\":\"Div\"},{\"attributes\":{\"active_drag\":\"auto\",\"active_inspect\":\"auto\",\"active_multi\":null,\"active_scroll\":\"auto\",\"active_tap\":\"auto\",\"tools\":[{\"id\":\"7beb26c3-3437-4d7b-9b06-d0fb359b3697\",\"type\":\"BoxSelectTool\"}]},\"id\":\"329e95ce-5519-4805-b8ee-0fc96b457497\",\"type\":\"Toolbar\"},{\"attributes\":{},\"id\":\"a4bf6c6b-a75e-4bf3-b130-3d089be44377\",\"type\":\"LinearScale\"}],\"root_ids\":[\"89f6ced0-0f7a-4477-8f11-1af3697875ab\"]},\"title\":\"Bokeh Application\",\"version\":\"0.13.0\"}};\n",
       "  var render_items = [{\"docid\":\"3896a8e3-4758-4bc9-80bd-18f0cf9c18d0\",\"roots\":{\"89f6ced0-0f7a-4477-8f11-1af3697875ab\":\"dccd3590-ed29-4e98-ba7c-9b6e7d4a9e85\"}}];\n",
       "  root.Bokeh.embed.embed_items_notebook(docs_json, render_items);\n",
       "\n",
       "  }\n",
       "  if (root.Bokeh !== undefined) {\n",
       "    embed_document(root);\n",
       "  } else {\n",
       "    var attempts = 0;\n",
       "    var timer = setInterval(function(root) {\n",
       "      if (root.Bokeh !== undefined) {\n",
       "        embed_document(root);\n",
       "        clearInterval(timer);\n",
       "      }\n",
       "      attempts++;\n",
       "      if (attempts > 100) {\n",
       "        console.log(\"Bokeh: ERROR: Unable to run BokehJS code because BokehJS library is missing\")\n",
       "        clearInterval(timer);\n",
       "      }\n",
       "    }, 10, root)\n",
       "  }\n",
       "})(window);"
      ],
      "application/vnd.bokehjs_exec.v0+json": ""
     },
     "metadata": {
      "application/vnd.bokehjs_exec.v0+json": {
       "id": "89f6ced0-0f7a-4477-8f11-1af3697875ab"
      }
     },
     "output_type": "display_data"
    }
   ],
   "source": [
    "from bokeh.plotting import figure\n",
    "from bokeh import events\n",
    "from bokeh.models import CustomJS, Div, Button\n",
    "from bokeh.layouts import column, row\n",
    "\n",
    "import numpy as np\n",
    "x = np.random.random(size=2000) * 100\n",
    "y = np.random.random(size=2000) * 100\n",
    "\n",
    "p = figure(tools=\"box_select\")\n",
    "p.scatter(x, y, radius=1, fill_alpha=0.6, line_color=None)\n",
    "\n",
    "div = Div(width=400)\n",
    "button = Button(label=\"Button\")\n",
    "layout = column(button, row(p, div))\n",
    "\n",
    "# Events with no attributes\n",
    "button.js_on_event(events.ButtonClick,  CustomJS(args=dict(div=div), code=\"\"\"\n",
    "div.text = \"Button!\";\n",
    "\"\"\")) \n",
    "\n",
    "p.js_on_event(events.SelectionGeometry, CustomJS(args=dict(div=div), code=\"\"\"\n",
    "div.text = \"Selection! <p> <p>\" + JSON.stringify(cb_obj.geometry, undefined, 2);\n",
    "\"\"\"))\n",
    "\n",
    "show(layout)"
   ]
  },
  {
   "cell_type": "code",
   "execution_count": 15,
   "metadata": {},
   "outputs": [],
   "source": [
    "# Exercise: Create a plot that responds to different events from bokeh.events\n",
    "\n"
   ]
  },
  {
   "cell_type": "markdown",
   "metadata": {},
   "source": [
    "## Additional Information\n",
    "\n",
    "There are many kinds of interactions and events that can be connected to `CustomJS` callbacks. \n",
    "\n",
    "\n",
    "* Widgets - Button, Toggle, Dropdown, TextInput, AutocompleteInput, Select, Multiselect, Slider, (DateRangeSlider), DatePicker,\n",
    "* Tools - TapTool, BoxSelectTool, HoverTool,\n",
    "* Selection - ColumnDataSource, AjaxDataSource, BlazeDataSource, ServerDataSource\n",
    "* Ranges - Range1d, DataRange1d, FactorRange\n",
    "\n",
    "\n",
    "For more complete examples the User Guide section on [JavaScript Interactions](http://bokeh.pydata.org/en/latest/docs/user_guide/interaction.html)"
   ]
  },
  {
   "cell_type": "code",
   "execution_count": null,
   "metadata": {},
   "outputs": [],
   "source": []
  }
 ],
 "metadata": {
  "anaconda-cloud": {},
  "kernelspec": {
   "display_name": "Python 3",
   "language": "python",
   "name": "python3"
  },
  "language_info": {
   "codemirror_mode": {
    "name": "ipython",
    "version": 3
   },
   "file_extension": ".py",
   "mimetype": "text/x-python",
   "name": "python",
   "nbconvert_exporter": "python",
   "pygments_lexer": "ipython3",
   "version": "3.7.1"
  },
  "widgets": {
   "state": {
    "335ae2c8ff80469e9adac668c2924989": {
     "views": [
      {
       "cell_index": 19
      }
     ]
    }
   },
   "version": "1.2.0"
  }
 },
 "nbformat": 4,
 "nbformat_minor": 2
}
