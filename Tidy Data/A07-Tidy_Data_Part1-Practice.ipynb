{
 "cells": [
  {
   "cell_type": "markdown",
   "metadata": {},
   "source": [
    "# Assignment 10, Part 1: Tidy Data Practice\n",
    "Use this notebook to follow along with the tasks in the `AO6-Matplotlib_Part2.ipynb` notebook.\n",
    "\n",
    "## Instructions\n",
    "For each task, use the cell below to write and test your code.  You may add additional cells for any task as needed or desired.  "
   ]
  },
  {
   "cell_type": "markdown",
   "metadata": {},
   "source": [
    "## Task 1a: Setup\n",
    "\n",
    "Import the following packages:\n",
    "+ `pandas` as `pd`\n",
    "+ `numpy` as `np`\n",
    "+ `matplotlib.pyplot` as `plt`\n",
    "\n",
    "Activate the `%matplotlib inline` magic."
   ]
  },
  {
   "cell_type": "code",
   "execution_count": null,
   "metadata": {},
   "outputs": [],
   "source": []
  },
  {
   "cell_type": "markdown",
   "metadata": {},
   "source": [
    "## Task 2a: Understand the data\n",
    "Execute the following code to display the sample data frame:"
   ]
  },
  {
   "cell_type": "code",
   "execution_count": null,
   "metadata": {},
   "outputs": [],
   "source": [
    "# Create the data rows and columns.\n",
    "data = [['John Smith', None, 2],\n",
    "        ['Jane Doe', 16, 11],\n",
    "        ['Mary Johnson', 3, 1]]\n",
    "# Create the list of labels for the data frame.\n",
    "headers = ['', 'Treatment_A', 'Treatement_B']\n",
    "# Create the data frame.\n",
    "pd.DataFrame(data, columns=headers)"
   ]
  },
  {
   "cell_type": "markdown",
   "metadata": {},
   "source": [
    "Using the table above, answer the following:\n",
    "\n",
    "What are the variables?"
   ]
  },
  {
   "cell_type": "raw",
   "metadata": {},
   "source": []
  },
  {
   "cell_type": "markdown",
   "metadata": {},
   "source": [
    "What are the observations?"
   ]
  },
  {
   "cell_type": "raw",
   "metadata": {},
   "source": []
  },
  {
   "cell_type": "markdown",
   "metadata": {},
   "source": [
    "What is the observable unit?"
   ]
  },
  {
   "cell_type": "raw",
   "metadata": {},
   "source": []
  },
  {
   "cell_type": "markdown",
   "metadata": {},
   "source": [
    "Are the variables columns?"
   ]
  },
  {
   "cell_type": "raw",
   "metadata": {},
   "source": []
  },
  {
   "cell_type": "markdown",
   "metadata": {},
   "source": [
    "Are the observations rows?  "
   ]
  },
  {
   "cell_type": "raw",
   "metadata": {},
   "source": []
  },
  {
   "cell_type": "markdown",
   "metadata": {},
   "source": [
    "## Task 2b: Explain causes of untidyness\n",
    "\n",
    "Execute the following code to display the sample data frame:"
   ]
  },
  {
   "cell_type": "code",
   "execution_count": null,
   "metadata": {},
   "outputs": [],
   "source": [
    "data = [['Agnostic',27,34,60,81,76,137],\n",
    "        ['Atheist',12,27,37,52,35,70],\n",
    "        ['Buddhist',27,21,30,34,33,58],\n",
    "        ['Catholic',418,617,732,670,638,1116],\n",
    "        ['Don\\'t know/refused',15,14,15,11,10,35],\n",
    "        ['Evangelical Prot',575,869,1064,982,881,1486],\n",
    "        ['Hindu',1,9,7,9,11,34],\n",
    "        ['Historically Black Prot',228,244,236,238,197,223],\n",
    "        ['Jehovah\\'s Witness',20,27,24,24,21,30],\n",
    "        ['Jewish',19,19,25,25,30,95]]\n",
    "headers = ['religion','<$10k','$10-20k','$20-30k','$30-40k','$40-50k','$50-75k']\n",
    "religion = pd.DataFrame(data, columns=headers)\n",
    "religion"
   ]
  },
  {
   "cell_type": "markdown",
   "metadata": {},
   "source": [
    "Explain why the data above is untidy?"
   ]
  },
  {
   "cell_type": "raw",
   "metadata": {},
   "source": []
  },
  {
   "cell_type": "markdown",
   "metadata": {},
   "source": [
    "What are the variables?  "
   ]
  },
  {
   "cell_type": "raw",
   "metadata": {},
   "source": []
  },
  {
   "cell_type": "markdown",
   "metadata": {},
   "source": [
    "What are the observations?"
   ]
  },
  {
   "cell_type": "raw",
   "metadata": {},
   "source": []
  },
  {
   "cell_type": "markdown",
   "metadata": {},
   "source": [
    "## Task 2c: Explain causes of untidyness\n",
    "\n",
    "Execute the following code to display the sample data frame:"
   ]
  },
  {
   "cell_type": "code",
   "execution_count": null,
   "metadata": {},
   "outputs": [],
   "source": [
    "data = [['AD', 2000, 0, 0, 1, 0, 0, 0, 0, None, None],\n",
    "        ['AE', 2000, 2, 4, 4, 6, 5, 12, 10, None, 3],\n",
    "        ['AF', 2000, 52, 228, 183, 149, 129, 94, 80, None, 93],\n",
    "        ['AG', 2000, 0, 0, 0, 0, 0, 0, 1, None, 1],\n",
    "        ['AL', 2000, 2, 19, 21, 14, 24, 19, 16, None, 3],\n",
    "        ['AM', 2000, 2, 152, 130, 131, 63, 26, 21, None, 1],\n",
    "        ['AN', 2000, 0, 0, 1, 2, 0, 0, 0, None, 0],\n",
    "        ['AO', 2000, 186, 999, 1003, 912, 482, 312, 194, None, 247],\n",
    "        ['AR', 2000, 97, 278, 594, 402, 419, 368, 330, None, 121],\n",
    "        ['AS', 2000, None, None, None, None, 1, 1, None, None, None]]\n",
    "headers = ['country', 'year', 'm014', 'm1524', 'm2534', 'm3544', 'm4554', 'm5564', \n",
    "           'm65', 'mu', 'f014']\n",
    "demographics = pd.DataFrame(data, columns=headers)\n",
    "demographics"
   ]
  },
  {
   "cell_type": "markdown",
   "metadata": {},
   "source": [
    "Using the dataset above:\n",
    "\n",
    "Explain why the data above is untidy?"
   ]
  },
  {
   "cell_type": "raw",
   "metadata": {},
   "source": []
  },
  {
   "cell_type": "markdown",
   "metadata": {},
   "source": [
    "What are the variables?  "
   ]
  },
  {
   "cell_type": "raw",
   "metadata": {},
   "source": []
  },
  {
   "cell_type": "markdown",
   "metadata": {},
   "source": [
    "What are the observations?"
   ]
  },
  {
   "cell_type": "raw",
   "metadata": {},
   "source": []
  },
  {
   "cell_type": "markdown",
   "metadata": {},
   "source": [
    "## Task 3a: Melt data, use case #1\n",
    "\n",
    "Using the `pd.melt` function, melt the demographics data introduced in section 2. Be sure to:\n",
    "- Set the colum headers correctly. \n",
    "- Order by country \n",
    "- Print the first 10 lines of the resulting melted dataset.\n",
    "\n",
    "***Note*** The demographics dataset is provided in Task 2c above"
   ]
  },
  {
   "cell_type": "code",
   "execution_count": null,
   "metadata": {},
   "outputs": [],
   "source": []
  },
  {
   "cell_type": "markdown",
   "metadata": {},
   "source": [
    "## Task 3b: Practice with a new dataset\n",
    "\n",
    "Download the [PI_DataSet.txt](https://hivdb.stanford.edu/download/GenoPhenoDatasets/PI_DataSet.txt) file from [HIV Drug Resistance Database](https://hivdb.stanford.edu/pages/genopheno.dataset.html). Store the file in the same directory as the practice notebook for this assignment.\n",
    "\n",
    "***Note***: Choose the file labeled “10935 phenotype results from 1808 isolates”\n",
    "\n",
    "Here is the meaning of data columns:\n",
    "- SeqID:  a numeric identifier for a unique HIV isolate protease sequence.  Note: disruption of the protease inhibits HIV’s ability to reproduce.\n",
    "- The Next 8 columns are identifiers for unique protease inhibitor class drugs.  \n",
    "  - The values in these columns are the fold resistance over wild type (the HIV strain susceptible to all drugs).\n",
    "  - Fold change is the ratio of the drug concentration needed to inhibit the isolate.\n",
    "- The latter columns, with P as a prefix, are the positions of the amino acids in the protease. \n",
    "  - '-' indicates consensus.\n",
    "  - '.' indicates no sequence.\n",
    "  - '#' indicates an insertion. \n",
    "  - '~' indicates a deletion;.\n",
    "  - '*' indicates a stop codon\n",
    "  - a letter indicates one letter Amino Acid substitution. \n",
    "  - two and more amino acid codes indicates a mixture. \n",
    "\n",
    "Import this dataset into your notebook, view the top few rows of the data and respond to these questions:\n",
    "\n",
    "What are the variables?  "
   ]
  },
  {
   "cell_type": "raw",
   "metadata": {},
   "source": []
  },
  {
   "cell_type": "markdown",
   "metadata": {},
   "source": [
    "What are the observations?"
   ]
  },
  {
   "cell_type": "raw",
   "metadata": {},
   "source": []
  },
  {
   "cell_type": "markdown",
   "metadata": {},
   "source": [
    "What are the values?  "
   ]
  },
  {
   "cell_type": "markdown",
   "metadata": {},
   "source": [
    "## Task 3c: Practice with a new dataset Part 2\n",
    "\n",
    "Use the data retreived from task 3b, generate a data frame containing a Tidy’ed set of values for drug concentration fold change. BE sure to:\n",
    "\n",
    "- Set the column names as ‘SeqID’, ‘Drug’ and ‘Fold_change’.\n",
    "- Order the data frame first by sequence ID and then by Drup name\n",
    "- Reset the row indexes\n",
    "- Display the first 10 elements."
   ]
  },
  {
   "cell_type": "code",
   "execution_count": null,
   "metadata": {},
   "outputs": [],
   "source": []
  }
 ],
 "metadata": {
  "kernelspec": {
   "display_name": "Python 3",
   "language": "python",
   "name": "python3"
  },
  "language_info": {
   "codemirror_mode": {
    "name": "ipython",
    "version": 3
   },
   "file_extension": ".py",
   "mimetype": "text/x-python",
   "name": "python",
   "nbconvert_exporter": "python",
   "pygments_lexer": "ipython3",
   "version": "3.7.1"
  }
 },
 "nbformat": 4,
 "nbformat_minor": 2
}
