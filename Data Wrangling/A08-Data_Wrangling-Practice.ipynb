{
 "cells": [
  {
   "cell_type": "markdown",
   "metadata": {},
   "source": [
    "# Assignment 10, Part 2: Data Wrangling Practice\n",
    "Use this notebook to follow along with the tasks in the `AO8-Data_Wrangling.ipynb` notebook.\n",
    "\n",
    "## Instructions\n",
    "For each task, use the cell below to write and test your code.  You may add additional cells for any task as needed or desired.  "
   ]
  },
  {
   "cell_type": "markdown",
   "metadata": {},
   "source": [
    "## Task 1a: Setup\n",
    "\n",
    "\n",
    "Import the following packages:\n",
    "+ `pandas` as `pd`\n",
    "+ `numpy` as `np`\n",
    "+ `matplotlib.pyplot` as `plt`\n",
    "+ `Seaborn` as `sns`\n",
    "\n",
    "Activate the `%matplotlib inline` magic."
   ]
  },
  {
   "cell_type": "code",
   "execution_count": null,
   "metadata": {},
   "outputs": [],
   "source": []
  },
  {
   "cell_type": "markdown",
   "metadata": {},
   "source": [
    "## Task 5a: Bring it all Together\n",
    "\n",
    "You have been provided with two data files:\n",
    "- `paired_genes.txt`: contains log2 transformed gene expression-levels of two genes from *Oryza sativa* (rice). The data contains 463 data points corresponding to samples of extracted RNA.\n",
    "- `project_samples.txt`: contains the list of 463 samples and the experimental conditions underwhich the data was collected.  \n",
    "\n",
    "The `project_samples.txt` file contains 6 variables:  \n",
    "1. Sample ID\n",
    "2. Treatment: CONTROL, HEAT, DROUGHT \n",
    "3. Time: a time series in minutes \n",
    "4. Genotype: one of 4 varities of rice\n",
    "5. Subspecies: either Indica or  Japonica\n",
    "6. Subtreatment: CONTORL, HEAT, RECOV_HEAT, DROUGHT or RECOV_DROUGHT\n",
    "\n",
    "This data was obtained from [NCBI SRA Project PRJNA301554](https://www.ncbi.nlm.nih.gov/bioproject/PRJNA301554/)\n",
    "\n",
    "Import both of these files and generate a scatterplot comparing the gene expression of the two genes. Color the points in the dataframe by the Subtreatment.  Remember to\n",
    "1. Explore the data\n",
    "2. Clean the data (if needed)\n",
    "3. Reshape the data by combining both into a single data frame.\n",
    "4. Plot the scatterplot using Seaborn and the new single data frame."
   ]
  },
  {
   "cell_type": "code",
   "execution_count": null,
   "metadata": {},
   "outputs": [],
   "source": []
  }
 ],
 "metadata": {
  "kernelspec": {
   "display_name": "Python 3",
   "language": "python",
   "name": "python3"
  },
  "language_info": {
   "codemirror_mode": {
    "name": "ipython",
    "version": 3
   },
   "file_extension": ".py",
   "mimetype": "text/x-python",
   "name": "python",
   "nbconvert_exporter": "python",
   "pygments_lexer": "ipython3",
   "version": "3.7.1"
  }
 },
 "nbformat": 4,
 "nbformat_minor": 2
}
